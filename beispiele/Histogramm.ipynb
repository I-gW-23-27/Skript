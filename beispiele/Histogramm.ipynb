{
  "cells": [
    {
      "cell_type": "markdown",
      "metadata": {
        "id": "view-in-github",
        "colab_type": "text"
      },
      "source": [
        "<a href=\"https://colab.research.google.com/github/I-gW-23-27/Skript/blob/main/beispiele/Histogramm.ipynb\" target=\"_parent\"><img src=\"https://colab.research.google.com/assets/colab-badge.svg\" alt=\"Open In Colab\"/></a>"
      ]
    },
    {
      "cell_type": "markdown",
      "metadata": {
        "id": "F5iNpl3ZCaUZ"
      },
      "source": [
        "# Histogramme zeichnen mit Pytamaro\n",
        "\n",
        "Ein Histogramm ist eine grafische Darstellung der Häufigkeitsverteilung\n",
        "kardinal skalierter Merkmale. Es erfordert die Einteilung der Daten in\n",
        "Klassen (englisch bins), die eine konstante oder variable Breite haben\n",
        "können. Es werden direkt nebeneinanderliegende Rechtecke von der Breite\n",
        "der jeweiligen Klasse gezeichnet, deren Flächeninhalte die (relativen\n",
        "oder absoluten) Klassenhäufigkeiten darstellen. Die Höhe jedes Rechtecks\n",
        "stellt dann die (relative oder absolute) Häufigkeitsdichte dar, also die\n",
        "(relative oder absolute) Häufigkeit dividiert durch die Breite der\n",
        "entsprechenden Klasse.\n",
        "\n",
        "[Text von Wikipedia](https://de.wikipedia.org/wiki/Histogramm)\n",
        "\n",
        "![Histogramm Beispiel](https://upload.wikimedia.org/wikipedia/commons/thumb/8/82/Thist_german.png/440px-Thist_german.png)"
      ]
    },
    {
      "cell_type": "markdown",
      "metadata": {
        "id": "rWRptfRnCaUc"
      },
      "source": [
        "In dieser Übung zeichnen Sie ein Histogramm mit der Verteilung der\n",
        "Körpergrössen der Schülerinnen und Schüler in Ihrer Klasse."
      ]
    },
    {
      "cell_type": "markdown",
      "metadata": {
        "id": "TmSfAVOLCaUc"
      },
      "source": [
        "Hier folgt die Zelle zum Laden von PyTamaro in google colaboratory:"
      ]
    },
    {
      "cell_type": "code",
      "execution_count": null,
      "metadata": {
        "id": "SkyMq9ziCaUd",
        "outputId": "a3d40d83-c698-4527-8699-fa2061ea7bbd",
        "colab": {
          "base_uri": "https://localhost:8080/"
        }
      },
      "outputs": [
        {
          "output_type": "stream",
          "name": "stdout",
          "text": [
            "Collecting pytamaro\n",
            "  Downloading pytamaro-0.5.2-py3-none-any.whl (33 kB)\n",
            "Requirement already satisfied: Pillow<10.0.0,>=9.0.0 in /usr/local/lib/python3.10/dist-packages (from pytamaro) (9.4.0)\n",
            "Collecting skia-python<88.0,>=87.4 (from pytamaro)\n",
            "  Downloading skia_python-87.5-cp310-cp310-manylinux_2_17_x86_64.manylinux2014_x86_64.whl (10.8 MB)\n",
            "\u001b[2K     \u001b[90m━━━━━━━━━━━━━━━━━━━━━━━━━━━━━━━━━━━━━━━━\u001b[0m \u001b[32m10.8/10.8 MB\u001b[0m \u001b[31m4.6 MB/s\u001b[0m eta \u001b[36m0:00:00\u001b[0m\n",
            "\u001b[?25hRequirement already satisfied: numpy in /usr/local/lib/python3.10/dist-packages (from skia-python<88.0,>=87.4->pytamaro) (1.23.5)\n",
            "Collecting pybind11>=2.6 (from skia-python<88.0,>=87.4->pytamaro)\n",
            "  Downloading pybind11-2.11.1-py3-none-any.whl (227 kB)\n",
            "\u001b[2K     \u001b[90m━━━━━━━━━━━━━━━━━━━━━━━━━━━━━━━━━━━━━━\u001b[0m \u001b[32m227.7/227.7 kB\u001b[0m \u001b[31m18.7 MB/s\u001b[0m eta \u001b[36m0:00:00\u001b[0m\n",
            "\u001b[?25hInstalling collected packages: pybind11, skia-python, pytamaro\n",
            "Successfully installed pybind11-2.11.1 pytamaro-0.5.2 skia-python-87.5\n"
          ]
        }
      ],
      "source": [
        "! pip install pytamaro"
      ]
    },
    {
      "cell_type": "markdown",
      "metadata": {
        "id": "kDugg1LDCaUe"
      },
      "source": [
        "## Listen\n",
        "\n",
        "Damit die\n",
        "Körpergrössen in Python sinnvoll verarbeitet werden können, brauchen wir\n",
        "die Datenstruktur *Liste*.\n",
        "\n",
        "In Python werden Listen dazu verwendet, mehrere Werte geordnet einer Variablen zuzuweisen.\n",
        "Listen sind allerdings nur eine von vier in Python standardmässig zur\n",
        "Verfügung stehenden Datenstrukturen, die das können.\n",
        "\n",
        "### Listen erstellen\n",
        "\n",
        "Am einfachsten werden Listen durch Literale erstell. Dazu werden die Werte der Liste durch Kommas getrennt in eckigen Klammern geschrieben:"
      ]
    },
    {
      "cell_type": "code",
      "execution_count": null,
      "metadata": {
        "id": "-JopSBpPCaUe",
        "outputId": "9032120b-ae47-4112-a666-0d57e42f4ce4",
        "colab": {
          "base_uri": "https://localhost:8080/"
        }
      },
      "outputs": [
        {
          "output_type": "stream",
          "name": "stdout",
          "text": [
            "[1, 8, 3]\n",
            "['Spinat', 'Sellerie', 'Blumenkohl']\n"
          ]
        }
      ],
      "source": [
        "numbers = [1, 8, 3]\n",
        "print(numbers)\n",
        "vegetables = ['Spinat', 'Sellerie', 'Blumenkohl']\n",
        "print(vegetables)"
      ]
    },
    {
      "cell_type": "markdown",
      "metadata": {
        "id": "H22ClUTKCaUf"
      },
      "source": [
        "### Auf Elemente einer Liste zugreifen\n",
        "\n",
        "Die Elemente einer Liste sind geordnet und indexiert. Geordnet heisst,\n",
        "dass die Liste die Reihenfolge der Elemente so behält, wie sie erstellt\n",
        "wird - zumindest solange die Liste nicht verändert wird. Indexiert\n",
        "heisst, dass jedes Element einer Liste eine Nummer erhält. Allerdings\n",
        "beginnt man mit Null zu zählen. Das bedeutet, dass der `Sellerie` in der Liste `vegetables`den Index `1` hat.\n",
        "\n",
        "Um das zweite Element der Liste auszugeben, muss Python nach dem Element\n",
        "mit dem Index `1` der entsprechenden Liste gefragt werden:"
      ]
    },
    {
      "cell_type": "code",
      "execution_count": null,
      "metadata": {
        "id": "dXTe-503CaUg",
        "outputId": "c9251c31-0c71-4522-e162-39f2adb0b056",
        "colab": {
          "base_uri": "https://localhost:8080/"
        }
      },
      "outputs": [
        {
          "output_type": "stream",
          "name": "stdout",
          "text": [
            "Sellerie\n"
          ]
        }
      ],
      "source": [
        "print(vegetables[1])"
      ]
    },
    {
      "cell_type": "markdown",
      "metadata": {
        "id": "uSuZZmQvCaUh"
      },
      "source": [
        "Listen können auch mit einer sogenannten *list comprehenison* erstellt werden."
      ]
    },
    {
      "cell_type": "code",
      "execution_count": null,
      "metadata": {
        "id": "wmdmWmFVCaUh",
        "outputId": "91c1f621-c1fc-4557-c50f-6930ff224cbf",
        "colab": {
          "base_uri": "https://localhost:8080/"
        }
      },
      "outputs": [
        {
          "output_type": "stream",
          "name": "stdout",
          "text": [
            "[1, 2, 3, 4, 5, 6, 7, 8, 9, 10, 11, 12, 13, 14, 15, 16, 17, 18, 19, 20]\n"
          ]
        }
      ],
      "source": [
        "numbers = [i for i in range(1,21)]\n",
        "print(numbers)"
      ]
    },
    {
      "cell_type": "markdown",
      "metadata": {
        "id": "du5b75h7CaUh"
      },
      "source": [
        "Eine *list comprehension* funktioniert ähnlich, wie die Beschreibung einer Menge in\n",
        "der Mathematik ($\\{x \\in \\mathbb{N} \\mid 1 \\leq x < 21\\}$).\n",
        "```Python\n",
        "for i in range(1,21)\n",
        "```\n",
        "ist bereits bei der Konstruktion der Bahnhofsuhr vorgekommen. `1` ist\n",
        "der Startwert für den Zähler `i` und 21 die obere Grenze.\n",
        "\n",
        "Listen sind nützliche Datenstrukturen, weil sie durchlaufen werden\n",
        "können und dabei jedes einzelne Element als Parameter einer Funktion\n",
        "übergeben werden kann.\n",
        "\n",
        "Als Beispiel wird die Quadratzahl jedes Elements in `numbers` berechnet\n",
        "und ausgegeben."
      ]
    },
    {
      "cell_type": "code",
      "execution_count": null,
      "metadata": {
        "id": "7HvZzt3HCaUi",
        "outputId": "6c7cc35f-007f-44eb-a8bc-f0a53d6e33a7",
        "colab": {
          "base_uri": "https://localhost:8080/"
        }
      },
      "outputs": [
        {
          "output_type": "stream",
          "name": "stdout",
          "text": [
            "1\n",
            "4\n",
            "9\n",
            "16\n",
            "25\n",
            "36\n",
            "49\n",
            "64\n",
            "81\n",
            "100\n",
            "121\n",
            "144\n",
            "169\n",
            "196\n",
            "225\n",
            "256\n",
            "289\n",
            "324\n",
            "361\n",
            "400\n"
          ]
        }
      ],
      "source": [
        "for number in numbers:\n",
        "    print(number ** 2)"
      ]
    },
    {
      "cell_type": "markdown",
      "metadata": {
        "id": "ARyKYoOMCaUi"
      },
      "source": [
        "Es hat sich eingebürgert, für Listen Namen von Variablen im Plural zu\n",
        "wählen. Dann können die einzelnen Elemente im Singular bezeichnet\n",
        "werden. Dies ist jedoch reine Konvention und technisch nicht\n",
        "erforderlich. Um das zu zeigen findet sich unten ein Beispiel, das sich\n",
        "*nicht* an diese Konvention hält. Dazu wird die Liste `numbers` zuerst der Variablen $y$ zugewiesen."
      ]
    },
    {
      "cell_type": "code",
      "execution_count": null,
      "metadata": {
        "id": "giy8ck8mCaUi",
        "outputId": "29a1b505-887d-4fd8-f409-6902acbf9d99",
        "colab": {
          "base_uri": "https://localhost:8080/"
        }
      },
      "outputs": [
        {
          "output_type": "stream",
          "name": "stdout",
          "text": [
            "1\n",
            "4\n",
            "9\n",
            "16\n",
            "25\n",
            "36\n",
            "49\n",
            "64\n",
            "81\n",
            "100\n",
            "121\n",
            "144\n",
            "169\n",
            "196\n",
            "225\n",
            "256\n",
            "289\n",
            "324\n",
            "361\n",
            "400\n"
          ]
        }
      ],
      "source": [
        "y = numbers\n",
        "for x in y:\n",
        "    print(x ** 2)"
      ]
    },
    {
      "cell_type": "markdown",
      "metadata": {
        "id": "RqjFLQHfCaUi"
      },
      "source": [
        "Listen können auch leer sein. Eine leere Liste wird folgendermassen erstellt:"
      ]
    },
    {
      "cell_type": "code",
      "execution_count": null,
      "metadata": {
        "id": "EXLuzi6ZCaUi"
      },
      "outputs": [],
      "source": [
        "leere_liste = []"
      ]
    },
    {
      "cell_type": "markdown",
      "metadata": {
        "id": "oTf-xU25CaUi"
      },
      "source": [
        "Wenn einer bestehenden Liste ein Element angefügt werden soll, stellt\n",
        "Python die Funktion `listenname.append(Element)` zur Verfügung."
      ]
    },
    {
      "cell_type": "code",
      "execution_count": null,
      "metadata": {
        "id": "HXOwZgSkCaUj",
        "outputId": "58729c93-2a82-4c6f-cee2-cb2f7e3d1dc4",
        "colab": {
          "base_uri": "https://localhost:8080/"
        }
      },
      "outputs": [
        {
          "output_type": "stream",
          "name": "stdout",
          "text": [
            "[2, 5, 1]\n",
            "[2, 5, 1, 7]\n"
          ]
        }
      ],
      "source": [
        "ein_paar_elemente = [2, 5, 1]\n",
        "print(ein_paar_elemente)\n",
        "ein_paar_elemente.append(7)\n",
        "print(ein_paar_elemente)"
      ]
    },
    {
      "cell_type": "markdown",
      "metadata": {
        "id": "pzxvOUm2CaUj"
      },
      "source": [
        "### Anwendung\n",
        "\n",
        "Als nächstes nehmen Sie die gemessenen Grössen in der Klasse in eine\n",
        "Liste `measurements` auf."
      ]
    },
    {
      "cell_type": "code",
      "execution_count": null,
      "metadata": {
        "id": "3QAU5RjkCaUj"
      },
      "outputs": [],
      "source": [
        "measurements = []"
      ]
    },
    {
      "cell_type": "code",
      "execution_count": null,
      "metadata": {
        "id": "4NIycSF3CaUj"
      },
      "outputs": [],
      "source": [
        "import random"
      ]
    },
    {
      "cell_type": "code",
      "execution_count": null,
      "metadata": {
        "id": "GkFadrPzCaUk",
        "outputId": "552da946-dadd-4f9e-a3f9-0f1c60bcacb2",
        "colab": {
          "base_uri": "https://localhost:8080/"
        }
      },
      "outputs": [
        {
          "output_type": "stream",
          "name": "stdout",
          "text": [
            "[151, 159, 164, 174, 160, 160, 168, 155, 154, 168, 173, 163, 174, 161, 170, 162, 168, 167, 179, 159, 164, 169, 154, 171, 180, 174]\n"
          ]
        }
      ],
      "source": [
        "# Anstelle der echten Körpergrössen hier eine Zufällige Liste\n",
        "# möglicher Grössen\n",
        "measurements = [random.randint(150,180) for i in range(26)]\n",
        "print(measurements)"
      ]
    },
    {
      "cell_type": "markdown",
      "metadata": {
        "id": "SQsjq584CaUk"
      },
      "source": [
        "Damit aus der Liste der Körpergrössen ein Histogramm gezeichnet werden\n",
        "kann, müssen die Körpergrössen in Gruppen (engl. bin) eingeteilt werden\n",
        "und die Elemente einer Gruppe gezählt werden.\n",
        "\n",
        "Für diese Übung sollen die Körpergrössen in Gruppen mit 5cm Abstand eingeteilt werden. Das\n",
        "heisst, eine Gruppe sind zum Beispiel alle Werte von 160cm bis 164cm.\n",
        "\n",
        "Als Vorbereitung sehen Sie in der folgenden Zelle eine Schleife, die einmal über alle\n",
        "Grössen läuft und zählt, wie viele Werte zwischen 160cm bis 164cm liegen."
      ]
    },
    {
      "cell_type": "code",
      "execution_count": null,
      "metadata": {
        "id": "CmFdn-GeCaUk",
        "outputId": "a392c119-4353-47f6-99f0-edc6b60ebaf8",
        "colab": {
          "base_uri": "https://localhost:8080/"
        }
      },
      "outputs": [
        {
          "output_type": "stream",
          "name": "stdout",
          "text": [
            "7\n"
          ]
        }
      ],
      "source": [
        "bin_160_bis_164 = 0\n",
        "for measure in measurements:\n",
        "    if measure >= 160 and measure < 165:\n",
        "        bin_160_bis_164 += 1\n",
        "\n",
        "print(bin_160_bis_164)"
      ]
    },
    {
      "cell_type": "markdown",
      "metadata": {
        "id": "u7gOGj9pCaUk"
      },
      "source": [
        "Dieses Code Snippet führt eine Bedingung ein.\n",
        "Bedingungen oder\n",
        "sogenannte `if`-Statements stellen sicher, dass bestimmter Code nur\n",
        "ausgeführt wird, wenn die Bedingung, die geprüft wird, eingehalten wird. Im\n",
        "Beispiel werden zwei Bedingungen geprüft, die kumulativ erfüllt sein\n",
        "müssen (erste Bedinung `measure >= 160`, zweite Bedingung\n",
        "`measure < 165`). Das heisst, wenn beide Bedingungen erfüllt sind, wird\n",
        "`bin_160_bis_164 += 1` ausgeführt. Dies ist eine Kurzschreibweise für\n",
        "`bin_160_bis_164 = bin_160_bis_164 + 1`.\n",
        "\n",
        "Damit dies für die ganze Liste verallgemeinert werden kann, muss der kleinste und der grösste Wert der Liste bekannt sein.\n",
        "\n",
        "Das Minimum einer Liste kann folgendermassen ermittelt werden:"
      ]
    },
    {
      "cell_type": "code",
      "execution_count": null,
      "metadata": {
        "id": "7lT0kRtSCaUl",
        "outputId": "1556058b-5b76-4f60-f8ea-79a5edafc64a",
        "colab": {
          "base_uri": "https://localhost:8080/"
        }
      },
      "outputs": [
        {
          "output_type": "stream",
          "name": "stdout",
          "text": [
            "151\n"
          ]
        }
      ],
      "source": [
        "def get_minimum(input : list[int]) -> int:\n",
        "    minimum = input[0]\n",
        "\n",
        "    for value in input:\n",
        "        if value < minimum:\n",
        "            minimum = value\n",
        "\n",
        "    return minimum\n",
        "\n",
        "print(get_minimum(measurements))"
      ]
    },
    {
      "cell_type": "markdown",
      "metadata": {
        "id": "KXNtNqSECaUl"
      },
      "source": [
        "Schreiben Sie eine vergleichbare Funktion, die das Maximum einer Liste ausgibt."
      ]
    },
    {
      "cell_type": "code",
      "execution_count": null,
      "metadata": {
        "id": "mkZ4OewdCaUl",
        "outputId": "14f21689-ed14-42ed-fa16-d146182a8648",
        "colab": {
          "base_uri": "https://localhost:8080/"
        }
      },
      "outputs": [
        {
          "output_type": "stream",
          "name": "stdout",
          "text": [
            "180\n"
          ]
        }
      ],
      "source": [
        "def get_maximum(input : list[int]) -> int:\n",
        "    # TODO: Funktion zur Suche des Maximums in einer Liste\n",
        "    # pass\n",
        "    maximum = input[0]\n",
        "\n",
        "    for value in input:\n",
        "        if value > maximum:\n",
        "            maximum = value\n",
        "\n",
        "    return maximum\n",
        "\n",
        "print(get_maximum(measurements))"
      ]
    },
    {
      "cell_type": "markdown",
      "metadata": {
        "id": "vjnFZulgCaUl"
      },
      "source": [
        "Um die Möglichkeiten, welche `if`-Statements bieten noch etwas weiter zu\n",
        "illustrieren, finden Sie in der nächsten Zelle eine Schleife, welche\n",
        "gerade Zahlen quadriert und ungerade mit drei potenziert. Falls statt\n",
        "einer Zahl ein anderer Datentyp auftaucht, wird der String `unzulässiger\n",
        "Input` in die Liste der Resultate eingetragen."
      ]
    },
    {
      "cell_type": "code",
      "execution_count": null,
      "metadata": {
        "id": "Ou2wd3EmCaUl",
        "outputId": "35d011b2-4062-45ad-a92c-59adf2af8cac",
        "colab": {
          "base_uri": "https://localhost:8080/"
        }
      },
      "outputs": [
        {
          "output_type": "stream",
          "name": "stdout",
          "text": [
            "[1, 4, 27, 16, 125, 'unzulässiger Input', 343, 64, 729]\n"
          ]
        }
      ],
      "source": [
        "demo_list = [1, 2, 3, 4, 5, 'hallo', 7, 8, 9]\n",
        "\n",
        "def if_demo(numbers : list[int]) -> list[int]:\n",
        "    results = []\n",
        "    for number in numbers:\n",
        "        if type(number) != int:\n",
        "            results.append('unzulässiger Input')\n",
        "        elif number % 2 == 0:\n",
        "            results.append(number ** 2)\n",
        "        else:\n",
        "            results.append(number ** 3)\n",
        "    return results\n",
        "\n",
        "print(if_demo(demo_list))"
      ]
    },
    {
      "cell_type": "markdown",
      "metadata": {
        "id": "b2zVJWYqCaUm"
      },
      "source": [
        "In diesem Beispiel bedeutet `!=` **nicht**. Es wird\n",
        "geprüft, ob number vom Typ `int` ist, wenn dies nicht der Fall ist, wird\n",
        "in der Resultatliste `unzulässiger Input` eingetragen. Mit `elif` wird\n",
        "eine zweite Bedingung geprüft. Im Beispiel ob die Zahl ohne Rest durch 2\n",
        "teilbar ist (`number % 2 == 0`). Damit Python zwischen einem Vergleich\n",
        "und einer Zuweisung unterscheiden kann, wird bei Vergleichen ein\n",
        "doppeltes Gleichheitszeichen verwendet. Falls keine der beiden geprüften\n",
        "Bedingungen erfüllt ist, wird mit `else` angezeigt, was mit dem Rest der\n",
        "Fälle zu geschehen habe.\n",
        "\n",
        "Aus den obigen Beispielen geht implizit hervor, dass sowohl `elif` wie\n",
        "auch `else` optional sind. `elif` Bedingungen können beliebig viele\n",
        "eingefügt werden, `else` kann nur einmal vorkommen."
      ]
    },
    {
      "cell_type": "markdown",
      "metadata": {
        "id": "yVGoAacnCaUm"
      },
      "source": [
        "Python stellt eine Funktion `min()` und `max()` zur Verfügung, welche das Miniumum bzw. das Maximum einer Liste ausgeben. Trotzdem war das eine gute Fingerübung, um sich mit der\n",
        "Funktion von Bedingungen vertraut zu machen.\n",
        "\n",
        "Nun sollten Sie in der Lage sein, den Beispiel Code für die Grössen\n",
        "zwischen 160cm und 164cm zu verallgemeinern, so dass die\n",
        "ganze Liste der Körpergrössen in 5cm Bins \"abgefüllt\" wird.\n",
        "\n",
        "Hinweis: Die einzelnen Bins sind ihrerseits Elemente einer Liste."
      ]
    },
    {
      "cell_type": "code",
      "execution_count": null,
      "metadata": {
        "id": "BUl3NIpfCaUm",
        "outputId": "d884a772-d538-401f-ea0b-ed09e40dc895",
        "colab": {
          "base_uri": "https://localhost:8080/"
        }
      },
      "outputs": [
        {
          "output_type": "stream",
          "name": "stdout",
          "text": [
            "[15.384615384615385, 15.384615384615385, 19.23076923076923, 23.076923076923077, 19.23076923076923, 7.6923076923076925, 0.0]\n"
          ]
        }
      ],
      "source": [
        "def measure_to_bin(measurements : list[int]) -> list[float]:\n",
        "    bins = []\n",
        "    total = len(measurements)\n",
        "\n",
        "    counter = 0\n",
        "\n",
        "    for i in range(min(measurements), max(measurements) + 5, 5):\n",
        "        for measure in measurements:\n",
        "            if measure >= i and measure < i + 5:\n",
        "                counter += 1\n",
        "\n",
        "        bins.append(counter)\n",
        "        counter = 0\n",
        "\n",
        "    return [x * 100 / total for x in bins]\n",
        "\n",
        "bins = measure_to_bin(measurements)\n",
        "print(bins)"
      ]
    },
    {
      "cell_type": "markdown",
      "metadata": {
        "id": "v9YhiXgJCaUm"
      },
      "source": [
        "Die so gruppierten Werte können nun visualisiert werden. Dazu braucht es\n",
        "eine Funktion, welche eine Liste als Parameter entgegennimmt und eine\n",
        "Liste mit Grafiken (Rechtecken mit der entsprechenden Länge) zurückgibt."
      ]
    },
    {
      "cell_type": "code",
      "execution_count": null,
      "metadata": {
        "id": "pYsOKGdvCaUm"
      },
      "outputs": [],
      "source": [
        "from pytamaro.de import (rechteck, Grafik,\n",
        "                         blau,\n",
        "                         fixiere, kombiniere,\n",
        "                         unten_links, unten_rechts,\n",
        "                         zeige_grafik)"
      ]
    },
    {
      "cell_type": "code",
      "execution_count": null,
      "metadata": {
        "id": "spCNyueYCaUm",
        "outputId": "175274a6-9ab7-4bb2-cd31-2ecc620f12e9",
        "colab": {
          "base_uri": "https://localhost:8080/",
          "height": 34
        }
      },
      "outputs": [
        {
          "output_type": "display_data",
          "data": {
            "text/plain": [
              "<PIL.PngImagePlugin.PngImageFile image mode=RGBA size=5x16>"
            ],
            "image/png": "[encoded data removed]"
          },
          "metadata": {}
        }
      ],
      "source": [
        "def create_pillars(heights : list[float]) -> list[Grafik]:\n",
        "    width = 5\n",
        "    pillars = []\n",
        "\n",
        "    for height in heights:\n",
        "        pillars.append(rechteck(width, height, blau))\n",
        "\n",
        "    return pillars\n",
        "\n",
        "pillars = create_pillars(bins)\n",
        "zeige_grafik(pillars[0])"
      ]
    },
    {
      "cell_type": "markdown",
      "metadata": {
        "id": "zf0pnOXcCaUm"
      },
      "source": [
        "Abschliessend müssen die Säulen noch nebeneinander angeordnet werden.\n",
        "Dazu werden die Funktionen `fixiere()` und `kombiniere()` verwendet."
      ]
    },
    {
      "cell_type": "code",
      "execution_count": null,
      "metadata": {
        "id": "HpyypIAACaUn",
        "outputId": "4adaeecb-ea0c-4b35-b1f4-bf2095802955",
        "colab": {
          "base_uri": "https://localhost:8080/",
          "height": 41
        }
      },
      "outputs": [
        {
          "output_type": "display_data",
          "data": {
            "text/plain": [
              "<PIL.PngImagePlugin.PngImageFile image mode=RGBA size=35x24>"
            ],
            "image/png": "[encoded data removed]"
          },
          "metadata": {}
        }
      ],
      "source": [
        "def draw_histogram(pillars : list[Grafik]) -> Grafik:\n",
        "    histogram = pillars[0]\n",
        "\n",
        "    for i in range(1, len(pillars)):\n",
        "        histogram = fixiere(unten_rechts, histogram)\n",
        "        pillar = fixiere(unten_links, pillars[i])\n",
        "        histogram = kombiniere(histogram, pillar)\n",
        "\n",
        "    return histogram\n",
        "\n",
        "zeige_grafik(draw_histogram(pillars))"
      ]
    },
    {
      "cell_type": "markdown",
      "metadata": {
        "id": "MVXcLNP8CaUn"
      },
      "source": [
        "Damit das Erstellen eines Histogramms für den Nutzer etwas komfortabler\n",
        "möglich ist, sollen nun die einzelnen Funktionen so kombiniert werden,\n",
        "dass einer Funktion eine Liste mit Werten übergeben werden kann und\n",
        "diese dann ein Histogramm zurückgibt."
      ]
    },
    {
      "cell_type": "code",
      "execution_count": null,
      "metadata": {
        "id": "1gbTKopRCaUo"
      },
      "outputs": [],
      "source": [
        "def get_histogram(values : list[float]) -> Grafik:\n",
        "    # TODO: schreiben Sie eine kombinierte Funktion\n",
        "    pass"
      ]
    },
    {
      "cell_type": "code",
      "execution_count": null,
      "metadata": {
        "id": "9Y5lqvbcCaUo",
        "outputId": "2c006d60-b473-4a08-d53f-ff8f823c236e",
        "colab": {
          "base_uri": "https://localhost:8080/"
        }
      },
      "outputs": [
        {
          "output_type": "execute_result",
          "data": {
            "text/plain": [
              "[3, 3, 7, 5, 6, 1, 1]"
            ]
          },
          "metadata": {},
          "execution_count": 26
        }
      ],
      "source": [
        "distribution = []\n",
        "\n",
        "counter = 0\n",
        "\n",
        "for i in range(150, 185, 5):\n",
        "    for measure in measurements:\n",
        "        if measure >= i and measure < i + 5:\n",
        "            counter += 1\n",
        "\n",
        "    distribution.append(counter)\n",
        "    counter = 0\n",
        "\n",
        "distribution\n"
      ]
    },
    {
      "cell_type": "markdown",
      "metadata": {
        "id": "cC1mnNfnCaUo"
      },
      "source": [
        "## Visualisierung"
      ]
    },
    {
      "cell_type": "code",
      "execution_count": null,
      "metadata": {
        "id": "VH9iMON6CaUo"
      },
      "outputs": [],
      "source": [
        "from pytamaro.de import (rechteck, Grafik,\n",
        "                         blau,\n",
        "                         fixiere, kombiniere,\n",
        "                         unten_links, unten_rechts,\n",
        "                         zeige_grafik)"
      ]
    },
    {
      "cell_type": "code",
      "execution_count": null,
      "metadata": {
        "id": "FDfENnuRCaUo",
        "outputId": "65c10435-3de6-4ff5-9877-b5bb6aa9dbad",
        "colab": {
          "base_uri": "https://localhost:8080/",
          "height": 47
        }
      },
      "outputs": [
        {
          "output_type": "display_data",
          "data": {
            "text/plain": [
              "<PIL.PngImagePlugin.PngImageFile image mode=RGBA size=10x30>"
            ],
            "image/png": "[encoded data removed]"
          },
          "metadata": {}
        }
      ],
      "source": [
        "def block(number : int) -> Grafik:\n",
        "    width = 10\n",
        "    height = width * number\n",
        "    return rechteck(width, height, blau)\n",
        "\n",
        "zeige_grafik(block(3))"
      ]
    },
    {
      "cell_type": "code",
      "execution_count": null,
      "metadata": {
        "id": "Id_wVhnRCaUp"
      },
      "outputs": [],
      "source": [
        "blocks = []\n",
        "\n",
        "for value in distribution:\n",
        "    blocks.append(block(value))"
      ]
    },
    {
      "cell_type": "code",
      "execution_count": null,
      "metadata": {
        "id": "UdNydib7CaUp",
        "outputId": "e9b3aca2-f22e-4933-d452-a44fb3b5e239",
        "colab": {
          "base_uri": "https://localhost:8080/",
          "height": 87
        }
      },
      "outputs": [
        {
          "output_type": "display_data",
          "data": {
            "text/plain": [
              "<PIL.PngImagePlugin.PngImageFile image mode=RGBA size=70x70>"
            ],
            "image/png": "[encoded data removed]"
          },
          "metadata": {}
        }
      ],
      "source": [
        "histogram = blocks[0]\n",
        "\n",
        "for i in range(1, len(blocks)):\n",
        "    histogram = fixiere(unten_rechts, histogram)\n",
        "    addition = fixiere(unten_links, blocks[i])\n",
        "    histogram = kombiniere(histogram, addition)\n",
        "\n",
        "zeige_grafik(histogram)"
      ]
    },
    {
      "cell_type": "code",
      "execution_count": null,
      "metadata": {
        "id": "YlgQWKYsCaUp",
        "outputId": "13d9288c-9982-4696-8c60-637d04d9518c",
        "colab": {
          "base_uri": "https://localhost:8080/",
          "height": 87
        }
      },
      "outputs": [
        {
          "output_type": "display_data",
          "data": {
            "text/plain": [
              "<PIL.PngImagePlugin.PngImageFile image mode=RGBA size=70x70>"
            ],
            "image/png": "[encoded data removed]"
          },
          "metadata": {}
        }
      ],
      "source": [
        "def draw_histogram(measurements : list[int]) -> Grafik:\n",
        "    bins = []\n",
        "\n",
        "    counter = 0\n",
        "\n",
        "    for i in range(min(measurements), max(measurements) + 5, 5):\n",
        "        for measure in measurements:\n",
        "            if measure >= i and measure < i + 5:\n",
        "                counter += 1\n",
        "\n",
        "        bins.append(counter)\n",
        "        counter = 0\n",
        "\n",
        "    blocks = []\n",
        "\n",
        "    for value in distribution:\n",
        "        blocks.append(block(value))\n",
        "\n",
        "    histogram = blocks[0]\n",
        "\n",
        "    for i in range(1, len(blocks)):\n",
        "        histogram = fixiere(unten_rechts, histogram)\n",
        "        addition = fixiere(unten_links, blocks[i])\n",
        "        histogram = kombiniere(histogram, addition)\n",
        "\n",
        "    return histogram\n",
        "\n",
        "zeige_grafik(draw_histogram(measurements))\n",
        "\n"
      ]
    },
    {
      "cell_type": "code",
      "execution_count": null,
      "metadata": {
        "id": "qdYb_Xa-CaUp",
        "outputId": "4fe69954-a60b-4c71-c066-6724ce5c89f1",
        "colab": {
          "base_uri": "https://localhost:8080/",
          "height": 248
        }
      },
      "outputs": [
        {
          "output_type": "display_data",
          "data": {
            "text/plain": [
              "<PIL.PngImagePlugin.PngImageFile image mode=RGBA size=70x231>"
            ],
            "image/png": "[encoded data removed]"
          },
          "metadata": {}
        }
      ],
      "source": [
        "def distribution(measurements : list[int]) -> list[float]:\n",
        "    bins = []\n",
        "    total = len(measurements)\n",
        "\n",
        "    counter = 0\n",
        "\n",
        "    for i in range(min(measurements), max(measurements) + 5, 5):\n",
        "        for measure in measurements:\n",
        "            if measure >= i and measure < i + 5:\n",
        "                counter += 1\n",
        "\n",
        "        bins.append(counter)\n",
        "        counter = 0\n",
        "\n",
        "    return [x * 100 / total for x in bins]\n",
        "\n",
        "def draw_histogram2(measurements : list[int]) -> Grafik:\n",
        "    bins = distribution(measurements)\n",
        "\n",
        "    blocks = []\n",
        "\n",
        "    for value in bins:\n",
        "        blocks.append(block(value))\n",
        "\n",
        "    histogram = blocks[0]\n",
        "\n",
        "    for i in range(1, len(blocks)):\n",
        "        histogram = fixiere(unten_rechts, histogram)\n",
        "        addition = fixiere(unten_links, blocks[i])\n",
        "        histogram = kombiniere(histogram, addition)\n",
        "\n",
        "    return histogram\n",
        "\n",
        "zeige_grafik(draw_histogram2(measurements))"
      ]
    }
  ],
  "metadata": {
    "kernelspec": {
      "display_name": "Python 3 (ipykernel)",
      "language": "python",
      "name": "python3"
    },
    "language_info": {
      "codemirror_mode": {
        "name": "ipython",
        "version": 3
      },
      "file_extension": ".py",
      "mimetype": "text/x-python",
      "name": "python",
      "nbconvert_exporter": "python",
      "pygments_lexer": "ipython3",
      "version": "3.11.5"
    },
    "colab": {
      "provenance": [],
      "include_colab_link": true
    }
  },
  "nbformat": 4,
  "nbformat_minor": 0
}