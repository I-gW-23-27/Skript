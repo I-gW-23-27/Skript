{
 "cells": [
  {
   "cell_type": "markdown",
   "metadata": {},
   "source": [
    "# Repetitionen für die Prüfung vom 25. Juni 24\n",
    "\n",
    "In diesem Dokument werden Repetitionsaufgaben für die kommende Prüfung\n",
    "zur Verfügung gestellt."
   ]
  },
  {
   "cell_type": "markdown",
   "metadata": {},
   "source": [
    "## Binary Search Tree\n",
    "\n",
    "1. Sortieren Sie die Zahlenfolge 42, 55, 38, 45, 24, 40, 60, 59, 70 in\n",
    "   einen binären Suchbaum ein. Als Hilfsmittel verwenden Sie\n",
    "   untenstehendes Raster.\n",
    "\n",
    "   ![Leerer Binärbaum](./images/empty_tree.svg)\n",
    "\n",
    "2. Gegeben sei der folgende binäre Suchbaum:\n",
    "   \n",
    "   ![Beispiel binärer Suchbaum](./images/full_tree.svg)\n",
    "\n",
    "   a) Zeichnen Sie den binären Suchbaum, nachdem Sie den Knoten mit dem\n",
    "   Schlüssel 57 gelöscht haben.\n",
    "\n",
    "   ![Leerer Binärbaum](./images/empty_tree.svg)\n",
    "\n",
    "   b) Zeichnen Sie den binären Suchbaum, nachdem Sie den Knoten mit dem\n",
    "   Schlüssel 40 gelöscht haben.\n",
    "\n",
    "   ![Leerer Binärbaum](./images/empty_tree.svg)"
   ]
  },
  {
   "cell_type": "markdown",
   "metadata": {},
   "source": [
    "## Tree Travesal\n",
    "\n",
    "1. Was für ein Wort resultiert aus untenstehendem Baum bei einer\n",
    "   in-order Traversierung?\n",
    "\n",
    "   ![In-order Traversal](./images/jacques_tree.svg)\n",
    "\n",
    "2. Füllen Sie die folgende Rechnung so in untenstehenden Baum ein, dass\n",
    "   bei einer post-order Traversierung die Rechenoperationen in korrekter\n",
    "   Reihenfolge ausgeführt werden.\n",
    "\n",
    "   $$\n",
    "   2+\\frac{8-2}{1+2}\n",
    "   $$\n",
    "\n",
    "   ![Leerer Baum](./images/empty_tree.svg)"
   ]
  },
  {
   "cell_type": "markdown",
   "metadata": {},
   "source": [
    "## Funktionen in Python\n",
    "\n",
    "Implementieren Sie die folgenden geometrischen Formeln als\n",
    "Python-Funktionen.\n",
    "\n",
    "1. "
   ]
  },
  {
   "cell_type": "code",
   "execution_count": null,
   "metadata": {},
   "outputs": [],
   "source": []
  }
 ],
 "metadata": {
  "language_info": {
   "name": "python"
  }
 },
 "nbformat": 4,
 "nbformat_minor": 2
}
