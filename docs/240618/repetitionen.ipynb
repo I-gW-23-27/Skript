{
 "cells": [
  {
   "cell_type": "markdown",
   "metadata": {},
   "source": [
    "<a target=\"_blank\" href=\"https://colab.research.google.com/github/I-gW-23-27/Skript/blob/main/docs/240618/repetitionen.ipynb\">\n",
    "  <img src=\"https://colab.research.google.com/assets/colab-badge.svg\" alt=\"Open In Colab\"/>\n",
    "</a>"
   ]
  },
  {
   "cell_type": "markdown",
   "metadata": {},
   "source": [
    "# Repetitionen für die Prüfung vom 25. Juni 24\n",
    "\n",
    "In diesem Dokument werden Repetitionsaufgaben für die kommende Prüfung\n",
    "zur Verfügung gestellt."
   ]
  },
  {
   "cell_type": "markdown",
   "metadata": {},
   "source": [
    "## Binary Search Tree\n",
    "\n",
    "1. Sortieren Sie die Zahlenfolge 42, 55, 38, 45, 24, 40, 60, 59, 70 in\n",
    "   einen binären Suchbaum ein. Als Hilfsmittel verwenden Sie\n",
    "   untenstehendes Raster.\n",
    "\n",
    "   ![Leerer Binärbaum](./images/empty_tree.svg)\n",
    "\n",
    "2. Gegeben sei der folgende binäre Suchbaum:\n",
    "   \n",
    "   ![Beispiel binärer Suchbaum](./images/full_tree.svg)\n",
    "\n",
    "   a) Zeichnen Sie den binären Suchbaum, nachdem Sie den Knoten mit dem\n",
    "   Schlüssel 57 gelöscht haben.\n",
    "\n",
    "   ![Leerer Binärbaum](./images/empty_tree.svg)\n",
    "\n",
    "   b) Zeichnen Sie den binären Suchbaum, nachdem Sie den Knoten mit dem\n",
    "   Schlüssel 40 gelöscht haben.\n",
    "\n",
    "   ![Leerer Binärbaum](./images/empty_tree.svg)"
   ]
  },
  {
   "cell_type": "markdown",
   "metadata": {},
   "source": [
    "## Tree Travesal\n",
    "\n",
    "1. Was für ein Wort resultiert aus untenstehendem Baum bei einer\n",
    "   in-order Traversierung?\n",
    "\n",
    "   ![In-order Traversal](./images/jacques_tree.svg)\n",
    "\n",
    "2. Füllen Sie die folgende Rechnung so in untenstehenden Baum ein, dass\n",
    "   bei einer post-order Traversierung die Rechenoperationen in korrekter\n",
    "   Reihenfolge ausgeführt werden.\n",
    "\n",
    "   $$\n",
    "   2+\\frac{8-2}{1+2}\n",
    "   $$\n",
    "\n",
    "   ![Leerer Baum](./images/empty_tree.svg)"
   ]
  },
  {
   "cell_type": "markdown",
   "metadata": {},
   "source": [
    "## Funktionen in Python\n",
    "\n",
    "Ausgehend von der folgenden Zeichnung Implementieren Sie im folgenden geometrischen Formeln als\n",
    "Python-Funktionen.\n",
    "\n",
    "![Dreiecksskizze](./images/triangle.svg)\n",
    "\n",
    "| Variabel | Beschreibung |\n",
    "| :--- | :--- |\n",
    "| $s$ | halber Umfang ($(a+b+c)/2$) |\n",
    "| $I$ | Mittelpunkt des Inkreises |\n",
    "| $\\varrho$ | Radius des Inkreises |\n",
    "| $I_a$ | Mittelpunkt des Ankreises |\n",
    "| $\\varrho_a$ | Radius des Ankreises |\n",
    "| $w_{\\alpha}$ | Winkelhalbierende des Winkels $\\alpha$ |\n",
    "| $r$ | Radius des Umkreises (in der Skizze nicht dargestellt) |\n",
    "\n",
    "\n",
    "\n",
    "1. Flächeninhalt (Heron):  \n",
    "   $A = \\sqrt{s(s-a)(s-b)(s-c)}$\n",
    "\n",
    "2. Umkreisradius:  \n",
    "   $r = \\frac{abc}{4A}$\n",
    "\n",
    "3. Inkreisradius:  \n",
    "   $\\varrho = \\frac{A}{s}$\n",
    "\n",
    "4. Ankreisradius:  \n",
    "   $\\varrho_a = \\frac{A}{s-a}$\n",
    "\n",
    "5. Berechnung der Höhen:  \n",
    "   * $h_a = \\frac{2A}{a}$\n",
    "   * $h_b = \\frac{2A}{b}$\n",
    "   * $h_c = \\frac{2A}{c}$"
   ]
  },
  {
   "cell_type": "code",
   "execution_count": 1,
   "metadata": {},
   "outputs": [],
   "source": [
    "# Flächeninhalt (Heron): \n",
    "def heron(a: float, b: float, c: float) -> float:\n",
    "    s = (a+b+c)/2\n",
    "\n",
    "    area = (s*(s-a)*(s-b)*(s-c))**(1/2)\n",
    "\n",
    "    return area"
   ]
  },
  {
   "cell_type": "code",
   "execution_count": 2,
   "metadata": {},
   "outputs": [
    {
     "name": "stdout",
     "output_type": "stream",
     "text": [
      "6.0\n"
     ]
    }
   ],
   "source": [
    "print(heron(3,4,5))"
   ]
  },
  {
   "cell_type": "code",
   "execution_count": 4,
   "metadata": {},
   "outputs": [],
   "source": [
    "# Umkreisradius:\n",
    "def umkreis(a,b,c):\n",
    "    area = heron(a,b,c)\n",
    "    r = (a*b*c)/(4*area)\n",
    "    return r"
   ]
  },
  {
   "cell_type": "code",
   "execution_count": 5,
   "metadata": {},
   "outputs": [
    {
     "name": "stdout",
     "output_type": "stream",
     "text": [
      "2.5\n"
     ]
    }
   ],
   "source": [
    "print(umkreis(3,4,5))"
   ]
  },
  {
   "cell_type": "code",
   "execution_count": 9,
   "metadata": {},
   "outputs": [],
   "source": [
    "# Inkreisradius:\n",
    "def inkreis(a,b,c):\n",
    "    area = heron(a,b,c)\n",
    "    s = (a+b+c)/2\n",
    "    rho = area/s\n",
    "    return rho"
   ]
  },
  {
   "cell_type": "code",
   "execution_count": 7,
   "metadata": {},
   "outputs": [],
   "source": [
    "# Ankreisradius:\n",
    "def ankreis(a,b,c):\n",
    "    area=heron(a,b,c)\n",
    "    s = (a+b+c)/2\n",
    "    rhoa = area/(s-a)\n",
    "    rhob = area/(s-b)\n",
    "    rhoc = area/(s-c)\n",
    "    result = [rhoa, rhob, rhoc]\n",
    "    return result"
   ]
  },
  {
   "cell_type": "code",
   "execution_count": 8,
   "metadata": {},
   "outputs": [
    {
     "name": "stdout",
     "output_type": "stream",
     "text": [
      "[2.0, 3.0, 6.0]\n"
     ]
    }
   ],
   "source": [
    "print(ankreis(3,4,5))"
   ]
  },
  {
   "cell_type": "code",
   "execution_count": null,
   "metadata": {},
   "outputs": [],
   "source": [
    "# Berechnung der Höhen:"
   ]
  }
 ],
 "metadata": {
  "kernelspec": {
   "display_name": "Python 3 (ipykernel)",
   "language": "python",
   "name": "python3"
  },
  "language_info": {
   "codemirror_mode": {
    "name": "ipython",
    "version": 3
   },
   "file_extension": ".py",
   "mimetype": "text/x-python",
   "name": "python",
   "nbconvert_exporter": "python",
   "pygments_lexer": "ipython3",
   "version": "3.11.9"
  }
 },
 "nbformat": 4,
 "nbformat_minor": 2
}
