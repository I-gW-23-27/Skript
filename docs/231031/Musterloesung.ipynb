{
  "nbformat": 4,
  "nbformat_minor": 0,
  "metadata": {
    "colab": {
      "provenance": []
    },
    "kernelspec": {
      "name": "python3",
      "display_name": "Python 3"
    },
    "language_info": {
      "name": "python"
    }
  },
  "cells": [
    {
      "cell_type": "markdown",
      "source": [
        "# Musterlösung Prüfung Einführung in die Programmierung\n",
        "\n",
        "---\n",
        "\n"
      ],
      "metadata": {
        "id": "3cG4Rl69ccJh"
      }
    },
    {
      "cell_type": "markdown",
      "source": [
        "## Aufgabe 1\n",
        "\n",
        "*3 Punkte* Gegeben sind die folgenden Code-Snippets:\n",
        "\n",
        "a. Welche Werte weisen die Variabeln a , b und c nach dem Abarbeiten aller vier Zeilen\n",
        "auf?"
      ],
      "metadata": {
        "id": "uGK7aegVcmkz"
      }
    },
    {
      "cell_type": "code",
      "execution_count": null,
      "metadata": {
        "id": "Pjp9rL5vcV-j"
      },
      "outputs": [],
      "source": [
        "a = 2\n",
        "b = 3\n",
        "b = a\n",
        "c = a + b"
      ]
    },
    {
      "cell_type": "markdown",
      "source": [
        "b. Welche Werte weisen die Variabeln d , e und f nach dem Abarbeiten aller drei Zeilen\n",
        "auf?"
      ],
      "metadata": {
        "id": "IVjQGEsQdrMx"
      }
    },
    {
      "cell_type": "code",
      "source": [
        "d = 2 * 3\n",
        "e = 7 % 2\n",
        "f = d + e"
      ],
      "metadata": {
        "id": "-yu2iY3Hdvnq"
      },
      "execution_count": null,
      "outputs": []
    },
    {
      "cell_type": "markdown",
      "source": [
        "c. Welche Werte weisen die Variabeln g und h nach dem Abarbeiten aller drei Zeilen\n",
        "auf?"
      ],
      "metadata": {
        "id": "WVCUpOM7d2qn"
      }
    },
    {
      "cell_type": "code",
      "source": [
        "g = 2\n",
        "h = g\n",
        "g = g + h"
      ],
      "metadata": {
        "id": "lXBPetw6d7nz"
      },
      "execution_count": null,
      "outputs": []
    },
    {
      "cell_type": "markdown",
      "source": [
        "## Aufgabe 2\n",
        "\n",
        "a. *2 Punkte* Gegeben sei das folgende Code-Snippet:"
      ],
      "metadata": {
        "id": "1DV49OOyeY-O"
      }
    },
    {
      "cell_type": "code",
      "source": [
        "def countdown ():\n",
        "    for i in range (10,0,-1):\n",
        "        print (i)\n",
        "\n",
        "    return 0\n",
        "\n",
        "x = countdown ()"
      ],
      "metadata": {
        "id": "4qCnJjiqemdh"
      },
      "execution_count": null,
      "outputs": []
    },
    {
      "cell_type": "markdown",
      "source": [
        "Was wird in diesem Code-Snippet ausgegeben und was zurückgegeben?"
      ],
      "metadata": {
        "id": "fEr1FXSXe-zw"
      }
    },
    {
      "cell_type": "markdown",
      "source": [
        "## Aufgabe 3\n",
        "\n",
        "*4 Punkte*\n",
        "\n",
        "a. *1 Punkt* Schreiben Sie eine Funktion, welche zwei beliebige Zahlen als Parameter\n",
        "entgegennimmt und zusammenzählt."
      ],
      "metadata": {
        "id": "CcCo0i0DfEPf"
      }
    },
    {
      "cell_type": "code",
      "source": [
        "# Musterlösung\n",
        "def add(a : float , b : float ) -> float :\n",
        "    return a + b"
      ],
      "metadata": {
        "id": "gQK_srgNfh4o"
      },
      "execution_count": null,
      "outputs": []
    },
    {
      "cell_type": "markdown",
      "source": [
        "b. *1 Punkt* Schreiben Sie eine Funktion, welche unter Verwendung der Grundseite und\n",
        "der Höhe die Fläche eines beliebigen Dreiecks berechnet ($A = \\frac{g \\cdot h_g}{2}$ )."
      ],
      "metadata": {
        "id": "gI0SE_Mufrnm"
      }
    },
    {
      "cell_type": "code",
      "source": [
        "def dreiecksflaeche ( g : float , h : float ) -> float :\n",
        "    return (g * h) / 2"
      ],
      "metadata": {
        "id": "8GvRKEkzgD_H"
      },
      "execution_count": null,
      "outputs": []
    },
    {
      "cell_type": "markdown",
      "source": [
        "c. *2 Punkte* Schreiben Sie eine Funktion, welche unter Verwendung des Innen- und\n",
        "Aussenradius die Fläche eines Rings (stellen Sie sich eine Unterlagscheibe vor)\n",
        "berechnet. Die Formel für die Berechnung der Kreisfläche lautet $A = r^2 · \\pi$ (für $\\pi$\n",
        "können Sie 3.14 einsetzen)."
      ],
      "metadata": {
        "id": "gbkEmqnhgPl8"
      }
    },
    {
      "cell_type": "code",
      "source": [
        "def ringflaeche(r_innen : float , r_aussen : float ) -> float :\n",
        "    PI = 3.14\n",
        "\n",
        "    a_gross = r_aussen ** 2 * PI\n",
        "    a_klein = r_innen ** 2 * PI\n",
        "    a_ring = a_gross - a_klein\n",
        "\n",
        "    return a_ring"
      ],
      "metadata": {
        "id": "vg75SDLeggSQ"
      },
      "execution_count": null,
      "outputs": []
    },
    {
      "cell_type": "markdown",
      "source": [
        "## Aufgabe 4\n",
        "*2 Punkte* Gegeben sei folgendes Code-Snippet:"
      ],
      "metadata": {
        "id": "E3zOa4ouhP2I"
      }
    },
    {
      "cell_type": "code",
      "source": [
        "testreihe = [1, 2, 3, 4, 5, 6, 7, 8, 9, 10]\n",
        "\n",
        "    def tester(reihe):\n",
        "        resultat = []\n",
        "        for x in reihe:\n",
        "            if x % 3 == 0:\n",
        "                resultat.append(x)\n",
        "        return resultat\n",
        "\n",
        "    print(tester(testreihe)"
      ],
      "metadata": {
        "id": "b8arGL9bhpvQ"
      },
      "execution_count": null,
      "outputs": []
    },
    {
      "cell_type": "markdown",
      "source": [
        "Was wird durch die Zeile\n",
        "\n",
        "```{Python}\n",
        "print(tester(testreihe))\n",
        "```\n",
        "am Bildschirm ausgegeben?"
      ],
      "metadata": {
        "id": "QRMUTrnphq5J"
      }
    },
    {
      "cell_type": "code",
      "source": [
        "print(tester(testreihe))"
      ],
      "metadata": {
        "id": "XbkVK745h5C0"
      },
      "execution_count": null,
      "outputs": []
    },
    {
      "cell_type": "markdown",
      "source": [
        "## Aufgabe 5\n",
        "\n",
        "*5 Punkte*\n",
        "\n",
        "a. Formulieren Sie eine Bedingung, die prüft, ob eine Zahl ($x$) durch 7 teilbar ist."
      ],
      "metadata": {
        "id": "vLibP7jih7aI"
      }
    },
    {
      "cell_type": "code",
      "source": [
        "if x % 7 == 0:"
      ],
      "metadata": {
        "id": "z42xYBqBiNci"
      },
      "execution_count": null,
      "outputs": []
    },
    {
      "cell_type": "markdown",
      "source": [
        "b. Formulieren Sie eine Bedingung, die rüft, ob eine Zahl ($x$) zwischen 2 und 5 (Startwert inklusive, Endwert exklusive) liegt."
      ],
      "metadata": {
        "id": "ptRpl2IAiQmL"
      }
    },
    {
      "cell_type": "code",
      "source": [
        "if x >= 2 and x < 5:"
      ],
      "metadata": {
        "id": "sMIOanVuiaZd"
      },
      "execution_count": null,
      "outputs": []
    },
    {
      "cell_type": "markdown",
      "source": [
        "c. Formulieren Sie eine Bedinung, die prüft, ob eine Zahl ($x$) entweder durch 3 oder nicht durch 7 teilbar ist."
      ],
      "metadata": {
        "id": "hQiGrtIvieyv"
      }
    },
    {
      "cell_type": "code",
      "source": [
        "if x % 3 == 0 or x % 7 != 0:"
      ],
      "metadata": {
        "id": "NiaCuxmjik_M"
      },
      "execution_count": null,
      "outputs": []
    },
    {
      "cell_type": "markdown",
      "source": [
        "## Aufgabe 6\n",
        "\n",
        "*3 Punkte*\n",
        "\n",
        "a. Schreiben Sie eine Liste der Zahlen zwischen 10 und 20, die durch drei teilbar sind."
      ],
      "metadata": {
        "id": "bJRQZ4-Di2pe"
      }
    },
    {
      "cell_type": "code",
      "source": [
        "dreier = [12, 15, 18]"
      ],
      "metadata": {
        "id": "5CaT6nkMipud"
      },
      "execution_count": null,
      "outputs": []
    },
    {
      "cell_type": "markdown",
      "source": [
        "b. Gegeben sei das folgende Code-Snippet:"
      ],
      "metadata": {
        "id": "LwKErFhLi7w-"
      }
    },
    {
      "cell_type": "code",
      "source": [
        "reihe_b = [x for x in range(5,20,5)]"
      ],
      "metadata": {
        "id": "ljoLDUZmjBCf"
      },
      "execution_count": null,
      "outputs": []
    },
    {
      "cell_type": "markdown",
      "source": [
        "Welche Werte finden sich in der Liste $reihe\\_b$?"
      ],
      "metadata": {
        "id": "CFOkrjlGjEJf"
      }
    },
    {
      "cell_type": "markdown",
      "source": [
        "c. Gegeben sei das folgende Code-Snippet:"
      ],
      "metadata": {
        "id": "_ZZSIUAVjOeQ"
      }
    },
    {
      "cell_type": "code",
      "source": [
        "reihe_c = [x ** 2 for x in range(11)]"
      ],
      "metadata": {
        "id": "kRElQGCejW6p"
      },
      "execution_count": null,
      "outputs": []
    },
    {
      "cell_type": "markdown",
      "source": [
        "Welche Werte finden sich in der Liste $reihe\\_c$?"
      ],
      "metadata": {
        "id": "JfktLoMljXok"
      }
    },
    {
      "cell_type": "markdown",
      "source": [
        "## Aufgabe 7\n",
        "\n",
        "*3 Punkte*\n",
        "\n",
        "a. Schreiben Sie ein Code-Snippet, das mit Hilfe einer Schleife am Bildschirm 10 Mal \"Hello World!\" ausgibt."
      ],
      "metadata": {
        "id": "3KL15xQ_je4S"
      }
    },
    {
      "cell_type": "code",
      "source": [
        "for i in range(10):\n",
        "    print(\"Hello World!\")"
      ],
      "metadata": {
        "id": "xZXexaSLjuI0"
      },
      "execution_count": null,
      "outputs": []
    },
    {
      "cell_type": "markdown",
      "source": [
        "b. Schreiben Sie ein Code-Snippet, das aus einer Liste der Zahlen von 1 bis 10 die geraden Zahlen verdoppelt am Bildschirm ausgibt."
      ],
      "metadata": {
        "id": "GReS12pCjy2G"
      }
    },
    {
      "cell_type": "code",
      "source": [
        "zahlen = [1, 2, 3, 4, 5, 6, 7, 8, 9, 10]\n",
        "\n",
        "for zahl in zahlen:\n",
        "    if zahl % 2 == 0:\n",
        "        print(zahl * 2)"
      ],
      "metadata": {
        "id": "xqSJLlHgj6we"
      },
      "execution_count": null,
      "outputs": []
    }
  ]
}