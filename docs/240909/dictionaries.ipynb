{
 "cells": [
  {
   "cell_type": "markdown",
   "metadata": {},
   "source": [
    "# Python Dictionaries"
   ]
  },
  {
   "cell_type": "code",
   "execution_count": 1,
   "metadata": {},
   "outputs": [],
   "source": [
    "kantone = [ 'Zürich', 'Bern', 'Luzern', 'Uri', 'Schwyz', 'Obwalden', 'Nidwalden', 'Glarus', 'Zug', 'Freiburg', 'Solothurn', 'Basel-Stadt', 'Basel-Landschaft', 'Schaffhausen', 'Appenzell Ausserrhoden', 'Appenzell Innerrhoden', 'St. Gallen', 'Graubünden', 'Aargau', 'Thurgau', 'Tessin', 'Waadt', 'Wallis', 'Neuenburg', 'Genf', 'Jura']"
   ]
  },
  {
   "cell_type": "code",
   "execution_count": 2,
   "metadata": {},
   "outputs": [],
   "source": [
    "hauptorte = ['Zürich', 'Bern', 'Luzern', 'Altdorf', 'Schwyz', 'Sarnen', 'Stans', 'Glarus', 'Zug', 'Fribourg', 'Solothurn', 'Basel', 'Liestal', 'Schaffhausen', ['Herisau', 'Trogen'], 'Appenzell', 'St. Gallen', 'Chur', 'Aarau', 'Frauenfeld', 'Bellinzona', 'Lausanne', 'Sitten', 'Neuenburg', 'Genf', 'Delsberg']"
   ]
  },
  {
   "cell_type": "code",
   "execution_count": 3,
   "metadata": {},
   "outputs": [
    {
     "data": {
      "text/plain": [
       "[('Zürich', 'Zürich'),\n",
       " ('Bern', 'Bern'),\n",
       " ('Luzern', 'Luzern'),\n",
       " ('Uri', 'Altdorf'),\n",
       " ('Schwyz', 'Schwyz'),\n",
       " ('Obwalden', 'Sarnen'),\n",
       " ('Nidwalden', 'Stans'),\n",
       " ('Glarus', 'Glarus'),\n",
       " ('Zug', 'Zug'),\n",
       " ('Freiburg', 'Fribourg'),\n",
       " ('Solothurn', 'Solothurn'),\n",
       " ('Basel-Stadt', 'Basel'),\n",
       " ('Basel-Landschaft', 'Liestal'),\n",
       " ('Schaffhausen', 'Schaffhausen'),\n",
       " ('Appenzell Ausserrhoden', ['Herisau', 'Trogen']),\n",
       " ('Appenzell Innerrhoden', 'Appenzell'),\n",
       " ('St. Gallen', 'St. Gallen'),\n",
       " ('Graubünden', 'Chur'),\n",
       " ('Aargau', 'Aarau'),\n",
       " ('Thurgau', 'Frauenfeld'),\n",
       " ('Tessin', 'Bellinzona'),\n",
       " ('Waadt', 'Lausanne'),\n",
       " ('Wallis', 'Sitten'),\n",
       " ('Neuenburg', 'Neuenburg'),\n",
       " ('Genf', 'Genf'),\n",
       " ('Jura', 'Delsberg')]"
      ]
     },
     "execution_count": 3,
     "metadata": {},
     "output_type": "execute_result"
    }
   ],
   "source": [
    "kantonstulple = [(kt, ho) for kt, ho in zip(kantone, hauptorte)]\n",
    "kantonstulple"
   ]
  },
  {
   "cell_type": "code",
   "execution_count": 4,
   "metadata": {},
   "outputs": [],
   "source": [
    "kantons_dictionary = dict(kantonstulple)"
   ]
  },
  {
   "cell_type": "code",
   "execution_count": null,
   "metadata": {},
   "outputs": [],
   "source": []
  }
 ],
 "metadata": {
  "kernelspec": {
   "display_name": ".venv",
   "language": "python",
   "name": "python3"
  },
  "language_info": {
   "codemirror_mode": {
    "name": "ipython",
    "version": 3
   },
   "file_extension": ".py",
   "mimetype": "text/x-python",
   "name": "python",
   "nbconvert_exporter": "python",
   "pygments_lexer": "ipython3",
   "version": "3.11.9"
  }
 },
 "nbformat": 4,
 "nbformat_minor": 2
}
