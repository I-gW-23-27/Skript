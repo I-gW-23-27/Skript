{
  "cells": [
    {
      "cell_type": "markdown",
      "metadata": {
        "id": "view-in-github",
        "colab_type": "text"
      },
      "source": [
        "<a href=\"https://colab.research.google.com/github/I-gW-23-27/Skript/blob/main/docs/230905/pytamaro.ipynb\" target=\"_parent\"><img src=\"https://colab.research.google.com/assets/colab-badge.svg\" alt=\"Open In Colab\"/></a>"
      ]
    },
    {
      "cell_type": "markdown",
      "metadata": {
        "id": "dhsevShDNjDB"
      },
      "source": [
        "# Grafiken erstellen mit PyTamaro\n",
        "\n",
        "Dieses Notbook basiert auf der\n",
        "[Einführung in\n",
        "PyTamaro](https://pytamaro.si.usi.ch/curricula/luce/welcome)\n",
        "der Università de\n",
        "la Svizzera italiana (usi)."
      ]
    },
    {
      "cell_type": "markdown",
      "metadata": {
        "id": "2VFCY_bfNnDr"
      },
      "source": [
        "## Installation von PyTamaro in Google Colab\n",
        "\n",
        "Damit PyTamaro in Google Colab verwendet werden kann, muss zuerst die folgende Zelle ausgeführt werden."
      ]
    },
    {
      "cell_type": "code",
      "execution_count": 1,
      "metadata": {
        "id": "kjScMhpWN3Wx",
        "colab": {
          "base_uri": "https://localhost:8080/"
        },
        "outputId": "4f5feb7f-6766-4b36-8d05-0022304e234a"
      },
      "outputs": [
        {
          "output_type": "stream",
          "name": "stdout",
          "text": [
            "Collecting pytamaro\n",
            "  Downloading pytamaro-0.5.2-py3-none-any.whl (33 kB)\n",
            "Requirement already satisfied: Pillow<10.0.0,>=9.0.0 in /usr/local/lib/python3.10/dist-packages (from pytamaro) (9.4.0)\n",
            "Collecting skia-python<88.0,>=87.4 (from pytamaro)\n",
            "  Downloading skia_python-87.5-cp310-cp310-manylinux_2_17_x86_64.manylinux2014_x86_64.whl (10.8 MB)\n",
            "\u001b[2K     \u001b[90m━━━━━━━━━━━━━━━━━━━━━━━━━━━━━━━━━━━━━━━━\u001b[0m \u001b[32m10.8/10.8 MB\u001b[0m \u001b[31m24.3 MB/s\u001b[0m eta \u001b[36m0:00:00\u001b[0m\n",
            "\u001b[?25hRequirement already satisfied: numpy in /usr/local/lib/python3.10/dist-packages (from skia-python<88.0,>=87.4->pytamaro) (1.23.5)\n",
            "Collecting pybind11>=2.6 (from skia-python<88.0,>=87.4->pytamaro)\n",
            "  Downloading pybind11-2.11.1-py3-none-any.whl (227 kB)\n",
            "\u001b[2K     \u001b[90m━━━━━━━━━━━━━━━━━━━━━━━━━━━━━━━━━━━━━━\u001b[0m \u001b[32m227.7/227.7 kB\u001b[0m \u001b[31m19.8 MB/s\u001b[0m eta \u001b[36m0:00:00\u001b[0m\n",
            "\u001b[?25hInstalling collected packages: pybind11, skia-python, pytamaro\n",
            "Successfully installed pybind11-2.11.1 pytamaro-0.5.2 skia-python-87.5\n"
          ]
        }
      ],
      "source": [
        "! pip install pytamaro"
      ]
    },
    {
      "cell_type": "markdown",
      "metadata": {
        "id": "b12VgQVANjDD"
      },
      "source": [
        "## Tessiner Kantonswappen\n",
        "\n",
        "Weil PyTamaro im Tessin entwickelt wird, zeichnen wir zu Ehren des\n",
        "Kantons Tessin als erstes ein Tessiner Wappen.\n",
        "\n",
        "![Tessin](https://github.com/I-gW-23-27/Skript/blob/main/docs/images/ticino-coat-of-arms.svg?raw=1)\n",
        "\n",
        "PyTamaro kann nur eine beschränkte Anzahl von geometrischen Figuren\n",
        "zeichnen:\n",
        "\n",
        "* Dreiecke\n",
        "* Ellipsen\n",
        "* Kreissektoren\n",
        "* Rechtecke\n",
        "\n",
        "Ausserdem kann jeder Figur nur eine Farbe zugewiesen werden.\n",
        "\n",
        "Sie müssen daher als erstes das Tessiner Wappen in passende Teilgrafiken\n",
        "zerlegen. Erstellen Sie im folgenden Feld eine Liste mit Formen in den\n",
        "jeweiligen Farben, mit denen Sie das Tessiner Wappen zusammenbauen wollen."
      ]
    },
    {
      "cell_type": "markdown",
      "metadata": {
        "id": "2pRvq39oNjDD"
      },
      "source": [
        "### \"Stückliste Wappen Kanton Tessin\"\n",
        "\n",
        "Erstellen Sie hier eine Stückliste:\n",
        "\n",
        "* rotes Rechteck\n",
        "* blaues Rechteck\n",
        "* roter Viertelkreis\n",
        "* blauer Viertelkreis"
      ]
    },
    {
      "cell_type": "markdown",
      "metadata": {
        "id": "_8odOfewNjDE"
      },
      "source": [
        "### Einzelteile Wappen Kanton Tessin\n",
        "\n",
        "Wie Sie sicher festgestellt haben, brauchen Sie für das Wappen des\n",
        "Kantons Tessin Rechtecke und Kreissektoren in den Farben rot und blau.\n",
        "\n",
        "Hier finden Sie die Anleitung zum Zeichnen von\n",
        "[Rechtecken](https://pytamaro.readthedocs.io/en/stable/German/primitives.html#pytamaro.de.primitives.rechteck)\n",
        "und\n",
        "[Kreissektoren](https://pytamaro.readthedocs.io/en/stable/German/primitives.html#pytamaro.de.primitives.kreis_sektor).\n",
        "Wenn Sie ein Rechteck zeichnen und dieses weiterverwenden wollen, müssen Sie es einer Variablen zuweisen. Das geht mit folgendem Code:\n",
        "\n",
        "```Python\n",
        "kleines_rechteck = rechteck(2, 5, rot)\n",
        "```\n",
        "\n",
        "Mit dem Befehl\n",
        "[`zeige_grafik()`](https://pytamaro.readthedocs.io/en/stable/German/io.html#pytamaro.de.io.zeige_grafik)\n",
        "kann eine Grafik angezigt werden.\n",
        "\n",
        ">Beispiel: `zeige_grafik(name_der_grafik)`\n",
        "\n",
        "Zeichnen Sie in der folgenden Code Zelle die erforderlichne Einzelteile.\n",
        "Die Proportionen für das Wappen können Sie der folgenden Abbildung\n",
        "entnehmen:\n",
        "\n",
        "![Proportionen](https://github.com/I-gW-23-27/Skript/blob/main/docs/images/MetalSheetWithMeasures.png?raw=1)"
      ]
    },
    {
      "cell_type": "code",
      "execution_count": 2,
      "metadata": {
        "id": "8AYJ-N14NjDE",
        "colab": {
          "base_uri": "https://localhost:8080/",
          "height": 257
        },
        "outputId": "b410f03b-1952-428e-89cf-e82f40f8a129"
      },
      "outputs": [
        {
          "output_type": "display_data",
          "data": {
            "text/plain": [
              "<PIL.PngImagePlugin.PngImageFile image mode=RGBA size=50x70>"
            ],
            "image/png": "[encoded data removed]"
          },
          "metadata": {}
        },
        {
          "output_type": "display_data",
          "data": {
            "text/plain": [
              "<PIL.PngImagePlugin.PngImageFile image mode=RGBA size=50x70>"
            ],
            "image/png": "[encoded data removed]"
          },
          "metadata": {}
        },
        {
          "output_type": "display_data",
          "data": {
            "text/plain": [
              "<PIL.PngImagePlugin.PngImageFile image mode=RGBA size=50x50>"
            ],
            "image/png": "[encoded data removed]"
          },
          "metadata": {}
        },
        {
          "output_type": "display_data",
          "data": {
            "text/plain": [
              "<PIL.PngImagePlugin.PngImageFile image mode=RGBA size=50x50>"
            ],
            "image/png": "[encoded data removed]"
          },
          "metadata": {}
        }
      ],
      "source": [
        "\"\"\"\n",
        "Um die nötigen Befehle in PyTamaro verwenden zu können, müssen diese\n",
        "zuerst importiert werden. Dies geschieht mit dem folgenden Befehl.\n",
        "\"\"\"\n",
        "from pytamaro.de import (rechteck, kreis_sektor,\n",
        "                         rot, blau,\n",
        "                         zeige_grafik)\n",
        "\n",
        "\n",
        "rechteck_blau = rechteck(50, 70, blau)\n",
        "rechteck_rot = rechteck(50, 70, rot)\n",
        "unten_blau = kreis_sektor(50, 90, blau)\n",
        "unten_rot = kreis_sektor(50, 90, rot)\n",
        "zeige_grafik(rechteck_blau)\n",
        "zeige_grafik(rechteck_rot)\n",
        "zeige_grafik(unten_blau)\n",
        "zeige_grafik(unten_rot)"
      ]
    },
    {
      "cell_type": "markdown",
      "metadata": {
        "id": "9OYWu4adNjDG"
      },
      "source": [
        "### Zusammenbau des Wappens aus den Einzelteilen\n",
        "\n",
        "Um das Wappen aus den Einzelteilen zusammenbauen zu können, brauchen wir\n",
        "neben den Formen noch Befehle, mit denen wir die Teilgrafiken\n",
        "manipulieren können. Die Rechtecke müssen wir nebeneinander anordnen,\n",
        "die Kreissektoren zuerst noch drehen und dann nebeneinander anordnen und\n",
        "zum Schluss müssen wir die so entstandenen Teilgrafiken noch\n",
        "übereinander anordnen.\n",
        "\n",
        "PyTamaro verfügt über die Befehle\n",
        "[`neben()`](https://pytamaro.readthedocs.io/en/stable/German/operations.html#pytamaro.de.operations.neben),\n",
        "[`drehe()`](https://pytamaro.readthedocs.io/en/stable/German/operations.html#pytamaro.de.operations.drehe)\n",
        "sowie\n",
        "[`ueber()`](https://pytamaro.readthedocs.io/en/stable/German/operations.html#pytamaro.de.operations.ueber).\n",
        "\n",
        "In der folgenden Code Zelle werden zuerst die Befehle importiert,\n",
        "anschliessend können Sie das Wappen zusammenbauen."
      ]
    },
    {
      "cell_type": "code",
      "execution_count": 3,
      "metadata": {
        "id": "_aEYB9HPNjDH",
        "colab": {
          "base_uri": "https://localhost:8080/",
          "height": 137
        },
        "outputId": "27c0d710-99e3-4f37-b126-193cc2bae59b"
      },
      "outputs": [
        {
          "output_type": "display_data",
          "data": {
            "text/plain": [
              "<PIL.PngImagePlugin.PngImageFile image mode=RGBA size=100x120>"
            ],
            "image/png": "[encoded data removed]"
          },
          "metadata": {}
        }
      ],
      "source": [
        "from pytamaro.de import (neben, drehe, ueber)\n",
        "\n",
        "oben = neben(rechteck_rot, rechteck_blau)\n",
        "unten_rot_gedreht = drehe(180, unten_rot)\n",
        "unten_blau_gedreht = drehe(-90, unten_blau)\n",
        "unten = neben(unten_rot_gedreht, unten_blau_gedreht)\n",
        "wappen_ti = ueber(oben, unten)\n",
        "zeige_grafik(wappen_ti)"
      ]
    },
    {
      "cell_type": "markdown",
      "metadata": {
        "id": "cm9X7azGNjDH"
      },
      "source": [
        "## Schweizerfahne\n",
        "\n",
        "Die Dimensionen der Schweizerfahne richten sich nach dem Bundesgesetz\n",
        "über den Schutz des Schweizerwappens und anderer öffentlicher Zeichen\n",
        "(Wappenschutzgesetz,\n",
        "[WSchG](https://www.fedlex.admin.ch/eli/oc/2015/613/de)). Der Anhang 2 des WSchG regelt sowohl die\n",
        "Masse wie auch die Farbe der Schweizerfahne.\n",
        "\n",
        "Es wäre wohl möglich, mit den bisherigen Werkzeugen eine Schweizerfahne\n",
        "zu zeichnen. Allerdings brauchte man dann viele Einzelteile. Zum Glück\n",
        "stellt PyTamaro neben den bereits erwähnten Werkzeugen noch eine\n",
        "Funktion\n",
        "[`ueberlagere()`](https://pytamaro.readthedocs.io/en/stable/German/operations.html#pytamaro.de.operations.ueberlagere)\n",
        "zur Verfügung. Mit deren Hilfe ist es möglich, die Schweizerfahne mit\n",
        "blos zwei verschiedenen Teilgrafiken zusammenzustellen."
      ]
    },
    {
      "cell_type": "code",
      "execution_count": 4,
      "metadata": {
        "id": "q8vh7ImlNjDH",
        "colab": {
          "base_uri": "https://localhost:8080/",
          "height": 117
        },
        "outputId": "7aa942bd-aee9-493e-9232-9e6fe20afea6"
      },
      "outputs": [
        {
          "output_type": "display_data",
          "data": {
            "text/plain": [
              "<PIL.PngImagePlugin.PngImageFile image mode=RGBA size=100x100>"
            ],
            "image/png": "[encoded data removed]"
          },
          "metadata": {}
        }
      ],
      "source": [
        "from pytamaro.de import (ueberlagere,\n",
        "                         weiss)\n",
        "\n",
        "hintergrund = rechteck(100, 100, rot)\n",
        "balken = rechteck(100/32*20, 100/32*6, weiss)\n",
        "balken_senkrecht = drehe(90, balken)\n",
        "kreuz = ueberlagere(balken, balken_senkrecht)\n",
        "schweizer_fahne = ueberlagere(kreuz, hintergrund)\n",
        "\n",
        "zeige_grafik(schweizer_fahne)"
      ]
    },
    {
      "cell_type": "markdown",
      "metadata": {
        "id": "XhYO17zmNjDI"
      },
      "source": [
        "Kann dieser Code so umformuliert werden, dass eine korrekt\n",
        "proportionierte Schweizerfahne mit beliebiger Kantenlänge gezeichnet wird?"
      ]
    },
    {
      "cell_type": "code",
      "execution_count": 7,
      "metadata": {
        "id": "pwJ-46kfNjDI",
        "colab": {
          "base_uri": "https://localhost:8080/",
          "height": 517
        },
        "outputId": "5f26ec9b-98f9-40c7-e645-0c33cb40c120"
      },
      "outputs": [
        {
          "output_type": "display_data",
          "data": {
            "text/plain": [
              "<PIL.PngImagePlugin.PngImageFile image mode=RGBA size=500x500>"
            ],
            "image/png": "[encoded data removed]"
          },
          "metadata": {}
        }
      ],
      "source": [
        "from pytamaro.de import (rechteck, Grafik,\n",
        "                         drehe, ueberlagere, zeige_grafik,\n",
        "                         rot, weiss)\n",
        "\n",
        "def swiss_flag(width : float) -> Grafik:\n",
        "    background = rechteck(width, width, rot)\n",
        "    bar     = rechteck(width/32*20, width/32*6, weiss)\n",
        "    vertical_bar = drehe(90, bar)\n",
        "    cross = ueberlagere(bar, vertical_bar)\n",
        "    flag = ueberlagere(cross, background)\n",
        "\n",
        "    return flag\n",
        "\n",
        "schweizer_fahne = swiss_flag(500)\n",
        "zeige_grafik(schweizer_fahne)"
      ]
    },
    {
      "cell_type": "markdown",
      "metadata": {
        "id": "-B6ZaMPqNjDI"
      },
      "source": [
        "## Taijitu\n",
        "\n",
        "Nach den Übungen mit hoheitlichen Symbolen zum Abschluss ein eher\n",
        "philosophisches Symbol:\n",
        "\n",
        "![Taijitu](https://github.com/I-gW-23-27/Skript/blob/main/docs/images/Yin_yang.svg?raw=1)\n",
        "\n",
        "Zeichnen Sie das Taijitu nach. Gehen Sie dabei gleich vor wie bisher."
      ]
    },
    {
      "cell_type": "code",
      "execution_count": null,
      "metadata": {
        "id": "yUJ67dHANjDI"
      },
      "outputs": [],
      "source": [
        "from pytamaro.de import (ellipse, kreis_sektor,\n",
        "                         drehe, neben, ueberlagere, ueber,\n",
        "                         weiss, schwarz,\n",
        "                         zeige_grafik)\n",
        "\n",
        "# hier kommt Ihr Code hin"
      ]
    },
    {
      "cell_type": "markdown",
      "metadata": {
        "id": "VHMstHAKN7oG"
      },
      "source": [
        "[Hier geht es zurück zur Übersicht](https://i-gw-23-27.github.io/Skript/)"
      ]
    }
  ],
  "metadata": {
    "colab": {
      "provenance": [],
      "include_colab_link": true
    },
    "kernelspec": {
      "display_name": ".venv",
      "language": "python",
      "name": "python3"
    },
    "language_info": {
      "codemirror_mode": {
        "name": "ipython",
        "version": 3
      },
      "file_extension": ".py",
      "mimetype": "text/x-python",
      "name": "python",
      "nbconvert_exporter": "python",
      "pygments_lexer": "ipython3",
      "version": "3.11.5"
    },
    "orig_nbformat": 4
  },
  "nbformat": 4,
  "nbformat_minor": 0
}