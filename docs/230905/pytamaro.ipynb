{
 "cells": [
  {
   "cell_type": "markdown",
   "metadata": {},
   "source": [
    "# Grafiken erstellen mit PyTamaro\n",
    "\n",
    "Dieses Notbook basiert auf der \n",
    "[Einführung in\n",
    "PyTamaro](https://pytamaro.si.usi.ch/curricula/luce/welcome)\n",
    "der Università de\n",
    "la Svizzera italiana (usi)."
   ]
  },
  {
   "cell_type": "markdown",
   "metadata": {},
   "source": [
    "## Tessiner Kantonswappen\n",
    "\n",
    "Weil PyTamaro im Tessin entwickelt wird, zeichnen wir zu Ehren des\n",
    "Kantons Tessin als erstes ein Tessiner Wappen.\n",
    "\n",
    "![Tessin](../images/ticino-coat-of-arms.svg)\n",
    "\n",
    "PyTamaro kann nur eine beschränkte Anzahl von geometrischen Figuren\n",
    "zeichnen:\n",
    "\n",
    "* Dreiecke\n",
    "* Ellipsen\n",
    "* Kreissektoren\n",
    "* Rechtecke\n",
    "\n",
    "Ausserdem kann jeder Figur nur eine Farbe zugewiesen werden.\n",
    "\n",
    "Sie müssen daher als erstes das Tessiner Wappen in passende Teilgrafiken\n",
    "zerlegen. Erstellen Sie im folgenden Feld eine Liste mit Formen in den\n",
    "jeweiligen Farben, mit denen Sie das Tessiner Wappen zusammenbauen wollen."
   ]
  },
  {
   "cell_type": "markdown",
   "metadata": {},
   "source": [
    "### \"Stückliste Wappen Kanton Tessin\"\n",
    "\n",
    "* 1 Rechteck rot\n",
    "* 1 Rechteck blau\n",
    "* 1 Kreissektor rot\n",
    "* 1 Kreissektor blau"
   ]
  },
  {
   "cell_type": "markdown",
   "metadata": {},
   "source": [
    "### Einzelteile Wappen Kanton Tessin\n",
    "\n",
    "Wie Sie sicher festgestellt haben, brauchen Sie für das Wappen des\n",
    "Kantons Tessin Rechtecke und Kreissektoren in den Farben rot und blau.\n",
    "\n",
    "Hier finden Sie die Anleitung zum Zeichnen von\n",
    "[Rechtecken](https://pytamaro.readthedocs.io/en/stable/German/primitives.html#pytamaro.de.primitives.rechteck)\n",
    "und\n",
    "[Kreissektoren](https://pytamaro.readthedocs.io/en/stable/German/primitives.html#pytamaro.de.primitives.kreis_sektor).\n",
    "Mit dem Befehl \n",
    "[`zeige_grafik()`](https://pytamaro.readthedocs.io/en/stable/German/io.html#pytamaro.de.io.zeige_grafik)\n",
    "kann eine Grafik angezigt werden.\n",
    "\n",
    ">Beispiel: `zeige_grafik(name_der_grafik)`\n",
    "\n",
    "Zeichnen Sie in der folgenden Code Zelle die erforderlichne Einzelteile.\n",
    "Die Proportionen für das Wappen können Sie der folgenden Abbildung\n",
    "entnehmen:\n",
    "\n",
    "![Proportionen](../images/MetalSheetWithMeasures.png)"
   ]
  },
  {
   "cell_type": "code",
   "execution_count": 1,
   "metadata": {},
   "outputs": [
    {
     "data": {
      "image/png": "[encoded data removed]",
      "text/plain": [
       "<PIL.PngImagePlugin.PngImageFile image mode=RGBA size=50x70>"
      ]
     },
     "metadata": {},
     "output_type": "display_data"
    },
    {
     "data": {
      "image/png": "[encoded data removed]",
      "text/plain": [
       "<PIL.PngImagePlugin.PngImageFile image mode=RGBA size=50x70>"
      ]
     },
     "metadata": {},
     "output_type": "display_data"
    },
    {
     "data": {
      "image/png": "[encoded data removed]",
      "text/plain": [
       "<PIL.PngImagePlugin.PngImageFile image mode=RGBA size=50x50>"
      ]
     },
     "metadata": {},
     "output_type": "display_data"
    },
    {
     "data": {
      "image/png": "[encoded data removed]",
      "text/plain": [
       "<PIL.PngImagePlugin.PngImageFile image mode=RGBA size=50x50>"
      ]
     },
     "metadata": {},
     "output_type": "display_data"
    }
   ],
   "source": [
    "\"\"\"\n",
    "Um die nötigen Befehle in PyTamaro verwenden zu können, müssen diese\n",
    "zuerst importiert werden. Dies geschieht mit dem folgenden Befehl.\n",
    "\"\"\"\n",
    "from pytamaro.de import (rechteck, kreis_sektor,\n",
    "                         rot, blau,\n",
    "                         zeige_grafik)\n",
    "\n",
    "rechteck_rot = rechteck(50, 70, rot)\n",
    "rechteck_blau = rechteck(50, 70, blau)\n",
    "kreissektor_rot = kreis_sektor(50, 90, rot)\n",
    "kreissektor_blau = kreis_sektor(50, 90, blau)\n",
    "\n",
    "zeige_grafik(rechteck_rot)\n",
    "zeige_grafik(rechteck_blau)\n",
    "zeige_grafik(kreissektor_rot)\n",
    "zeige_grafik(kreissektor_blau)"
   ]
  },
  {
   "cell_type": "markdown",
   "metadata": {},
   "source": [
    "### Zusammenbau des Wappens aus den Einzelteilen\n",
    "\n",
    "Um das Wappen aus den Einzelteilen zusammenbauen zu können, brauchen wir\n",
    "neben den Formen noch Befehle, mit denen wir die Teilgrafiken\n",
    "manipulieren können. Die Rechtecke müssen wir nebeneinander anordnen,\n",
    "die Kreissektoren zuerst noch drehen und dann nebeneinander anordnen und\n",
    "zum Schluss müssen wir die so entstandenen Teilgrafiken noch\n",
    "übereinander anordnen.\n",
    "\n",
    "PyTamaro verfügt über die Befehle\n",
    "[`neben()`](https://pytamaro.readthedocs.io/en/stable/German/operations.html#pytamaro.de.operations.neben),\n",
    "[`drehe()`](https://pytamaro.readthedocs.io/en/stable/German/operations.html#pytamaro.de.operations.drehe)\n",
    "sowie\n",
    "[`ueber()`](https://pytamaro.readthedocs.io/en/stable/German/operations.html#pytamaro.de.operations.ueber).\n",
    "\n",
    "In der folgenden Code Zelle werden zuerst die Befehle importiert,\n",
    "anschliessend können Sie das Wappen zusammenbauen."
   ]
  },
  {
   "cell_type": "code",
   "execution_count": 2,
   "metadata": {},
   "outputs": [
    {
     "data": {
      "image/png": "[encoded data removed]",
      "text/plain": [
       "<PIL.PngImagePlugin.PngImageFile image mode=RGBA size=100x120>"
      ]
     },
     "metadata": {},
     "output_type": "display_data"
    }
   ],
   "source": [
    "from pytamaro.de import (neben, drehe, ueber)\n",
    "\n",
    "top = neben(rechteck_rot, rechteck_blau)\n",
    "\n",
    "kreissektor_rot_gedreht = drehe(180, kreissektor_rot)\n",
    "kreissektor_blau_gedreht = drehe(270, kreissektor_blau)\n",
    "\n",
    "bottom = neben(kreissektor_rot_gedreht, kreissektor_blau_gedreht)\n",
    "\n",
    "TI = ueber(top, bottom)\n",
    "\n",
    "zeige_grafik(TI)"
   ]
  },
  {
   "cell_type": "markdown",
   "metadata": {},
   "source": [
    "## Schweizerfahne\n",
    "\n",
    "Die Dimensionen der Schweizerfahne richten sich nach dem Bundesgesetz\n",
    "über den Schutz des Schweizerwappens und anderer öffentlicher Zeichen\n",
    "(Wappenschutzgesetz,\n",
    "[WSchG](https://www.fedlex.admin.ch/eli/oc/2015/613/de)). Der Anhang 2 des WSchG regelt sowohl die\n",
    "Masse wie auch die Farbe der Schweizerfahne.\n",
    "\n",
    "Es wäre wohl möglich, mit den bisherigen Werkzeugen eine Schweizerfahne\n",
    "zu zeichnen. Allerdings brauchte man dann viele Einzelteile. Zum Glück\n",
    "stellt PyTamaro neben den bereits erwähnten Werkzeugen noch eine\n",
    "Funktion\n",
    "[`ueberlagere()`](https://pytamaro.readthedocs.io/en/stable/German/operations.html#pytamaro.de.operations.ueberlagere)\n",
    "zur Verfügung. Mit deren Hilfe ist es möglich, die Schweizerfahne mit\n",
    "blos zwei verschiedenen Teilgrafiken zusammenzustellen."
   ]
  },
  {
   "cell_type": "code",
   "execution_count": 6,
   "metadata": {},
   "outputs": [
    {
     "data": {
      "image/png": "[encoded data removed]",
      "text/plain": [
       "<PIL.PngImagePlugin.PngImageFile image mode=RGBA size=100x100>"
      ]
     },
     "metadata": {},
     "output_type": "display_data"
    }
   ],
   "source": [
    "from pytamaro.de import (ueberlagere,\n",
    "                         weiss)\n",
    "\n",
    "hintergrund = rechteck(100, 100, rot)\n",
    "\n",
    "balken = rechteck(100/32*20, 100/32*6, weiss)\n",
    "\n",
    "balken_senkrecht = drehe(90, balken)\n",
    "\n",
    "kreuz = ueberlagere(balken, balken_senkrecht)\n",
    "\n",
    "schweizer_fahne = ueberlagere(kreuz, hintergrund)\n",
    "\n",
    "zeige_grafik(schweizer_fahne)"
   ]
  },
  {
   "cell_type": "markdown",
   "metadata": {},
   "source": [
    "Kann dieser Code so umformuliert werden, dass eine korrekt\n",
    "proportionierte Schweizerfahne mit beliebiger Kantenlänge gezeichnet wird?"
   ]
  },
  {
   "cell_type": "code",
   "execution_count": 10,
   "metadata": {},
   "outputs": [
    {
     "data": {
      "image/png": "[encoded data removed]",
      "text/plain": [
       "<PIL.PngImagePlugin.PngImageFile image mode=RGBA size=500x500>"
      ]
     },
     "metadata": {},
     "output_type": "display_data"
    }
   ],
   "source": [
    "from pytamaro.de import (rechteck, Grafik,\n",
    "                         drehe, ueberlagere, zeige_grafik,\n",
    "                         rot, weiss)\n",
    "def swiss_flag(width : float) -> Grafik:\n",
    "    background = rechteck(width, width, rot)\n",
    "    balken     = rechteck(width/32*20, width/32*6, weiss)\n",
    "    balken_senkrecht = drehe(90, balken)\n",
    "    kreuz = ueberlagere(balken, balken_senkrecht)\n",
    "    flag = ueberlagere(kreuz, background)\n",
    "    zeige_grafik(flag)\n",
    "    return flag\n",
    "\n",
    "schweizer_fahne = swiss_flag(500)"
   ]
  },
  {
   "cell_type": "markdown",
   "metadata": {},
   "source": [
    "## Taijitu\n",
    "\n",
    "Nach den Übungen mit hoheitlichen Symbolen zum Abschluss ein eher\n",
    "philosophisches Symbol:\n",
    "\n",
    "![Taijitu](../images/Yin_yang.svg)\n",
    "\n",
    "Zeichnen Sie das Taijitu nach. Gehen Sie dabei gleich vor wie bisher."
   ]
  },
  {
   "cell_type": "code",
   "execution_count": 17,
   "metadata": {},
   "outputs": [
    {
     "data": {
      "image/png": "[encoded data removed]",
      "text/plain": [
       "<PIL.PngImagePlugin.PngImageFile image mode=RGBA size=200x200>"
      ]
     },
     "metadata": {},
     "output_type": "display_data"
    }
   ],
   "source": [
    "from pytamaro.de import (ellipse, kreis_sektor,\n",
    "                         drehe, neben, ueberlagere, ueber,\n",
    "                         weiss, schwarz,\n",
    "                         zeige_grafik)\n",
    "\n",
    "radius = 100\n",
    "background = ellipse(radius * 2, radius * 2, schwarz)\n",
    "black_circle = ellipse(radius-1, radius-1, schwarz)\n",
    "white_circle = ellipse(radius-1, radius-1, weiss)\n",
    "white_dot = ellipse(radius/3, radius/3, weiss)\n",
    "black_dot = ellipse(radius/3, radius/3, schwarz)\n",
    "black_dotted_circle = ueberlagere(white_dot, black_circle)\n",
    "white_dotted_circle = ueberlagere(black_dot, white_circle)\n",
    "dotted_circles = ueber(white_dotted_circle, black_dotted_circle)\n",
    "black_half = drehe(90, kreis_sektor(radius-1, 180, schwarz))\n",
    "white_half = drehe(-90, kreis_sektor(radius-1, 180, weiss))\n",
    "two_halfs = neben(black_half, white_half)\n",
    "two_halfs_framed = ueberlagere(two_halfs, background)\n",
    "taijiu = ueberlagere(dotted_circles, two_halfs_framed)\n",
    "zeige_grafik(taijiu)"
   ]
  }
 ],
 "metadata": {
  "kernelspec": {
   "display_name": ".venv",
   "language": "python",
   "name": "python3"
  },
  "language_info": {
   "codemirror_mode": {
    "name": "ipython",
    "version": 3
   },
   "file_extension": ".py",
   "mimetype": "text/x-python",
   "name": "python",
   "nbconvert_exporter": "python",
   "pygments_lexer": "ipython3",
   "version": "3.11.4"
  },
  "orig_nbformat": 4
 },
 "nbformat": 4,
 "nbformat_minor": 2
}
