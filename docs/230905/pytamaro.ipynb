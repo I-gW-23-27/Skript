{
 "cells": [
  {
   "cell_type": "markdown",
   "metadata": {},
   "source": [
    "# Grafiken erstellen mit PyTamaro\n",
    "\n",
    "Dieses Notbook basiert auf der \n",
    "[Einführung in\n",
    "PyTamaro](https://pytamaro.si.usi.ch/curricula/luce/welcome)\n",
    "der Università de\n",
    "la Svizzera italiana (usi)."
   ]
  },
  {
   "cell_type": "markdown",
   "metadata": {},
   "source": [
    "## Tessiner Kantonswappen\n",
    "\n",
    "Weil PyTamaro im Tessin entwickelt wird, zeichnen wir zu Ehren des\n",
    "Kantons Tessin als erstes ein Tessiner Wappen.\n",
    "\n",
    "![Tessin](../images/ticino-coat-of-arms.svg)\n",
    "\n",
    "PyTamaro kann nur eine beschränkte Anzahl von geometrischen Figuren\n",
    "zeichnen:\n",
    "\n",
    "* Dreiecke\n",
    "* Ellipsen\n",
    "* Kreissektoren\n",
    "* Rechtecke\n",
    "\n",
    "Ausserdem kann jeder Figur nur eine Farbe zugewiesen werden.\n",
    "\n",
    "Sie müssen daher als erstes das Tessiner Wappen in passende Teilgrafiken\n",
    "zerlegen. Erstellen Sie im folgenden Feld eine Liste mit Formen in den\n",
    "jeweiligen Farben, mit denen Sie das Tessiner Wappen zusammenbauen wollen."
   ]
  },
  {
   "cell_type": "markdown",
   "metadata": {},
   "source": [
    "### \"Stückliste Wappen Kanton Tessin\"\n",
    "\n",
    "Erstellen Sie hier eine Stückliste:\n",
    "\n",
    "* erstes Teil\n",
    "* ..."
   ]
  },
  {
   "cell_type": "markdown",
   "metadata": {},
   "source": [
    "### Einzelteile Wappen Kanton Tessin\n",
    "\n",
    "Wie Sie sicher festgestellt haben, brauchen Sie für das Wappen des\n",
    "Kantons Tessin Rechtecke und Kreissektoren in den Farben rot und blau.\n",
    "\n",
    "Hier finden Sie die Anleitung zum Zeichnen von\n",
    "[Rechtecken](https://pytamaro.readthedocs.io/en/stable/German/primitives.html#pytamaro.de.primitives.rechteck)\n",
    "und\n",
    "[Kreissektoren](https://pytamaro.readthedocs.io/en/stable/German/primitives.html#pytamaro.de.primitives.kreis_sektor).\n",
    "Mit dem Befehl \n",
    "[`zeige_grafik()`](https://pytamaro.readthedocs.io/en/stable/German/io.html#pytamaro.de.io.zeige_grafik)\n",
    "kann eine Grafik angezigt werden.\n",
    "\n",
    ">Beispiel: `zeige_grafik(name_der_grafik)`\n",
    "\n",
    "Zeichnen Sie in der folgenden Code Zelle die erforderlichne Einzelteile.\n",
    "Die Proportionen für das Wappen können Sie der folgenden Abbildung\n",
    "entnehmen:\n",
    "\n",
    "![Proportionen](../images/MetalSheetWithMeasures.png)"
   ]
  },
  {
   "cell_type": "code",
   "execution_count": 2,
   "metadata": {},
   "outputs": [],
   "source": [
    "\"\"\"\n",
    "Um die nötigen Befehle in PyTamaro verwenden zu können, müssen diese\n",
    "zuerst importiert werden. Dies geschieht mit dem folgenden Befehl.\n",
    "\"\"\"\n",
    "from pytamaro.de import (rechteck, kreis_sektor,\n",
    "                         rot, blau,\n",
    "                         zeige_grafik)\n",
    "\n",
    "# hier kommt Ihr Code hin"
   ]
  },
  {
   "cell_type": "markdown",
   "metadata": {},
   "source": [
    "### Zusammenbau des Wappens aus den Einzelteilen\n",
    "\n",
    "Um das Wappen aus den Einzelteilen zusammenbauen zu können, brauchen wir\n",
    "neben den Formen noch Befehle, mit denen wir die Teilgrafiken\n",
    "manipulieren können. Die Rechtecke müssen wir nebeneinander anordnen,\n",
    "die Kreissektoren zuerst noch drehen und dann nebeneinander anordnen und\n",
    "zum Schluss müssen wir die so entstandenen Teilgrafiken noch\n",
    "übereinander anordnen.\n",
    "\n",
    "PyTamaro verfügt über die Befehle\n",
    "[`neben()`](https://pytamaro.readthedocs.io/en/stable/German/operations.html#pytamaro.de.operations.neben),\n",
    "[`drehe()`](https://pytamaro.readthedocs.io/en/stable/German/operations.html#pytamaro.de.operations.drehe)\n",
    "sowie\n",
    "[`ueber()`](https://pytamaro.readthedocs.io/en/stable/German/operations.html#pytamaro.de.operations.ueber).\n",
    "\n",
    "In der folgenden Code Zelle werden zuerst die Befehle importiert,\n",
    "anschliessend können Sie das Wappen zusammenbauen."
   ]
  },
  {
   "cell_type": "code",
   "execution_count": 3,
   "metadata": {},
   "outputs": [],
   "source": [
    "from pytamaro.de import (neben, drehe, ueber)\n",
    "\n",
    "# hier kommt Ihr Code hin"
   ]
  },
  {
   "cell_type": "markdown",
   "metadata": {},
   "source": [
    "## Schweizerfahne\n",
    "\n",
    "Die Dimensionen der Schweizerfahne richten sich nach dem Bundesgesetz\n",
    "über den Schutz des Schweizerwappens und anderer öffentlicher Zeichen\n",
    "(Wappenschutzgesetz,\n",
    "[WSchG](https://www.fedlex.admin.ch/eli/oc/2015/613/de)). Der Anhang 2 des WSchG regelt sowohl die\n",
    "Masse wie auch die Farbe der Schweizerfahne.\n",
    "\n",
    "Es wäre wohl möglich, mit den bisherigen Werkzeugen eine Schweizerfahne\n",
    "zu zeichnen. Allerdings brauchte man dann viele Einzelteile. Zum Glück\n",
    "stellt PyTamaro neben den bereits erwähnten Werkzeugen noch eine\n",
    "Funktion\n",
    "[`ueberlagere()`](https://pytamaro.readthedocs.io/en/stable/German/operations.html#pytamaro.de.operations.ueberlagere)\n",
    "zur Verfügung. Mit deren Hilfe ist es möglich, die Schweizerfahne mit\n",
    "blos zwei verschiedenen Teilgrafiken zusammenzustellen."
   ]
  },
  {
   "cell_type": "code",
   "execution_count": 4,
   "metadata": {},
   "outputs": [],
   "source": [
    "from pytamaro.de import (ueberlagere,\n",
    "                         weiss)\n",
    "\n",
    "# hier kommt Ihr Code hin"
   ]
  },
  {
   "cell_type": "markdown",
   "metadata": {},
   "source": [
    "Kann dieser Code so umformuliert werden, dass eine korrekt\n",
    "proportionierte Schweizerfahne mit beliebiger Kantenlänge gezeichnet wird?"
   ]
  },
  {
   "cell_type": "code",
   "execution_count": 5,
   "metadata": {},
   "outputs": [],
   "source": [
    "from pytamaro.de import (rechteck, Grafik,\n",
    "                         drehe, ueberlagere, zeige_grafik,\n",
    "                         rot, weiss)\n",
    "\n",
    "# hier kommt Ihr Code hin"
   ]
  },
  {
   "cell_type": "markdown",
   "metadata": {},
   "source": [
    "## Taijitu\n",
    "\n",
    "Nach den Übungen mit hoheitlichen Symbolen zum Abschluss ein eher\n",
    "philosophisches Symbol:\n",
    "\n",
    "![Taijitu](../images/Yin_yang.svg)\n",
    "\n",
    "Zeichnen Sie das Taijitu nach. Gehen Sie dabei gleich vor wie bisher."
   ]
  },
  {
   "cell_type": "code",
   "execution_count": 6,
   "metadata": {},
   "outputs": [],
   "source": [
    "from pytamaro.de import (ellipse, kreis_sektor,\n",
    "                         drehe, neben, ueberlagere, ueber,\n",
    "                         weiss, schwarz,\n",
    "                         zeige_grafik)\n",
    "\n",
    "# hier kommt Ihr Code hin"
   ]
  }
 ],
 "metadata": {
  "kernelspec": {
   "display_name": ".venv",
   "language": "python",
   "name": "python3"
  },
  "language_info": {
   "codemirror_mode": {
    "name": "ipython",
    "version": 3
   },
   "file_extension": ".py",
   "mimetype": "text/x-python",
   "name": "python",
   "nbconvert_exporter": "python",
   "pygments_lexer": "ipython3",
   "version": "3.11.4"
  },
  "orig_nbformat": 4
 },
 "nbformat": 4,
 "nbformat_minor": 2
}
