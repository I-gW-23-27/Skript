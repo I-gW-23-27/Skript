{
  "cells": [
    {
      "cell_type": "markdown",
      "metadata": {},
      "source": [
        "<a target=\"_blank\" href=\"https://colab.research.google.com/github/I-gW-23-27/Skript/blob/main/docs/240604/240604_bst_anwendung.ipynb\">\n",
        "  <img src=\"https://colab.research.google.com/assets/colab-badge.svg\" alt=\"Open In Colab\"/>\n",
        "</a>"
      ]
    },
    {
      "cell_type": "code",
      "execution_count": 1,
      "metadata": {
        "id": "2AV04xy5P5AZ"
      },
      "outputs": [],
      "source": [
        "class Node:\n",
        "    def __init__(self, key,\n",
        "                 value=None, parent=None, left=None, right=None):\n",
        "        self.key    = key\n",
        "        self.value  = value\n",
        "        self.parent = parent\n",
        "        self.left   = left\n",
        "        self.right  = right"
      ]
    },
    {
      "cell_type": "code",
      "execution_count": null,
      "metadata": {
        "id": "m7WLfHwiQP8O"
      },
      "outputs": [],
      "source": [
        "class BST:\n",
        "    def __init__(self, key, value = None):\n",
        "        if key == None:\n",
        "            self.root = None\n",
        "        else:\n",
        "            self.root = Node(key, value)\n",
        "\n",
        "    def insert(self, key, value = None):\n",
        "        node = Node(key)\n",
        "\n",
        "        if self.root is None:\n",
        "            self.root = node\n",
        "            return\n",
        "\n",
        "        ref = self.root\n",
        "\n",
        "        if node.key <= ref.key and ref.left is None:\n",
        "            ref.left = node\n",
        "            node.parent = ref\n",
        "            return\n",
        "\n",
        "        elif node.key <= ref.key:\n",
        "            while ref.left:\n",
        "                ref = ref.left\n",
        "            ref.left = node\n",
        "            node.parent = ref\n",
        "            return\n",
        "\n",
        "        elif node.key > ref.key and ref.right is None:\n",
        "            ref.right = node\n",
        "            node.parent = ref\n",
        "            return\n",
        "\n",
        "        else:\n",
        "            while ref.right:\n",
        "                ref = ref.right\n",
        "            ref.right = node\n",
        "            node.parent = ref.right\n",
        "            return\n",
        "\n",
        "    def search(self, key, ref=None):\n",
        "\n",
        "        if self.root is None:\n",
        "            return\n",
        "\n",
        "        if ref is None:\n",
        "            ref = self.root\n",
        "\n",
        "        if key == ref.key:\n",
        "            return ref\n",
        "\n",
        "        elif key < ref.key and ref.left:\n",
        "            return self.search(key, ref.left)\n",
        "\n",
        "        elif key < ref.key:\n",
        "            return\n",
        "\n",
        "        elif key > ref.key and ref.right:\n",
        "            return self.search(key, ref.right)\n",
        "\n",
        "        else:\n",
        "            return\n",
        "\n",
        "    def delete(self, key):\n",
        "        to_delete = self.search(key)\n",
        "        if to_delete is None:\n",
        "            return  # Schlüssel nicht gefunden\n",
        "\n",
        "        parent = to_delete.parent\n",
        "\n",
        "        ## Node is leaf\n",
        "        if to_delete.left is None and to_delete.right is None:\n",
        "            if to_delete == self.root:\n",
        "                self.root = None\n",
        "            elif key < parent.key:\n",
        "                parent.left = None\n",
        "            else:\n",
        "                parent.right = None\n",
        "            return\n",
        "\n",
        "        ## Node has one child\n",
        "        if to_delete.left is None:\n",
        "            if to_delete == self.root:\n",
        "                self.root = to_delete.right\n",
        "                self.root.parent = None\n",
        "            else:\n",
        "                if key < parent.key:\n",
        "                    parent.left = to_delete.right\n",
        "                else:\n",
        "                    parent.right = to_delete.right\n",
        "                to_delete.right.parent = parent\n",
        "            return\n",
        "\n",
        "        elif to_delete.right is None:\n",
        "            if to_delete == self.root:\n",
        "                self.root = to_delete.left\n",
        "                self.root.parent = None\n",
        "            else:\n",
        "                if key < parent.key:\n",
        "                    parent.left = to_delete.left\n",
        "                else:\n",
        "                    parent.right = to_delete.left\n",
        "                to_delete.left.parent = parent\n",
        "            return\n",
        "\n",
        "        ## Node has two children\n",
        "        else:\n",
        "            successor = self.get_min(to_delete.right)\n",
        "            to_delete.key = successor.key\n",
        "            to_delete.value = successor.value\n",
        "            if successor.key < successor.parent.key:\n",
        "                successor.parent.left = None\n",
        "            else:\n",
        "                successor.parent.right = None\n",
        "\n",
        "    def get_min(self, node):\n",
        "        current = node\n",
        "        while current.left is not None:\n",
        "            current = current.left\n",
        "        return current"
      ]
    },
    {
      "cell_type": "code",
      "execution_count": 3,
      "metadata": {
        "id": "2BA5ieTlUd1R"
      },
      "outputs": [],
      "source": [
        "class Student:\n",
        "    def __init__(self, birthday, name, given_name):\n",
        "        self.birthday   = birthday\n",
        "        self.name       = name\n",
        "        self.given_name = given_name"
      ]
    },
    {
      "cell_type": "code",
      "execution_count": 13,
      "metadata": {
        "id": "sn78f8-rWjtc"
      },
      "outputs": [],
      "source": [
        "given_names = [\"Riccardo\",\"Kisha\",\"Nadja\",\"Licia\",\"Emil\",\"Emilia\",\"Till\",\"Muriel\",\n",
        "         \"Sophia\",\"Moritz\",\"Flynn\",\"Angelos\",\"Erika\",\"Leon\",\"Lian\",\"Robin\",\n",
        "         \"Mark\",\"Dennis\",\"Leo\",\"Lukas\",\"Milla\",\"Klara\",\"Maximilian\",\"Ilario\"]\n",
        "\n",
        "names = [\"Ambühl\",\"Brändle\",\"Burekovic\",\"Glück\",\"Graf\",\"Grob\",\"Häfeli\",\"Häne\",\"Hiestand\",\"Kämpfer\",\"Klesser\",\"Ntellis\",\"Palmujoki\",\"Pavlovic\",\"Pérez Vila\",\"Van Seumeren\",\"Vetsch\",\"Von Euw\",\"von Siebenthal\",\"Wackerl\",\"Wiasmitinow\",\"Widmer\",\"Wosnitza\",\"Wyler\"\n",
        "]\n",
        "\n",
        "birthdays =[12062008,25072009,10072008,20052008,21012009,8022008,18112008,9042009,18112007,4112008,31082007,15062008,11102008,17102008,27092008,17012009,3042008,9052008,16092007,5052008,27012009,8022009,9062009,25092008]"
      ]
    }
  ],
  "metadata": {
    "colab": {
      "provenance": []
    },
    "kernelspec": {
      "display_name": "Python 3",
      "name": "python3"
    },
    "language_info": {
      "name": "python"
    }
  },
  "nbformat": 4,
  "nbformat_minor": 0
}
