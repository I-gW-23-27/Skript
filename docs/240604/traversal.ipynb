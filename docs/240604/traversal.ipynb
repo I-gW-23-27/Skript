{
 "cells": [
  {
   "cell_type": "code",
   "execution_count": 1,
   "metadata": {},
   "outputs": [],
   "source": [
    "from tree import Node, BST"
   ]
  },
  {
   "cell_type": "code",
   "execution_count": 79,
   "metadata": {},
   "outputs": [],
   "source": [
    "numbers = [50, 32, 66, 40, 42, 38, 20, 46, 60, 73]\n",
    "baum = BST(45)\n",
    "for n in numbers:\n",
    "    baum.insert(n)"
   ]
  },
  {
   "cell_type": "code",
   "execution_count": 77,
   "metadata": {},
   "outputs": [],
   "source": [
    "def in_order_traversal(tree, node=None, result=None):\n",
    "    if result is None:\n",
    "        result = []\n",
    "    \n",
    "    if tree.root is None:\n",
    "        return result\n",
    "    \n",
    "    if node is None:\n",
    "        node = tree.root\n",
    "\n",
    "    if node.left:\n",
    "        in_order_traversal(tree, node.left, result)\n",
    "    \n",
    "    result.append(node.key)\n",
    "    \n",
    "    if node.right:\n",
    "        in_order_traversal(tree, node.right, result)\n",
    "    \n",
    "    return result"
   ]
  },
  {
   "cell_type": "code",
   "execution_count": 78,
   "metadata": {},
   "outputs": [
    {
     "name": "stdout",
     "output_type": "stream",
     "text": [
      "result [5, 10, 45, 50]\n",
      "│   ┌── 50\n",
      "└── 45\n",
      "    └── 10\n",
      "        └── 5\n",
      "\n"
     ]
    }
   ],
   "source": [
    "t = BST(45)\n",
    "t.insert(10)\n",
    "t.insert(5)\n",
    "t.insert(50)\n",
    "r = in_order_traversal(t)\n",
    "print(f'result {r}')\n",
    "print(t.to_ascii())\n"
   ]
  },
  {
   "cell_type": "code",
   "execution_count": 80,
   "metadata": {},
   "outputs": [
    {
     "name": "stdout",
     "output_type": "stream",
     "text": [
      "[20, 32, 38, 40, 42, 45, 46, 50, 60, 66, 73]\n"
     ]
    }
   ],
   "source": [
    "order = in_order_traversal(baum)\n",
    "print(order)"
   ]
  }
 ],
 "metadata": {
  "kernelspec": {
   "display_name": ".venv",
   "language": "python",
   "name": "python3"
  },
  "language_info": {
   "codemirror_mode": {
    "name": "ipython",
    "version": 3
   },
   "file_extension": ".py",
   "mimetype": "text/x-python",
   "name": "python",
   "nbconvert_exporter": "python",
   "pygments_lexer": "ipython3",
   "version": "3.11.9"
  }
 },
 "nbformat": 4,
 "nbformat_minor": 2
}
