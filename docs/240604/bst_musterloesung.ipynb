{
 "cells": [
  {
   "cell_type": "markdown",
   "metadata": {},
   "source": [
    "# Binary Search Tree\n",
    "\n",
    "In diesem Notebook geht es darum, Schritt für Schritt einen binären\n",
    "Suchbaum in Python zu implementieren.\n",
    "\n",
    "In einer ersten Zelle werden alle erforderlichen Python Libraries für dieses Projekt improtiert."
   ]
  },
  {
   "cell_type": "code",
   "execution_count": null,
   "metadata": {},
   "outputs": [],
   "source": [
    "import iplantuml\n",
    "import pandas as pd"
   ]
  },
  {
   "cell_type": "markdown",
   "metadata": {},
   "source": [
    "## UML Klassendiagramm"
   ]
  },
  {
   "cell_type": "code",
   "execution_count": null,
   "metadata": {
    "tags": [
     "hide_input"
    ]
   },
   "outputs": [],
   "source": [
    "%%plantuml\n",
    "@startuml\n",
    "left to right direction\n",
    "skinparam classSterotype \"\"\n",
    "\n",
    "class Node {\n",
    "    + key: int\n",
    "    + value: Object\n",
    "    - parent: Node\n",
    "    - left: Node\n",
    "    - right: Node\n",
    "\n",
    "}\n",
    "\n",
    "class BST {\n",
    "    + root: Node\n",
    "    + search()\n",
    "    + insert()\n",
    "    + delete()\n",
    "    + traverse()\n",
    "}\n",
    "\n",
    "BST --o Node\n",
    "\n",
    "@enduml"
   ]
  },
  {
   "cell_type": "markdown",
   "metadata": {},
   "source": [
    "## Node\n",
    "\n",
    "Die Implementierung eines Knotens für einen binären Suchbaum in Python findet sich in der folgenden Zelle."
   ]
  },
  {
   "cell_type": "code",
   "execution_count": 1,
   "metadata": {},
   "outputs": [],
   "source": [
    "class Node:\n",
    "    def __init__(self, key,\n",
    "                 value=None, parent=None, left=None, right=None):\n",
    "        self.key = key\n",
    "        self.value = value\n",
    "        self.parent = parent\n",
    "        self.left = left\n",
    "        self.right = right"
   ]
  },
  {
   "cell_type": "markdown",
   "metadata": {},
   "source": [
    "## Implementierung BST\n",
    "\n",
    "Die Implementierung der Klasse BST erfolgt Schrittweise.\n",
    "\n",
    "1. Implementierung als Klasse ohne Methoden\n",
    "2. Implementierung der Methode `insert()`\n",
    "3. Implementierung der Methode `search()`\n",
    "4. Implementierung der Methode `delete()`\n",
    "5. Implementierung der Mehtode `traverse()`"
   ]
  },
  {
   "cell_type": "markdown",
   "metadata": {},
   "source": [
    "### Implementierung der Klasse BST ohne Methoden\n",
    "\n",
    "In einem ersten Schritt wird die Klass BST nur mit einem Konstruktor implementiert."
   ]
  },
  {
   "cell_type": "code",
   "execution_count": null,
   "metadata": {},
   "outputs": [],
   "source": [
    "class BST:\n",
    "    def __init__(self, key = None, value = None):\n",
    "        if key == None:\n",
    "            self.root = None\n",
    "        else:\n",
    "            self.root = Node(key, value)"
   ]
  },
  {
   "cell_type": "markdown",
   "metadata": {},
   "source": [
    "### Implementierung der Methode `insert()`\n",
    "\n",
    "Obwohl die Datenstruktur binärer **Suchbaum** heisst, wird als erstes\n",
    "die Methode `insert()` implementiert. Ohne diese Methode können der\n",
    "Datenstruktur keine Knoten hinzugefügt werden. Ohne Knoten ist die\n",
    "Datenstrukur sinnlos.\n",
    "\n",
    "Bei der Implementierung ist an folgende Fälle zu denken:\n",
    "\n",
    "1. Einfügen eines Knoten als Wurzelknoten;\n",
    "2. einfügen eines Knoten mit einem Key kleiner als der Key des\n",
    "   Vergleichsknotens in jenen Fällen, in denen der Vergleichsknoten noch\n",
    "   keinen linken Kindknoten hat;\n",
    "3. einfügen eines Knoten mit einem Key kleiner als der Key des\n",
    "   Vergleichskontens in jenen Fällen, in denen der Vergleichskonten über\n",
    "   einen linken Kindknoten verfügt;\n",
    "4. einfügen eines Knoten mit einem Key grösser als der Key des\n",
    "   Vergleichsknotens in jenen Fällen, in denen der Vergleichsknoten kein\n",
    "   rechtes Kind hat sowie\n",
    "5. einfügen eines Knoten mit einem Key grösser als der Key des\n",
    "   Vergleichsknotens in jenen Fällen, in denen der Vergleichsknoten über\n",
    "   ein rechtes Kind verfügt."
   ]
  },
  {
   "cell_type": "code",
   "execution_count": null,
   "metadata": {},
   "outputs": [],
   "source": [
    "%%plantuml\n",
    "\n",
    "@startuml\n",
    "start\n",
    "\n",
    "if (root == null) then (yes)\n",
    "    :root = new Node(value);\n",
    "else (no)\n",
    "    :node = root;\n",
    "    while (node != null)\n",
    "        if (value < node.value) then (yes)\n",
    "            if (node.left == null) then (yes)\n",
    "                :node.left = new Node(value);\n",
    "                stop\n",
    "            else (no)\n",
    "                :node = node.left;\n",
    "            endif\n",
    "        else (no)\n",
    "            if (value > node.value) then (yes)\n",
    "                if (node.right == null) then (yes)\n",
    "                    :node.right = new Node(value);\n",
    "                    stop\n",
    "                else (no)\n",
    "                    :node = node.right;\n",
    "                endif\n",
    "            else (no)\n",
    "                :value already exists in the tree;\n",
    "                stop\n",
    "            endif\n",
    "        endif\n",
    "    endwhile\n",
    "endif\n",
    "\n",
    "stop\n",
    "@enduml\n"
   ]
  },
  {
   "cell_type": "code",
   "execution_count": null,
   "metadata": {},
   "outputs": [],
   "source": [
    "class BST:\n",
    "    def __init__(self, root=None):\n",
    "        self.root = root\n",
    "\n",
    "    def insert(self, key, value=None, root=None):\n",
    "\n",
    "        node = Node(key, value)\n",
    "\n",
    "        if self.root is None:\n",
    "            self.root = node\n",
    "            return\n",
    "\n",
    "        if root is None:\n",
    "            ref = self.root\n",
    "\n",
    "        if node.key <= ref.key and ref.left is None:\n",
    "            ref.left = node\n",
    "            node.parent    = ref\n",
    "            return\n",
    "\n",
    "        elif node.key <= ref.key:\n",
    "            ref = ref.left\n",
    "            return self.insert(key, value, root=ref)\n",
    "\n",
    "        elif node.key > ref.key and ref.right is None:\n",
    "            ref.right = node\n",
    "            node.parent     = ref\n",
    "            return\n",
    "\n",
    "        else:\n",
    "            ref = ref.right\n",
    "            return self.insert(key, value, root=ref)"
   ]
  },
  {
   "cell_type": "markdown",
   "metadata": {},
   "source": [
    "### Implementierung der Methode `search()`\n",
    "\n",
    "Die Methode `search()` sucht nach einem Knoten mit einem gegebenen Key.\n",
    "Sie gibt None zurück, wenn nichts gefunden wird, wenn der Key gefunden\n",
    "wird gibt den Knoten zurück.  \n",
    "In einem Flussdiagramm sieht die Methode `search()` folgendermassen aus:"
   ]
  },
  {
   "cell_type": "code",
   "execution_count": null,
   "metadata": {},
   "outputs": [],
   "source": [
    "%%plantuml\n",
    "\n",
    "@startuml\n",
    "start\n",
    "\n",
    ":searchNode(root, key);\n",
    "if (root == null) then (yes)\n",
    "    :return null;\n",
    "    stop\n",
    "else (no)\n",
    "    if (root.key == key) then (yes)\n",
    "        :return root;\n",
    "        stop\n",
    "    else (no)\n",
    "        if (key < root.key) then (yes)\n",
    "            :return searchNode(root.left, key);\n",
    "            stop\n",
    "        else (no)\n",
    "            :return searchNode(root.right, key);\n",
    "            stop\n",
    "        endif\n",
    "    endif\n",
    "endif\n",
    "\n",
    "\n",
    "@enduml\n"
   ]
  },
  {
   "cell_type": "code",
   "execution_count": null,
   "metadata": {},
   "outputs": [],
   "source": [
    "class BST:\n",
    "    def __init__(self, key=None, value=None):\n",
    "        if key == None:\n",
    "            self.root = None\n",
    "        else:\n",
    "            self.root = Node(key, value)\n",
    "\n",
    "    def search(self, key, ref=None):\n",
    "\n",
    "        if self.root is None:\n",
    "            return\n",
    "        \n",
    "        if ref is None:\n",
    "            ref = self.root\n",
    "\n",
    "        if key == ref.key:\n",
    "            return ref\n",
    "        \n",
    "        elif key < ref.key and ref.left:\n",
    "            return self.search(key, ref.left)\n",
    "        \n",
    "        elif key < ref.key:\n",
    "            return\n",
    "        \n",
    "        elif key > ref.key and ref.right:\n",
    "            return self.search(key, ref.right)\n",
    "        \n",
    "        else:\n",
    "            return\n",
    "        \n",
    "        \n",
    "\n",
    "    def insert(self, key, value=None, ref=None):\n",
    "\n",
    "        node = Node(key, value)\n",
    "\n",
    "        if self.root is None:\n",
    "            self.root = node\n",
    "            return\n",
    "\n",
    "        if ref is None:\n",
    "            ref = self.root\n",
    "\n",
    "        if key <= ref.key and ref.left is None:\n",
    "            ref.left = node\n",
    "            node.parent    = ref\n",
    "            return\n",
    "\n",
    "        elif key <= ref.key:\n",
    "            ref = ref.left\n",
    "            return self.insert(key, value, ref)\n",
    "\n",
    "        elif key > ref.key and ref.right is None:\n",
    "            ref.right = node\n",
    "            node.parent     = ref\n",
    "            return\n",
    "\n",
    "        else:\n",
    "            ref = ref.right\n",
    "            return self.insert(key, value, ref)"
   ]
  },
  {
   "cell_type": "code",
   "execution_count": 4,
   "metadata": {},
   "outputs": [],
   "source": [
    "baum = BST(45)"
   ]
  },
  {
   "cell_type": "code",
   "execution_count": 5,
   "metadata": {},
   "outputs": [],
   "source": [
    "numbers = [55, 38, 32, 40]\n",
    "for n in numbers:\n",
    "    baum.insert(n)\n",
    "\n"
   ]
  },
  {
   "cell_type": "code",
   "execution_count": null,
   "metadata": {},
   "outputs": [],
   "source": [
    "result = baum.search(101)\n",
    "print(result)"
   ]
  },
  {
   "cell_type": "markdown",
   "metadata": {},
   "source": [
    "### Implementierung der Methode `delete()`\n",
    "\n",
    "Um einen Knoten löschen zu können, muss er zuerst gefunden werden. Dann\n",
    "können drei Fälle unterschieden werden:\n",
    "\n",
    "1. Der Knoten ist ein Blatt;\n",
    "2. der Knoten hat ein Kind oder\n",
    "3. der Knoten hat zwei Kinder."
   ]
  },
  {
   "cell_type": "code",
   "execution_count": 2,
   "metadata": {},
   "outputs": [],
   "source": [
    "class BST:\n",
    "    def __init__(self, key = None, value = None):\n",
    "        if key == None:\n",
    "            self.root = None\n",
    "        else:\n",
    "            self.root = Node(key, value)\n",
    "\n",
    "    def search(self, key, ref=None):\n",
    "        if self.root is None:\n",
    "            return None\n",
    "      \n",
    "        if ref is None:\n",
    "            ref = self.root\n",
    "\n",
    "        if key == ref.key:\n",
    "            return ref\n",
    "        \n",
    "        elif key < ref.key and ref.left is None:\n",
    "            return None\n",
    "        \n",
    "        elif key < ref.key:\n",
    "            return self.search(key, ref.left)\n",
    "        \n",
    "        elif key > ref.key and ref.right is None:\n",
    "            return None\n",
    "        \n",
    "        else:\n",
    "            return self.search(key, ref.right)      \n",
    "        \n",
    "\n",
    "    def insert(self, key, value=None, root=None):\n",
    "\n",
    "        node = Node(key, value)\n",
    "\n",
    "        if self.root is None:\n",
    "            self.root = node\n",
    "            return\n",
    "\n",
    "        if root is None:\n",
    "            root = self.root\n",
    "\n",
    "        if node.key <= root.key and root.left is None:\n",
    "            root.left = node\n",
    "            node.parent    = root\n",
    "            return\n",
    "\n",
    "        elif node.key <= root.key:\n",
    "            root = root.left\n",
    "            return self.insert(key, value=None, root=root)\n",
    "\n",
    "        elif node.key > root.key and root.right is None:\n",
    "            root.right = node\n",
    "            node.parent     = root\n",
    "            return\n",
    "\n",
    "        else:\n",
    "            root = root.right\n",
    "            return self.insert(key, value=None, root=root)\n",
    "        \n",
    "    def delete(self, key):\n",
    "        to_delete = self.search(key)\n",
    "        if to_delete is None:\n",
    "            return  # Schlüssel nicht gefunden\n",
    "\n",
    "        parent = to_delete.parent\n",
    "\n",
    "        ## Node is leaf\n",
    "        if to_delete.left is None and to_delete.right is None:\n",
    "            if to_delete == self.root:\n",
    "                self.root = None\n",
    "            elif key < parent.key:\n",
    "                parent.left = None\n",
    "            else:\n",
    "                parent.right = None\n",
    "            return\n",
    "        \n",
    "        ## Node has one child\n",
    "        if to_delete.left is None:\n",
    "            if to_delete == self.root:\n",
    "                self.root = to_delete.right\n",
    "                self.root.parent = None\n",
    "            else:\n",
    "                if key < parent.key:\n",
    "                    parent.left = to_delete.right\n",
    "                else:\n",
    "                    parent.right = to_delete.right\n",
    "                to_delete.right.parent = parent\n",
    "            return\n",
    "        \n",
    "        elif to_delete.right is None:\n",
    "            if to_delete == self.root:\n",
    "                self.root = to_delete.left\n",
    "                self.root.parent = None\n",
    "            else:\n",
    "                if key < parent.key:\n",
    "                    parent.left = to_delete.left\n",
    "                else:\n",
    "                    parent.right = to_delete.left\n",
    "                to_delete.left.parent = parent\n",
    "            return\n",
    "        \n",
    "        ## Node has two children\n",
    "        else:\n",
    "            successor = self.get_min(to_delete.right)\n",
    "            to_delete.key = successor.key\n",
    "            to_delete.value = successor.value\n",
    "            if successor.key < successor.parent.key:\n",
    "                successor.parent.left = None\n",
    "            else:\n",
    "                successor.parent.right = None\n",
    "            \n",
    "    def get_min(self, node):\n",
    "        current = node\n",
    "        while current.left is not None:\n",
    "            current = current.left\n",
    "        return current\n",
    "    \n",
    "    # Durch perplexity.ai erzeugter Code um den Baum als\n",
    "    # ASCI-Art auszugeben\n",
    "    def to_ascii(self):\n",
    "        if self.root is None:\n",
    "            return \"\"\n",
    "        return self._to_ascii(self.root, \"\", True, \"\")\n",
    "\n",
    "    def _to_ascii(self, node, prefix, is_tail, result):\n",
    "        if node.right is not None:\n",
    "            new_prefix = prefix + (\"│   \" if is_tail else \"    \")\n",
    "            result = self._to_ascii(node.right, new_prefix, False, result)\n",
    "        result += prefix + (\"└── \" if is_tail else \"┌── \") + str(node.key) + \"\\n\"\n",
    "        if node.left is not None:\n",
    "            new_prefix = prefix + (\"    \" if is_tail else \"│   \")\n",
    "            result = self._to_ascii(node.left, new_prefix, True, result)\n",
    "        return result"
   ]
  },
  {
   "cell_type": "markdown",
   "metadata": {},
   "source": [
    "Die Klasse BST kann so als Ablageort für Dateien verwendet werden."
   ]
  },
  {
   "cell_type": "markdown",
   "metadata": {},
   "source": [
    "## Anwendung BST\n",
    "\n",
    "Um den binären Suchbaum tatsächlich zu verwenden, werden im kommenden\n",
    "Beispiel Schülerinnen und Schüler in einem solchen Baum einsortiert."
   ]
  },
  {
   "cell_type": "markdown",
   "metadata": {},
   "source": [
    "### Klasse Student\n",
    "\n",
    "Um in einem Knoten einen Wert zu hinterlgen wird eine Klasse `Student` implementiert."
   ]
  },
  {
   "cell_type": "code",
   "execution_count": null,
   "metadata": {},
   "outputs": [],
   "source": [
    "%%plantuml\n",
    "@startuml\n",
    "class Student {\n",
    "    + nmbr: int\n",
    "    + name: str\n",
    "    + prename: str\n",
    "}\n",
    "@enduml"
   ]
  },
  {
   "cell_type": "code",
   "execution_count": 15,
   "metadata": {},
   "outputs": [],
   "source": [
    "def inorder_traversal(root):\n",
    "    \"\"\"\n",
    "    Führt eine Inorder-Traversierung für einen binären Suchbaum durch.\n",
    "    Gibt eine Liste mit den Werten der Knoten in der Reihenfolge der Traversierung zurück.\n",
    "    \"\"\"\n",
    "    result = []\n",
    "    \n",
    "    def traverse(node):\n",
    "        if node:\n",
    "            # Traversiere den linken Teilbaum\n",
    "            traverse(node.left)\n",
    "            # Besuche den aktuellen Knoten\n",
    "            result.append(node.key)\n",
    "            # Traversiere den rechten Teilbaum\n",
    "            traverse(node.right)\n",
    "    \n",
    "    # Starte die Traversierung mit der Wurzel\n",
    "    traverse(root)\n",
    "    return result"
   ]
  },
  {
   "cell_type": "code",
   "execution_count": 16,
   "metadata": {},
   "outputs": [],
   "source": [
    "sortiert = inorder_traversal(baum.root)"
   ]
  },
  {
   "cell_type": "code",
   "execution_count": 17,
   "metadata": {},
   "outputs": [
    {
     "data": {
      "text/plain": [
       "[32, 38, 40, 45, 55]"
      ]
     },
     "execution_count": 17,
     "metadata": {},
     "output_type": "execute_result"
    }
   ],
   "source": [
    "sortiert"
   ]
  },
  {
   "cell_type": "code",
   "execution_count": null,
   "metadata": {},
   "outputs": [],
   "source": []
  }
 ],
 "metadata": {
  "celltoolbar": "Tags",
  "kernelspec": {
   "display_name": "Python 3 (ipykernel)",
   "language": "python",
   "name": "python3"
  },
  "language_info": {
   "codemirror_mode": {
    "name": "ipython",
    "version": 3
   },
   "file_extension": ".py",
   "mimetype": "text/x-python",
   "name": "python",
   "nbconvert_exporter": "python",
   "pygments_lexer": "ipython3",
   "version": "3.11.9"
  }
 },
 "nbformat": 4,
 "nbformat_minor": 2
}
