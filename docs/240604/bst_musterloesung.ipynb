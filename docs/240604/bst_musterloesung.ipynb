{
 "cells": [
  {
   "cell_type": "markdown",
   "metadata": {},
   "source": [
    "# Binary Search Tree\n",
    "\n",
    "In diesem Notebook geht es darum, Schritt für Schritt einen binären\n",
    "Suchbaum in Python zu implementieren.\n",
    "\n",
    "In einer ersten Zelle werden alle erforderlichen Python Libraries für dieses Projekt improtiert."
   ]
  },
  {
   "cell_type": "code",
   "execution_count": 4,
   "metadata": {},
   "outputs": [],
   "source": [
    "import iplantuml\n",
    "import pandas as pd"
   ]
  },
  {
   "cell_type": "markdown",
   "metadata": {},
   "source": [
    "## UML Klassendiagramm"
   ]
  },
  {
   "cell_type": "code",
   "execution_count": 5,
   "metadata": {
    "tags": [
     "hide_input"
    ]
   },
   "outputs": [
    {
     "data": {
      "image/svg+xml": [
       "<svg xmlns=\"http://www.w3.org/2000/svg\" xmlns:xlink=\"http://www.w3.org/1999/xlink\" contentStyleType=\"text/css\" height=\"143px\" preserveAspectRatio=\"none\" style=\"width:291px;height:143px;background:#FFFFFF;\" version=\"1.1\" viewBox=\"0 0 291 143\" width=\"291px\" zoomAndPan=\"magnify\"><defs/><g><!--class Node--><g id=\"elem_Node\"><rect codeLine=\"4\" fill=\"#F1F1F1\" height=\"129.4844\" id=\"Node\" rx=\"2.5\" ry=\"2.5\" style=\"stroke:#181818;stroke-width:0.5;\" width=\"117\" x=\"167\" y=\"7\"/><ellipse cx=\"203.6\" cy=\"23\" fill=\"#ADD1B2\" rx=\"11\" ry=\"11\" style=\"stroke:#181818;stroke-width:1.0;\"/><path d=\"M206.5688,28.6406 Q205.9906,28.9375 205.35,29.0781 Q204.7094,29.2344 204.0063,29.2344 Q201.5063,29.2344 200.1781,27.5938 Q198.8656,25.9375 198.8656,22.8125 Q198.8656,19.6875 200.1781,18.0313 Q201.5063,16.375 204.0063,16.375 Q204.7094,16.375 205.35,16.5313 Q206.0063,16.6875 206.5688,16.9844 L206.5688,19.7031 Q205.9438,19.125 205.35,18.8594 Q204.7563,18.5781 204.1313,18.5781 Q202.7875,18.5781 202.1,19.6563 Q201.4125,20.7188 201.4125,22.8125 Q201.4125,24.9063 202.1,25.9844 Q202.7875,27.0469 204.1313,27.0469 Q204.7563,27.0469 205.35,26.7813 Q205.9438,26.5 206.5688,25.9219 L206.5688,28.6406 Z \" fill=\"#000000\"/><text fill=\"#000000\" font-family=\"sans-serif\" font-size=\"14\" lengthAdjust=\"spacing\" textLength=\"37\" x=\"222.4\" y=\"27.8467\">Node</text><line style=\"stroke:#181818;stroke-width:0.5;\" x1=\"168\" x2=\"283\" y1=\"39\" y2=\"39\"/><ellipse cx=\"178\" cy=\"52.6484\" fill=\"none\" rx=\"3\" ry=\"3\" style=\"stroke:#038048;stroke-width:1.0;\"/><text fill=\"#000000\" font-family=\"sans-serif\" font-size=\"14\" lengthAdjust=\"spacing\" textLength=\"50\" x=\"187\" y=\"55.9951\">key: int</text><ellipse cx=\"178\" cy=\"68.9453\" fill=\"none\" rx=\"3\" ry=\"3\" style=\"stroke:#038048;stroke-width:1.0;\"/><text fill=\"#000000\" font-family=\"sans-serif\" font-size=\"14\" lengthAdjust=\"spacing\" textLength=\"90\" x=\"187\" y=\"72.292\">value: Object</text><rect fill=\"none\" height=\"6\" style=\"stroke:#C82930;stroke-width:1.0;\" width=\"6\" x=\"175\" y=\"82.2422\"/><text fill=\"#000000\" font-family=\"sans-serif\" font-size=\"14\" lengthAdjust=\"spacing\" textLength=\"91\" x=\"187\" y=\"88.5889\">parent: Node</text><rect fill=\"none\" height=\"6\" style=\"stroke:#C82930;stroke-width:1.0;\" width=\"6\" x=\"175\" y=\"98.5391\"/><text fill=\"#000000\" font-family=\"sans-serif\" font-size=\"14\" lengthAdjust=\"spacing\" textLength=\"67\" x=\"187\" y=\"104.8857\">left: Node</text><rect fill=\"none\" height=\"6\" style=\"stroke:#C82930;stroke-width:1.0;\" width=\"6\" x=\"175\" y=\"114.8359\"/><text fill=\"#000000\" font-family=\"sans-serif\" font-size=\"14\" lengthAdjust=\"spacing\" textLength=\"77\" x=\"187\" y=\"121.1826\">right: Node</text><line style=\"stroke:#181818;stroke-width:0.5;\" x1=\"168\" x2=\"283\" y1=\"128.4844\" y2=\"128.4844\"/></g><!--class BST--><g id=\"elem_BST\"><rect codeLine=\"13\" fill=\"#F1F1F1\" height=\"129.4844\" id=\"BST\" rx=\"2.5\" ry=\"2.5\" style=\"stroke:#181818;stroke-width:0.5;\" width=\"100\" x=\"7\" y=\"7\"/><ellipse cx=\"40\" cy=\"23\" fill=\"#ADD1B2\" rx=\"11\" ry=\"11\" style=\"stroke:#181818;stroke-width:1.0;\"/><path d=\"M42.9688,28.6406 Q42.3906,28.9375 41.75,29.0781 Q41.1094,29.2344 40.4063,29.2344 Q37.9063,29.2344 36.5781,27.5938 Q35.2656,25.9375 35.2656,22.8125 Q35.2656,19.6875 36.5781,18.0313 Q37.9063,16.375 40.4063,16.375 Q41.1094,16.375 41.75,16.5313 Q42.4063,16.6875 42.9688,16.9844 L42.9688,19.7031 Q42.3438,19.125 41.75,18.8594 Q41.1563,18.5781 40.5313,18.5781 Q39.1875,18.5781 38.5,19.6563 Q37.8125,20.7188 37.8125,22.8125 Q37.8125,24.9063 38.5,25.9844 Q39.1875,27.0469 40.5313,27.0469 Q41.1563,27.0469 41.75,26.7813 Q42.3438,26.5 42.9688,25.9219 L42.9688,28.6406 Z \" fill=\"#000000\"/><text fill=\"#000000\" font-family=\"sans-serif\" font-size=\"14\" lengthAdjust=\"spacing\" textLength=\"28\" x=\"58\" y=\"27.8467\">BST</text><line style=\"stroke:#181818;stroke-width:0.5;\" x1=\"8\" x2=\"106\" y1=\"39\" y2=\"39\"/><ellipse cx=\"18\" cy=\"52.6484\" fill=\"none\" rx=\"3\" ry=\"3\" style=\"stroke:#038048;stroke-width:1.0;\"/><text fill=\"#000000\" font-family=\"sans-serif\" font-size=\"14\" lengthAdjust=\"spacing\" textLength=\"74\" x=\"27\" y=\"55.9951\">root: Node</text><line style=\"stroke:#181818;stroke-width:0.5;\" x1=\"8\" x2=\"106\" y1=\"63.2969\" y2=\"63.2969\"/><ellipse cx=\"18\" cy=\"76.9453\" fill=\"#84BE84\" rx=\"3\" ry=\"3\" style=\"stroke:#038048;stroke-width:1.0;\"/><text fill=\"#000000\" font-family=\"sans-serif\" font-size=\"14\" lengthAdjust=\"spacing\" textLength=\"57\" x=\"27\" y=\"80.292\">search()</text><ellipse cx=\"18\" cy=\"93.2422\" fill=\"#84BE84\" rx=\"3\" ry=\"3\" style=\"stroke:#038048;stroke-width:1.0;\"/><text fill=\"#000000\" font-family=\"sans-serif\" font-size=\"14\" lengthAdjust=\"spacing\" textLength=\"49\" x=\"27\" y=\"96.5889\">insert()</text><ellipse cx=\"18\" cy=\"109.5391\" fill=\"#84BE84\" rx=\"3\" ry=\"3\" style=\"stroke:#038048;stroke-width:1.0;\"/><text fill=\"#000000\" font-family=\"sans-serif\" font-size=\"14\" lengthAdjust=\"spacing\" textLength=\"54\" x=\"27\" y=\"112.8857\">delete()</text><ellipse cx=\"18\" cy=\"125.8359\" fill=\"#84BE84\" rx=\"3\" ry=\"3\" style=\"stroke:#038048;stroke-width:1.0;\"/><text fill=\"#000000\" font-family=\"sans-serif\" font-size=\"14\" lengthAdjust=\"spacing\" textLength=\"66\" x=\"27\" y=\"129.1826\">traverse()</text></g><!--link BST to Node--><g id=\"link_BST_Node\"><path codeLine=\"21\" d=\"M107.05,71.74 C125.76,71.74 135.25,71.74 154.7,71.74 \" fill=\"none\" id=\"BST-to-Node\" style=\"stroke:#181818;stroke-width:1.0;\"/><polygon fill=\"none\" points=\"166.7,71.74,160.7,67.74,154.7,71.74,160.7,75.74,166.7,71.74\" style=\"stroke:#181818;stroke-width:1.0;\"/></g><!--SRC=[LOv13e8m44NtFSM4bOPmWIuzW2xm0XM-KgajcOuan7XtIrE9pkw_vBy_3bSX2SJsDWZrbj693Lx5qVh9i7bGvqoChO23B1EegfJAY8wX1xqKfQjfnAB9UYbnDku9JQVBFVaoQoZfu4NdNa4khV-1_4OXwlrTEhJdROX3-AtK566u6tRx4gsFODbY3mV15eND38uhIFRLspGXspu0]--></g></svg>"
      ],
      "text/plain": [
       "<IPython.core.display.SVG object>"
      ]
     },
     "execution_count": 5,
     "metadata": {},
     "output_type": "execute_result"
    }
   ],
   "source": [
    "%%plantuml\n",
    "@startuml\n",
    "left to right direction\n",
    "skinparam classSterotype \"\"\n",
    "\n",
    "class Node {\n",
    "    + key: int\n",
    "    + value: Object\n",
    "    - parent: Node\n",
    "    - left: Node\n",
    "    - right: Node\n",
    "\n",
    "}\n",
    "\n",
    "class BST {\n",
    "    + root: Node\n",
    "    + search()\n",
    "    + insert()\n",
    "    + delete()\n",
    "    + traverse()\n",
    "}\n",
    "\n",
    "BST --o Node\n",
    "\n",
    "@enduml"
   ]
  },
  {
   "cell_type": "markdown",
   "metadata": {},
   "source": [
    "## Node\n",
    "\n",
    "Die Implementierung eines Knotens für einen binären Suchbaum in Python findet sich in der folgenden Zelle."
   ]
  },
  {
   "cell_type": "code",
   "execution_count": 1,
   "metadata": {},
   "outputs": [],
   "source": [
    "class Node:\n",
    "    def __init__(self, key,\n",
    "                 value=None, parent=None, left=None, right=None):\n",
    "        self.key = key\n",
    "        self.value = value\n",
    "        self.parent = parent\n",
    "        self.left = left\n",
    "        self.right = right"
   ]
  },
  {
   "cell_type": "markdown",
   "metadata": {},
   "source": [
    "## Implementierung BST\n",
    "\n",
    "Die Implementierung der Klasse BST erfolgt Schrittweise.\n",
    "\n",
    "1. Implementierung als Klasse ohne Methoden\n",
    "2. Implementierung der Methode `insert()`\n",
    "3. Implementierung der Methode `search()`\n",
    "4. Implementierung der Methode `delete()`\n",
    "5. Implementierung der Mehtode `traverse()`"
   ]
  },
  {
   "cell_type": "markdown",
   "metadata": {},
   "source": [
    "### Implementierung der Klasse BST ohne Methoden\n",
    "\n",
    "In einem ersten Schritt wird die Klass BST nur mit einem Konstruktor implementiert."
   ]
  },
  {
   "cell_type": "code",
   "execution_count": 3,
   "metadata": {},
   "outputs": [],
   "source": [
    "class BST:\n",
    "    def __init__(self, key = None, value = None):\n",
    "        if key == None:\n",
    "            self.root = None\n",
    "        else:\n",
    "            self.root = Node(key, value)"
   ]
  },
  {
   "cell_type": "markdown",
   "metadata": {},
   "source": [
    "### Implementierung der Methode `insert()`\n",
    "\n",
    "Obwohl die Datenstruktur binärer **Suchbaum** heisst, wird als erstes\n",
    "die Methode `insert()` implementiert. Ohne diese Methode können der\n",
    "Datenstruktur keine Knoten hinzugefügt werden. Ohne Knoten ist die\n",
    "Datenstrukur sinnlos.\n",
    "\n",
    "Bei der Implementierung ist an folgende Fälle zu denken:\n",
    "\n",
    "1. Einfügen eines Knoten als Wurzelknoten;\n",
    "2. einfügen eines Knoten mit einem Key kleiner als der Key des\n",
    "   Vergleichsknotens in jenen Fällen, in denen der Vergleichsknoten noch\n",
    "   keinen linken Kindknoten hat;\n",
    "3. einfügen eines Knoten mit einem Key kleiner als der Key des\n",
    "   Vergleichskontens in jenen Fällen, in denen der Vergleichskonten über\n",
    "   einen linken Kindknoten verfügt;\n",
    "4. einfügen eines Knoten mit einem Key grösser als der Key des\n",
    "   Vergleichsknotens in jenen Fällen, in denen der Vergleichsknoten kein\n",
    "   rechtes Kind hat sowie\n",
    "5. einfügen eines Knoten mit einem Key grösser als der Key des\n",
    "   Vergleichsknotens in jenen Fällen, in denen der Vergleichsknoten über\n",
    "   ein rechtes Kind verfügt."
   ]
  },
  {
   "cell_type": "code",
   "execution_count": 11,
   "metadata": {},
   "outputs": [
    {
     "data": {
      "image/svg+xml": [
       "<svg xmlns=\"http://www.w3.org/2000/svg\" xmlns:xlink=\"http://www.w3.org/1999/xlink\" contentStyleType=\"text/css\" height=\"513px\" preserveAspectRatio=\"none\" style=\"width:1222px;height:513px;background:#FFFFFF;\" version=\"1.1\" viewBox=\"0 0 1222 513\" width=\"1222px\" zoomAndPan=\"magnify\"><defs/><g><ellipse cx=\"367.5938\" cy=\"20\" fill=\"#222222\" rx=\"10\" ry=\"10\" style=\"stroke:#222222;stroke-width:1.0;\"/><polygon fill=\"#F1F1F1\" points=\"333.0938,50,402.0938,50,414.0938,62,402.0938,74,333.0938,74,321.0938,62,333.0938,50\" style=\"stroke:#181818;stroke-width:0.5;\"/><text fill=\"#000000\" font-family=\"sans-serif\" font-size=\"11\" lengthAdjust=\"spacing\" textLength=\"69\" x=\"333.0938\" y=\"65.8081\">root == null</text><text fill=\"#000000\" font-family=\"sans-serif\" font-size=\"11\" lengthAdjust=\"spacing\" textLength=\"20\" x=\"301.0938\" y=\"59.4058\">yes</text><text fill=\"#000000\" font-family=\"sans-serif\" font-size=\"11\" lengthAdjust=\"spacing\" textLength=\"14\" x=\"414.0938\" y=\"59.4058\">no</text><rect fill=\"#F1F1F1\" height=\"33.9688\" rx=\"12.5\" ry=\"12.5\" style=\"stroke:#181818;stroke-width:0.5;\" width=\"169\" x=\"11\" y=\"84\"/><text fill=\"#000000\" font-family=\"sans-serif\" font-size=\"12\" lengthAdjust=\"spacing\" textLength=\"149\" x=\"21\" y=\"105.1387\">root = new Node(value)</text><rect fill=\"#F1F1F1\" height=\"33.9688\" rx=\"12.5\" ry=\"12.5\" style=\"stroke:#181818;stroke-width:0.5;\" width=\"96\" x=\"601.5\" y=\"84\"/><text fill=\"#000000\" font-family=\"sans-serif\" font-size=\"12\" lengthAdjust=\"spacing\" textLength=\"76\" x=\"611.5\" y=\"105.1387\">node = root</text><polygon fill=\"#F1F1F1\" points=\"595,181.9688,704,181.9688,716,193.9688,704,205.9688,595,205.9688,583,193.9688,595,181.9688\" style=\"stroke:#181818;stroke-width:0.5;\"/><text fill=\"#000000\" font-family=\"sans-serif\" font-size=\"11\" lengthAdjust=\"spacing\" textLength=\"109\" x=\"595\" y=\"197.7769\">value &lt; node.value</text><text fill=\"#000000\" font-family=\"sans-serif\" font-size=\"11\" lengthAdjust=\"spacing\" textLength=\"20\" x=\"563\" y=\"191.3745\">yes</text><text fill=\"#000000\" font-family=\"sans-serif\" font-size=\"11\" lengthAdjust=\"spacing\" textLength=\"14\" x=\"716\" y=\"191.3745\">no</text><polygon fill=\"#F1F1F1\" points=\"350.75,215.9688,446.75,215.9688,458.75,227.9688,446.75,239.9688,350.75,239.9688,338.75,227.9688,350.75,215.9688\" style=\"stroke:#181818;stroke-width:0.5;\"/><text fill=\"#000000\" font-family=\"sans-serif\" font-size=\"11\" lengthAdjust=\"spacing\" textLength=\"96\" x=\"350.75\" y=\"231.7769\">node.left == null</text><text fill=\"#000000\" font-family=\"sans-serif\" font-size=\"11\" lengthAdjust=\"spacing\" textLength=\"20\" x=\"318.75\" y=\"225.3745\">yes</text><text fill=\"#000000\" font-family=\"sans-serif\" font-size=\"11\" lengthAdjust=\"spacing\" textLength=\"14\" x=\"458.75\" y=\"225.3745\">no</text><rect fill=\"#F1F1F1\" height=\"33.9688\" rx=\"12.5\" ry=\"12.5\" style=\"stroke:#181818;stroke-width:0.5;\" width=\"199\" x=\"208\" y=\"249.9688\"/><text fill=\"#000000\" font-family=\"sans-serif\" font-size=\"12\" lengthAdjust=\"spacing\" textLength=\"179\" x=\"218\" y=\"271.1074\">node.left = new Node(value)</text><ellipse cx=\"307.5\" cy=\"329.9375\" fill=\"none\" rx=\"11\" ry=\"11\" style=\"stroke:#222222;stroke-width:1.0;\"/><ellipse cx=\"307.5\" cy=\"329.9375\" fill=\"#222222\" rx=\"6\" ry=\"6\" style=\"stroke:#222222;stroke-width:1.0;\"/><rect fill=\"#F1F1F1\" height=\"33.9688\" rx=\"12.5\" ry=\"12.5\" style=\"stroke:#181818;stroke-width:0.5;\" width=\"126\" x=\"427\" y=\"249.9688\"/><text fill=\"#000000\" font-family=\"sans-serif\" font-size=\"12\" lengthAdjust=\"spacing\" textLength=\"106\" x=\"437\" y=\"271.1074\">node = node.left</text><polygon fill=\"#F1F1F1\" points=\"871.9375,215.9688,980.9375,215.9688,992.9375,227.9688,980.9375,239.9688,871.9375,239.9688,859.9375,227.9688,871.9375,215.9688\" style=\"stroke:#181818;stroke-width:0.5;\"/><text fill=\"#000000\" font-family=\"sans-serif\" font-size=\"11\" lengthAdjust=\"spacing\" textLength=\"109\" x=\"871.9375\" y=\"231.7769\">value &gt; node.value</text><text fill=\"#000000\" font-family=\"sans-serif\" font-size=\"11\" lengthAdjust=\"spacing\" textLength=\"20\" x=\"839.9375\" y=\"225.3745\">yes</text><text fill=\"#000000\" font-family=\"sans-serif\" font-size=\"11\" lengthAdjust=\"spacing\" textLength=\"14\" x=\"992.9375\" y=\"225.3745\">no</text><polygon fill=\"#F1F1F1\" points=\"724.5625,249.9688,828.5625,249.9688,840.5625,261.9688,828.5625,273.9688,724.5625,273.9688,712.5625,261.9688,724.5625,249.9688\" style=\"stroke:#181818;stroke-width:0.5;\"/><text fill=\"#000000\" font-family=\"sans-serif\" font-size=\"11\" lengthAdjust=\"spacing\" textLength=\"104\" x=\"724.5625\" y=\"265.7769\">node.right == null</text><text fill=\"#000000\" font-family=\"sans-serif\" font-size=\"11\" lengthAdjust=\"spacing\" textLength=\"20\" x=\"692.5625\" y=\"259.3745\">yes</text><text fill=\"#000000\" font-family=\"sans-serif\" font-size=\"11\" lengthAdjust=\"spacing\" textLength=\"14\" x=\"840.5625\" y=\"259.3745\">no</text><rect fill=\"#F1F1F1\" height=\"33.9688\" rx=\"12.5\" ry=\"12.5\" style=\"stroke:#181818;stroke-width:0.5;\" width=\"208\" x=\"576.8125\" y=\"283.9688\"/><text fill=\"#000000\" font-family=\"sans-serif\" font-size=\"12\" lengthAdjust=\"spacing\" textLength=\"188\" x=\"586.8125\" y=\"305.1074\">node.right = new Node(value)</text><ellipse cx=\"680.8125\" cy=\"363.9375\" fill=\"none\" rx=\"11\" ry=\"11\" style=\"stroke:#222222;stroke-width:1.0;\"/><ellipse cx=\"680.8125\" cy=\"363.9375\" fill=\"#222222\" rx=\"6\" ry=\"6\" style=\"stroke:#222222;stroke-width:1.0;\"/><rect fill=\"#F1F1F1\" height=\"33.9688\" rx=\"12.5\" ry=\"12.5\" style=\"stroke:#181818;stroke-width:0.5;\" width=\"135\" x=\"804.8125\" y=\"283.9688\"/><text fill=\"#000000\" font-family=\"sans-serif\" font-size=\"12\" lengthAdjust=\"spacing\" textLength=\"115\" x=\"814.8125\" y=\"305.1074\">node = node.right</text><rect fill=\"#F1F1F1\" height=\"33.9688\" rx=\"12.5\" ry=\"12.5\" style=\"stroke:#181818;stroke-width:0.5;\" width=\"213\" x=\"969.8125\" y=\"249.9688\"/><text fill=\"#000000\" font-family=\"sans-serif\" font-size=\"12\" lengthAdjust=\"spacing\" textLength=\"193\" x=\"979.8125\" y=\"271.1074\">value already exists in the tree</text><ellipse cx=\"1076.3125\" cy=\"329.9375\" fill=\"none\" rx=\"11\" ry=\"11\" style=\"stroke:#222222;stroke-width:1.0;\"/><ellipse cx=\"1076.3125\" cy=\"329.9375\" fill=\"#222222\" rx=\"6\" ry=\"6\" style=\"stroke:#222222;stroke-width:1.0;\"/><polygon fill=\"#F1F1F1\" points=\"649.5,384.9375,661.5,396.9375,649.5,408.9375,637.5,396.9375,649.5,384.9375\" style=\"stroke:#181818;stroke-width:0.5;\"/><polygon fill=\"#F1F1F1\" points=\"615.5,137.9688,683.5,137.9688,695.5,149.9688,683.5,161.9688,615.5,161.9688,603.5,149.9688,615.5,137.9688\" style=\"stroke:#181818;stroke-width:0.5;\"/><text fill=\"#000000\" font-family=\"sans-serif\" font-size=\"11\" lengthAdjust=\"spacing\" textLength=\"68\" x=\"615.5\" y=\"153.7769\">node != null</text><polygon fill=\"#F1F1F1\" points=\"367.5938,436.9375,379.5938,448.9375,367.5938,460.9375,355.5938,448.9375,367.5938,436.9375\" style=\"stroke:#181818;stroke-width:0.5;\"/><ellipse cx=\"367.5938\" cy=\"491.9375\" fill=\"none\" rx=\"11\" ry=\"11\" style=\"stroke:#222222;stroke-width:1.0;\"/><ellipse cx=\"367.5938\" cy=\"491.9375\" fill=\"#222222\" rx=\"6\" ry=\"6\" style=\"stroke:#222222;stroke-width:1.0;\"/><line style=\"stroke:#181818;stroke-width:1.0;\" x1=\"307.5\" x2=\"307.5\" y1=\"283.9375\" y2=\"318.9375\"/><polygon fill=\"#181818\" points=\"303.5,308.9375,307.5,318.9375,311.5,308.9375,307.5,312.9375\" style=\"stroke:#181818;stroke-width:1.0;\"/><line style=\"stroke:#181818;stroke-width:1.0;\" x1=\"338.75\" x2=\"307.5\" y1=\"227.9688\" y2=\"227.9688\"/><line style=\"stroke:#181818;stroke-width:1.0;\" x1=\"307.5\" x2=\"307.5\" y1=\"227.9688\" y2=\"249.9688\"/><polygon fill=\"#181818\" points=\"303.5,239.9688,307.5,249.9688,311.5,239.9688,307.5,243.9688\" style=\"stroke:#181818;stroke-width:1.0;\"/><line style=\"stroke:#181818;stroke-width:1.0;\" x1=\"458.75\" x2=\"490\" y1=\"227.9688\" y2=\"227.9688\"/><line style=\"stroke:#181818;stroke-width:1.0;\" x1=\"490\" x2=\"490\" y1=\"227.9688\" y2=\"249.9688\"/><polygon fill=\"#181818\" points=\"486,239.9688,490,249.9688,494,239.9688,490,243.9688\" style=\"stroke:#181818;stroke-width:1.0;\"/><line style=\"stroke:#181818;stroke-width:1.0;\" x1=\"490\" x2=\"490\" y1=\"283.9375\" y2=\"396.9375\"/><line style=\"stroke:#181818;stroke-width:1.0;\" x1=\"490\" x2=\"637.5\" y1=\"396.9375\" y2=\"396.9375\"/><polygon fill=\"#181818\" points=\"627.5,392.9375,637.5,396.9375,627.5,400.9375,631.5,396.9375\" style=\"stroke:#181818;stroke-width:1.0;\"/><line style=\"stroke:#181818;stroke-width:1.0;\" x1=\"680.8125\" x2=\"680.8125\" y1=\"317.9375\" y2=\"352.9375\"/><polygon fill=\"#181818\" points=\"676.8125,342.9375,680.8125,352.9375,684.8125,342.9375,680.8125,346.9375\" style=\"stroke:#181818;stroke-width:1.0;\"/><line style=\"stroke:#181818;stroke-width:1.0;\" x1=\"712.5625\" x2=\"680.8125\" y1=\"261.9688\" y2=\"261.9688\"/><line style=\"stroke:#181818;stroke-width:1.0;\" x1=\"680.8125\" x2=\"680.8125\" y1=\"261.9688\" y2=\"283.9688\"/><polygon fill=\"#181818\" points=\"676.8125,273.9688,680.8125,283.9688,684.8125,273.9688,680.8125,277.9688\" style=\"stroke:#181818;stroke-width:1.0;\"/><line style=\"stroke:#181818;stroke-width:1.0;\" x1=\"840.5625\" x2=\"872.3125\" y1=\"261.9688\" y2=\"261.9688\"/><line style=\"stroke:#181818;stroke-width:1.0;\" x1=\"872.3125\" x2=\"872.3125\" y1=\"261.9688\" y2=\"283.9688\"/><polygon fill=\"#181818\" points=\"868.3125,273.9688,872.3125,283.9688,876.3125,273.9688,872.3125,277.9688\" style=\"stroke:#181818;stroke-width:1.0;\"/><line style=\"stroke:#181818;stroke-width:1.0;\" x1=\"872.3125\" x2=\"872.3125\" y1=\"317.9375\" y2=\"396.9375\"/><line style=\"stroke:#181818;stroke-width:1.0;\" x1=\"872.3125\" x2=\"661.5\" y1=\"396.9375\" y2=\"396.9375\"/><polygon fill=\"#181818\" points=\"671.5,392.9375,661.5,396.9375,671.5,400.9375,667.5,396.9375\" style=\"stroke:#181818;stroke-width:1.0;\"/><line style=\"stroke:#181818;stroke-width:1.0;\" x1=\"1076.3125\" x2=\"1076.3125\" y1=\"283.9375\" y2=\"318.9375\"/><polygon fill=\"#181818\" points=\"1072.3125,308.9375,1076.3125,318.9375,1080.3125,308.9375,1076.3125,312.9375\" style=\"stroke:#181818;stroke-width:1.0;\"/><line style=\"stroke:#181818;stroke-width:1.0;\" x1=\"859.9375\" x2=\"776.5625\" y1=\"227.9688\" y2=\"227.9688\"/><line style=\"stroke:#181818;stroke-width:1.0;\" x1=\"776.5625\" x2=\"776.5625\" y1=\"227.9688\" y2=\"249.9688\"/><polygon fill=\"#181818\" points=\"772.5625,239.9688,776.5625,249.9688,780.5625,239.9688,776.5625,243.9688\" style=\"stroke:#181818;stroke-width:1.0;\"/><line style=\"stroke:#181818;stroke-width:1.0;\" x1=\"992.9375\" x2=\"1076.3125\" y1=\"227.9688\" y2=\"227.9688\"/><line style=\"stroke:#181818;stroke-width:1.0;\" x1=\"1076.3125\" x2=\"1076.3125\" y1=\"227.9688\" y2=\"249.9688\"/><polygon fill=\"#181818\" points=\"1072.3125,239.9688,1076.3125,249.9688,1080.3125,239.9688,1076.3125,243.9688\" style=\"stroke:#181818;stroke-width:1.0;\"/><line style=\"stroke:#181818;stroke-width:1.0;\" x1=\"583\" x2=\"398.75\" y1=\"193.9688\" y2=\"193.9688\"/><line style=\"stroke:#181818;stroke-width:1.0;\" x1=\"398.75\" x2=\"398.75\" y1=\"193.9688\" y2=\"215.9688\"/><polygon fill=\"#181818\" points=\"394.75,205.9688,398.75,215.9688,402.75,205.9688,398.75,209.9688\" style=\"stroke:#181818;stroke-width:1.0;\"/><line style=\"stroke:#181818;stroke-width:1.0;\" x1=\"716\" x2=\"926.4375\" y1=\"193.9688\" y2=\"193.9688\"/><line style=\"stroke:#181818;stroke-width:1.0;\" x1=\"926.4375\" x2=\"926.4375\" y1=\"193.9688\" y2=\"215.9688\"/><polygon fill=\"#181818\" points=\"922.4375,205.9688,926.4375,215.9688,930.4375,205.9688,926.4375,209.9688\" style=\"stroke:#181818;stroke-width:1.0;\"/><line style=\"stroke:#181818;stroke-width:1.0;\" x1=\"649.5\" x2=\"649.5\" y1=\"161.9688\" y2=\"181.9688\"/><polygon fill=\"#181818\" points=\"645.5,171.9688,649.5,181.9688,653.5,171.9688,649.5,175.9688\" style=\"stroke:#181818;stroke-width:1.0;\"/><line style=\"stroke:#181818;stroke-width:1.0;\" x1=\"649.5\" x2=\"649.5\" y1=\"408.9375\" y2=\"418.9375\"/><line style=\"stroke:#181818;stroke-width:1.0;\" x1=\"649.5\" x2=\"1196.8125\" y1=\"418.9375\" y2=\"418.9375\"/><polygon fill=\"#181818\" points=\"1192.8125,297.4531,1196.8125,287.4531,1200.8125,297.4531,1196.8125,293.4531\" style=\"stroke:#181818;stroke-width:1.0;\"/><line style=\"stroke:#181818;stroke-width:1.0;\" x1=\"1196.8125\" x2=\"1196.8125\" y1=\"149.9688\" y2=\"418.9375\"/><line style=\"stroke:#181818;stroke-width:1.0;\" x1=\"1196.8125\" x2=\"695.5\" y1=\"149.9688\" y2=\"149.9688\"/><polygon fill=\"#181818\" points=\"705.5,145.9688,695.5,149.9688,705.5,153.9688,701.5,149.9688\" style=\"stroke:#181818;stroke-width:1.0;\"/><line style=\"stroke:#181818;stroke-width:1.0;\" x1=\"603.5\" x2=\"194\" y1=\"149.9688\" y2=\"149.9688\"/><polygon fill=\"#181818\" points=\"190,283.4531,194,293.4531,198,283.4531,194,287.4531\" style=\"stroke:#181818;stroke-width:1.0;\"/><line style=\"stroke:#181818;stroke-width:1.0;\" x1=\"194\" x2=\"194\" y1=\"149.9688\" y2=\"430.9375\"/><line style=\"stroke:#181818;stroke-width:1.0;\" x1=\"194\" x2=\"649.5\" y1=\"430.9375\" y2=\"430.9375\"/><line style=\"stroke:#181818;stroke-width:1.0;\" x1=\"649.5\" x2=\"649.5\" y1=\"430.9375\" y2=\"448.9375\"/><line style=\"stroke:#181818;stroke-width:1.0;\" x1=\"649.5\" x2=\"379.5938\" y1=\"448.9375\" y2=\"448.9375\"/><polygon fill=\"#181818\" points=\"389.5938,444.9375,379.5938,448.9375,389.5938,452.9375,385.5938,448.9375\" style=\"stroke:#181818;stroke-width:1.0;\"/><line style=\"stroke:#181818;stroke-width:1.0;\" x1=\"649.5\" x2=\"649.5\" y1=\"117.9688\" y2=\"137.9688\"/><polygon fill=\"#181818\" points=\"645.5,127.9688,649.5,137.9688,653.5,127.9688,649.5,131.9688\" style=\"stroke:#181818;stroke-width:1.0;\"/><line style=\"stroke:#181818;stroke-width:1.0;\" x1=\"321.0938\" x2=\"95.5\" y1=\"62\" y2=\"62\"/><line style=\"stroke:#181818;stroke-width:1.0;\" x1=\"95.5\" x2=\"95.5\" y1=\"62\" y2=\"84\"/><polygon fill=\"#181818\" points=\"91.5,74,95.5,84,99.5,74,95.5,78\" style=\"stroke:#181818;stroke-width:1.0;\"/><line style=\"stroke:#181818;stroke-width:1.0;\" x1=\"414.0938\" x2=\"649.5\" y1=\"62\" y2=\"62\"/><line style=\"stroke:#181818;stroke-width:1.0;\" x1=\"649.5\" x2=\"649.5\" y1=\"62\" y2=\"84\"/><polygon fill=\"#181818\" points=\"645.5,74,649.5,84,653.5,74,649.5,78\" style=\"stroke:#181818;stroke-width:1.0;\"/><line style=\"stroke:#181818;stroke-width:1.0;\" x1=\"95.5\" x2=\"95.5\" y1=\"117.9688\" y2=\"448.9375\"/><line style=\"stroke:#181818;stroke-width:1.0;\" x1=\"95.5\" x2=\"355.5938\" y1=\"448.9375\" y2=\"448.9375\"/><polygon fill=\"#181818\" points=\"345.5938,444.9375,355.5938,448.9375,345.5938,452.9375,349.5938,448.9375\" style=\"stroke:#181818;stroke-width:1.0;\"/><line style=\"stroke:#181818;stroke-width:1.0;\" x1=\"367.5938\" x2=\"367.5938\" y1=\"30\" y2=\"50\"/><polygon fill=\"#181818\" points=\"363.5938,40,367.5938,50,371.5938,40,367.5938,44\" style=\"stroke:#181818;stroke-width:1.0;\"/><line style=\"stroke:#181818;stroke-width:1.0;\" x1=\"367.5938\" x2=\"367.5938\" y1=\"460.9375\" y2=\"480.9375\"/><polygon fill=\"#181818\" points=\"363.5938,470.9375,367.5938,480.9375,371.5938,470.9375,367.5938,474.9375\" style=\"stroke:#181818;stroke-width:1.0;\"/><!--SRC=[ZP9D4eCW38Ntd2BTuQO7qDeZz0xC62ip37G0Qxrz-R5Lf5MpWkJnGZumbcbB26-1QgKir3N8NeW2R8SIw8Yc8E2YZ5MGEC1DDKYVJFHOL0I5GQ1IJJBfQaxcrLN831qNGU3ofyay57puji48Bk0Lv-YwRhwK1vd0zlzLbr4kvFdTrsfZrID9fiDbnjxpuv-weMnuIxPjvk6lHuPF06X-xuuHc2bCP_On_4InZID34fhbrYcN7SGH3XCQMJC2lhYn1hZqquBLY4SUC7s7xywjmiSaCKNymJS0]--></g></svg>"
      ],
      "text/plain": [
       "<IPython.core.display.SVG object>"
      ]
     },
     "execution_count": 11,
     "metadata": {},
     "output_type": "execute_result"
    }
   ],
   "source": [
    "%%plantuml\n",
    "\n",
    "@startuml\n",
    "start\n",
    "\n",
    "if (root == null) then (yes)\n",
    "    :root = new Node(value);\n",
    "else (no)\n",
    "    :node = root;\n",
    "    while (node != null)\n",
    "        if (value < node.value) then (yes)\n",
    "            if (node.left == null) then (yes)\n",
    "                :node.left = new Node(value);\n",
    "                stop\n",
    "            else (no)\n",
    "                :node = node.left;\n",
    "            endif\n",
    "        else (no)\n",
    "            if (value > node.value) then (yes)\n",
    "                if (node.right == null) then (yes)\n",
    "                    :node.right = new Node(value);\n",
    "                    stop\n",
    "                else (no)\n",
    "                    :node = node.right;\n",
    "                endif\n",
    "            else (no)\n",
    "                :value already exists in the tree;\n",
    "                stop\n",
    "            endif\n",
    "        endif\n",
    "    endwhile\n",
    "endif\n",
    "\n",
    "stop\n",
    "@enduml\n"
   ]
  },
  {
   "cell_type": "code",
   "execution_count": null,
   "metadata": {},
   "outputs": [],
   "source": [
    "class BST:\n",
    "    def __init__(self, root=None):\n",
    "        self.root = root\n",
    "\n",
    "    def insert(self, key, value=None, root=None):\n",
    "\n",
    "        node = Node(key, value)\n",
    "\n",
    "        if self.root is None:\n",
    "            self.root = node\n",
    "            return\n",
    "\n",
    "        if root is None:\n",
    "            ref = self.root\n",
    "\n",
    "        if node.key <= ref.key and ref.left is None:\n",
    "            ref.left = node\n",
    "            node.parent    = ref\n",
    "            return\n",
    "\n",
    "        elif node.key <= ref.key:\n",
    "            ref = ref.left\n",
    "            return self.insert(key, value, root=ref)\n",
    "\n",
    "        elif node.key > ref.key and ref.right is None:\n",
    "            ref.right = node\n",
    "            node.parent     = ref\n",
    "            return\n",
    "\n",
    "        else:\n",
    "            ref = ref.right\n",
    "            return self.insert(key, value, root=ref)"
   ]
  },
  {
   "cell_type": "markdown",
   "metadata": {},
   "source": [
    "### Implementierung der Methode `search()`\n",
    "\n",
    "Die Methode `search()` sucht nach einem Knoten mit einem gegebenen Key.\n",
    "Sie gibt None zurück, wenn nichts gefunden wird, wenn der Key gefunden\n",
    "wird gibt den Knoten zurück.  \n",
    "In einem Flussdiagramm sieht die Methode `search()` folgendermassen aus:"
   ]
  },
  {
   "cell_type": "code",
   "execution_count": 13,
   "metadata": {},
   "outputs": [
    {
     "data": {
      "image/svg+xml": [
       "<svg xmlns=\"http://www.w3.org/2000/svg\" xmlns:xlink=\"http://www.w3.org/1999/xlink\" contentStyleType=\"text/css\" height=\"307px\" preserveAspectRatio=\"none\" style=\"width:736px;height:307px;background:#FFFFFF;\" version=\"1.1\" viewBox=\"0 0 736 307\" width=\"736px\" zoomAndPan=\"magnify\"><defs/><g><ellipse cx=\"186.5\" cy=\"20\" fill=\"#222222\" rx=\"10\" ry=\"10\" style=\"stroke:#222222;stroke-width:1.0;\"/><rect fill=\"#F1F1F1\" height=\"33.9688\" rx=\"12.5\" ry=\"12.5\" style=\"stroke:#181818;stroke-width:0.5;\" width=\"161\" x=\"106\" y=\"50\"/><text fill=\"#000000\" font-family=\"sans-serif\" font-size=\"12\" lengthAdjust=\"spacing\" textLength=\"141\" x=\"116\" y=\"71.1387\">searchNode(root, key)</text><polygon fill=\"#F1F1F1\" points=\"152,103.9688,221,103.9688,233,115.9688,221,127.9688,152,127.9688,140,115.9688,152,103.9688\" style=\"stroke:#181818;stroke-width:0.5;\"/><text fill=\"#000000\" font-family=\"sans-serif\" font-size=\"11\" lengthAdjust=\"spacing\" textLength=\"69\" x=\"152\" y=\"119.7769\">root == null</text><text fill=\"#000000\" font-family=\"sans-serif\" font-size=\"11\" lengthAdjust=\"spacing\" textLength=\"20\" x=\"120\" y=\"113.3745\">yes</text><text fill=\"#000000\" font-family=\"sans-serif\" font-size=\"11\" lengthAdjust=\"spacing\" textLength=\"14\" x=\"233\" y=\"113.3745\">no</text><rect fill=\"#F1F1F1\" height=\"33.9688\" rx=\"12.5\" ry=\"12.5\" style=\"stroke:#181818;stroke-width:0.5;\" width=\"85\" x=\"11\" y=\"137.9688\"/><text fill=\"#000000\" font-family=\"sans-serif\" font-size=\"12\" lengthAdjust=\"spacing\" textLength=\"65\" x=\"21\" y=\"159.1074\">return null</text><ellipse cx=\"53.5\" cy=\"217.9375\" fill=\"none\" rx=\"11\" ry=\"11\" style=\"stroke:#222222;stroke-width:1.0;\"/><ellipse cx=\"53.5\" cy=\"217.9375\" fill=\"#222222\" rx=\"6\" ry=\"6\" style=\"stroke:#222222;stroke-width:1.0;\"/><polygon fill=\"#F1F1F1\" points=\"278.1875,137.9688,369.1875,137.9688,381.1875,149.9688,369.1875,161.9688,278.1875,161.9688,266.1875,149.9688,278.1875,137.9688\" style=\"stroke:#181818;stroke-width:0.5;\"/><text fill=\"#000000\" font-family=\"sans-serif\" font-size=\"11\" lengthAdjust=\"spacing\" textLength=\"91\" x=\"278.1875\" y=\"153.7769\">root.key == key</text><text fill=\"#000000\" font-family=\"sans-serif\" font-size=\"11\" lengthAdjust=\"spacing\" textLength=\"20\" x=\"246.1875\" y=\"147.3745\">yes</text><text fill=\"#000000\" font-family=\"sans-serif\" font-size=\"11\" lengthAdjust=\"spacing\" textLength=\"14\" x=\"381.1875\" y=\"147.3745\">no</text><rect fill=\"#F1F1F1\" height=\"33.9688\" rx=\"12.5\" ry=\"12.5\" style=\"stroke:#181818;stroke-width:0.5;\" width=\"89\" x=\"121.8125\" y=\"171.9688\"/><text fill=\"#000000\" font-family=\"sans-serif\" font-size=\"12\" lengthAdjust=\"spacing\" textLength=\"69\" x=\"131.8125\" y=\"193.1074\">return root</text><ellipse cx=\"166.3125\" cy=\"251.9375\" fill=\"none\" rx=\"11\" ry=\"11\" style=\"stroke:#222222;stroke-width:1.0;\"/><ellipse cx=\"166.3125\" cy=\"251.9375\" fill=\"#222222\" rx=\"6\" ry=\"6\" style=\"stroke:#222222;stroke-width:1.0;\"/><polygon fill=\"#F1F1F1\" points=\"440.0625,171.9688,522.0625,171.9688,534.0625,183.9688,522.0625,195.9688,440.0625,195.9688,428.0625,183.9688,440.0625,171.9688\" style=\"stroke:#181818;stroke-width:0.5;\"/><text fill=\"#000000\" font-family=\"sans-serif\" font-size=\"11\" lengthAdjust=\"spacing\" textLength=\"82\" x=\"440.0625\" y=\"187.7769\">key &lt; root.key</text><text fill=\"#000000\" font-family=\"sans-serif\" font-size=\"11\" lengthAdjust=\"spacing\" textLength=\"20\" x=\"408.0625\" y=\"181.3745\">yes</text><text fill=\"#000000\" font-family=\"sans-serif\" font-size=\"11\" lengthAdjust=\"spacing\" textLength=\"14\" x=\"534.0625\" y=\"181.3745\">no</text><rect fill=\"#F1F1F1\" height=\"33.9688\" rx=\"12.5\" ry=\"12.5\" style=\"stroke:#181818;stroke-width:0.5;\" width=\"228\" x=\"240.8125\" y=\"205.9688\"/><text fill=\"#000000\" font-family=\"sans-serif\" font-size=\"12\" lengthAdjust=\"spacing\" textLength=\"208\" x=\"250.8125\" y=\"227.1074\">return searchNode(root.left, key)</text><ellipse cx=\"354.8125\" cy=\"285.9375\" fill=\"none\" rx=\"11\" ry=\"11\" style=\"stroke:#222222;stroke-width:1.0;\"/><ellipse cx=\"354.8125\" cy=\"285.9375\" fill=\"#222222\" rx=\"6\" ry=\"6\" style=\"stroke:#222222;stroke-width:1.0;\"/><rect fill=\"#F1F1F1\" height=\"33.9688\" rx=\"12.5\" ry=\"12.5\" style=\"stroke:#181818;stroke-width:0.5;\" width=\"237\" x=\"488.8125\" y=\"205.9688\"/><text fill=\"#000000\" font-family=\"sans-serif\" font-size=\"12\" lengthAdjust=\"spacing\" textLength=\"217\" x=\"498.8125\" y=\"227.1074\">return searchNode(root.right, key)</text><ellipse cx=\"607.3125\" cy=\"285.9375\" fill=\"none\" rx=\"11\" ry=\"11\" style=\"stroke:#222222;stroke-width:1.0;\"/><ellipse cx=\"607.3125\" cy=\"285.9375\" fill=\"#222222\" rx=\"6\" ry=\"6\" style=\"stroke:#222222;stroke-width:1.0;\"/><line style=\"stroke:#181818;stroke-width:1.0;\" x1=\"186.5\" x2=\"186.5\" y1=\"30\" y2=\"50\"/><polygon fill=\"#181818\" points=\"182.5,40,186.5,50,190.5,40,186.5,44\" style=\"stroke:#181818;stroke-width:1.0;\"/><line style=\"stroke:#181818;stroke-width:1.0;\" x1=\"53.5\" x2=\"53.5\" y1=\"171.9375\" y2=\"206.9375\"/><polygon fill=\"#181818\" points=\"49.5,196.9375,53.5,206.9375,57.5,196.9375,53.5,200.9375\" style=\"stroke:#181818;stroke-width:1.0;\"/><line style=\"stroke:#181818;stroke-width:1.0;\" x1=\"166.3125\" x2=\"166.3125\" y1=\"205.9375\" y2=\"240.9375\"/><polygon fill=\"#181818\" points=\"162.3125,230.9375,166.3125,240.9375,170.3125,230.9375,166.3125,234.9375\" style=\"stroke:#181818;stroke-width:1.0;\"/><line style=\"stroke:#181818;stroke-width:1.0;\" x1=\"354.8125\" x2=\"354.8125\" y1=\"239.9375\" y2=\"274.9375\"/><polygon fill=\"#181818\" points=\"350.8125,264.9375,354.8125,274.9375,358.8125,264.9375,354.8125,268.9375\" style=\"stroke:#181818;stroke-width:1.0;\"/><line style=\"stroke:#181818;stroke-width:1.0;\" x1=\"607.3125\" x2=\"607.3125\" y1=\"239.9375\" y2=\"274.9375\"/><polygon fill=\"#181818\" points=\"603.3125,264.9375,607.3125,274.9375,611.3125,264.9375,607.3125,268.9375\" style=\"stroke:#181818;stroke-width:1.0;\"/><line style=\"stroke:#181818;stroke-width:1.0;\" x1=\"428.0625\" x2=\"354.8125\" y1=\"183.9688\" y2=\"183.9688\"/><line style=\"stroke:#181818;stroke-width:1.0;\" x1=\"354.8125\" x2=\"354.8125\" y1=\"183.9688\" y2=\"205.9688\"/><polygon fill=\"#181818\" points=\"350.8125,195.9688,354.8125,205.9688,358.8125,195.9688,354.8125,199.9688\" style=\"stroke:#181818;stroke-width:1.0;\"/><line style=\"stroke:#181818;stroke-width:1.0;\" x1=\"534.0625\" x2=\"607.3125\" y1=\"183.9688\" y2=\"183.9688\"/><line style=\"stroke:#181818;stroke-width:1.0;\" x1=\"607.3125\" x2=\"607.3125\" y1=\"183.9688\" y2=\"205.9688\"/><polygon fill=\"#181818\" points=\"603.3125,195.9688,607.3125,205.9688,611.3125,195.9688,607.3125,199.9688\" style=\"stroke:#181818;stroke-width:1.0;\"/><line style=\"stroke:#181818;stroke-width:1.0;\" x1=\"266.1875\" x2=\"166.3125\" y1=\"149.9688\" y2=\"149.9688\"/><line style=\"stroke:#181818;stroke-width:1.0;\" x1=\"166.3125\" x2=\"166.3125\" y1=\"149.9688\" y2=\"171.9688\"/><polygon fill=\"#181818\" points=\"162.3125,161.9688,166.3125,171.9688,170.3125,161.9688,166.3125,165.9688\" style=\"stroke:#181818;stroke-width:1.0;\"/><line style=\"stroke:#181818;stroke-width:1.0;\" x1=\"381.1875\" x2=\"481.0625\" y1=\"149.9688\" y2=\"149.9688\"/><line style=\"stroke:#181818;stroke-width:1.0;\" x1=\"481.0625\" x2=\"481.0625\" y1=\"149.9688\" y2=\"171.9688\"/><polygon fill=\"#181818\" points=\"477.0625,161.9688,481.0625,171.9688,485.0625,161.9688,481.0625,165.9688\" style=\"stroke:#181818;stroke-width:1.0;\"/><line style=\"stroke:#181818;stroke-width:1.0;\" x1=\"140\" x2=\"53.5\" y1=\"115.9688\" y2=\"115.9688\"/><line style=\"stroke:#181818;stroke-width:1.0;\" x1=\"53.5\" x2=\"53.5\" y1=\"115.9688\" y2=\"137.9688\"/><polygon fill=\"#181818\" points=\"49.5,127.9688,53.5,137.9688,57.5,127.9688,53.5,131.9688\" style=\"stroke:#181818;stroke-width:1.0;\"/><line style=\"stroke:#181818;stroke-width:1.0;\" x1=\"233\" x2=\"323.6875\" y1=\"115.9688\" y2=\"115.9688\"/><line style=\"stroke:#181818;stroke-width:1.0;\" x1=\"323.6875\" x2=\"323.6875\" y1=\"115.9688\" y2=\"137.9688\"/><polygon fill=\"#181818\" points=\"319.6875,127.9688,323.6875,137.9688,327.6875,127.9688,323.6875,131.9688\" style=\"stroke:#181818;stroke-width:1.0;\"/><line style=\"stroke:#181818;stroke-width:1.0;\" x1=\"186.5\" x2=\"186.5\" y1=\"83.9688\" y2=\"103.9688\"/><polygon fill=\"#181818\" points=\"182.5,93.9688,186.5,103.9688,190.5,93.9688,186.5,97.9688\" style=\"stroke:#181818;stroke-width:1.0;\"/><!--SRC=[ZSzH2iCW30RWzvmYZmgZ1wZh5NQ7iiPL9ZgYVUZjLoqwLygO3nBZpnSIuiWHe0yqyds- -Oa4Unyl-AHLAZ0Qynk70TrYhSGuaqEnKf20s-cPui8kVwhS2T6_W6mW5CxleQ9q6vgaP1-X5ajPLRiPJCKtMk1aNh7mfsvh7nRjBEcwRPklKyyd_oBPFEO_J3SP3Pygtsy0]--></g></svg>"
      ],
      "text/plain": [
       "<IPython.core.display.SVG object>"
      ]
     },
     "execution_count": 13,
     "metadata": {},
     "output_type": "execute_result"
    }
   ],
   "source": [
    "%%plantuml\n",
    "\n",
    "@startuml\n",
    "start\n",
    "\n",
    ":searchNode(root, key);\n",
    "if (root == null) then (yes)\n",
    "    :return null;\n",
    "    stop\n",
    "else (no)\n",
    "    if (root.key == key) then (yes)\n",
    "        :return root;\n",
    "        stop\n",
    "    else (no)\n",
    "        if (key < root.key) then (yes)\n",
    "            :return searchNode(root.left, key);\n",
    "            stop\n",
    "        else (no)\n",
    "            :return searchNode(root.right, key);\n",
    "            stop\n",
    "        endif\n",
    "    endif\n",
    "endif\n",
    "\n",
    "\n",
    "@enduml\n"
   ]
  },
  {
   "cell_type": "code",
   "execution_count": 28,
   "metadata": {},
   "outputs": [],
   "source": [
    "class BST:\n",
    "    def __init__(self, key=None, value=None):\n",
    "        if key == None:\n",
    "            self.root = None\n",
    "        else:\n",
    "            self.root = Node(key, value)\n",
    "\n",
    "    def search(self, key, ref=None):\n",
    "\n",
    "        if self.root is None:\n",
    "            return\n",
    "        \n",
    "        if ref is None:\n",
    "            ref = self.root\n",
    "\n",
    "        if key == ref.key:\n",
    "            return ref\n",
    "        \n",
    "        elif key < ref.key and ref.left:\n",
    "            return self.search(key, ref.left)\n",
    "        \n",
    "        elif key < ref.key:\n",
    "            return\n",
    "        \n",
    "        elif key > ref.key and ref.right:\n",
    "            return self.search(key, ref.right)\n",
    "        \n",
    "        else:\n",
    "            return\n",
    "        \n",
    "        \n",
    "\n",
    "    def insert(self, key, value=None, ref=None):\n",
    "\n",
    "        node = Node(key, value)\n",
    "\n",
    "        if self.root is None:\n",
    "            self.root = node\n",
    "            return\n",
    "\n",
    "        if ref is None:\n",
    "            ref = self.root\n",
    "\n",
    "        if key <= ref.key and ref.left is None:\n",
    "            ref.left = node\n",
    "            node.parent    = ref\n",
    "            return\n",
    "\n",
    "        elif key <= ref.key:\n",
    "            ref = ref.left\n",
    "            return self.insert(key, value, ref)\n",
    "\n",
    "        elif key > ref.key and ref.right is None:\n",
    "            ref.right = node\n",
    "            node.parent     = ref\n",
    "            return\n",
    "\n",
    "        else:\n",
    "            ref = ref.right\n",
    "            return self.insert(key, value, ref)"
   ]
  },
  {
   "cell_type": "code",
   "execution_count": 29,
   "metadata": {},
   "outputs": [],
   "source": [
    "baum = BST(45)"
   ]
  },
  {
   "cell_type": "code",
   "execution_count": 30,
   "metadata": {},
   "outputs": [],
   "source": [
    "numbers = [55, 38, 32, 40]\n",
    "for n in numbers:\n",
    "    baum.insert(n)\n",
    "\n"
   ]
  },
  {
   "cell_type": "code",
   "execution_count": 38,
   "metadata": {},
   "outputs": [
    {
     "name": "stdout",
     "output_type": "stream",
     "text": [
      "None\n"
     ]
    }
   ],
   "source": [
    "result = baum.search(101)\n",
    "print(result)"
   ]
  },
  {
   "cell_type": "markdown",
   "metadata": {},
   "source": [
    "### Implementierung der Methode `delete()`\n",
    "\n",
    "Um einen Knoten löschen zu können, muss er zuerst gefunden werden. Dann\n",
    "können drei Fälle unterschieden werden:\n",
    "\n",
    "1. Der Knoten ist ein Blatt;\n",
    "2. der Knoten hat ein Kind oder\n",
    "3. der Knoten hat zwei Kinder."
   ]
  },
  {
   "cell_type": "code",
   "execution_count": 15,
   "metadata": {},
   "outputs": [],
   "source": [
    "class BST:\n",
    "    def __init__(self, root=None):\n",
    "        self.root = root\n",
    "\n",
    "    def search(self, key, ref=None):\n",
    "        if self.root is None:\n",
    "            return None\n",
    "      \n",
    "        if ref is None:\n",
    "            ref = self.root\n",
    "\n",
    "        if key == ref.key:\n",
    "            return ref\n",
    "        \n",
    "        elif key < ref.key and ref.left is None:\n",
    "            return None\n",
    "        \n",
    "        elif key < ref.key:\n",
    "            return self.search(key, ref.left)\n",
    "        \n",
    "        elif key > ref.key and ref.right is None:\n",
    "            return None\n",
    "        \n",
    "        else:\n",
    "            return self.search(key, ref.right)      \n",
    "        \n",
    "\n",
    "    def insert(self, key, value=None, root=None):\n",
    "\n",
    "        node = Node(key, value)\n",
    "\n",
    "        if self.root is None:\n",
    "            self.root = node\n",
    "            return\n",
    "\n",
    "        if root is None:\n",
    "            root = self.root\n",
    "\n",
    "        if node.key <= root.key and root.left is None:\n",
    "            root.left = node\n",
    "            node.parent    = root\n",
    "            return\n",
    "\n",
    "        elif node.key <= root.key:\n",
    "            root = root.left\n",
    "            return self.insert(key, value=None, root=root)\n",
    "\n",
    "        elif node.key > root.key and root.right is None:\n",
    "            root.right = node\n",
    "            node.parent     = root\n",
    "            return\n",
    "\n",
    "        else:\n",
    "            root = root.right\n",
    "            return self.insert(key, value=None, root=root)\n",
    "        \n",
    "    def delete(self, key):\n",
    "        to_delete = self.search(key)\n",
    "        if to_delete is None:\n",
    "            return  # Schlüssel nicht gefunden\n",
    "\n",
    "        parent = to_delete.parent\n",
    "\n",
    "        ## Node is leaf\n",
    "        if to_delete.left is None and to_delete.right is None:\n",
    "            if to_delete == self.root:\n",
    "                self.root = None\n",
    "            elif key < parent.key:\n",
    "                parent.left = None\n",
    "            else:\n",
    "                parent.right = None\n",
    "            return\n",
    "        \n",
    "        ## Node has one child\n",
    "        if to_delete.left is None:\n",
    "            if to_delete == self.root:\n",
    "                self.root = to_delete.right\n",
    "                self.root.parent = None\n",
    "            else:\n",
    "                if key < parent.key:\n",
    "                    parent.left = to_delete.right\n",
    "                else:\n",
    "                    parent.right = to_delete.right\n",
    "                to_delete.right.parent = parent\n",
    "            return\n",
    "        \n",
    "        elif to_delete.right is None:\n",
    "            if to_delete == self.root:\n",
    "                self.root = to_delete.left\n",
    "                self.root.parent = None\n",
    "            else:\n",
    "                if key < parent.key:\n",
    "                    parent.left = to_delete.left\n",
    "                else:\n",
    "                    parent.right = to_delete.left\n",
    "                to_delete.left.parent = parent\n",
    "            return\n",
    "        \n",
    "        ## Node has two children\n",
    "        else:\n",
    "            successor = self.get_min(to_delete.right)\n",
    "            to_delete.key = successor.key\n",
    "            to_delete.value = successor.value\n",
    "            if successor.key < successor.parent.key:\n",
    "                successor.parent.left = None\n",
    "            else:\n",
    "                successor.parent.right = None\n",
    "            \n",
    "    def get_min(self, node):\n",
    "        current = node\n",
    "        while current.left is not None:\n",
    "            current = current.left\n",
    "        return current\n",
    "    \n",
    "    # Durch perplexity.ai erzeugter Code um den Baum als\n",
    "    # ASCI-Art auszugeben\n",
    "    def to_ascii(self):\n",
    "        if self.root is None:\n",
    "            return \"\"\n",
    "        return self._to_ascii(self.root, \"\", True, \"\")\n",
    "\n",
    "    def _to_ascii(self, node, prefix, is_tail, result):\n",
    "        if node.right is not None:\n",
    "            new_prefix = prefix + (\"│   \" if is_tail else \"    \")\n",
    "            result = self._to_ascii(node.right, new_prefix, False, result)\n",
    "        result += prefix + (\"└── \" if is_tail else \"┌── \") + str(node.key) + \"\\n\"\n",
    "        if node.left is not None:\n",
    "            new_prefix = prefix + (\"    \" if is_tail else \"│   \")\n",
    "            result = self._to_ascii(node.left, new_prefix, True, result)\n",
    "        return result"
   ]
  },
  {
   "cell_type": "markdown",
   "metadata": {},
   "source": [
    "Die Klasse BST kann so als Ablageort für Dateien verwendet werden."
   ]
  },
  {
   "cell_type": "markdown",
   "metadata": {},
   "source": [
    "## Anwendung BST\n",
    "\n",
    "Um den binären Suchbaum tatsächlich zu verwenden, werden im kommenden\n",
    "Beispiel Schülerinnen und Schüler in einem solchen Baum einsortiert."
   ]
  },
  {
   "cell_type": "markdown",
   "metadata": {},
   "source": [
    "### Klasse Student\n",
    "\n",
    "Um in einem Knoten einen Wert zu hinterlgen wird eine Klasse `Student` implementiert."
   ]
  },
  {
   "cell_type": "code",
   "execution_count": 12,
   "metadata": {},
   "outputs": [
    {
     "data": {
      "image/svg+xml": [
       "<svg xmlns=\"http://www.w3.org/2000/svg\" xmlns:xlink=\"http://www.w3.org/1999/xlink\" contentStyleType=\"text/css\" height=\"117px\" preserveAspectRatio=\"none\" style=\"width:136px;height:117px;background:#FFFFFF;\" version=\"1.1\" viewBox=\"0 0 136 117\" width=\"136px\" zoomAndPan=\"magnify\"><defs/><g><!--class Student--><g id=\"elem_Student\"><rect codeLine=\"1\" fill=\"#F1F1F1\" height=\"96.8906\" id=\"Student\" rx=\"2.5\" ry=\"2.5\" style=\"stroke:#181818;stroke-width:0.5;\" width=\"115\" x=\"7\" y=\"7\"/><ellipse cx=\"34.6\" cy=\"23\" fill=\"#ADD1B2\" rx=\"11\" ry=\"11\" style=\"stroke:#181818;stroke-width:1.0;\"/><path d=\"M37.5688,28.6406 Q36.9906,28.9375 36.35,29.0781 Q35.7094,29.2344 35.0063,29.2344 Q32.5063,29.2344 31.1781,27.5938 Q29.8656,25.9375 29.8656,22.8125 Q29.8656,19.6875 31.1781,18.0313 Q32.5063,16.375 35.0063,16.375 Q35.7094,16.375 36.35,16.5313 Q37.0063,16.6875 37.5688,16.9844 L37.5688,19.7031 Q36.9438,19.125 36.35,18.8594 Q35.7563,18.5781 35.1313,18.5781 Q33.7875,18.5781 33.1,19.6563 Q32.4125,20.7188 32.4125,22.8125 Q32.4125,24.9063 33.1,25.9844 Q33.7875,27.0469 35.1313,27.0469 Q35.7563,27.0469 36.35,26.7813 Q36.9438,26.5 37.5688,25.9219 L37.5688,28.6406 Z \" fill=\"#000000\"/><text fill=\"#000000\" font-family=\"sans-serif\" font-size=\"14\" lengthAdjust=\"spacing\" textLength=\"55\" x=\"51.4\" y=\"27.8467\">Student</text><line style=\"stroke:#181818;stroke-width:0.5;\" x1=\"8\" x2=\"121\" y1=\"39\" y2=\"39\"/><ellipse cx=\"18\" cy=\"52.6484\" fill=\"none\" rx=\"3\" ry=\"3\" style=\"stroke:#038048;stroke-width:1.0;\"/><text fill=\"#000000\" font-family=\"sans-serif\" font-size=\"14\" lengthAdjust=\"spacing\" textLength=\"62\" x=\"27\" y=\"55.9951\">nmbr: int</text><ellipse cx=\"18\" cy=\"68.9453\" fill=\"none\" rx=\"3\" ry=\"3\" style=\"stroke:#038048;stroke-width:1.0;\"/><text fill=\"#000000\" font-family=\"sans-serif\" font-size=\"14\" lengthAdjust=\"spacing\" textLength=\"66\" x=\"27\" y=\"72.292\">name: str</text><ellipse cx=\"18\" cy=\"85.2422\" fill=\"none\" rx=\"3\" ry=\"3\" style=\"stroke:#038048;stroke-width:1.0;\"/><text fill=\"#000000\" font-family=\"sans-serif\" font-size=\"14\" lengthAdjust=\"spacing\" textLength=\"89\" x=\"27\" y=\"88.5889\">prename: str</text><line style=\"stroke:#181818;stroke-width:0.5;\" x1=\"8\" x2=\"121\" y1=\"95.8906\" y2=\"95.8906\"/></g><!--SRC=[Iyv9B2vM22ufJKdDAr6evb800cs5lDoa8Yk5pBmI63ynDzLAeRYa2CelA4f52DK20000]--></g></svg>"
      ],
      "text/plain": [
       "<IPython.core.display.SVG object>"
      ]
     },
     "execution_count": 12,
     "metadata": {},
     "output_type": "execute_result"
    }
   ],
   "source": [
    "%%plantuml\n",
    "@startuml\n",
    "class Student {\n",
    "    + nmbr: int\n",
    "    + name: str\n",
    "    + prename: str\n",
    "}\n",
    "@enduml"
   ]
  }
 ],
 "metadata": {
  "celltoolbar": "Tags",
  "kernelspec": {
   "display_name": "Python 3 (ipykernel)",
   "language": "python",
   "name": "python3"
  },
  "language_info": {
   "codemirror_mode": {
    "name": "ipython",
    "version": 3
   },
   "file_extension": ".py",
   "mimetype": "text/x-python",
   "name": "python",
   "nbconvert_exporter": "python",
   "pygments_lexer": "ipython3",
   "version": "3.11.9"
  }
 },
 "nbformat": 4,
 "nbformat_minor": 2
}
