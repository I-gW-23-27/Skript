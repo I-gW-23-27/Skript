{
 "cells": [
  {
   "cell_type": "markdown",
   "metadata": {},
   "source": [
    "# Jupyter Notebook mit den erforderlichen Snippets um eine Viginère Chiffre zu brechen"
   ]
  },
  {
   "cell_type": "markdown",
   "metadata": {},
   "source": [
    "## Chiffretext einlesen"
   ]
  },
  {
   "cell_type": "code",
   "execution_count": 1,
   "metadata": {},
   "outputs": [],
   "source": [
    "import string\n",
    "import pandas as pd"
   ]
  },
  {
   "cell_type": "code",
   "execution_count": 2,
   "metadata": {},
   "outputs": [],
   "source": [
    "def text_reader(path: str) -> str:\n",
    "    with open(path, 'r', encoding='utf-8') as file:\n",
    "        lines = [line.rstrip() for line in file]\n",
    "        \n",
    "    text = ''\n",
    "    for line in lines:\n",
    "        text += line\n",
    "        \n",
    "    text = text.lower()\n",
    "    text = text.replace(' ', '')\n",
    "    text = text.replace('\\n','')\n",
    "    text = text.replace('ä', 'ae')\n",
    "    text = text.replace('ö', 'oe')\n",
    "    text = text.replace('ü', 'ue')\n",
    "    text = text.replace('ß', 'ss')\n",
    "    text = text.replace('«', '')\n",
    "    text = text.replace('»', '')\n",
    "    text = text.replace('—', '')\n",
    "    text = text.replace('̈:', '')\n",
    "    \n",
    "    result = ''\n",
    "    \n",
    "    for char in text:\n",
    "        if char in string.ascii_letters:\n",
    "            result += char\n",
    "        \n",
    "    return result"
   ]
  },
  {
   "cell_type": "markdown",
   "metadata": {},
   "source": [
    "## Suche nach der Schlüssellänge"
   ]
  },
  {
   "cell_type": "code",
   "execution_count": 3,
   "metadata": {},
   "outputs": [],
   "source": [
    "KD = 0.0773 # Friedmansche Charakteristik der deutschen Sprache"
   ]
  },
  {
   "cell_type": "code",
   "execution_count": 4,
   "metadata": {},
   "outputs": [],
   "source": [
    "text = text_reader('input.txt')"
   ]
  },
  {
   "cell_type": "code",
   "execution_count": 5,
   "metadata": {},
   "outputs": [],
   "source": [
    "def text_teiler(text, splitter):\n",
    "    teiltexte = []\n",
    "    \n",
    "    for i in range(splitter):\n",
    "        teiltexte.append([])\n",
    "        \n",
    "    for i in range(len(text)):\n",
    "        for j in range(splitter):\n",
    "            if i % splitter == j:\n",
    "                teiltexte[j].append(text[i])\n",
    "                \n",
    "    return teiltexte"
   ]
  },
  {
   "cell_type": "code",
   "execution_count": 6,
   "metadata": {},
   "outputs": [],
   "source": [
    "textsplitter = text_teiler(text, 15)"
   ]
  },
  {
   "cell_type": "code",
   "execution_count": 7,
   "metadata": {},
   "outputs": [],
   "source": [
    "df = pd.DataFrame.from_records(textsplitter)\n",
    "df = df.transpose()"
   ]
  },
  {
   "cell_type": "code",
   "execution_count": null,
   "metadata": {},
   "outputs": [],
   "source": [
    "counter = 0"
   ]
  },
  {
   "cell_type": "code",
   "execution_count": 9,
   "metadata": {},
   "outputs": [
    {
     "data": {
      "text/plain": [
       "['i', 'm', 'n', 'a', 'm', 'e', 'n', 'g', 'o', 't', 't', 'e', 's', 'd', 'e']"
      ]
     },
     "execution_count": 9,
     "metadata": {},
     "output_type": "execute_result"
    }
   ],
   "source": [
    "zeile0 = df.iloc[0].to_list()\n",
    "zeile0"
   ]
  },
  {
   "cell_type": "code",
   "execution_count": 11,
   "metadata": {},
   "outputs": [],
   "source": [
    "zeile0_count = {letter: 0 for letter in string.ascii_lowercase}"
   ]
  },
  {
   "cell_type": "code",
   "execution_count": 13,
   "metadata": {},
   "outputs": [],
   "source": [
    "for letter in string.ascii_lowercase:\n",
    "    for char in zeile0:\n",
    "        if char == letter:\n",
    "            zeile0_count[letter] += 1"
   ]
  },
  {
   "cell_type": "code",
   "execution_count": 14,
   "metadata": {},
   "outputs": [
    {
     "data": {
      "text/plain": [
       "{'a': 1,\n",
       " 'b': 0,\n",
       " 'c': 0,\n",
       " 'd': 1,\n",
       " 'e': 3,\n",
       " 'f': 0,\n",
       " 'g': 1,\n",
       " 'h': 0,\n",
       " 'i': 1,\n",
       " 'j': 0,\n",
       " 'k': 0,\n",
       " 'l': 0,\n",
       " 'm': 2,\n",
       " 'n': 2,\n",
       " 'o': 1,\n",
       " 'p': 0,\n",
       " 'q': 0,\n",
       " 'r': 0,\n",
       " 's': 1,\n",
       " 't': 2,\n",
       " 'u': 0,\n",
       " 'v': 0,\n",
       " 'w': 0,\n",
       " 'x': 0,\n",
       " 'y': 0,\n",
       " 'z': 0}"
      ]
     },
     "execution_count": 14,
     "metadata": {},
     "output_type": "execute_result"
    }
   ],
   "source": [
    "zeile0_count"
   ]
  },
  {
   "cell_type": "code",
   "execution_count": null,
   "metadata": {},
   "outputs": [],
   "source": []
  }
 ],
 "metadata": {
  "kernelspec": {
   "display_name": "venv",
   "language": "python",
   "name": "python3"
  },
  "language_info": {
   "codemirror_mode": {
    "name": "ipython",
    "version": 3
   },
   "file_extension": ".py",
   "mimetype": "text/x-python",
   "name": "python",
   "nbconvert_exporter": "python",
   "pygments_lexer": "ipython3",
   "version": "3.13.1"
  }
 },
 "nbformat": 4,
 "nbformat_minor": 2
}
