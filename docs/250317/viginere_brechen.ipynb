{
 "cells": [
  {
   "cell_type": "markdown",
   "metadata": {},
   "source": [
    "# Jupyter Notebook mit den erforderlichen Snippets um eine Viginère Chiffre zu brechen"
   ]
  },
  {
   "cell_type": "markdown",
   "metadata": {},
   "source": [
    "## Chiffretext einlesen"
   ]
  },
  {
   "cell_type": "code",
   "execution_count": 1,
   "metadata": {},
   "outputs": [],
   "source": [
    "import string\n",
    "import pandas as pd"
   ]
  },
  {
   "cell_type": "code",
   "execution_count": 7,
   "metadata": {},
   "outputs": [],
   "source": [
    "def text_reader(path: str) -> str:\n",
    "    with open(path, 'r', encoding='utf-8') as file:\n",
    "        text = file.read()\n",
    "    \n",
    "    # Convert to lowercase\n",
    "    text = text.lower()\n",
    "    \n",
    "    # Replace German specific characters\n",
    "    replacements = {\n",
    "        'ä': 'ae', 'ö': 'oe', 'ü': 'ue', 'ß': 'ss',\n",
    "        'á': 'a', 'à': 'a', 'â': 'a', 'é': 'e', \n",
    "        'è': 'e', 'ê': 'e', 'ë': 'e', 'í': 'i',\n",
    "        'ì': 'i', 'î': 'i', 'ï': 'i', 'ó': 'o',\n",
    "        'ò': 'o', 'ô': 'o', 'ú': 'u', 'ù': 'u',\n",
    "        'û': 'u', 'ç': 'c'\n",
    "    }\n",
    "    \n",
    "    for old, new in replacements.items():\n",
    "        text = text.replace(old, new)\n",
    "    \n",
    "    # Remove all non-alphabetic characters\n",
    "    result = ''.join(char for char in text if char in string.ascii_lowercase)\n",
    "    \n",
    "    return result"
   ]
  },
  {
   "cell_type": "code",
   "execution_count": 8,
   "metadata": {},
   "outputs": [],
   "source": [
    "chiffre_text = text_reader('chiffre_text.txt')"
   ]
  },
  {
   "cell_type": "markdown",
   "metadata": {},
   "source": [
    "## Suche nach der Schlüssellänge"
   ]
  },
  {
   "cell_type": "code",
   "execution_count": 3,
   "metadata": {},
   "outputs": [],
   "source": [
    "KD = 0.0773 # Friedmansche Charakteristik der deutschen Sprache"
   ]
  },
  {
   "cell_type": "code",
   "execution_count": 11,
   "metadata": {},
   "outputs": [],
   "source": [
    "def text_teiler(text, splitter):\n",
    "    teiltexte = []\n",
    "    \n",
    "    for i in range(splitter):\n",
    "        teiltexte.append([])\n",
    "        \n",
    "    for i in range(len(text)):\n",
    "        for j in range(splitter):\n",
    "            if i % splitter == j:\n",
    "                teiltexte[j].append(text[i])\n",
    "                \n",
    "    df = pd.DataFrame(teiltexte)\n",
    "    df = df.transpose()\n",
    "                \n",
    "    return df"
   ]
  },
  {
   "cell_type": "code",
   "execution_count": 12,
   "metadata": {},
   "outputs": [],
   "source": [
    "df = text_teiler(chiffre_text, 8)"
   ]
  },
  {
   "cell_type": "code",
   "execution_count": 13,
   "metadata": {},
   "outputs": [
    {
     "data": {
      "text/html": [
       "<div>\n",
       "<style scoped>\n",
       "    .dataframe tbody tr th:only-of-type {\n",
       "        vertical-align: middle;\n",
       "    }\n",
       "\n",
       "    .dataframe tbody tr th {\n",
       "        vertical-align: top;\n",
       "    }\n",
       "\n",
       "    .dataframe thead th {\n",
       "        text-align: right;\n",
       "    }\n",
       "</style>\n",
       "<table border=\"1\" class=\"dataframe\">\n",
       "  <thead>\n",
       "    <tr style=\"text-align: right;\">\n",
       "      <th></th>\n",
       "      <th>0</th>\n",
       "      <th>1</th>\n",
       "      <th>2</th>\n",
       "      <th>3</th>\n",
       "      <th>4</th>\n",
       "      <th>5</th>\n",
       "      <th>6</th>\n",
       "      <th>7</th>\n",
       "    </tr>\n",
       "  </thead>\n",
       "  <tbody>\n",
       "    <tr>\n",
       "      <th>0</th>\n",
       "      <td>l</td>\n",
       "      <td>j</td>\n",
       "      <td>s</td>\n",
       "      <td>j</td>\n",
       "      <td>w</td>\n",
       "      <td>f</td>\n",
       "      <td>q</td>\n",
       "      <td>x</td>\n",
       "    </tr>\n",
       "    <tr>\n",
       "      <th>1</th>\n",
       "      <td>y</td>\n",
       "      <td>z</td>\n",
       "      <td>r</td>\n",
       "      <td>r</td>\n",
       "      <td>i</td>\n",
       "      <td>w</td>\n",
       "      <td>n</td>\n",
       "      <td>s</td>\n",
       "    </tr>\n",
       "    <tr>\n",
       "      <th>2</th>\n",
       "      <td>l</td>\n",
       "      <td>y</td>\n",
       "      <td>n</td>\n",
       "      <td>s</td>\n",
       "      <td>i</td>\n",
       "      <td>n</td>\n",
       "      <td>j</td>\n",
       "      <td>x</td>\n",
       "    </tr>\n",
       "    <tr>\n",
       "      <th>3</th>\n",
       "      <td>y</td>\n",
       "      <td>f</td>\n",
       "      <td>f</td>\n",
       "      <td>y</td>\n",
       "      <td>x</td>\n",
       "      <td>g</td>\n",
       "      <td>n</td>\n",
       "      <td>g</td>\n",
       "    </tr>\n",
       "    <tr>\n",
       "      <th>4</th>\n",
       "      <td>q</td>\n",
       "      <td>n</td>\n",
       "      <td>t</td>\n",
       "      <td>y</td>\n",
       "      <td>m</td>\n",
       "      <td>j</td>\n",
       "      <td>p</td>\n",
       "      <td>j</td>\n",
       "    </tr>\n",
       "    <tr>\n",
       "      <th>...</th>\n",
       "      <td>...</td>\n",
       "      <td>...</td>\n",
       "      <td>...</td>\n",
       "      <td>...</td>\n",
       "      <td>...</td>\n",
       "      <td>...</td>\n",
       "      <td>...</td>\n",
       "      <td>...</td>\n",
       "    </tr>\n",
       "    <tr>\n",
       "      <th>1663</th>\n",
       "      <td>m</td>\n",
       "      <td>n</td>\n",
       "      <td>s</td>\n",
       "      <td>j</td>\n",
       "      <td>m</td>\n",
       "      <td>w</td>\n",
       "      <td>j</td>\n",
       "      <td>s</td>\n",
       "    </tr>\n",
       "    <tr>\n",
       "      <th>1664</th>\n",
       "      <td>i</td>\n",
       "      <td>f</td>\n",
       "      <td>l</td>\n",
       "      <td>j</td>\n",
       "      <td>l</td>\n",
       "      <td>j</td>\n",
       "      <td>s</td>\n",
       "      <td>b</td>\n",
       "    </tr>\n",
       "    <tr>\n",
       "      <th>1665</th>\n",
       "      <td>n</td>\n",
       "      <td>q</td>\n",
       "      <td>q</td>\n",
       "      <td>n</td>\n",
       "      <td>h</td>\n",
       "      <td>m</td>\n",
       "      <td>s</td>\n",
       "      <td>n</td>\n",
       "    </tr>\n",
       "    <tr>\n",
       "      <th>1666</th>\n",
       "      <td>h</td>\n",
       "      <td>m</td>\n",
       "      <td>y</td>\n",
       "      <td>x</td>\n",
       "      <td>l</td>\n",
       "      <td>j</td>\n",
       "      <td>x</td>\n",
       "      <td>f</td>\n",
       "    </tr>\n",
       "    <tr>\n",
       "      <th>1667</th>\n",
       "      <td>l</td>\n",
       "      <td>y</td>\n",
       "      <td>m</td>\n",
       "      <td>f</td>\n",
       "      <td>g</td>\n",
       "      <td>j</td>\n",
       "      <td>s</td>\n",
       "      <td>None</td>\n",
       "    </tr>\n",
       "  </tbody>\n",
       "</table>\n",
       "<p>1668 rows × 8 columns</p>\n",
       "</div>"
      ],
      "text/plain": [
       "      0  1  2  3  4  5  6     7\n",
       "0     l  j  s  j  w  f  q     x\n",
       "1     y  z  r  r  i  w  n     s\n",
       "2     l  y  n  s  i  n  j     x\n",
       "3     y  f  f  y  x  g  n     g\n",
       "4     q  n  t  y  m  j  p     j\n",
       "...  .. .. .. .. .. .. ..   ...\n",
       "1663  m  n  s  j  m  w  j     s\n",
       "1664  i  f  l  j  l  j  s     b\n",
       "1665  n  q  q  n  h  m  s     n\n",
       "1666  h  m  y  x  l  j  x     f\n",
       "1667  l  y  m  f  g  j  s  None\n",
       "\n",
       "[1668 rows x 8 columns]"
      ]
     },
     "execution_count": 13,
     "metadata": {},
     "output_type": "execute_result"
    }
   ],
   "source": [
    "df"
   ]
  },
  {
   "cell_type": "code",
   "execution_count": null,
   "metadata": {},
   "outputs": [],
   "source": [
    "counter = 0"
   ]
  },
  {
   "cell_type": "code",
   "execution_count": 9,
   "metadata": {},
   "outputs": [
    {
     "data": {
      "text/plain": [
       "['i', 'm', 'n', 'a', 'm', 'e', 'n', 'g', 'o', 't', 't', 'e', 's', 'd', 'e']"
      ]
     },
     "execution_count": 9,
     "metadata": {},
     "output_type": "execute_result"
    }
   ],
   "source": [
    "zeile0 = df.iloc[0].to_list()\n",
    "zeile0"
   ]
  },
  {
   "cell_type": "code",
   "execution_count": 11,
   "metadata": {},
   "outputs": [],
   "source": [
    "zeile0_count = {letter: 0 for letter in string.ascii_lowercase}"
   ]
  },
  {
   "cell_type": "code",
   "execution_count": 13,
   "metadata": {},
   "outputs": [],
   "source": [
    "for letter in string.ascii_lowercase:\n",
    "    for char in zeile0:\n",
    "        if char == letter:\n",
    "            zeile0_count[letter] += 1"
   ]
  },
  {
   "cell_type": "code",
   "execution_count": 15,
   "metadata": {},
   "outputs": [
    {
     "data": {
      "text/html": [
       "<div>\n",
       "<style scoped>\n",
       "    .dataframe tbody tr th:only-of-type {\n",
       "        vertical-align: middle;\n",
       "    }\n",
       "\n",
       "    .dataframe tbody tr th {\n",
       "        vertical-align: top;\n",
       "    }\n",
       "\n",
       "    .dataframe thead th {\n",
       "        text-align: right;\n",
       "    }\n",
       "</style>\n",
       "<table border=\"1\" class=\"dataframe\">\n",
       "  <thead>\n",
       "    <tr style=\"text-align: right;\">\n",
       "      <th></th>\n",
       "      <th>0</th>\n",
       "    </tr>\n",
       "  </thead>\n",
       "  <tbody>\n",
       "    <tr>\n",
       "      <th>a</th>\n",
       "      <td>1</td>\n",
       "    </tr>\n",
       "    <tr>\n",
       "      <th>b</th>\n",
       "      <td>0</td>\n",
       "    </tr>\n",
       "    <tr>\n",
       "      <th>c</th>\n",
       "      <td>0</td>\n",
       "    </tr>\n",
       "    <tr>\n",
       "      <th>d</th>\n",
       "      <td>1</td>\n",
       "    </tr>\n",
       "    <tr>\n",
       "      <th>e</th>\n",
       "      <td>3</td>\n",
       "    </tr>\n",
       "  </tbody>\n",
       "</table>\n",
       "</div>"
      ],
      "text/plain": [
       "   0\n",
       "a  1\n",
       "b  0\n",
       "c  0\n",
       "d  1\n",
       "e  3"
      ]
     },
     "execution_count": 15,
     "metadata": {},
     "output_type": "execute_result"
    }
   ],
   "source": [
    "df_char_count = pd.DataFrame.from_dict(zeile0_count, orient='index', dtype=None, columns=None)\n",
    "df_char_count.head()"
   ]
  },
  {
   "cell_type": "code",
   "execution_count": 22,
   "metadata": {},
   "outputs": [],
   "source": [
    "def char_counter(df):\n",
    "    size = len(df)\n",
    "    row_list = []\n",
    "    \n",
    "    for i in range(size):\n",
    "        row_list.append('zeile_' + str(i))\n",
    "        row_list[i] = df.iloc[i].to_list()\n",
    "        \n",
    "    return row_list"
   ]
  },
  {
   "cell_type": "code",
   "execution_count": 23,
   "metadata": {},
   "outputs": [
    {
     "data": {
      "text/plain": [
       "[['i', 'm', 'n', 'a', 'm', 'e', 'n', 'g', 'o', 't', 't', 'e', 's', 'd', 'e'],\n",
       " ['s', 'a', 'l', 'l', 'm', 'a', 'e', 'c', 'h', 't', 'i', 'g', 'e', 'n', 'd'],\n",
       " ['a', 's', 's', 'c', 'h', 'w', 'e', 'i', 'z', 'e', 'r', 'v', 'o', 'l', 'k'],\n",
       " ['u', 'n', 'd', 'd', 'i', 'e', 'k', 'a', 'n', 't', 'o', 'n', 'e', 'i', 'n'],\n",
       " ['d', 'e', 'r', 'v', 'e', 'r', 'a', 'n', 't', 'w', 'o', 'r', 't', 'u', 'n'],\n",
       " ['g', 'g', 'e', 'g', 'e', 'n', 'u', 'e', 'b', 'e', 'r', 'd', 'e', 'r', 's'],\n",
       " ['c', 'h', 'o', 'e', 'p', 'f', 'u', 'n', 'g', 'i', 'm', 'b', 'e', 's', 't'],\n",
       " ['r', 'e', 'b', 'e', 'n', 'd', 'e', 'n', 'b', 'u', 'n', 'd', 'z', 'u', 'e'],\n",
       " ['r', 'n', 'e', 'u', 'e', 'r', 'n', 'u', 'm', 'f', 'r', 'e', 'i', 'h', 'e'],\n",
       " ['i', 't', 'u', 'n', 'd', 'd', 'e', 'm', 'o', 'k', 'r', 'a', 't', 'i', 'e'],\n",
       " ['u', 'n', 'a', 'b', 'h', 'a', 'e', 'n', 'g', 'i', 'g', 'k', 'e', 'i', 't'],\n",
       " ['u', 'n', 'd', 'f', 'r', 'i', 'e', 'd', 'e', 'n', 'i', 'n', 's', 'o', 'l'],\n",
       " ['i', 'd', 'a', 'r', 'i', 't', 'a', 'e', 't', 'u', 'n', 'd', 'o', 'f', 'f'],\n",
       " ['e', 'n', 'h', 'e', 'i', 't', 'g', 'e', 'g', 'e', 'n', 'u', 'e', 'b', 'e'],\n",
       " ['r', 'd', 'e', 'r', 'w', 'e', 'l', 't', 'z', 'u', 's', 't', 'a', 'e', 'r'],\n",
       " ['k', 'e', 'n', 'i', 'm', 'w', 'i', 'l', 'l', 'e', 'n', 'i', 'n', 'g', 'e'],\n",
       " ['g', 'e', 'n', 's', 'e', 'i', 't', 'i', 'g', 'e', 'r', 'r', 'u', 'e', 'c'],\n",
       " ['k', 's', 'i', 'c', 'h', 't', 'n', 'a', 'h', 'm', 'e', 'u', 'n', 'd', 'a'],\n",
       " ['c', 'h', 't', 'u', 'n', 'g', 'i', 'h', 'r', 'e', 'v', 'i', 'e', 'l', 'f'],\n",
       " ['a', 'l', 't', 'i', 'n', 'd', 'e', 'r', 'e', 'i', 'n', 'h', 'e', 'i', 't'],\n",
       " ['z', 'u', 'l', 'e', 'b', 'e', 'n', 'i', 'm', 'b', 'e', 'w', 'u', 's', 's'],\n",
       " ['t', 's', 'e', 'i', 'n', 'd', 'e', 'r', 'g', 'e', 'm', 'e', 'i', 'n', 's'],\n",
       " ['a', 'm', 'e', 'n', 'e', 'r', 'r', 'u', 'n', 'g', 'e', 'n', 's', 'c', 'h'],\n",
       " ['a', 'f', 't', 'e', 'n', 'u', 'n', 'd', 'd', 'e', 'r', 'v', 'e', 'r', 'a'],\n",
       " ['n', 't', 'w', 'o', 'r', 't', 'u', 'n', 'g', 'g', 'e', 'g', 'e', 'n', 'u'],\n",
       " ['e', 'b', 'e', 'r', 'd', 'e', 'n', 'k', 'u', 'e', 'n', 'f', 't', 'i', 'g'],\n",
       " ['e', 'n', 'g', 'e', 'n', 'e', 'r', 'a', 't', 'i', 'o', 'n', 'e', 'n', 'g'],\n",
       " ['e', 'w', 'i', 's', 's', 'd', 'a', 's', 's', 'f', 'r', 'e', 'i', 'n', 'u'],\n",
       " ['r', 'i', 's', 't', 'w', 'e', 'r', 's', 'e', 'i', 'n', 'e', 'f', 'r', 'e'],\n",
       " ['i', 'h', 'e', 'i', 't', 'g', 'e', 'b', 'r', 'a', 'u', 'c', 'h', 't', 'u'],\n",
       " ['n', 'd', 'd', 'a', 's', 's', 'd', 'i', 'e', 's', 't', 'a', 'e', 'r', 'k'],\n",
       " ['e', 'd', 'e', 's', 'v', 'o', 'l', 'k', 'e', 's', 's', 'i', 'c', 'h', 'm'],\n",
       " ['i', 's', 's', 't', 'a', 'm', 'w', 'o', 'h', 'l', 'd', 'e', 'r', 's', 'c'],\n",
       " ['h', 'w', 'a', 'c', 'h', 'e', 'n', 'g', 'e', 'b', 'e', 'n', 's', 'i', 'c'],\n",
       " ['h', 'f', 'o', 'l', 'g', 'e', 'n', 'd', 'e', 'v', 'e', 'r', 'f', 'a', 's'],\n",
       " ['s',\n",
       "  'u',\n",
       "  'n',\n",
       "  'g',\n",
       "  None,\n",
       "  None,\n",
       "  None,\n",
       "  None,\n",
       "  None,\n",
       "  None,\n",
       "  None,\n",
       "  None,\n",
       "  None,\n",
       "  None,\n",
       "  None]]"
      ]
     },
     "execution_count": 23,
     "metadata": {},
     "output_type": "execute_result"
    }
   ],
   "source": [
    "a = char_counter(df)\n",
    "a"
   ]
  },
  {
   "cell_type": "code",
   "execution_count": null,
   "metadata": {},
   "outputs": [],
   "source": []
  }
 ],
 "metadata": {
  "kernelspec": {
   "display_name": "venv",
   "language": "python",
   "name": "python3"
  },
  "language_info": {
   "codemirror_mode": {
    "name": "ipython",
    "version": 3
   },
   "file_extension": ".py",
   "mimetype": "text/x-python",
   "name": "python",
   "nbconvert_exporter": "python",
   "pygments_lexer": "ipython3",
   "version": "3.13.1"
  }
 },
 "nbformat": 4,
 "nbformat_minor": 2
}
