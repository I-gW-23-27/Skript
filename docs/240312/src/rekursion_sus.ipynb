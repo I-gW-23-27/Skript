{
 "cells": [
  {
   "cell_type": "markdown",
   "metadata": {
    "id": "lrE1Y2EzfJnS"
   },
   "source": [
    "# Die Gausssche Summenformel"
   ]
  },
  {
   "cell_type": "markdown",
   "metadata": {},
   "source": [
    "Der Deutsche Mathematiker Carl Friedich Gauss soll nach der Legende\n",
    "seinen Mathematiklehrer bei einer Strafaufgabe überlistet haben. Gemäss\n",
    "dieser Legende soll der Lehrer Gauss (und seinen KLassenkameraden) den\n",
    "Auftrag gegen haben, die Zahlen von 1 bis 100 zusammenzuzählen.\n",
    "\n",
    "Gauss soll nach kurzer Zeit mit der Lösung zum Lehrer gegangen sein.\n",
    "Gauss' Lösung basierte auf folgender Formel:\n",
    "\n",
    "$$\n",
    "1 + 2 + 3 + ... + (n-1) + n = \\sum_{k=1}^{n}k = \\frac{n(n+1)}{2}\n",
    "$$"
   ]
  },
  {
   "cell_type": "markdown",
   "metadata": {},
   "source": [
    "Diese Formel kann direkt als Funktion implementiert werden. Das\n",
    "entsprechende Beispiel finden sie in der folgenden Zelle."
   ]
  },
  {
   "cell_type": "code",
   "execution_count": 2,
   "metadata": {},
   "outputs": [
    {
     "name": "stdout",
     "output_type": "stream",
     "text": [
      "Die Summe der Zahlen von 1 bis 100 ist 5050.\n"
     ]
    }
   ],
   "source": [
    "def gauss_direct(n : int) -> int:\n",
    "    return int((n*(n+1))/2)\n",
    "\n",
    "print(f'Die Summe der Zahlen von 1 '\n",
    "      f'bis 100 ist {gauss_direct(100)}.')"
   ]
  },
  {
   "cell_type": "markdown",
   "metadata": {},
   "source": [
    "Alternativ kann die Formel aber auch rekursiv implementiert werden.\n",
    "Entsprechend stellt sich die Frage, was wäre ein kleineres aber\n",
    "grundsätzlich gleichartiges Problem?  \n",
    "Im vorliegenden Fall wäre das einfachste gleichartige Problem, die Summe\n",
    "aus einer Liste von Zahlen mit der Länge 1 und dem Wert 1 zu bilden.\n",
    "Dann ist die Summe auch 1. Als Formel könnte man das so schreiben:\n",
    "\n",
    "$$\n",
    "\\sum_{k=1}^{n}k = 1, \\text{ sofern } n=1\n",
    "$$\n",
    "\n",
    "Daraus ergibt sich die Frage, wie man von $n=100$ zu $n=1$ kommt.\n",
    "\n",
    "Für alle Fälle, in denen $n\\neq1$ ist, gilt\n",
    "\n",
    "$$\n",
    "\\sum_{k=1}^{n}k = n + \\sum_{k=1}^{n-1}k\n",
    "$$\n",
    "\n",
    "In dieser Formel kann nun immer wieder $n-1$ eingesetzt werden. Das ist\n",
    "die Rekursion.\n",
    "\n",
    "Zusammengefasst kann dies folgendermassen dargestellt werden:\n",
    "\n",
    "$$\n",
    "\\sum_{k=1}^{n}=\n",
    "\\left\\{\n",
    "    \\begin{array}{lll}\n",
    "        1,&n=1&\\text{Basisfall}\\\\\n",
    "        n+\\sum\\limits_{k=1}^{n-1}k,&\\forall n > 1&\\text{Rekursionsfall}\n",
    "    \\end{array}\n",
    "\\right.\n",
    "$$"
   ]
  },
  {
   "cell_type": "markdown",
   "metadata": {},
   "source": [
    "Der Basisfall ist einerseits der einfachste Fall und andererseits auch\n",
    "der letzte Fall, der bearbeitet werden muss.  \n",
    "Beides ist wichtig. Das der Basisfall der einfachste Fall ist, hilft das\n",
    "Problem zu lösen."
   ]
  },
  {
   "cell_type": "markdown",
   "metadata": {
    "id": "rxEAl_gvfcKq"
   },
   "source": [
    "## Aufgabe zur Rekursion\n",
    "\n",
    "Implementieren Sie die Gausssche Summenformel nach ihrer rekursiven Definition.\n",
    "\n",
    "$$\n",
    "\\sum_{k=1}^{n}k=\n",
    "\\left\\{\n",
    "    \\begin{array}{lll}\n",
    "        1,&n=1&\\text{Basisfall}\\\\\n",
    "        n+\\sum_{k=1}^{n-1}k,&\\forall n > 1&\\text{Rekursionsfall}\n",
    "    \\end{array}\n",
    "\\right.\n",
    "$$\n",
    "\n",
    "Zeigen Sie durch den Aufruf von der Funktion `print(f'...')` an geeigneten Stellen, wie der *call stack* auf- und wieder abgebaut wird."
   ]
  },
  {
   "cell_type": "code",
   "execution_count": null,
   "metadata": {
    "id": "lXsk9igzfEER"
   },
   "outputs": [],
   "source": [
    "def gauss_rec(n : int) -> int:\n",
    "    \"\"\"Rekursive Implementation der Gaussschen Summenformel\n",
    "\n",
    "    Diese Funktion berechnet die Summe der ersten n natürlichen Zahlen. Sie\n",
    "    zeigt mit den verschiedenen print() Funktionen, wie der call stack auf-\n",
    "    und wieder abgebaut wird.\n",
    "\n",
    "    Args:\n",
    "        n (int): Die natürliche Zahl bis und mit welcher die Summe\n",
    "        gebildet wird.\n",
    "\n",
    "    Returns:\n",
    "        Die Summe aller n natürlichen Zahlen als natürliche Zahl.\n",
    "    \"\"\"\n",
    "\n",
    "    # TODO: Implementieren Sie gauss_rec gemäss den Vorgaben\n",
    "    pass"
   ]
  },
  {
   "cell_type": "code",
   "execution_count": null,
   "metadata": {
    "id": "iflLald6ipPC"
   },
   "outputs": [],
   "source": [
    "print(gauss_rec(3))"
   ]
  },
  {
   "cell_type": "markdown",
   "metadata": {
    "id": "fnfIPuyZn8km"
   },
   "source": [
    "## Aufgabe zur direkten Implementation"
   ]
  },
  {
   "cell_type": "markdown",
   "metadata": {
    "id": "YVE1zMP_mG93"
   },
   "source": [
    "Stellen Sie der rekursiven Implementation die Implementation nach der Formel\n",
    "\n",
    "$$\n",
    "\\sum_{k=1}^{n} k = \\frac{n(n+1)}{2}\n",
    "$$\n",
    "\n",
    "gegenüber. Zeigen Sie auch hier durch den Aufruf der Funktion `print(f'...')` an geeigneten Stellen die Auslastung des call stack.\n"
   ]
  },
  {
   "cell_type": "code",
   "execution_count": null,
   "metadata": {
    "id": "hz277xspmZjY"
   },
   "outputs": [],
   "source": [
    "def gauss_direct(n : int) -> int:\n",
    "    \"\"\"Direkte Implementierung der Gaussschen Summenformel\n",
    "\n",
    "    Diese Funktion berechnet die Summe der ersten n natürlichen Zahlen.\n",
    "    Sie zeigt mit geeigneten print() Funktionen den Speicherbedarf.\n",
    "\n",
    "    Args:\n",
    "        n (int): Die natürliche Zahl bis und mit welcher die Summe\n",
    "        gebildet wird.\n",
    "\n",
    "    Returns:\n",
    "        Die Summe aller n natürlichen Zahlen als natürliche Zahl.\n",
    "    \"\"\"\n",
    "\n",
    "    # TODO: implementieren Sie gauss_direct gemäss den Vorgaben\n",
    "    pass"
   ]
  },
  {
   "cell_type": "code",
   "execution_count": null,
   "metadata": {
    "id": "WCY3pxYwm6Bq"
   },
   "outputs": [],
   "source": [
    "print(gauss_direct(3))"
   ]
  }
 ],
 "metadata": {
  "colab": {
   "authorship_tag": "ABX9TyOlZt25abutpv60LzeROxe2",
   "provenance": []
  },
  "kernelspec": {
   "display_name": "Python 3 (ipykernel)",
   "language": "python",
   "name": "python3"
  },
  "language_info": {
   "codemirror_mode": {
    "name": "ipython",
    "version": 3
   },
   "file_extension": ".py",
   "mimetype": "text/x-python",
   "name": "python",
   "nbconvert_exporter": "python",
   "pygments_lexer": "ipython3",
   "version": "3.11.8"
  }
 },
 "nbformat": 4,
 "nbformat_minor": 1
}
