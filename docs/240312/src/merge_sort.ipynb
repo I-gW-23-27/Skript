{
 "cells": [
  {
   "cell_type": "markdown",
   "metadata": {},
   "source": [
    "# Merge Sort"
   ]
  },
  {
   "cell_type": "markdown",
   "metadata": {},
   "source": [
    "Selection Sort hat einen Zeitaufwand von $n^2$. Das geht besser.  \n",
    "\n",
    "An dieser Stelle kommen *divide and conquer* Algorithmen ins Spiel. Der\n",
    "darin verfolgte Ansatz soll am Beispiel des Sortieralgorithmus *Merge\n",
    "Sort* illustriert werden."
   ]
  },
  {
   "cell_type": "markdown",
   "metadata": {},
   "source": [
    "Merge Sort basiert auf der Idee, dass es effizienter ist, vorsortierte\n",
    "Elemente zusammenzuführen als von Grund auf Elemente sortieren zu müssen."
   ]
  },
  {
   "cell_type": "markdown",
   "metadata": {},
   "source": [
    "![Merge Sort](https://en.wikipedia.org/wiki/File:Merge-sort-example-300px.gif)"
   ]
  },
  {
   "cell_type": "code",
   "execution_count": null,
   "metadata": {},
   "outputs": [],
   "source": []
  }
 ],
 "metadata": {
  "language_info": {
   "name": "python"
  }
 },
 "nbformat": 4,
 "nbformat_minor": 2
}
