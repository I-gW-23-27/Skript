{
 "cells": [
  {
   "cell_type": "markdown",
   "metadata": {},
   "source": [
    "# Merge Sort"
   ]
  },
  {
   "cell_type": "markdown",
   "metadata": {},
   "source": [
    "Selection Sort hat einen Zeitaufwand von $n^2$, das heisst es müssen\n",
    "$n^2$ Vergleiche angestellt werden. Das geht besser.  \n",
    "\n",
    "An dieser Stelle kommen *divide and conquer* Algorithmen ins Spiel. Der\n",
    "darin verfolgte Ansatz soll am Beispiel des Sortieralgorithmus *Merge\n",
    "Sort* illustriert werden."
   ]
  },
  {
   "cell_type": "markdown",
   "metadata": {},
   "source": [
    "Merge Sort basiert auf der Idee, dass es effizienter ist, vorsortierte\n",
    "Elemente zusammenzuführen als von Grund auf Elemente sortieren zu\n",
    "müssen. Darauf aufbauend wird die unsortierten Elemente in sortierte\n",
    "Elemente aufgeteilt. Dies ist spätestens dann der Fall, wenn nur noch\n",
    "einzelne Elemente vorliegen. Die so atomar aufgeteilten Elemente werden\n",
    "anschliessend zu sortierten Teileinheiten zusammengefügt, die dann\n",
    "wiederum sortiert zusammengefügt werden, bis am schluss alle Elemente in\n",
    "sortierter Reihenfolge vorliegen."
   ]
  },
  {
   "cell_type": "markdown",
   "metadata": {},
   "source": [
    "![Merge Sort](https://en.wikipedia.org/wiki/File:Merge-sort-example-300px.gif)"
   ]
  },
  {
   "cell_type": "code",
   "execution_count": null,
   "metadata": {},
   "outputs": [],
   "source": []
  }
 ],
 "metadata": {
  "language_info": {
   "name": "python"
  }
 },
 "nbformat": 4,
 "nbformat_minor": 2
}
