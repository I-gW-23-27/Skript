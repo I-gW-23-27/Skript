{
 "cells": [
  {
   "cell_type": "markdown",
   "metadata": {},
   "source": [
    "# Merge Sort"
   ]
  },
  {
   "cell_type": "markdown",
   "metadata": {},
   "source": [
    "Selection Sort hat einen Zeitaufwand von $n^2$, das heisst es müssen\n",
    "$n^2$ Vergleiche angestellt werden. Das geht besser.  \n",
    "\n",
    "An dieser Stelle kommen *divide and conquer* Algorithmen ins Spiel. Der\n",
    "darin verfolgte Ansatz soll am Beispiel des Sortieralgorithmus *Merge\n",
    "Sort* illustriert werden."
   ]
  },
  {
   "cell_type": "markdown",
   "metadata": {},
   "source": [
    "Merge Sort basiert auf der Idee, dass es effizienter ist, vorsortierte\n",
    "Elemente zusammenzuführen als von Grund auf Elemente sortieren zu\n",
    "müssen. Aufbauend auf dieser Idee, wird die unsortierte Sequenz solange\n",
    "in Teile zerlegt, bis nur noch sortierte Sequenzen vorliegen. Dies ist\n",
    "spätestens dann der Fall, wenn eine solcherart zerlegte Sequenz nur noch\n",
    "ein Element beinhaltet. Sequenzen mit nur einem Element sind immer\n",
    "sortiert. Diese bereits sortierten Sequenzen werden anschliessend zu\n",
    "ebenfalls sortierten grösseren Sequenzen zusammengefügt (gemerged) - bis\n",
    "die zusammengefügte Sequenz wieder alle ursprünglichen - jetzt aber\n",
    "sortierten - Elemente enthält.\n",
    "\n",
    "Diese Vorgehensweise kann folgendermassen visualisiert werden:"
   ]
  },
  {
   "cell_type": "markdown",
   "metadata": {},
   "source": [
    "<figure>\n",
    "<img src=\"../images/Merge_sort_algorithm_diagram.svg\" style=\"width:75%\">\n",
    "<figcaption align = \"center\"> Darstellung übernommen aus https://en.wikipedia.org/wiki/Merge_sort (besucht am 5. März 24)</figcaption>\n",
    "</figure>"
   ]
  },
  {
   "cell_type": "markdown",
   "metadata": {},
   "source": [
    "Diese Darstellungen können schematisch (Analog zu Euler und Seleciton\n",
    "Sort) folgendermassen beschrieben werden:"
   ]
  },
  {
   "cell_type": "markdown",
   "metadata": {},
   "source": [
    "**Algorithmus M** (Merge Sort). Sortierung einer Sequenz von $n$\n",
    "Elementen in aufsteigender ($x_1 \\leq x_2 \\leq ... \\leq x_n$)\n",
    "Reihenfolge durch rekursive Teilung und Fusionierung.\n",
    "\n",
    "**M1.** [Vorbereitung.] Definiere $n$ als die Länge der Sequenz $A$.\n",
    "\n",
    "**M2.** [Basisfall.] Wenn $n \\leq 1$, ist die Sequenz bereits sortiert.\n",
    "Terminiere den Algorithmus. \n",
    "\n",
    "**M3.** [Teile.] Andernfalls teile $A$ in zwei Hälften $A_1[1 \\ldots \\lfloor n/2 \\rfloor]$ und $A_2[\\lfloor n/2 \\rfloor + 1 \\ldots n]$.\n",
    "\n",
    "**M4.** [Rekursion.] Wende Merge Sort rekursiv auf $A_1$ und $A_2$ an.\n",
    "\n",
    "**M5.** [Merge Schritt.] Fusioniere die sortierten Sequenzen $A_1$ und\n",
    "$A_2$ zu einer einzigen sortierten Sequenz $A'$.  \n",
    "- Initialisiere drei Zeiger $i$, $j$, und $k$ auf die Anfänge von $A_1$,\n",
    "  $A_2$, und $A'$. \n",
    "- Wiederhole, solange $A_1$ und $A_2$ Elemente enthalten: \n",
    "    - Wenn $A_1[i] \\leq A_2[j]$, füge $A_1[i]$ zu $A'$ hinzu und erhöhe\n",
    "      $i$ und $k$.\n",
    "    - Andernfalls, füge $A_2[j]$ zu $A'$ hinzu und erhöhe $j$ und $k$.\n",
    "- Füge verbleibende Elemente von $A_1$ oder $A_2$ zu $A'$ hinzu.\n",
    "\n",
    "**M6.** [Bereinigung.] Ersetze $A$ mit $A'$ als die sortierte Sequenz."
   ]
  },
  {
   "cell_type": "code",
   "execution_count": null,
   "metadata": {},
   "outputs": [],
   "source": []
  }
 ],
 "metadata": {
  "language_info": {
   "name": "python"
  }
 },
 "nbformat": 4,
 "nbformat_minor": 2
}
