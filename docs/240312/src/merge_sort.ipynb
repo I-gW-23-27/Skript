{
 "cells": [
  {
   "cell_type": "markdown",
   "metadata": {},
   "source": [
    "# Merge Sort"
   ]
  },
  {
   "cell_type": "markdown",
   "metadata": {},
   "source": [
    "Selection Sort hat einen Zeitaufwand von $n^2$, das heisst es müssen\n",
    "$n^2$ Vergleiche angestellt werden. Das geht besser.  \n",
    "\n",
    "An dieser Stelle kommen *divide and conquer* Algorithmen ins Spiel. Der\n",
    "darin verfolgte Ansatz soll am Beispiel des Sortieralgorithmus *Merge\n",
    "Sort* illustriert werden."
   ]
  },
  {
   "cell_type": "markdown",
   "metadata": {},
   "source": [
    "Merge Sort basiert auf der Idee, dass es effizienter ist, vorsortierte\n",
    "Elemente zusammenzuführen als von Grund auf Elemente sortieren zu\n",
    "müssen. Aufbauend auf dieser Idee, wird die unsortierte Sequenz solange\n",
    "in Teile zerlegt, bis nur noch sortierte Sequenzen vorliegen. Dies ist\n",
    "spätestens dann der Fall, wenn eine solcherart zerlegte Sequenz nur noch\n",
    "ein Element beinhaltet. Sequenzen mit nur einem Element sind immer\n",
    "sortiert. Diese bereits sortierten Sequenzen werden anschliessend zu\n",
    "ebenfalls sortierten grösseren Sequenzen zusammengefügt (gemerged) - bis\n",
    "die zusammengefügte Sequenz wieder alle ursprünglichen - jetzt aber\n",
    "sortierten - Elemente enthält.\n",
    "\n",
    "Diese Vorgehensweise kann folgendermassen visualisiert werden:"
   ]
  },
  {
   "cell_type": "markdown",
   "metadata": {},
   "source": [
    "<figure>\n",
    "<img src=\"../images/Merge_sort_algorithm_diagram.svg\" style=\"width:75%\">\n",
    "<figcaption align = \"center\"> Darstellung übernommen aus https://en.wikipedia.org/wiki/Merge_sort (besucht am 5. März 24)</figcaption>\n",
    "</figure>"
   ]
  },
  {
   "cell_type": "markdown",
   "metadata": {},
   "source": [
    "Diese Darstellung kann schematisch (Analog zu Euler und Seleciton\n",
    "Sort) folgendermassen beschrieben werden:"
   ]
  },
  {
   "cell_type": "markdown",
   "metadata": {},
   "source": [
    "**Algorithmus M** (Merge Sort). Gegeben sei eine Sequenz $A$ mit $n$\n",
    "sortierbaren Elementen. Gesucht ist die Sequenz $B$ mit den \n",
    "Elementen in aufsteigender Reihenfolge ($x_1 \\leq x_2 \\leq ... \\leq\n",
    "x_n$). Die Lösung erfolgt durch rekursive Teilung und Fusionierung.\n",
    "\n",
    "**M1.** [Basisfall.] Wenn $n \\leq 1$, ist die Sequenz sortiert und der\n",
    "Algorithmus ist beendet.\n",
    "\n",
    "**M2.** [Teile.] Andernfalls teile $A$ in zwei Hälften $L[1 \\ldots\n",
    "\\lfloor n/2 \\rfloor]$ und $R[\\lfloor n/2 \\rfloor + 1 \\ldots n]$. \n",
    "\n",
    "**M3.** [Rekursion.] Wende Merge Sort rekursiv auf $L$ und $R$ an\n",
    "bis die beiden Teile eine Länge von 1 haben.\n",
    "\n",
    "**M4.** [Merge.] Die sortierten Sequenzen $L$ und $R$ werden zu einer\n",
    "einzigen sortierten Sequenz $B$ zusammengefügt."
   ]
  },
  {
   "cell_type": "code",
   "execution_count": null,
   "metadata": {},
   "outputs": [],
   "source": []
  }
 ],
 "metadata": {
  "language_info": {
   "name": "python"
  }
 },
 "nbformat": 4,
 "nbformat_minor": 2
}
