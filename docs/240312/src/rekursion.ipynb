{
 "cells": [
  {
   "cell_type": "markdown",
   "metadata": {
    "id": "lrE1Y2EzfJnS"
   },
   "source": [
    "# Die Gausssche Summenformel"
   ]
  },
  {
   "cell_type": "markdown",
   "metadata": {},
   "source": [
    "Der Deutsche Mathematiker Carl Friedich Gauss soll nach der Legende\n",
    "seinen Mathematiklehrer bei einer Strafaufgabe überlistet haben. Gemäss\n",
    "dieser Legende soll der Lehrer Gauss (und seinen Klassenkameraden) den\n",
    "Auftrag gegen haben, die Zahlen von 1 bis 100 zusammenzuzählen.\n",
    "\n",
    "Gauss soll nach kurzer Zeit mit der Lösung zum Lehrer gegangen sein.\n",
    "Gauss' Lösung basierte auf folgender Formel:\n",
    "\n",
    "$$\n",
    "1 + 2 + 3 + ... + (n-1) + n = \\sum_{k=1}^{n}k = \\frac{n(n+1)}{2}\n",
    "$$"
   ]
  },
  {
   "cell_type": "markdown",
   "metadata": {},
   "source": [
    "Diese Formel kann direkt als Funktion implementiert werden. Das\n",
    "entsprechende Beispiel finden sie in der folgenden Zelle."
   ]
  },
  {
   "cell_type": "code",
   "execution_count": null,
   "metadata": {},
   "outputs": [],
   "source": [
    "def gauss_direct(n : int) -> int:\n",
    "    return int((n*(n+1))/2)\n",
    "\n",
    "print(f'Die Summe der Zahlen von 1 '\n",
    "      f'bis 100 ist {gauss_direct(100)}.')"
   ]
  },
  {
   "cell_type": "markdown",
   "metadata": {},
   "source": [
    "Alternativ kann die Formel aber auch rekursiv implementiert werden.\n",
    "Entsprechend stellt sich die Frage, was wäre ein kleineres, aber\n",
    "grundsätzlich gleichartiges Problem?  \n",
    "Im vorliegenden Fall wäre das einfachste gleichartige Problem, die Summe\n",
    "aus einer Liste von Zahlen mit der Länge 1 und dem Wert 1 zu bilden.\n",
    "Dann ist die Summe auch 1. Als Formel könnte man das so schreiben:\n",
    "\n",
    "$$\n",
    "\\sum_{k=1}^{n}k = 1, \\text{ sofern } n=1\n",
    "$$\n",
    "\n",
    "Daraus ergibt sich die Frage, wie man von $n=100$ zu $n=1$ kommt.\n",
    "\n",
    "Für alle Fälle, in denen $n>1$ ist, gilt\n",
    "\n",
    "$$\n",
    "\\sum_{k=1}^{n}k = n + \\sum_{k=1}^{n-1}k\n",
    "$$\n",
    "\n",
    "In dieser Formel kann nun immer wieder $n-1$ eingesetzt werden. Das ist\n",
    "die Rekursion.\n",
    "\n",
    "Zusammengefasst kann dies folgendermassen dargestellt werden:\n",
    "\n",
    "$$\n",
    "\\sum_{k=1}^{n}=\n",
    "\\left\\{\n",
    "    \\begin{array}{lll}\n",
    "        1,&n=1&\\text{Basisfall}\\\\\n",
    "        n+\\sum\\limits_{k=1}^{n-1}k,&\\forall n > 1&\\text{Rekursionsfall}\n",
    "    \\end{array}\n",
    "\\right.\n",
    "$$"
   ]
  },
  {
   "cell_type": "markdown",
   "metadata": {},
   "source": [
    "Der Basisfall ist einerseits der einfachste Fall und andererseits auch\n",
    "der letzte Fall, der bearbeitet werden muss.  \n",
    "Beides ist wichtig. Das der Basisfall der einfachste Fall ist, hilft das\n",
    "Problem zu lösen. Das der Basisfall der Lezte Fall ist, der bearbeitet\n",
    "werden muss, ermöglicht es, die Rekursion zu beenden."
   ]
  },
  {
   "cell_type": "markdown",
   "metadata": {},
   "source": [
    "Im Rekursionsfall steht \"$\\forall n > 1$\". Das $\\forall$ Zeichen ist der\n",
    "sogenannte Allquantor und bedeutet hier \"für alle $n$ grösser als 1.  \n",
    "Mit Bezug auf das beschriebene Problemlösungsverfahren kann hier $n-1$\n",
    "eingesetzt werden."
   ]
  },
  {
   "cell_type": "markdown",
   "metadata": {},
   "source": [
    "Das eine Problemlösung rekursiv implementiert wird, bedeutet, dass die\n",
    "Funktion sich selber aufruft.  \n",
    "In der folgenden Zelle wird die gausssche Summenformel gemäss obiger\n",
    "Darstellung rekursiv implementiert."
   ]
  },
  {
   "cell_type": "code",
   "execution_count": null,
   "metadata": {},
   "outputs": [],
   "source": [
    "def gauss_recursive(n : int) -> int:\n",
    "    if n == 1:         # Basisfall\n",
    "        return 1\n",
    "    else:              # Rekursionsfall\n",
    "        return n + gauss_recursive(n - 1)\n",
    "    \n",
    "print(f'Die Summe der Zahlen von 1 '\n",
    "      f'bis 100 ist {gauss_recursive(100)}.')"
   ]
  }
 ],
 "metadata": {
  "colab": {
   "authorship_tag": "ABX9TyOlZt25abutpv60LzeROxe2",
   "provenance": []
  },
  "kernelspec": {
   "display_name": "Python 3 (ipykernel)",
   "language": "python",
   "name": "python3"
  },
  "language_info": {
   "codemirror_mode": {
    "name": "ipython",
    "version": 3
   },
   "file_extension": ".py",
   "mimetype": "text/x-python",
   "name": "python",
   "nbconvert_exporter": "python",
   "pygments_lexer": "ipython3",
   "version": "3.11.8"
  }
 },
 "nbformat": 4,
 "nbformat_minor": 1
}
