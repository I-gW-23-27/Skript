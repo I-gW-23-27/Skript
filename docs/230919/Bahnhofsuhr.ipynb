{
 "cells": [
  {
   "cell_type": "markdown",
   "metadata": {},
   "source": [
    "# SBB Bahnhofsuhr\n",
    "\n",
    "Hans Hilfiker (* 15. September 1901 in Zürich; † 2. März 1993 in\n",
    "Gordevio TI) war ein Schweizer Elektroingenieur und Gestalter.\n",
    "\n",
    "Sein bekanntestes Werk ist die Schweizer Bahnhofsuhr. Diese 1944\n",
    "gestaltete Uhr ergänzte er später mit dem von ihm entwickelten\n",
    "Sekundenzeiger mit der charakteristischen roten Kelle. Hilfiker sah sich\n",
    "erst ab den 1940er Jahren als Designer und hat seine\n",
    "Gestaltungsphilosophie als Ingenieur ohne Anlehnung aus der Kunst\n",
    "eigenständig entwickelt. Er gilt als einer der Pioniere des\n",
    "schweizerischen Industriedesigns.\n",
    "\n",
    "([Text gemäss Wikipedia](https://de.wikipedia.org/wiki/Hans_Hilfiker))\n",
    "\n",
    "![Prportionen SBB-Bahnhofsuhr](../images/dimensionen_bahnhofsuhr.jpg)\n",
    "([Bildquelle](https://www.eguide.ch/en/objekt/sbb-bahnhofsuhr/))"
   ]
  },
  {
   "cell_type": "markdown",
   "metadata": {},
   "source": [
    "## Zeichnen einer Schweizer Bahnhofsuhr\n",
    "\n",
    "Python und PyTamaro stellen alle erforderlichen Werkzeuge zum Zeichnen\n",
    "einer Schweizer Bahnhofsuhr zur Verfügung. Im Verlauf dieses Notebooks\n",
    "wird diese Schritt für Schritt gezeichnet.\n",
    "\n",
    "Mit der folgenden Zelle wird zuerst PyTamaro für Google Colaboratory\n",
    "installiert. Diese Zelle ist nur auszuführen, wenn das Jupyter Notebook\n",
    "in \n",
    "[Google\n",
    "Colaboratory](https://colab.research.google.com/notebooks/intro.ipynb)\n",
    "ausgeführt wird."
   ]
  },
  {
   "cell_type": "code",
   "execution_count": null,
   "metadata": {},
   "outputs": [],
   "source": [
    "! pip install pytamaro"
   ]
  },
  {
   "cell_type": "markdown",
   "metadata": {},
   "source": [
    "### Import von PyTamaro\n",
    "\n",
    "Die nächste Zelle importiert die erforderlichen Methoden aus PyTamaro."
   ]
  },
  {
   "cell_type": "code",
   "execution_count": null,
   "metadata": {},
   "outputs": [],
   "source": [
    "from pytamaro.de import (Grafik, ellipse, rechteck, leere_grafik,\n",
    "                         rot, schwarz, weiss, transparent, rgb_farbe,\n",
    "                         ueber, ueberlagere, neben, fixiere, kombiniere, drehe,\n",
    "                         unten_mitte, oben_mitte,\n",
    "                         zeige_grafik)"
   ]
  },
  {
   "cell_type": "markdown",
   "metadata": {},
   "source": [
    "### Zeichnen des Zifferblatts\n",
    "\n",
    "Als Aufwärmrunde wird das leere Zifferblatt (ohne Striche und ohne\n",
    "Zeiger) gezeichnet.\n",
    "\n",
    "Die Farbe für den Rand des Zifferblattes erhalten Sie als `rgb_farbe`.\n",
    "Der Nenndurchmesser wird als Konstante definiert. Konstanten sind in\n",
    "Python technisch nichts anderes als Variabeln. Damit Konstanten trotzdem\n",
    "als sloche erkennbar sind, gilt die Konvention, dass deren `NAMEN` mit\n",
    "Grossbuchstaben geschrieben werden."
   ]
  },
  {
   "cell_type": "code",
   "execution_count": null,
   "metadata": {},
   "outputs": [],
   "source": [
    "# Konstanten und Farben\n",
    "NENNDURCHMESSER = 150\n",
    "# für a wird wegen der Darstellung in der Zeichnung von der Konvention abgewichen\n",
    "a = NENNDURCHMESSER / 100\n",
    "RANDFARBE = rgb_farbe(150, 150, 150)\n",
    "\n",
    "def zifferblatt_hintergrund(nenndurchmesser : float) -> Grafik:\n",
    "    # TODO: ersetzen Sie die folgenden zwei Zeilen durch den\n",
    "    # erforderlichen Code\n",
    "    pass\n",
    "\n",
    "zeige_grafik(zifferblatt_hintergrund(NENNDURCHMESSER))"
   ]
  },
  {
   "cell_type": "markdown",
   "metadata": {},
   "source": [
    "### Zeichnen der Stunden\n",
    "\n",
    "Im nächsten Schritt werden die Striche für die Stunden gezeichnet. Dazu\n",
    "wird als Vorbereitung ein einzelner Stundenstrich und dann die Stunden\n",
    "12, 1 und 2 gezeichnet. Aus diesen drei Stunden kann dann die Anleitung für\n",
    "die Wiederholung hergeleitet werden."
   ]
  },
  {
   "cell_type": "code",
   "execution_count": null,
   "metadata": {},
   "outputs": [],
   "source": [
    "stundenstrich = rechteck(3.5 * a, 12 * a, schwarz)\n",
    "abstand_stundenstrich = rechteck(3.5 * a, 36.5 * a, transparent)\n",
    "stundenmodul = fixiere(unten_mitte, ueber(stundenstrich, abstand_stundenstrich))\n",
    "\n",
    "zwoelf = stundenmodul\n",
    "eins = drehe(-30, stundenmodul)\n",
    "zwei = drehe(-60, stundenmodul)\n",
    "\n",
    "stunden = kombiniere(zwoelf, eins)\n",
    "stunden = kombiniere(stunden, zwei)\n",
    "\n",
    "zeige_grafik(stunden)"
   ]
  },
  {
   "cell_type": "markdown",
   "metadata": {},
   "source": [
    "Diese Vorbereitung zeigt, dass man die einzelnen \"Stundenmodule\"\n",
    "mehrfach braucht und diese mehrfach durch die Funktion `kombiniere()`\n",
    "miteinander verbindet.\n",
    "\n",
    "Wünschenswert ist enstprechend eine Funktion `get_hour()`, welcher die\n",
    "gewünschte Stunde als Parameter übergeben wird."
   ]
  },
  {
   "cell_type": "code",
   "execution_count": null,
   "metadata": {},
   "outputs": [],
   "source": [
    "def get_hour(time : int) -> Grafik:\n",
    "    # TODO: schreiben Sie hier den Code, der ein Stundenmodul im der\n",
    "    # Zeit entsprechenden Winkel zurückgibt\n",
    "    pass\n",
    "\n",
    "zeige_grafik(get_hour(10))\n"
   ]
  },
  {
   "cell_type": "markdown",
   "metadata": {},
   "source": [
    "Mit der Funktion `get_hour()` steht das Werkzeug, das wiederholt werden\n",
    "muss zur Verfügung. Die Bahnhofsuhr zeigt zwölf Stundenstriche. Also\n",
    "brauchen wir eine zwölffache Repetition. Dafür stellt Python die\n",
    "`for`-Schleife zur Verfügung. Der Code einer `for`-Schleife sieht\n",
    "folgendermassen aus:\n",
    "\n",
    "```Python\n",
    "for zählvariabel in range(startwert, endwert, schrittgrösse):\n",
    "    zu wiederholende Anweisung(en)\n",
    "```\n",
    "\n",
    "Dabei wird die `zählvariabel` vom `startwert` bis vor den `endwert`\n",
    "unter Einhaltung der `schrittgrösse` hochgezählt. Beim `startwert` und\n",
    "der `schrittgrösse` handelt es sich um optionale Parameter. Das heisst,\n",
    "wenn die weggelassen werden, nehmen sie einen vordefinierten Wert an.\n",
    "Der vordefinierte Wert für `startwert` ist null, derjenige für\n",
    "`schrittgrösse` ist 1.\n",
    "\n",
    "Übertragen auf die zwölf Stundenstriche für das Zifferblatt führt das zu\n",
    "folgender Lösung:"
   ]
  },
  {
   "cell_type": "code",
   "execution_count": null,
   "metadata": {},
   "outputs": [],
   "source": [
    "stunden = get_hour(12)\n",
    "\n",
    "for time in range(12):\n",
    "    stunden = kombiniere(stunden, get_hour(time))\n",
    "    \n",
    "zeige_grafik(stunden)"
   ]
  },
  {
   "cell_type": "markdown",
   "metadata": {},
   "source": [
    "### Zeichnen der Minuten\n",
    "\n",
    "Die auf die Stunden zutreffenden Überlegungen können ohne weiteres auf\n",
    "die Minuten übertragen werden. In der folgenden Zelle geht es darum, die\n",
    "für die Minutenstriche erforderliche Funktion zu programmieren und\n",
    "deren Anwendung so oft zu wiederholen, dass die Minutenstriche für das\n",
    "Zifferblatt gezeichnet werden."
   ]
  },
  {
   "cell_type": "code",
   "execution_count": null,
   "metadata": {},
   "outputs": [],
   "source": [
    "def get_minute(time):\n",
    "    # TODO: schreiben Sie eine Minutenfunktion analog zur\n",
    "    # Stundenfunktion\n",
    "    pass    "
   ]
  },
  {
   "cell_type": "markdown",
   "metadata": {},
   "source": [
    "### Zifferblatt ohne Zeiger\n",
    "\n",
    "Die bisherigen Arbeiten können nun so kombiniert werden, dass ein\n",
    "Zifferblatt ohne Zeiger gezeichnet wird."
   ]
  },
  {
   "cell_type": "code",
   "execution_count": null,
   "metadata": {},
   "outputs": [],
   "source": [
    "def get_dial(nenndurchmesser):\n",
    "    # TODO: schreiben Sie eine Funktion, die aus den bisherigen\n",
    "    # Vorarbeiten ein Zifferlbatt ohne Zeiger zeichnet\n",
    "    pass\n",
    "    \n",
    "zeige_grafik(get_dial(NENNDURCHMESSER))        "
   ]
  },
  {
   "cell_type": "markdown",
   "metadata": {},
   "source": [
    "### Zeiger\n",
    "\n",
    "In einem letzten Schritt schreiben Sie eine Funktion, mit der eine frei\n",
    "gewählte Zeit dargestellt werden kann. Als Vereinfachung können Sie für\n",
    "Stunden- und Minutenzeiger statt von einem Trapez von einem Rechteck mit\n",
    "mittlerer Breite ausgehen.\n",
    "\n",
    "Allfällige Hilfsfunktionen können sie oberhalb der Funktion\n",
    "`show_time()` schreiben."
   ]
  },
  {
   "cell_type": "code",
   "execution_count": null,
   "metadata": {},
   "outputs": [],
   "source": [
    "def show_time(nenndurchmesser, stunde, minute, sekunde):\n",
    "    # TODO: schreiben Sie eine Funktion, welche eine beliebige Zeit\n",
    "    # darstellen kann.\n",
    "    pass\n",
    "    \n",
    "zeige_grafik(show_time(NENNDURCHMESSER, 11, 25, 0))\n",
    "    "
   ]
  }
 ],
 "metadata": {
  "kernelspec": {
   "display_name": ".venv",
   "language": "python",
   "name": "python3"
  },
  "language_info": {
   "codemirror_mode": {
    "name": "ipython",
    "version": 3
   },
   "file_extension": ".py",
   "mimetype": "text/x-python",
   "name": "python",
   "nbconvert_exporter": "python",
   "pygments_lexer": "ipython3",
   "version": "3.11.5"
  },
  "orig_nbformat": 4
 },
 "nbformat": 4,
 "nbformat_minor": 2
}
