{
  "cells": [
    {
      "cell_type": "markdown",
      "metadata": {
        "id": "view-in-github",
        "colab_type": "text"
      },
      "source": [
        "<a href=\"https://colab.research.google.com/github/I-gW-23-27/Skript/blob/main/docs/230919/Bahnhofsuhr.ipynb\" target=\"_parent\"><img src=\"https://colab.research.google.com/assets/colab-badge.svg\" alt=\"Open In Colab\"/></a>"
      ]
    },
    {
      "cell_type": "markdown",
      "metadata": {
        "id": "rRLeOFNjis_H"
      },
      "source": [
        "# SBB Bahnhofsuhr\n",
        "\n",
        "Hans Hilfiker (* 15. September 1901 in Zürich; † 2. März 1993 in\n",
        "Gordevio TI) war ein Schweizer Elektroingenieur und Gestalter.\n",
        "\n",
        "Sein bekanntestes Werk ist die Schweizer Bahnhofsuhr. Diese 1944\n",
        "gestaltete Uhr ergänzte er später mit dem von ihm entwickelten\n",
        "Sekundenzeiger mit der charakteristischen roten Kelle. Hilfiker sah sich\n",
        "erst ab den 1940er Jahren als Designer und hat seine\n",
        "Gestaltungsphilosophie als Ingenieur ohne Anlehnung aus der Kunst\n",
        "eigenständig entwickelt. Er gilt als einer der Pioniere des\n",
        "schweizerischen Industriedesigns.\n",
        "\n",
        "([Text gemäss Wikipedia](https://de.wikipedia.org/wiki/Hans_Hilfiker))\n",
        "\n",
        "![Prportionen SBB-Bahnhofsuhr](https://github.com/I-gW-23-27/Skript/blob/main/docs/images/dimensionen_bahnhofsuhr.jpg?raw=1)\n",
        "([Bildquelle](https://www.eguide.ch/en/objekt/sbb-bahnhofsuhr/))"
      ]
    },
    {
      "cell_type": "markdown",
      "metadata": {
        "id": "6ylffTVpis_L"
      },
      "source": [
        "## Zeichnen einer Schweizer Bahnhofsuhr\n",
        "\n",
        "Python und PyTamaro stellen alle erforderlichen Werkzeuge zum Zeichnen\n",
        "einer Schweizer Bahnhofsuhr zur Verfügung. Im Verlauf dieses Notebooks\n",
        "wird diese Schritt für Schritt gezeichnet.\n",
        "\n",
        "Mit der folgenden Zelle wird zuerst PyTamaro für Google Colaboratory\n",
        "installiert. Diese Zelle ist nur auszuführen, wenn das Jupyter Notebook\n",
        "in\n",
        "[Google\n",
        "Colaboratory](https://colab.research.google.com/notebooks/intro.ipynb)\n",
        "ausgeführt wird."
      ]
    },
    {
      "cell_type": "code",
      "execution_count": 1,
      "metadata": {
        "id": "JdosmGQmis_M",
        "outputId": "8d97bb94-a801-4559-a5d7-4e22c52e5c09",
        "colab": {
          "base_uri": "https://localhost:8080/"
        }
      },
      "outputs": [
        {
          "output_type": "stream",
          "name": "stdout",
          "text": [
            "Collecting pytamaro\n",
            "  Downloading pytamaro-0.5.2-py3-none-any.whl (33 kB)\n",
            "Requirement already satisfied: Pillow<10.0.0,>=9.0.0 in /usr/local/lib/python3.10/dist-packages (from pytamaro) (9.4.0)\n",
            "Collecting skia-python<88.0,>=87.4 (from pytamaro)\n",
            "  Downloading skia_python-87.5-cp310-cp310-manylinux_2_17_x86_64.manylinux2014_x86_64.whl (10.8 MB)\n",
            "\u001b[2K     \u001b[90m━━━━━━━━━━━━━━━━━━━━━━━━━━━━━━━━━━━━━━━━\u001b[0m \u001b[32m10.8/10.8 MB\u001b[0m \u001b[31m78.5 MB/s\u001b[0m eta \u001b[36m0:00:00\u001b[0m\n",
            "\u001b[?25hRequirement already satisfied: numpy in /usr/local/lib/python3.10/dist-packages (from skia-python<88.0,>=87.4->pytamaro) (1.23.5)\n",
            "Collecting pybind11>=2.6 (from skia-python<88.0,>=87.4->pytamaro)\n",
            "  Downloading pybind11-2.11.1-py3-none-any.whl (227 kB)\n",
            "\u001b[2K     \u001b[90m━━━━━━━━━━━━━━━━━━━━━━━━━━━━━━━━━━━━━━\u001b[0m \u001b[32m227.7/227.7 kB\u001b[0m \u001b[31m25.0 MB/s\u001b[0m eta \u001b[36m0:00:00\u001b[0m\n",
            "\u001b[?25hInstalling collected packages: pybind11, skia-python, pytamaro\n",
            "Successfully installed pybind11-2.11.1 pytamaro-0.5.2 skia-python-87.5\n"
          ]
        }
      ],
      "source": [
        "! pip install pytamaro"
      ]
    },
    {
      "cell_type": "markdown",
      "metadata": {
        "id": "TLY_l2Epis_Q"
      },
      "source": [
        "### Import von PyTamaro\n",
        "\n",
        "Die nächste Zelle importiert die erforderlichen Methoden aus PyTamaro."
      ]
    },
    {
      "cell_type": "code",
      "execution_count": 2,
      "metadata": {
        "id": "tp-KpbiVis_R"
      },
      "outputs": [],
      "source": [
        "from pytamaro.de import (Grafik, ellipse, rechteck, leere_grafik,\n",
        "                         rot, schwarz, weiss, transparent, rgb_farbe,\n",
        "                         ueber, ueberlagere, neben, fixiere, kombiniere, drehe,\n",
        "                         unten_mitte, oben_mitte,\n",
        "                         zeige_grafik)"
      ]
    },
    {
      "cell_type": "markdown",
      "metadata": {
        "id": "Y1dXXcKKis_S"
      },
      "source": [
        "### Zeichnen des Zifferblatts\n",
        "\n",
        "Als Aufwärmrunde wird das leere Zifferblatt (ohne Striche und ohne\n",
        "Zeiger) gezeichnet.\n",
        "\n",
        "Die Farbe für den Rand des Zifferblattes erhalten Sie als `rgb_farbe`.\n",
        "Der Nenndurchmesser wird als Konstante definiert. Konstanten sind in\n",
        "Python technisch nichts anderes als Variabeln. Damit Konstanten trotzdem\n",
        "als sloche erkennbar sind, gilt die Konvention, dass deren `NAMEN` mit\n",
        "Grossbuchstaben geschrieben werden."
      ]
    },
    {
      "cell_type": "code",
      "execution_count": 9,
      "metadata": {
        "id": "UdgRavjcis_S",
        "outputId": "0bd1dc16-0b0f-49f0-9ec0-0792fd209531",
        "colab": {
          "base_uri": "https://localhost:8080/",
          "height": 172
        }
      },
      "outputs": [
        {
          "output_type": "display_data",
          "data": {
            "text/plain": [
              "<PIL.PngImagePlugin.PngImageFile image mode=RGBA size=155x155>"
            ],
            "image/png": "[encoded data removed]"
          },
          "metadata": {}
        }
      ],
      "source": [
        "# Konstanten und Farben\n",
        "NENNDURCHMESSER = 150\n",
        "# für a wird wegen der Darstellung in der Zeichnung von der Konvention abgewichen\n",
        "a = NENNDURCHMESSER / 100\n",
        "RANDFARBE = rgb_farbe(150, 150, 150)\n",
        "\n",
        "def zifferblatt_hintergrund(nenndurchmesser : float) -> Grafik:\n",
        "    zifferblatt_weiss = ellipse(nenndurchmesser, nenndurchmesser, weiss)\n",
        "    rand = ellipse(nenndurchmesser + 5, nenndurchmesser + 5, RANDFARBE)\n",
        "    background = ueberlagere(zifferblatt_weiss, rand)\n",
        "\n",
        "    return background\n",
        "\n",
        "zeige_grafik(zifferblatt_hintergrund(NENNDURCHMESSER))"
      ]
    },
    {
      "cell_type": "markdown",
      "metadata": {
        "id": "OnTjf1fpis_T"
      },
      "source": [
        "### Zeichnen der Stunden\n",
        "\n",
        "Im nächsten Schritt werden die Striche für die Stunden gezeichnet. Dazu\n",
        "wird als Vorbereitung ein einzelner Stundenstrich und dann die Stunden\n",
        "12, 1 und 2 gezeichnet. Aus diesen drei Stunden kann dann die Anleitung für\n",
        "die Wiederholung hergeleitet werden."
      ]
    },
    {
      "cell_type": "code",
      "execution_count": 4,
      "metadata": {
        "id": "ogJVKiTsis_T",
        "outputId": "9c67cdfe-0dfd-4b57-af36-31be761cfa09",
        "colab": {
          "base_uri": "https://localhost:8080/",
          "height": 93
        }
      },
      "outputs": [
        {
          "output_type": "display_data",
          "data": {
            "text/plain": [
              "<PIL.PngImagePlugin.PngImageFile image mode=RGBA size=67x76>"
            ],
            "image/png": "[encoded data removed]"
          },
          "metadata": {}
        }
      ],
      "source": [
        "stundenstrich = rechteck(3.5 * a, 12 * a, schwarz)\n",
        "abstand_stundenstrich = rechteck(3.5 * a, 36.5 * a, transparent)\n",
        "stundenmodul = fixiere(unten_mitte, ueber(stundenstrich, abstand_stundenstrich))\n",
        "\n",
        "zwoelf = stundenmodul\n",
        "eins = drehe(-30, stundenmodul)\n",
        "zwei = drehe(-60, stundenmodul)\n",
        "\n",
        "stunden = kombiniere(zwoelf, eins)\n",
        "stunden = kombiniere(stunden, zwei)\n",
        "\n",
        "zeige_grafik(stunden)"
      ]
    },
    {
      "cell_type": "markdown",
      "metadata": {
        "id": "vnqKNkZ9is_U"
      },
      "source": [
        "Diese Vorbereitung zeigt, dass man die einzelnen \"Stundenmodule\"\n",
        "mehrfach braucht und diese mehrfach durch die Funktion `kombiniere()`\n",
        "miteinander verbindet.\n",
        "\n",
        "Wünschenswert ist enstprechend eine Funktion `get_hour()`, welcher die\n",
        "gewünschte Stunde als Parameter übergeben wird."
      ]
    },
    {
      "cell_type": "code",
      "execution_count": 5,
      "metadata": {
        "id": "ujhetFTXis_U",
        "outputId": "3637802b-6373-4bbe-a98d-72a092cc6baf",
        "colab": {
          "base_uri": "https://localhost:8080/",
          "height": 58
        }
      },
      "outputs": [
        {
          "output_type": "display_data",
          "data": {
            "text/plain": [
              "<PIL.PngImagePlugin.PngImageFile image mode=RGBA size=66x41>"
            ],
            "image/png": "[encoded data removed]"
          },
          "metadata": {}
        }
      ],
      "source": [
        "def get_hour(time : int) -> Grafik:\n",
        "    # TODO: schreiben Sie hier den Code, der ein Stundenmodul im der\n",
        "    # Zeit entsprechenden Winkel zurückgibt\n",
        "    angle = 360 / 12 * time\n",
        "    stundenstrich = rechteck(3.5 * a, 12 * a, schwarz)\n",
        "    abstand_stundenstrich = rechteck(3.5 * a, 36.5 * a, transparent)\n",
        "    stundenmodul = fixiere(unten_mitte, ueber(stundenstrich, abstand_stundenstrich))\n",
        "\n",
        "    return drehe(-angle, stundenmodul)\n",
        "\n",
        "zeige_grafik(get_hour(10))"
      ]
    },
    {
      "cell_type": "markdown",
      "metadata": {
        "id": "vm-8SAiCis_U"
      },
      "source": [
        "Mit der Funktion `get_hour()` steht das Werkzeug, das wiederholt werden\n",
        "muss zur Verfügung. Die Bahnhofsuhr zeigt zwölf Stundenstriche. Also\n",
        "brauchen wir eine zwölffache Repetition. Dafür stellt Python die\n",
        "`for`-Schleife zur Verfügung. Der Code einer `for`-Schleife sieht\n",
        "folgendermassen aus:\n",
        "\n",
        "```Python\n",
        "for zählvariabel in range(startwert, endwert, schrittgrösse):\n",
        "    zu wiederholende Anweisung(en)\n",
        "```\n",
        "\n",
        "Dabei wird die `zählvariabel` vom `startwert` bis vor den `endwert`\n",
        "unter Einhaltung der `schrittgrösse` hochgezählt. Beim `startwert` und\n",
        "der `schrittgrösse` handelt es sich um optionale Parameter. Das heisst,\n",
        "wenn die weggelassen werden, nehmen sie einen vordefinierten Wert an.\n",
        "Der vordefinierte Wert für `startwert` ist null, derjenige für\n",
        "`schrittgrösse` ist 1.\n",
        "\n",
        "Übertragen auf die zwölf Stundenstriche für das Zifferblatt führt das zu\n",
        "folgender Lösung:"
      ]
    },
    {
      "cell_type": "code",
      "execution_count": 6,
      "metadata": {
        "id": "bjgfQ6q4is_U",
        "outputId": "9a9553a8-e2cc-46b0-d31f-79548cf1fa1a",
        "colab": {
          "base_uri": "https://localhost:8080/",
          "height": 163
        }
      },
      "outputs": [
        {
          "output_type": "display_data",
          "data": {
            "text/plain": [
              "<PIL.PngImagePlugin.PngImageFile image mode=RGBA size=146x146>"
            ],
            "image/png": "[encoded data removed]"
          },
          "metadata": {}
        }
      ],
      "source": [
        "stunden = get_hour(12)\n",
        "\n",
        "for time in range(12):\n",
        "    stunden = kombiniere(stunden, get_hour(time))\n",
        "\n",
        "zeige_grafik(stunden)"
      ]
    },
    {
      "cell_type": "markdown",
      "metadata": {
        "id": "CJaG_fxZis_V"
      },
      "source": [
        "### Zeichnen der Minuten\n",
        "\n",
        "Die auf die Stunden zutreffenden Überlegungen können ohne weiteres auf\n",
        "die Minuten übertragen werden. In der folgenden Zelle geht es darum, die\n",
        "für die Minutenstriche erforderliche Funktion zu programmieren und\n",
        "deren Anwendung so oft zu wiederholen, dass die Minutenstriche für das\n",
        "Zifferblatt gezeichnet werden."
      ]
    },
    {
      "cell_type": "code",
      "execution_count": 7,
      "metadata": {
        "id": "NEH9-AqRis_V",
        "outputId": "05be4fa1-ae33-49c7-edd8-0c7d9c6c4ac9",
        "colab": {
          "base_uri": "https://localhost:8080/",
          "height": 163
        }
      },
      "outputs": [
        {
          "output_type": "display_data",
          "data": {
            "text/plain": [
              "<PIL.PngImagePlugin.PngImageFile image mode=RGBA size=146x146>"
            ],
            "image/png": "[encoded data removed]"
          },
          "metadata": {}
        }
      ],
      "source": [
        "def get_minute(time):\n",
        "    # TODO: schreiben Sie eine Minutenfunktion analog zur\n",
        "    # Stundenfunktion\n",
        "    angle = 360 / 60 * time\n",
        "    minutenstrich = rechteck(1.4 * a, 3.5 * a, schwarz)\n",
        "    abstand_minutenstrich = rechteck(1.4 * a, 45 * a, transparent)\n",
        "    minutenmodul = fixiere(unten_mitte, ueber(minutenstrich, abstand_minutenstrich))\n",
        "\n",
        "    return drehe(-angle, minutenmodul)\n",
        "\n",
        "minuten = get_minute(60)\n",
        "\n",
        "for time in range(60):\n",
        "    minuten = kombiniere(minuten, get_minute(time))\n",
        "\n",
        "zeige_grafik(minuten)\n",
        ""
      ]
    },
    {
      "cell_type": "markdown",
      "metadata": {
        "id": "Y7qY5JyWis_V"
      },
      "source": [
        "### Zifferblatt ohne Zeiger\n",
        "\n",
        "Die bisherigen Arbeiten können nun so kombiniert werden, dass ein\n",
        "Zifferblatt ohne Zeiger gezeichnet wird."
      ]
    },
    {
      "cell_type": "code",
      "execution_count": 11,
      "metadata": {
        "id": "h-_mlkbyis_V",
        "outputId": "220bd123-172a-4c45-8fea-5d4f20cdd499",
        "colab": {
          "base_uri": "https://localhost:8080/",
          "height": 172
        }
      },
      "outputs": [
        {
          "output_type": "display_data",
          "data": {
            "text/plain": [
              "<PIL.PngImagePlugin.PngImageFile image mode=RGBA size=155x155>"
            ],
            "image/png": "[encoded data removed]"
          },
          "metadata": {}
        }
      ],
      "source": [
        "def get_dial(nenndurchmesser):\n",
        "    # TODO: schreiben Sie eine Funktion, die aus den bisherigen\n",
        "    # Vorarbeiten ein Zifferlbatt ohne Zeiger zeichnet\n",
        "    hintergrund = zifferblatt_hintergrund(nenndurchmesser)\n",
        "\n",
        "    stunden = get_hour(12)\n",
        "\n",
        "    for time in range(12):\n",
        "        stunden = kombiniere(stunden, get_hour(time))\n",
        "\n",
        "    minuten = get_minute(60)\n",
        "\n",
        "    for time in range(60):\n",
        "        minuten = kombiniere(minuten, get_minute(time))\n",
        "\n",
        "    dial = ueberlagere(minuten, stunden)\n",
        "    dial = ueberlagere(dial, hintergrund)\n",
        "\n",
        "    return dial\n",
        "\n",
        "zeige_grafik(get_dial(NENNDURCHMESSER))\n",
        ""
      ]
    },
    {
      "cell_type": "markdown",
      "metadata": {
        "id": "J3nqzz-bis_W"
      },
      "source": [
        "### Zeiger\n",
        "\n",
        "In einem letzten Schritt schreiben Sie eine Funktion, mit der eine frei\n",
        "gewählte Zeit dargestellt werden kann. Als Vereinfachung können Sie für\n",
        "Stunden- und Minutenzeiger statt von einem Trapez von einem Rechteck mit\n",
        "mittlerer Breite ausgehen.\n",
        "\n",
        "Allfällige Hilfsfunktionen können sie oberhalb der Funktion\n",
        "`show_time()` schreiben."
      ]
    },
    {
      "cell_type": "code",
      "execution_count": 12,
      "metadata": {
        "id": "wDgjxvoLis_W",
        "outputId": "ada46218-10c8-4d7d-95b1-25acc30d3a13",
        "colab": {
          "base_uri": "https://localhost:8080/",
          "height": 172
        }
      },
      "outputs": [
        {
          "output_type": "display_data",
          "data": {
            "text/plain": [
              "<PIL.PngImagePlugin.PngImageFile image mode=RGBA size=155x155>"
            ],
            "image/png": "[encoded data removed]"
          },
          "metadata": {}
        }
      ],
      "source": [
        "# Sekundenzeiger\n",
        "def sekundenzeiger(nenndurchmesser : float, sekunde : int) -> Grafik:\n",
        "    angle = 360 / 60 * sekunde\n",
        "\n",
        "    zeigerkelle = ellipse(10.5 * a, 10.5 * a, rot)\n",
        "    zeigerschaft = fixiere(oben_mitte, rechteck(1.4 * a, 31.2 * a, rot))\n",
        "    zeiger_mit_kelle = fixiere(unten_mitte, kombiniere(zeigerkelle, zeigerschaft))\n",
        "    zeigerende = fixiere(oben_mitte, rechteck(1.4 * a, 16.5 * a, rot))\n",
        "    zeiger = kombiniere(zeiger_mit_kelle, zeigerende)\n",
        "\n",
        "    return drehe(-angle, zeiger)\n",
        "\n",
        "# Minutenzeiger\n",
        "def minutenzeiger(nenndurchmesser : float, minute : int) -> Grafik:\n",
        "    angle = 360 / 60 * minute\n",
        "\n",
        "    zeiger_kurz = fixiere(oben_mitte, rechteck(3.6 * a, 12 * a, schwarz))\n",
        "    zeiger_lang = fixiere(unten_mitte, rechteck(3.6 * a, 46 * a, schwarz))\n",
        "    zeiger = kombiniere(zeiger_kurz, zeiger_lang)\n",
        "\n",
        "    zeiger_mit_zeit = drehe(-angle, zeiger)\n",
        "\n",
        "    return zeiger_mit_zeit\n",
        "\n",
        "# Stundenzeiger\n",
        "def stundenzeiger(nenndurchmeser : float, stunde : int, minute : int) -> Grafik:\n",
        "    angle = 360 / (12*60) * (stunde*60 + minute)\n",
        "\n",
        "    zeiger_kurz = fixiere(oben_mitte, rechteck(6.4 * a, 12 * a, schwarz))\n",
        "    zeiger_lang = fixiere(unten_mitte, rechteck(6.4* a, 32 * a, schwarz))\n",
        "    zeiger = kombiniere(zeiger_kurz, zeiger_lang)\n",
        "\n",
        "    zeiger_mit_zeit = drehe(-angle, zeiger)\n",
        "\n",
        "    return zeiger_mit_zeit\n",
        "\n",
        "def show_time(nenndurchmesser, stunde, minute, sekunde):\n",
        "    # TODO: schreiben Sie eine Funktion, welche eine beliebige Zeit\n",
        "    # darstellen kann.\n",
        "    # pass\n",
        "    hintergrund = get_dial(nenndurchmesser)\n",
        "    stunden_zeiger = stundenzeiger(nenndurchmesser, stunde, minute)\n",
        "    minuten_zeiger = minutenzeiger(nenndurchmesser, minute)\n",
        "    sekunden_zeiger = sekundenzeiger(nenndurchmesser, sekunde)\n",
        "\n",
        "    zeit = kombiniere(sekunden_zeiger, minuten_zeiger)\n",
        "    zeit = kombiniere(stunden_zeiger, zeit)\n",
        "    zeit = kombiniere(zeit, hintergrund)\n",
        "\n",
        "    return zeit\n",
        "\n",
        "zeige_grafik(show_time(NENNDURCHMESSER, 11, 25, 0))\n",
        ""
      ]
    },
    {
      "cell_type": "markdown",
      "metadata": {
        "id": "ayPDffAtis_W"
      },
      "source": [
        "[Zurück zur Übersicht](https://i-gw-23-27.github.io/Skript/)"
      ]
    }
  ],
  "metadata": {
    "kernelspec": {
      "display_name": ".venv",
      "language": "python",
      "name": "python3"
    },
    "language_info": {
      "codemirror_mode": {
        "name": "ipython",
        "version": 3
      },
      "file_extension": ".py",
      "mimetype": "text/x-python",
      "name": "python",
      "nbconvert_exporter": "python",
      "pygments_lexer": "ipython3",
      "version": "3.11.5"
    },
    "orig_nbformat": 4,
    "colab": {
      "provenance": [],
      "include_colab_link": true
    }
  },
  "nbformat": 4,
  "nbformat_minor": 0
}