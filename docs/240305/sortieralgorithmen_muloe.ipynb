{
 "cells": [
  {
   "cell_type": "markdown",
   "metadata": {},
   "source": [
    "# Sortieren"
   ]
  },
  {
   "cell_type": "markdown",
   "metadata": {},
   "source": [
    "In diesem Notebook geht es um ein Thema, das im Zusammenhang mit\n",
    "Computerprogrammen häufig anzutreffen ist: Das Sortieren von Elementen\n",
    "in auf- oder absteigender Reihenfolge. Um sich die Bedeutung sortierter\n",
    "Elemente vor Augen zu führen, stellen Sie sich ein Wörterbuch vor, in\n",
    "dem die Wörter nicht alphabetisch geordnet sind.\n",
    "\n",
    "In der Informatik wurden viele - mittlerweile als klassisch zu\n",
    "bezeichnende - Sortieralgorithmen entwickelt. Einen ersten soll dieses\n",
    "Jupyter Notebook etwas näher vorstellen."
   ]
  },
  {
   "cell_type": "markdown",
   "metadata": {},
   "source": [
    "## Selection Sort"
   ]
  },
  {
   "cell_type": "markdown",
   "metadata": {},
   "source": [
    "Selection Sort ist einer der einfachsten Sortieralgorithmen. Er\n",
    "funktioniert folgendermassen: \n",
    "Als erstes wird das kleinste Element in der zu sortierenden Liste\n",
    "gesucht. Wenn das kleinste Element gefunden wurde, tauscht es den Platz\n",
    "mit dem Element zuvorderst in der Liste. Als nächstes wird das\n",
    "zweitkleinste Element gesucht. Dieses tauscht den Platz mit dem zweiten\n",
    "Element der Liste. Dies wird fortgesetzt, bis das grösste Element auf\n",
    "dem letzten Platz der Liste sitzt."
   ]
  },
  {
   "cell_type": "markdown",
   "metadata": {},
   "source": [
    "![Visualisierung Selection Sort](selection_sort_mechanics.svg)"
   ]
  },
  {
   "cell_type": "markdown",
   "metadata": {},
   "source": [
    "### Aufgabe"
   ]
  },
  {
   "cell_type": "markdown",
   "metadata": {},
   "source": [
    "Beschreiben Sie den Algorithmus von Selection Sort analog zur\n",
    "Darstellung auf der Theorieseite."
   ]
  },
  {
   "cell_type": "markdown",
   "metadata": {},
   "source": [
    "### Musterlösung"
   ]
  },
  {
   "cell_type": "markdown",
   "metadata": {},
   "source": [
    "**Algorithmus S** (Selection Sort). Gegeben sei eine Sequenz mit\n",
    "sortierbaren Elementen. Gesucht ist die Sequenz mit den aufsteigend\n",
    "sortierten Elementen.\n",
    "\n",
    "**S1.** \\[Kleinstes Element.\\] Suche das kleinste Element der der Sequenz.  \n",
    "**S2.** \\[Platztausch.\\] Das kleinste Element tauscht den Platz mit\n",
    "dem Element zuvorderst in der Sequenz.  \n",
    "**S3.** \\[Liste kürzen.\\] Das vorderste Element der Sequenz wird von der\n",
    "Weiterverarbeitung ausgenommen. Wenn die gekürzte Sequenz eine Länge von 1\n",
    "aufweist, ist die Sequenz sortiert. Andernfalls weiter mit Schritt S1. "
   ]
  },
  {
   "cell_type": "markdown",
   "metadata": {},
   "source": [
    "### Aufgabe\n",
    "\n",
    "Zeichnen Sie ein Flussdiagramm des formalisierten Selection Sort Algorithmus."
   ]
  },
  {
   "cell_type": "markdown",
   "metadata": {},
   "source": [
    "![Selection Sort](selection_sort_flow_chart.svg)"
   ]
  },
  {
   "cell_type": "markdown",
   "metadata": {},
   "source": [
    "### Aufgabe"
   ]
  },
  {
   "cell_type": "markdown",
   "metadata": {},
   "source": [
    "Implementieren Sie Selection Sort in Python."
   ]
  },
  {
   "cell_type": "markdown",
   "metadata": {},
   "source": [
    "### Musterlösung"
   ]
  },
  {
   "cell_type": "markdown",
   "metadata": {},
   "source": [
    "#### Kleinstes Element suchen"
   ]
  },
  {
   "cell_type": "code",
   "execution_count": 1,
   "metadata": {},
   "outputs": [],
   "source": [
    "test_sequenz = [3,5, 1, 4, 2]"
   ]
  },
  {
   "cell_type": "code",
   "execution_count": 2,
   "metadata": {},
   "outputs": [
    {
     "name": "stdout",
     "output_type": "stream",
     "text": [
      "Das kleinste Element der Testsequenz ist 1.\n"
     ]
    }
   ],
   "source": [
    "minimum = test_sequenz[0]\n",
    "for x in test_sequenz:\n",
    "    if x < minimum:\n",
    "        minimum = x\n",
    "        \n",
    "print(f'Das kleinste Element der '\n",
    "      f'Testsequenz ist {minimum}.')"
   ]
  },
  {
   "cell_type": "markdown",
   "metadata": {},
   "source": [
    "#### Platztausch"
   ]
  },
  {
   "cell_type": "code",
   "execution_count": 4,
   "metadata": {},
   "outputs": [],
   "source": [
    "def selection_sort(arr):\n",
    "    # Durchlaufen des Arrays\n",
    "    for i in range(len(arr)):\n",
    "        # Finde das kleinste Element im verbleibenden unsortierten Array\n",
    "        min_idx = i\n",
    "        for j in range(i+1, len(arr)):\n",
    "            if arr[j] < arr[min_idx]:\n",
    "                min_idx = j\n",
    "        \n",
    "        # Tausche das gefundene kleinste Element mit dem ersten Element\n",
    "        arr[i], arr[min_idx] = arr[min_idx], arr[i]\n",
    "    \n",
    "    return arr"
   ]
  },
  {
   "cell_type": "code",
   "execution_count": null,
   "metadata": {},
   "outputs": [],
   "source": [
    "def selection_sort_b(seq):\n",
    "    "
   ]
  }
 ],
 "metadata": {
  "kernelspec": {
   "display_name": ".venv",
   "language": "python",
   "name": "python3"
  },
  "language_info": {
   "codemirror_mode": {
    "name": "ipython",
    "version": 3
   },
   "file_extension": ".py",
   "mimetype": "text/x-python",
   "name": "python",
   "nbconvert_exporter": "python",
   "pygments_lexer": "ipython3",
   "version": "3.11.8"
  }
 },
 "nbformat": 4,
 "nbformat_minor": 2
}
