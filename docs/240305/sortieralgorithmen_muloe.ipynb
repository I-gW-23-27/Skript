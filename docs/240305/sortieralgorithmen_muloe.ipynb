{
 "cells": [
  {
   "cell_type": "markdown",
   "metadata": {},
   "source": [
    "# Sortieren"
   ]
  },
  {
   "cell_type": "markdown",
   "metadata": {},
   "source": [
    "In diesem Notebook geht es um ein Thema, das im Zusammenhang mit\n",
    "Computerprogrammen häufig anzutreffen ist: Das Sortieren von Elementen\n",
    "in auf- oder absteigender Reihenfolge. Um sich die Bedeutung sortierter\n",
    "Elemente vor Augen zu führen, stellen Sie sich ein Wörterbuch vor, in\n",
    "dem die Wörter nicht alphabetisch geordnet sind.\n",
    "\n",
    "In der Informatik wurden viele - mittlerweile als klassisch zu\n",
    "bezeichnende - Sortieralgorithmen entwickelt. Einen ersten soll dieses\n",
    "Jupyter Notebook etwas näher vorstellen."
   ]
  },
  {
   "cell_type": "markdown",
   "metadata": {},
   "source": [
    "## Selection Sort"
   ]
  },
  {
   "cell_type": "markdown",
   "metadata": {},
   "source": [
    "Selection Sort ist einer der einfachsten Sortieralgorithmen. Er\n",
    "funktioniert folgendermassen: \n",
    "Als erstes wird das kleinste Element in der zu sortierenden Liste\n",
    "gesucht. Wenn das kleinste Element gefunden wurde, tauscht es den Platz\n",
    "mit dem Element zuvorderst in der Liste. Als nächstes wird das\n",
    "zweitkleinste Element gesucht. Dieses tauscht den Platz mit dem zweiten\n",
    "Element der Liste. Dies wird fortgesetzt, bis das grösste Element auf\n",
    "dem letzten Platz der Liste sitzt."
   ]
  },
  {
   "cell_type": "markdown",
   "metadata": {},
   "source": [
    "![Visualisierung Selection Sort](selection_sort_mechanics.svg)"
   ]
  },
  {
   "cell_type": "markdown",
   "metadata": {},
   "source": [
    "### Aufgabe"
   ]
  },
  {
   "cell_type": "markdown",
   "metadata": {},
   "source": [
    "Beschreiben Sie den Algorithmus von Selection Sort analog zur\n",
    "Darstellung auf der Theorieseite."
   ]
  },
  {
   "cell_type": "markdown",
   "metadata": {},
   "source": [
    "### Musterlösung"
   ]
  },
  {
   "cell_type": "markdown",
   "metadata": {},
   "source": [
    "**Algorithmus S** (Selection Sort). Gegeben sei eine Sequenz mit\n",
    "sortierbaren Elementen. Gesucht ist die Sequenz mit den aufsteigend\n",
    "sortierten Elementen.\n",
    "\n",
    "**S1.** \\[Kleinstes Element.\\] Suche das kleinste Element der der Sequenz.  \n",
    "**S2.** \\[Platztausch.\\] Das kleinste Element tauscht den Platz mit\n",
    "dem Element zuvorderst in der Sequenz.  \n",
    "**S3.** \\[Liste kürzen.\\] Das vorderste Element der Sequenz wird von der\n",
    "Weiterverarbeitung ausgenommen. Wenn die gekürzte Sequenz eine Länge von 1\n",
    "aufweist, ist die Sequenz sortiert. Andernfalls weiter mit Schritt S1. "
   ]
  },
  {
   "cell_type": "markdown",
   "metadata": {},
   "source": [
    "### Aufgabe\n",
    "\n",
    "Zeichnen Sie ein Flussdiagramm des formalisierten Selection Sort Algorithmus."
   ]
  },
  {
   "cell_type": "markdown",
   "metadata": {},
   "source": [
    "![Selection Sort](selection_sort_flow_chart.svg)"
   ]
  },
  {
   "cell_type": "markdown",
   "metadata": {},
   "source": [
    "### Aufgabe"
   ]
  },
  {
   "cell_type": "markdown",
   "metadata": {},
   "source": [
    "Implementieren Sie Selection Sort in Python."
   ]
  },
  {
   "cell_type": "markdown",
   "metadata": {},
   "source": [
    "### Musterlösung"
   ]
  },
  {
   "cell_type": "markdown",
   "metadata": {},
   "source": [
    "#### Kleinstes Element suchen"
   ]
  },
  {
   "cell_type": "code",
   "execution_count": null,
   "metadata": {},
   "outputs": [],
   "source": [
    "test_sequenz = [3, 5, 1, 4, 2]"
   ]
  },
  {
   "cell_type": "code",
   "execution_count": null,
   "metadata": {},
   "outputs": [],
   "source": [
    "minimum = test_sequenz[0]\n",
    "for x in test_sequenz:\n",
    "    if x < minimum:\n",
    "        minimum = x\n",
    "        \n",
    "print(f'Das kleinste Element der '\n",
    "      f'Testsequenz ist {minimum}.')"
   ]
  },
  {
   "cell_type": "markdown",
   "metadata": {},
   "source": [
    "#### Platztausch"
   ]
  },
  {
   "cell_type": "markdown",
   "metadata": {},
   "source": [
    "Zur Verdeutlichung hier als erstes die zu sortierende Sequenz mit den\n",
    "dazugehörigen Indizes:\n",
    "\n",
    "![Sortiersequenz](tausch.svg)"
   ]
  },
  {
   "cell_type": "markdown",
   "metadata": {},
   "source": [
    "Wir suchen für den Tausch nicht das kleinste Element, sondern den Index\n",
    "des kleinsten Elements."
   ]
  },
  {
   "cell_type": "code",
   "execution_count": null,
   "metadata": {},
   "outputs": [],
   "source": [
    "minimum_index = 0\n",
    "for i in range(len(test_sequenz)):\n",
    "    if test_sequenz[i] < test_sequenz[minimum_index]:\n",
    "        minimum_index = i\n",
    "\n",
    "print(f'Der Index des kleinsten Elements der '\n",
    "      f'Testsequenz ist {minimum_index}.')\n",
    "    "
   ]
  },
  {
   "cell_type": "markdown",
   "metadata": {},
   "source": [
    "Mit dieser Information kann das kleinste Element an die erste Stelle\n",
    "getauscht werden."
   ]
  },
  {
   "cell_type": "code",
   "execution_count": null,
   "metadata": {},
   "outputs": [],
   "source": [
    "tmp = test_sequenz[0]\n",
    "test_sequenz[0] = test_sequenz[minimum_index]\n",
    "test_sequenz[minimum_index] = tmp\n",
    "\n",
    "test_sequenz"
   ]
  },
  {
   "cell_type": "markdown",
   "metadata": {},
   "source": [
    "#### Sequenz kürzen und Schlaufe"
   ]
  },
  {
   "cell_type": "markdown",
   "metadata": {},
   "source": [
    "Zum Abschluss muss die die Sequenz gekürzt werden und der Prozess\n",
    "wiederholt werden."
   ]
  },
  {
   "cell_type": "code",
   "execution_count": null,
   "metadata": {},
   "outputs": [],
   "source": [
    "for i in range(len(test_sequenz)):\n",
    "    minimum_index = i\n",
    "    \n",
    "    for j in range(i + 1, len(test_sequenz)):\n",
    "        if test_sequenz[j] < test_sequenz[minimum_index]:\n",
    "            minimum_index = j\n",
    "        \n",
    "    tmp = test_sequenz[i]\n",
    "    test_sequenz[i] = test_sequenz[minimum_index]\n",
    "    test_sequenz[minimum_index] = tmp\n",
    "            \n",
    "test_sequenz"
   ]
  },
  {
   "cell_type": "markdown",
   "metadata": {},
   "source": [
    "#### Selection Sort als Funktion"
   ]
  },
  {
   "cell_type": "markdown",
   "metadata": {},
   "source": [
    "Zum Abschluss kann die Vorgehensweise in eine Funktion zusammegefasst werden."
   ]
  },
  {
   "cell_type": "code",
   "execution_count": null,
   "metadata": {},
   "outputs": [],
   "source": [
    "def selection_sort(seq):\n",
    "    for i in range(len(seq)):\n",
    "        minimum_index = i\n",
    "        for j in range(i, len(seq)):\n",
    "            if seq[j] < seq[minimum_index]:\n",
    "                minimum_index = j\n",
    "        seq[i], seq[minimum_index] = seq[minimum_index], seq[i]\n",
    "    return seq"
   ]
  },
  {
   "cell_type": "code",
   "execution_count": null,
   "metadata": {},
   "outputs": [],
   "source": [
    "print(selection_sort([3, 5, 1, 4, 2]))"
   ]
  }
 ],
 "metadata": {
  "kernelspec": {
   "display_name": ".venv",
   "language": "python",
   "name": "python3"
  },
  "language_info": {
   "codemirror_mode": {
    "name": "ipython",
    "version": 3
   },
   "file_extension": ".py",
   "mimetype": "text/x-python",
   "name": "python",
   "nbconvert_exporter": "python",
   "pygments_lexer": "ipython3",
   "version": "3.11.8"
  }
 },
 "nbformat": 4,
 "nbformat_minor": 2
}
