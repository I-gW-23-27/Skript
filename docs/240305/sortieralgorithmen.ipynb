{
 "cells": [
  {
   "cell_type": "markdown",
   "metadata": {},
   "source": [
    "# Sortieren"
   ]
  },
  {
   "cell_type": "markdown",
   "metadata": {},
   "source": [
    "In diesem Notebook geht es um ein Thema, das im Zusammenhang mit\n",
    "Computerprogrammen häufig anzutreffen ist: Das sortieren von Elementen\n",
    "in auf- oder absteigender Reihenfolge. Um sich die Bedeutung sortierter\n",
    "Elemente vor Augen zu führen, stellen Sie sich ein Wörterbuch vor, in\n",
    "dem die Wörter nicht alphabetisch sortiert sind."
   ]
  },
  {
   "cell_type": "markdown",
   "metadata": {},
   "source": [
    "## Selection Sort"
   ]
  },
  {
   "cell_type": "markdown",
   "metadata": {},
   "source": [
    "Einer der einfachsten Sortieralgorithmen fundktioniert folgendermassen:\n",
    "Als erstes wird das kleinste Element in der zu sortierenden Liste\n",
    "gesucht. Wenn das kleinste Element gefunden wurde, tauscht es den Platz\n",
    "mit dem Element zuvorderst in der Liste. Als nächstes wird das\n",
    "zweitkleinste Element gesucht. Dieses tauscht den Platz mit dem zweiten\n",
    "Element der Liste. Dies wird fortgesetzt, bis das grösste Element auf\n",
    "dem letzten Platz der Liste sitzt."
   ]
  },
  {
   "cell_type": "markdown",
   "metadata": {},
   "source": [
    "### Aufgabe"
   ]
  },
  {
   "cell_type": "markdown",
   "metadata": {},
   "source": [
    "Beschreiben Sie den Algorithmus von Selection Sort analog zur\n",
    "Darstellung auf der Theorieseite."
   ]
  },
  {
   "cell_type": "markdown",
   "metadata": {},
   "source": [
    "### Musterlösung"
   ]
  },
  {
   "cell_type": "markdown",
   "metadata": {},
   "source": [
    "**Algorithmus S** (Selection Sort)."
   ]
  },
  {
   "cell_type": "code",
   "execution_count": 2,
   "metadata": {},
   "outputs": [],
   "source": [
    "chaos = [7,3,2,5,1,8,9]"
   ]
  },
  {
   "cell_type": "code",
   "execution_count": 3,
   "metadata": {},
   "outputs": [],
   "source": [
    "def selection_sort(unordered):\n",
    "    ordered = []\n",
    "    while unordered:\n",
    "        min = unordered[0]\n",
    "        for i in unordered:\n",
    "            if i < min:\n",
    "                min = i\n",
    "        ordered.append(min)\n",
    "        unordered.remove(min)\n",
    "    return ordered"
   ]
  },
  {
   "cell_type": "code",
   "execution_count": 4,
   "metadata": {},
   "outputs": [
    {
     "name": "stdout",
     "output_type": "stream",
     "text": [
      "[1, 2, 3, 5, 7, 8, 9]\n"
     ]
    }
   ],
   "source": [
    "print(selection_sort(chaos))"
   ]
  }
 ],
 "metadata": {
  "kernelspec": {
   "display_name": ".venv",
   "language": "python",
   "name": "python3"
  },
  "language_info": {
   "codemirror_mode": {
    "name": "ipython",
    "version": 3
   },
   "file_extension": ".py",
   "mimetype": "text/x-python",
   "name": "python",
   "nbconvert_exporter": "python",
   "pygments_lexer": "ipython3",
   "version": "3.11.8"
  }
 },
 "nbformat": 4,
 "nbformat_minor": 2
}
