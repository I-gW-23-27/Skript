{
 "cells": [
  {
   "cell_type": "markdown",
   "metadata": {},
   "source": [
    "<a target=\"_blank\" href=\"https://colab.research.google.com/github/I-gW-23-27/Skript/blob/main/docs/240305/sortieralgorithmen.ipynb\">\n",
    "  <img src=\"https://colab.research.google.com/assets/colab-badge.svg\" alt=\"Open In Colab\"/>\n",
    "</a>"
   ]
  },
  {
   "cell_type": "markdown",
   "metadata": {},
   "source": [
    "# Sortieren"
   ]
  },
  {
   "cell_type": "markdown",
   "metadata": {},
   "source": [
    "In diesem Notebook geht es um ein Thema, das im Zusammenhang mit\n",
    "Computerprogrammen häufig anzutreffen ist: Das Sortieren von Elementen\n",
    "in auf- oder absteigender Reihenfolge. Um sich die Bedeutung sortierter\n",
    "Elemente vor Augen zu führen, stellen Sie sich ein Wörterbuch vor, in\n",
    "dem die Wörter nicht alphabetisch geordnet sind.\n",
    "\n",
    "In der Informatik wurden viele - mittlerweile als klassisch zu\n",
    "bezeichnende - Sortieralgorithmen entwickelt. Einen ersten soll dieses\n",
    "Jupyter Notebook etwas näher vorstellen."
   ]
  },
  {
   "cell_type": "markdown",
   "metadata": {},
   "source": [
    "## Selection Sort"
   ]
  },
  {
   "cell_type": "markdown",
   "metadata": {},
   "source": [
    "Selection Sort ist einer der einfachsten Sortieralgorithmen. Er\n",
    "funktioniert folgendermassen: \n",
    "Als erstes wird das kleinste Element in der zu sortierenden Liste\n",
    "gesucht. Wenn das kleinste Element gefunden wurde, tauscht es den Platz\n",
    "mit dem Element zuvorderst in der Liste. Als nächstes wird das\n",
    "zweitkleinste Element gesucht. Dieses tauscht den Platz mit dem zweiten\n",
    "Element der Liste. Dies wird fortgesetzt, bis das grösste Element auf\n",
    "dem letzten Platz der Liste sitzt."
   ]
  },
  {
   "cell_type": "markdown",
   "metadata": {},
   "source": [
    "![Visualisierung Selection Sort](selection_sort_mechanics.svg)"
   ]
  },
  {
   "cell_type": "markdown",
   "metadata": {},
   "source": [
    "### Aufgabe"
   ]
  },
  {
   "cell_type": "markdown",
   "metadata": {},
   "source": [
    "Beschreiben Sie den Algorithmus von Selection Sort analog zur\n",
    "Darstellung auf der Theorieseite."
   ]
  },
  {
   "cell_type": "markdown",
   "metadata": {},
   "source": [
    "*Schreiben Sie hier unter Verwendung der Markdown Syntax Ihre Lösung*"
   ]
  },
  {
   "cell_type": "markdown",
   "metadata": {},
   "source": [
    "### Aufgabe\n",
    "\n",
    "Zeichnen Sie ein Flussdiagramm des formalisierten Selection Sort Algorithmus."
   ]
  },
  {
   "cell_type": "markdown",
   "metadata": {},
   "source": [
    "*Erstellen Sie die Skizze von Hand oder unter Verwendung eines\n",
    "geeigneten Programmes und fügen Sie sie hier ein*"
   ]
  },
  {
   "cell_type": "markdown",
   "metadata": {},
   "source": [
    "### Aufgabe"
   ]
  },
  {
   "cell_type": "markdown",
   "metadata": {},
   "source": [
    "Implementieren Sie Selection Sort in Python."
   ]
  },
  {
   "cell_type": "code",
   "execution_count": 4,
   "metadata": {},
   "outputs": [],
   "source": [
    "def selection_sort(liste):\n",
    "    #TODO: Implementieren Sie hier Selection Sort\n",
    "    pass\n"
   ]
  }
 ],
 "metadata": {
  "kernelspec": {
   "display_name": ".venv",
   "language": "python",
   "name": "python3"
  },
  "language_info": {
   "codemirror_mode": {
    "name": "ipython",
    "version": 3
   },
   "file_extension": ".py",
   "mimetype": "text/x-python",
   "name": "python",
   "nbconvert_exporter": "python",
   "pygments_lexer": "ipython3",
   "version": "3.11.8"
  }
 },
 "nbformat": 4,
 "nbformat_minor": 2
}
