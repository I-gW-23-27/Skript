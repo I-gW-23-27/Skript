{
 "cells": [
  {
   "cell_type": "markdown",
   "metadata": {},
   "source": [
    "# Manipulation von Python-Listen"
   ]
  },
  {
   "cell_type": "markdown",
   "metadata": {},
   "source": [
    "Die Übungen auf dieser Seite basieren auf einem \n",
    "[Tutorial von RealPython](https://realpython.com/python-list/)."
   ]
  },
  {
   "cell_type": "markdown",
   "metadata": {},
   "source": [
    "## Mehrere Elemente aus einer Liste übernehmen: Slicing"
   ]
  },
  {
   "cell_type": "code",
   "execution_count": 8,
   "metadata": {},
   "outputs": [
    {
     "name": "stdout",
     "output_type": "stream",
     "text": [
      "[1, 2, 3, 4, 5, 6, 7, 8, 9, 10]\n",
      "[11, 12, 13, 14, 15, 16, 17, 18, 19, 20]\n",
      "[3, 6, 9, 12, 15, 18, 21, 24, 27, 30]\n"
     ]
    }
   ],
   "source": [
    "hundert = [i for i in range(1, 101)]\n",
    "print(hundert[:10])\n",
    "print(hundert[10:20])\n",
    "print(hundert[2:30:3])"
   ]
  },
  {
   "cell_type": "markdown",
   "metadata": {},
   "source": [
    "## Einer Liste ein neues Element an einer bestimmten Position zuweisen"
   ]
  },
  {
   "cell_type": "code",
   "execution_count": 10,
   "metadata": {},
   "outputs": [
    {
     "name": "stdout",
     "output_type": "stream",
     "text": [
      "['König', 'Königin', 'Schneewittchen']\n",
      "['König', 'Stiefmutter', 'Schneewittchen']\n"
     ]
    }
   ],
   "source": [
    "royal_famaily = ['König', 'Königin', 'Schneewittchen']\n",
    "print(royal_famaily)\n",
    "royal_famaily[1] = 'Stiefmutter'\n",
    "print(royal_famaily)"
   ]
  }
 ],
 "metadata": {
  "kernelspec": {
   "display_name": ".venv",
   "language": "python",
   "name": "python3"
  },
  "language_info": {
   "codemirror_mode": {
    "name": "ipython",
    "version": 3
   },
   "file_extension": ".py",
   "mimetype": "text/x-python",
   "name": "python",
   "nbconvert_exporter": "python",
   "pygments_lexer": "ipython3",
   "version": "3.11.9"
  }
 },
 "nbformat": 4,
 "nbformat_minor": 2
}
