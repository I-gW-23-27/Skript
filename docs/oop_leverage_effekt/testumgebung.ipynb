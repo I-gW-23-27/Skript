{
 "cells": [
  {
   "cell_type": "markdown",
   "metadata": {},
   "source": [
    "# Testumgebung für den Leverage Rechner"
   ]
  },
  {
   "cell_type": "code",
   "execution_count": 1,
   "metadata": {},
   "outputs": [],
   "source": [
    "from bilanz import Bilanz\n",
    "from erfolgsrechnung import Erfolgsrechnung"
   ]
  },
  {
   "cell_type": "markdown",
   "metadata": {},
   "source": [
    "## Testkonti"
   ]
  },
  {
   "cell_type": "code",
   "execution_count": 6,
   "metadata": {},
   "outputs": [],
   "source": [
    "aktiven = {\n",
    "    1000: ['Kasse',            2400],\n",
    "    1020: ['Bank',            12900],\n",
    "    1100: ['F L&L',           29600],\n",
    "    1200: ['Vorräte',          5300],\n",
    "    1500: ['Maschinen',       15800],\n",
    "    1510: ['Mobiliar',         7200],\n",
    "    1530: ['Fahrzeuge',       14000],\n",
    "    1540: ['Werkzeuge',        3400],\n",
    "    1600: ['Liegenschaften', 400000],\n",
    "}\n",
    "\n",
    "passiven = {\n",
    "    2000: ['V L&L',           37500],\n",
    "    2451: ['Hypothek',       200000],\n",
    "    2800: ['Eigenkapital',   249100],\n",
    "    2891: ['Jahresgewinn',     4000],    \n",
    "}\n",
    "\n",
    "aufwand = {\n",
    "    5000: ['Personalaufwand',          65000],\n",
    "    6000: ['Raumaufwand',              12000],\n",
    "    6500: ['Verwaltungsaufwand',        3000],\n",
    "    6600: ['Werbeaufwand',              4000],\n",
    "    6700: ['Übriger Betriebsaufwand',   6000],\n",
    "    6800: ['Abschreibungen',            5000],\n",
    "    6900: ['Zinsaufwand',               1000],\n",
    "    9200: ['Gewinn',                    4000],\n",
    "}\n",
    "\n",
    "ertrag = {\n",
    "    3400: ['Dienstleistungsertrag',   100000],\n",
    "}"
   ]
  },
  {
   "cell_type": "code",
   "execution_count": 7,
   "metadata": {},
   "outputs": [],
   "source": [
    "testbilanz = Bilanz(aktiven, passiven)"
   ]
  },
  {
   "cell_type": "code",
   "execution_count": 8,
   "metadata": {},
   "outputs": [
    {
     "data": {
      "text/plain": [
       "200000"
      ]
     },
     "execution_count": 8,
     "metadata": {},
     "output_type": "execute_result"
    }
   ],
   "source": [
    "testbilanz.get_verzinsliches_fk()"
   ]
  },
  {
   "cell_type": "code",
   "execution_count": 9,
   "metadata": {},
   "outputs": [
    {
     "data": {
      "text/plain": [
       "253100"
      ]
     },
     "execution_count": 9,
     "metadata": {},
     "output_type": "execute_result"
    }
   ],
   "source": [
    "testbilanz.get_ek()"
   ]
  },
  {
   "cell_type": "code",
   "execution_count": 10,
   "metadata": {},
   "outputs": [],
   "source": [
    "test_er = Erfolgsrechnung(ertrag, aufwand)"
   ]
  },
  {
   "cell_type": "code",
   "execution_count": 11,
   "metadata": {},
   "outputs": [
    {
     "data": {
      "text/plain": [
       "1000"
      ]
     },
     "execution_count": 11,
     "metadata": {},
     "output_type": "execute_result"
    }
   ],
   "source": [
    "test_er.get_zinsaufwand()"
   ]
  },
  {
   "cell_type": "code",
   "execution_count": null,
   "metadata": {},
   "outputs": [],
   "source": []
  }
 ],
 "metadata": {
  "kernelspec": {
   "display_name": "venv",
   "language": "python",
   "name": "python3"
  },
  "language_info": {
   "codemirror_mode": {
    "name": "ipython",
    "version": 3
   },
   "file_extension": ".py",
   "mimetype": "text/x-python",
   "name": "python",
   "nbconvert_exporter": "python",
   "pygments_lexer": "ipython3",
   "version": "3.13.0"
  }
 },
 "nbformat": 4,
 "nbformat_minor": 2
}
