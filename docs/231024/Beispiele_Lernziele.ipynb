{
 "cells": [
  {
   "cell_type": "markdown",
   "metadata": {},
   "source": [
    "# Beispiele zu den Lernzielen für die Prüfung vom 31. Oktober 23\n",
    "\n",
    "## Was ist eine Variable in Python\n",
    "\n",
    "Gegeben sei der folgende Code:"
   ]
  },
  {
   "cell_type": "code",
   "execution_count": null,
   "metadata": {},
   "outputs": [],
   "source": [
    "a = 2\n",
    "b = a\n",
    "a = a + 3"
   ]
  },
  {
   "cell_type": "markdown",
   "metadata": {},
   "source": [
    "Welchen Wert weisen die Variabeln $a$ und $b$ auf?\n",
    "\n",
    "*$a$ hat den Wert 5, $b$ den Wert 2*"
   ]
  },
  {
   "cell_type": "markdown",
   "metadata": {},
   "source": [
    "## Rückgabe- und Ausgabewert in Python\n",
    "\n",
    "Gegeben sei folgender Code:"
   ]
  },
  {
   "cell_type": "code",
   "execution_count": null,
   "metadata": {},
   "outputs": [],
   "source": [
    "def funktion(x):\n",
    "    resultat = x ** 2\n",
    "    return resultat\n",
    "\n",
    "print(funktion(2))"
   ]
  },
  {
   "cell_type": "markdown",
   "metadata": {},
   "source": [
    "Was ist in diesem Stück Code der Rückgabewert und was der Ausgabewert?\n",
    "\n",
    "*Der Rückgabewert ist die Variabel $resultat$. Der Ausgabewert ist der\n",
    "durch die Funktion `print()` im Terminal angezeigte Wert von 4*"
   ]
  },
  {
   "cell_type": "markdown",
   "metadata": {},
   "source": [
    "## Schreiben einer einfachen Funktion in Python\n",
    "\n",
    "Die Fläche eines Kreises wird durch die Funktion $A = \\pi * r^2$\n",
    "beschrieben. Die Zahl $\\pi$ sei 3.14. Schreiben Sie eine Funktion in\n",
    "Python, der ein Radius übergeben wird und die daraus die Fläche\n",
    "berechnet."
   ]
  },
  {
   "cell_type": "code",
   "execution_count": null,
   "metadata": {},
   "outputs": [],
   "source": [
    "def kreis_flaeche(r):\n",
    "    PI = 3.14\n",
    "    return PI * r**2"
   ]
  },
  {
   "cell_type": "markdown",
   "metadata": {},
   "source": [
    "## Bedingungen in Python\n",
    "\n",
    "Schreiben Sie ein Stück Python Code, das die Variable $x$, sofern sie\n",
    "eine gerade Zahl ist, verdoppelt und andernfalls verdreifacht."
   ]
  },
  {
   "cell_type": "code",
   "execution_count": null,
   "metadata": {},
   "outputs": [],
   "source": [
    "if x % 2 == 0:\n",
    "    x * 2\n",
    "else:\n",
    "    x * 3"
   ]
  },
  {
   "cell_type": "markdown",
   "metadata": {},
   "source": [
    "## Listen aus Literalen\n",
    "\n",
    "Schreiben Sie ein Stück Python Code, mit dem die durch 3 teilbaren\n",
    "Zahlen zwischen 1 und 20 in eine Liste geschrieben werden."
   ]
  },
  {
   "cell_type": "code",
   "execution_count": null,
   "metadata": {},
   "outputs": [],
   "source": [
    "dreiher_reihe = [3, 6, 9, 12, 15, 18]"
   ]
  },
  {
   "cell_type": "markdown",
   "metadata": {},
   "source": [
    "## `for-loop` in Python\n",
    "\n",
    "Was ist die Ausgabe des folgenden Code Snippets?"
   ]
  },
  {
   "cell_type": "code",
   "execution_count": null,
   "metadata": {},
   "outputs": [],
   "source": [
    "for i in range(2, 10, 3):\n",
    "    print(i)"
   ]
  },
  {
   "cell_type": "markdown",
   "metadata": {},
   "source": [
    "$2$\n",
    "\n",
    "$5$\n",
    "\n",
    "$8$"
   ]
  }
 ],
 "metadata": {
  "kernelspec": {
   "display_name": "Python 3 (ipykernel)",
   "language": "python",
   "name": "python3"
  },
  "language_info": {
   "codemirror_mode": {
    "name": "ipython",
    "version": 3
   },
   "file_extension": ".py",
   "mimetype": "text/x-python",
   "name": "python",
   "nbconvert_exporter": "python",
   "pygments_lexer": "ipython3",
   "version": "3.11.4"
  }
 },
 "nbformat": 4,
 "nbformat_minor": 2
}
