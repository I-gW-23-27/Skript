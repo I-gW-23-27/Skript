{
 "cells": [
  {
   "cell_type": "markdown",
   "metadata": {},
   "source": [
    "# Umrechnen zwischen Zahlensystemen"
   ]
  },
  {
   "cell_type": "markdown",
   "metadata": {},
   "source": [
    "Python stellt für das Umrechnen zwischen Zahlensystemen Funktionen zur\n",
    "Verfügng."
   ]
  },
  {
   "cell_type": "markdown",
   "metadata": {},
   "source": [
    "Für das Umrechnen von Dezimal- nach Binärzahlen lautet die Funktion..."
   ]
  },
  {
   "cell_type": "code",
   "execution_count": 13,
   "metadata": {},
   "outputs": [
    {
     "data": {
      "text/plain": [
       "'0b101010'"
      ]
     },
     "execution_count": 13,
     "metadata": {},
     "output_type": "execute_result"
    }
   ],
   "source": [
    "bin(42)"
   ]
  },
  {
   "cell_type": "markdown",
   "metadata": {},
   "source": [
    "Für das Umrechnen von Biär- nach Dezimalzahlen lautet die Funktion...\n",
    "Allerdinsg muss dabei die Binärzahl als String eingegeben werden."
   ]
  },
  {
   "cell_type": "code",
   "execution_count": 14,
   "metadata": {},
   "outputs": [
    {
     "data": {
      "text/plain": [
       "42"
      ]
     },
     "execution_count": 14,
     "metadata": {},
     "output_type": "execute_result"
    }
   ],
   "source": [
    "int('101010', 2)"
   ]
  },
  {
   "cell_type": "markdown",
   "metadata": {},
   "source": [
    "## Aufgabenstellung"
   ]
  },
  {
   "cell_type": "markdown",
   "metadata": {},
   "source": [
    "In diesem Arbeitsblatt geht es nun allerdings darum, zwei eigene\n",
    "Funktionen zu schreiben, welche die Umrechnung von Dezimal- zu\n",
    "Binärzahlen erledigen und umgekehrt."
   ]
  },
  {
   "cell_type": "markdown",
   "metadata": {},
   "source": [
    "### Dezimalzahlen in Binärzahlen umrechnen"
   ]
  },
  {
   "cell_type": "markdown",
   "metadata": {},
   "source": [
    "#### Funktion"
   ]
  },
  {
   "cell_type": "code",
   "execution_count": 15,
   "metadata": {},
   "outputs": [],
   "source": [
    "def dez2bin(dezimalzahl : int) -> str:\n",
    "    resultat = ''\n",
    "    while dezimalzahl > 0:\n",
    "        resultat = str(dezimalzahl % 2) + resultat\n",
    "        dezimalzahl = dezimalzahl // 2\n",
    "    \n",
    "    return resultat"
   ]
  },
  {
   "cell_type": "markdown",
   "metadata": {},
   "source": [
    "#### Test"
   ]
  },
  {
   "cell_type": "code",
   "execution_count": 16,
   "metadata": {},
   "outputs": [
    {
     "name": "stdout",
     "output_type": "stream",
     "text": [
      "42 als Binärzahl ist 101010.\n"
     ]
    }
   ],
   "source": [
    "print(f'42 als Binärzahl ist {dez2bin(42)}.')"
   ]
  },
  {
   "cell_type": "markdown",
   "metadata": {},
   "source": [
    "### Binärzahlen in Dezimalzahlen umrechnen"
   ]
  },
  {
   "cell_type": "markdown",
   "metadata": {},
   "source": [
    "### Funktion"
   ]
  },
  {
   "cell_type": "code",
   "execution_count": 17,
   "metadata": {},
   "outputs": [],
   "source": [
    "def bin2dez(binaerzahl : str) -> int:\n",
    "    digits = list(binaerzahl)\n",
    "    digits.reverse()\n",
    "    digits = [int(digit) for digit in digits]\n",
    "    stellenwerte = [digit * 2 ** stellenwert \n",
    "                    for stellenwert, digit in enumerate(digits)]\n",
    "    resultat = sum(stellenwerte)\n",
    "    return resultat"
   ]
  },
  {
   "cell_type": "markdown",
   "metadata": {},
   "source": [
    "#### Test"
   ]
  },
  {
   "cell_type": "code",
   "execution_count": 18,
   "metadata": {},
   "outputs": [
    {
     "name": "stdout",
     "output_type": "stream",
     "text": [
      "Die Binärzahl 101010 als Dezimalzahl ist 42.\n"
     ]
    }
   ],
   "source": [
    "binaer = '101010'\n",
    "print(f'Die Binärzahl 101010 als Dezimalzahl ist {bin2dez(binaer)}.')"
   ]
  }
 ],
 "metadata": {
  "kernelspec": {
   "display_name": ".venv",
   "language": "python",
   "name": "python3"
  },
  "language_info": {
   "codemirror_mode": {
    "name": "ipython",
    "version": 3
   },
   "file_extension": ".py",
   "mimetype": "text/x-python",
   "name": "python",
   "nbconvert_exporter": "python",
   "pygments_lexer": "ipython3",
   "version": "3.11.6"
  }
 },
 "nbformat": 4,
 "nbformat_minor": 2
}
