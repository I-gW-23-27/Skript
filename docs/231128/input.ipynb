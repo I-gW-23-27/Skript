{
  "cells": [
    {
      "cell_type": "markdown",
      "metadata": {
        "colab_type": "text",
        "id": "view-in-github"
      },
      "source": [
        "<a href=\"https://colab.research.google.com/github/I-gW-23-27/Skript/blob/main/docs/231128/input.ipynb\" target=\"_parent\"><img src=\"https://colab.research.google.com/assets/colab-badge.svg\" alt=\"Open In Colab\"/></a>"
      ]
    },
    {
      "cell_type": "markdown",
      "metadata": {
        "id": "wec9SN-dtzTE"
      },
      "source": [
        "# Input in Programme"
      ]
    },
    {
      "cell_type": "markdown",
      "metadata": {
        "id": "0vd0GpdFt1bv"
      },
      "source": [
        ">There are 10 types of people:\n",
        ">\n",
        ">those who understand binary numbers and those who don't."
      ]
    },
    {
      "cell_type": "markdown",
      "metadata": {
        "id": "M-mjBkwPtzTH"
      },
      "source": [
        "In den bisher geschriebenen Programmen mussten die Eingabewerte im\n",
        "Programm selber eingetragen werden. Wünschenswert wäre es allerdings,\n",
        "dass der Nutzer des Programms explizit zur Eingabe aufgefordert wird."
      ]
    },
    {
      "cell_type": "markdown",
      "metadata": {
        "id": "gIelJQmJtzTH"
      },
      "source": [
        "Python stellt dazu die Funktion `input()` zur Verfügung. Diese Funktion\n",
        "öffnet einen Dialog im Terminal und wartet auf eine Eingabe. Optional\n",
        "kann der Funktion `input()` ein String als Parameter übergeben werden,\n",
        "der im Terminal ausgegeben wird. So kann dem Nutzer mitgeteilt werden,\n",
        "was für eine Eingabe von ihm erwartet wird."
      ]
    },
    {
      "cell_type": "markdown",
      "metadata": {
        "id": "Ecsii1pFtzTI"
      },
      "source": [
        "Die folgende Zelle ist ein Beispiel dafür."
      ]
    },
    {
      "cell_type": "code",
      "execution_count": null,
      "metadata": {
        "id": "9AuJVmbAtzTI",
        "outputId": "d76a9849-c42e-4df1-c9f4-e515703b83d6"
      },
      "outputs": [
        {
          "name": "stdout",
          "output_type": "stream",
          "text": [
            "Hallo Jacques!\n"
          ]
        }
      ],
      "source": [
        "name = input(\"Wie heissen Sie?\")\n",
        "print(f'Hallo {name}!')"
      ]
    },
    {
      "cell_type": "markdown",
      "metadata": {
        "id": "y6sBs0mKtzTK"
      },
      "source": [
        "Im Beispiel wird als erstes der String `Wie heissen Sie?` im Terminal\n",
        "ausgegeben. Die Eingabe des Nutzers wird dann - nach Betätigung der\n",
        "Enter-Taste - der Variabel `name` als String zugewiesen. Anschliessend\n",
        "kann die Variabel wie gewohnt weiterverarbeitet werden. Im Beispiel wird\n",
        "sie dem `f-String` übergeben und im Terminal angezeigt."
      ]
    },
    {
      "cell_type": "markdown",
      "metadata": {
        "id": "xSFxlccntzTL"
      },
      "source": [
        "Wenn etwas anderes als ein String als input erwartet wird, muss der\n",
        "Input in den gewünschten Datentyp umgewandelt werden. Das folgende\n",
        "Beispiel soll dies illustrieren."
      ]
    },
    {
      "cell_type": "code",
      "execution_count": null,
      "metadata": {
        "id": "j8Un9xwXtzTL"
      },
      "outputs": [],
      "source": [
        "number = float(input('Geben Sie eine Zahl ein: '))\n",
        "\n",
        "def odd_or_even(number : float) -> bool:\n",
        "    if number % 2 == 0:\n",
        "        return True\n",
        "    else:\n",
        "        return False\n",
        "\n",
        "if odd_or_even(number):\n",
        "    print('Sie haben eine gerade Zahl eingegeben.')\n",
        "else:\n",
        "    print('Sie haben eine ungerade Zahl eingegeben.')"
      ]
    },
    {
      "cell_type": "markdown",
      "metadata": {
        "id": "UGjXxXAbtzTL"
      },
      "source": [
        "## Anwendung"
      ]
    },
    {
      "cell_type": "markdown",
      "metadata": {
        "id": "NpCbTqMBtzTM"
      },
      "source": [
        "Schreiben Sie in der folgenden Zelle ein Programm, welches dem Nutzer\n",
        "anbietet Dezimalzahlen in Binärzahlen oder umgekehrt umzurechnen. Der\n",
        "Nutzer soll dabei als erstes gefragt werden, in welche Richtung die\n",
        "Umrechnung erfolgen soll, und als zweites, welche Zahl umgerechnet\n",
        "werden soll."
      ]
    },
    {
      "cell_type": "code",
      "execution_count": 2,
      "metadata": {
        "id": "CPok6bFQtzTM"
      },
      "outputs": [
        {
          "name": "stdout",
          "output_type": "stream",
          "text": [
            "0b101010\n"
          ]
        }
      ],
      "source": [
        "umrechnungsrichtung = input('Wollen Sie von Binär nach Dezimal (b) oder von Dezimal nach Binär (d) umrechnen?')\n",
        "\n",
        "zahl = input('Geben Sie eine Zahl ein: ')\n",
        "\n",
        "def bin_to_dec(zahl : str) -> int:\n",
        "    return int(zahl, 2)\n",
        "\n",
        "def dec_to_bin(zahl : int) -> str:\n",
        "    return bin(zahl)\n",
        "\n",
        "if umrechnungsrichtung == 'b':\n",
        "    print(bin_to_dec(zahl))\n",
        "elif umrechnungsrichtung == 'd':\n",
        "    print(dec_to_bin(int(zahl)))\n",
        "else:\n",
        "    print('Ungültige Eingabe.')"
      ]
    }
  ],
  "metadata": {
    "celltoolbar": "Slideshow",
    "colab": {
      "include_colab_link": true,
      "provenance": []
    },
    "kernelspec": {
      "display_name": "Python 3 (ipykernel)",
      "language": "python",
      "name": "python3"
    },
    "language_info": {
      "codemirror_mode": {
        "name": "ipython",
        "version": 3
      },
      "file_extension": ".py",
      "mimetype": "text/x-python",
      "name": "python",
      "nbconvert_exporter": "python",
      "pygments_lexer": "ipython3",
      "version": "3.11.6"
    }
  },
  "nbformat": 4,
  "nbformat_minor": 0
}
