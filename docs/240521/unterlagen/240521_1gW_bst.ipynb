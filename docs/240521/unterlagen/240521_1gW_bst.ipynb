{
 "cells": [
  {
   "cell_type": "markdown",
   "metadata": {
    "id": "luS3fTSVOsGf"
   },
   "source": [
    "# Binärer Suchbaum"
   ]
  },
  {
   "cell_type": "markdown",
   "metadata": {
    "id": "G9kyBwA7OwDW"
   },
   "source": [
    "## Knoten"
   ]
  },
  {
   "cell_type": "code",
   "execution_count": 3,
   "metadata": {
    "id": "zIEfFfP0QJHc"
   },
   "outputs": [],
   "source": [
    "class Node:\n",
    "    def __init__(self, key, value=None, parent=None, left=None, right=None):\n",
    "        self.key = key\n",
    "        self.value = value\n",
    "        self.parent = parent\n",
    "        self.left = left\n",
    "        self.right = right"
   ]
  },
  {
   "cell_type": "code",
   "execution_count": 4,
   "metadata": {
    "id": "UtPWCT9fRUrx"
   },
   "outputs": [],
   "source": [
    "node45 = Node(45)"
   ]
  },
  {
   "cell_type": "code",
   "execution_count": 5,
   "metadata": {
    "colab": {
     "base_uri": "https://localhost:8080/"
    },
    "id": "X6MphCB4RdQi",
    "outputId": "baef8244-eea6-4760-8010-e0e20fb17a2f"
   },
   "outputs": [
    {
     "name": "stdout",
     "output_type": "stream",
     "text": [
      "45\n"
     ]
    }
   ],
   "source": [
    "print(node45.key)"
   ]
  },
  {
   "cell_type": "code",
   "execution_count": 6,
   "metadata": {
    "colab": {
     "base_uri": "https://localhost:8080/"
    },
    "id": "lYRYEkPXT_v6",
    "outputId": "20d6f268-b004-4531-d12a-4b2f91e23ced"
   },
   "outputs": [
    {
     "name": "stdout",
     "output_type": "stream",
     "text": [
      "None\n"
     ]
    }
   ],
   "source": [
    "print(node45.parent)"
   ]
  },
  {
   "cell_type": "code",
   "execution_count": 7,
   "metadata": {
    "id": "QWhbMWa7UVgv"
   },
   "outputs": [],
   "source": [
    "node50 = Node(50)"
   ]
  },
  {
   "cell_type": "code",
   "execution_count": 9,
   "metadata": {
    "id": "_F9jovK1UgCx"
   },
   "outputs": [],
   "source": [
    "node45.right = node50\n",
    "node50.parent = node45"
   ]
  },
  {
   "cell_type": "code",
   "execution_count": 12,
   "metadata": {
    "colab": {
     "base_uri": "https://localhost:8080/"
    },
    "id": "Hm-VVIVXUx41",
    "outputId": "d42e8233-3426-4f49-ccaf-d54dd15add59"
   },
   "outputs": [
    {
     "name": "stdout",
     "output_type": "stream",
     "text": [
      "50\n",
      "45\n"
     ]
    }
   ],
   "source": [
    "print(node45.right.key)\n",
    "print(node50.parent.key)"
   ]
  },
  {
   "cell_type": "code",
   "execution_count": 13,
   "metadata": {
    "id": "vI_ZuXD0VhqN"
   },
   "outputs": [],
   "source": [
    "class BST:\n",
    "    def __init__(self):\n",
    "        self.root = None\n",
    "\n",
    "    def insert(self, key, value=None, root=None):\n",
    "        node = Node(key, value)\n",
    "        if self.root == None:\n",
    "            self.root = node\n",
    "            return\n",
    "\n",
    "        if root is None:\n",
    "            root = self.root\n",
    "\n",
    "        if node.key <= root.key and root.left is None:\n",
    "            root.left = node\n",
    "            node.parent = root\n",
    "\n",
    "        elif node.key <= root.key:\n",
    "            return self.insert(node.key, node.value, root.left)\n",
    "\n",
    "        elif node.key > root.key and root.right is None:\n",
    "            root.right = node\n",
    "            node.parent = root\n",
    "\n",
    "        else:\n",
    "            return self.insert(node.key, node.value, root.right)"
   ]
  },
  {
   "cell_type": "code",
   "execution_count": 14,
   "metadata": {
    "id": "SsAMhK41ar7A"
   },
   "outputs": [],
   "source": [
    "baumA = BST()"
   ]
  },
  {
   "cell_type": "code",
   "execution_count": 15,
   "metadata": {
    "id": "lqm5nLDSawDz"
   },
   "outputs": [],
   "source": [
    "baumA.insert(45)"
   ]
  },
  {
   "cell_type": "code",
   "execution_count": 16,
   "metadata": {
    "colab": {
     "base_uri": "https://localhost:8080/"
    },
    "id": "fdEl0ZMGa6NX",
    "outputId": "6de5e733-daa2-472f-900e-93e60dbced19"
   },
   "outputs": [
    {
     "name": "stdout",
     "output_type": "stream",
     "text": [
      "45\n"
     ]
    }
   ],
   "source": [
    "print(baumA.root.key)"
   ]
  },
  {
   "cell_type": "code",
   "execution_count": 17,
   "metadata": {
    "id": "0uGEdrUFbIMh"
   },
   "outputs": [],
   "source": [
    "baumA.insert(50)"
   ]
  },
  {
   "cell_type": "code",
   "execution_count": 18,
   "metadata": {
    "colab": {
     "base_uri": "https://localhost:8080/"
    },
    "id": "VKo-SG6WbMvt",
    "outputId": "0a494888-7c3f-429d-a775-7861dd7cd2b1"
   },
   "outputs": [
    {
     "name": "stdout",
     "output_type": "stream",
     "text": [
      "50\n"
     ]
    }
   ],
   "source": [
    "print(baumA.root.right.key)"
   ]
  },
  {
   "cell_type": "code",
   "execution_count": 19,
   "metadata": {
    "colab": {
     "base_uri": "https://localhost:8080/"
    },
    "id": "3rJ-2B1ObgMx",
    "outputId": "08b13c14-3d08-4691-99b6-86b42b25f506"
   },
   "outputs": [
    {
     "name": "stdout",
     "output_type": "stream",
     "text": [
      "32\n"
     ]
    }
   ],
   "source": [
    "baumA.insert(32)\n",
    "print(baumA.root.left.key)"
   ]
  },
  {
   "cell_type": "code",
   "execution_count": 21,
   "metadata": {
    "id": "ShkyM3EUbuDA"
   },
   "outputs": [],
   "source": [
    "numbers = [45, 50, 32, 66, 40, 42, 38, 20, 46, 60, 73]\n",
    "baumB = BST()"
   ]
  },
  {
   "cell_type": "code",
   "execution_count": 22,
   "metadata": {
    "id": "o_h837byb6js"
   },
   "outputs": [],
   "source": [
    "for x in numbers:\n",
    "    baumB.insert(x)"
   ]
  },
  {
   "cell_type": "code",
   "execution_count": 23,
   "metadata": {
    "colab": {
     "base_uri": "https://localhost:8080/"
    },
    "id": "ALXE38yUcGgT",
    "outputId": "9562f9c7-b3ff-4552-c90b-d076f2e59a4c"
   },
   "outputs": [
    {
     "name": "stdout",
     "output_type": "stream",
     "text": [
      "66\n"
     ]
    }
   ],
   "source": [
    "print(baumB.root.right.right.key)"
   ]
  }
 ],
 "metadata": {
  "colab": {
   "provenance": []
  },
  "kernelspec": {
   "display_name": "Python 3 (ipykernel)",
   "language": "python",
   "name": "python3"
  },
  "language_info": {
   "codemirror_mode": {
    "name": "ipython",
    "version": 3
   },
   "file_extension": ".py",
   "mimetype": "text/x-python",
   "name": "python",
   "nbconvert_exporter": "python",
   "pygments_lexer": "ipython3",
   "version": "3.11.5"
  }
 },
 "nbformat": 4,
 "nbformat_minor": 1
}
