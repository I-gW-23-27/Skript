{
  "nbformat": 4,
  "nbformat_minor": 0,
  "metadata": {
    "colab": {
      "provenance": []
    },
    "kernelspec": {
      "name": "python3",
      "display_name": "Python 3"
    },
    "language_info": {
      "name": "python"
    }
  },
  "cells": [
    {
      "cell_type": "markdown",
      "source": [
        "# Binärer Suchbaum"
      ],
      "metadata": {
        "id": "luS3fTSVOsGf"
      }
    },
    {
      "cell_type": "markdown",
      "source": [
        "## Knoten"
      ],
      "metadata": {
        "id": "G9kyBwA7OwDW"
      }
    },
    {
      "cell_type": "code",
      "source": [
        "class Node:\n",
        "    def __init__(self, key, value=None, parent=None, left=None, right=None):\n",
        "        self.key = key\n",
        "        self.value = value\n",
        "        self.parent = parent\n",
        "        self.left = left\n",
        "        self.right = right"
      ],
      "metadata": {
        "id": "zIEfFfP0QJHc"
      },
      "execution_count": 3,
      "outputs": []
    },
    {
      "cell_type": "code",
      "source": [
        "node45 = Node(45)"
      ],
      "metadata": {
        "id": "UtPWCT9fRUrx"
      },
      "execution_count": 4,
      "outputs": []
    },
    {
      "cell_type": "code",
      "source": [
        "print(node45.key)"
      ],
      "metadata": {
        "colab": {
          "base_uri": "https://localhost:8080/"
        },
        "id": "X6MphCB4RdQi",
        "outputId": "baef8244-eea6-4760-8010-e0e20fb17a2f"
      },
      "execution_count": 5,
      "outputs": [
        {
          "output_type": "stream",
          "name": "stdout",
          "text": [
            "45\n"
          ]
        }
      ]
    },
    {
      "cell_type": "code",
      "source": [
        "print(node45.parent)"
      ],
      "metadata": {
        "colab": {
          "base_uri": "https://localhost:8080/"
        },
        "id": "lYRYEkPXT_v6",
        "outputId": "20d6f268-b004-4531-d12a-4b2f91e23ced"
      },
      "execution_count": 6,
      "outputs": [
        {
          "output_type": "stream",
          "name": "stdout",
          "text": [
            "None\n"
          ]
        }
      ]
    },
    {
      "cell_type": "code",
      "source": [
        "node50 = Node(50)"
      ],
      "metadata": {
        "id": "QWhbMWa7UVgv"
      },
      "execution_count": 7,
      "outputs": []
    },
    {
      "cell_type": "code",
      "source": [
        "node45.right = node50\n",
        "node50.parent = node45"
      ],
      "metadata": {
        "id": "_F9jovK1UgCx"
      },
      "execution_count": 9,
      "outputs": []
    },
    {
      "cell_type": "code",
      "source": [
        "print(node45.right.key)\n",
        "print(node50.parent.key)"
      ],
      "metadata": {
        "colab": {
          "base_uri": "https://localhost:8080/"
        },
        "id": "Hm-VVIVXUx41",
        "outputId": "d42e8233-3426-4f49-ccaf-d54dd15add59"
      },
      "execution_count": 12,
      "outputs": [
        {
          "output_type": "stream",
          "name": "stdout",
          "text": [
            "50\n",
            "45\n"
          ]
        }
      ]
    },
    {
      "cell_type": "code",
      "source": [
        "class BST:\n",
        "    def __init__(self):\n",
        "        self.root = None\n",
        "\n",
        "    def insert(self, key, value=None, root=None):\n",
        "        node = Node(key, value)\n",
        "        if self.root == None:\n",
        "            self.root = node\n",
        "            return\n",
        "\n",
        "        if root is None:\n",
        "            root = self.root\n",
        "\n",
        "        if node.key <= root.key and root.left is None:\n",
        "            root.left = node\n",
        "            node.parent = root\n",
        "\n",
        "        elif node.key <= root.key:\n",
        "            return self.insert(node.key, node.value, root.left)\n",
        "\n",
        "        elif node.key > root.key and root.right is None:\n",
        "            root.right = node\n",
        "            node.parent = root\n",
        "\n",
        "        else:\n",
        "            return self.insert(node.key, node.value, root.right)"
      ],
      "metadata": {
        "id": "vI_ZuXD0VhqN"
      },
      "execution_count": 13,
      "outputs": []
    },
    {
      "cell_type": "code",
      "source": [
        "baumA = BST()"
      ],
      "metadata": {
        "id": "SsAMhK41ar7A"
      },
      "execution_count": 14,
      "outputs": []
    },
    {
      "cell_type": "code",
      "source": [
        "baumA.insert(45)"
      ],
      "metadata": {
        "id": "lqm5nLDSawDz"
      },
      "execution_count": 15,
      "outputs": []
    },
    {
      "cell_type": "code",
      "source": [
        "print(baumA.root.key)"
      ],
      "metadata": {
        "colab": {
          "base_uri": "https://localhost:8080/"
        },
        "id": "fdEl0ZMGa6NX",
        "outputId": "6de5e733-daa2-472f-900e-93e60dbced19"
      },
      "execution_count": 16,
      "outputs": [
        {
          "output_type": "stream",
          "name": "stdout",
          "text": [
            "45\n"
          ]
        }
      ]
    },
    {
      "cell_type": "code",
      "source": [
        "baumA.insert(50)"
      ],
      "metadata": {
        "id": "0uGEdrUFbIMh"
      },
      "execution_count": 17,
      "outputs": []
    },
    {
      "cell_type": "code",
      "source": [
        "print(baumA.root.right.key)"
      ],
      "metadata": {
        "colab": {
          "base_uri": "https://localhost:8080/"
        },
        "id": "VKo-SG6WbMvt",
        "outputId": "0a494888-7c3f-429d-a775-7861dd7cd2b1"
      },
      "execution_count": 18,
      "outputs": [
        {
          "output_type": "stream",
          "name": "stdout",
          "text": [
            "50\n"
          ]
        }
      ]
    },
    {
      "cell_type": "code",
      "source": [
        "baumA.insert(32)\n",
        "print(baumA.root.left.key)"
      ],
      "metadata": {
        "colab": {
          "base_uri": "https://localhost:8080/"
        },
        "id": "3rJ-2B1ObgMx",
        "outputId": "08b13c14-3d08-4691-99b6-86b42b25f506"
      },
      "execution_count": 19,
      "outputs": [
        {
          "output_type": "stream",
          "name": "stdout",
          "text": [
            "32\n"
          ]
        }
      ]
    },
    {
      "cell_type": "code",
      "source": [
        "numbers = [45, 50, 32, 66, 40, 42, 38, 20, 46, 60, 73]\n",
        "baumB = BST()"
      ],
      "metadata": {
        "id": "ShkyM3EUbuDA"
      },
      "execution_count": 21,
      "outputs": []
    },
    {
      "cell_type": "code",
      "source": [
        "for x in numbers:\n",
        "    baumB.insert(x)"
      ],
      "metadata": {
        "id": "o_h837byb6js"
      },
      "execution_count": 22,
      "outputs": []
    },
    {
      "cell_type": "code",
      "source": [
        "print(baumB.root.right.right.key)"
      ],
      "metadata": {
        "colab": {
          "base_uri": "https://localhost:8080/"
        },
        "id": "ALXE38yUcGgT",
        "outputId": "9562f9c7-b3ff-4552-c90b-d076f2e59a4c"
      },
      "execution_count": 23,
      "outputs": [
        {
          "output_type": "stream",
          "name": "stdout",
          "text": [
            "66\n"
          ]
        }
      ]
    }
  ]
}