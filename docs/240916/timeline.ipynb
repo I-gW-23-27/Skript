{
 "cells": [
  {
   "cell_type": "markdown",
   "id": "7aa9c554-688a-4a5d-91ba-1e09e2f7aeb7",
   "metadata": {},
   "source": [
    "# Timelines mit Python pandas\n",
    "\n",
    "In diesem Notebook wird eine Timeline der Einsätze der Amerikanischen 101st Ariborne Division im Zweiten Weltkrieg mit Hilfe einer Python pandas Series erstellt. Erfasst werden dabei die folgenden Ereignisse:\n",
    "\n",
    "| Datum | Ereignis |\n",
    "| :---  | :--- |\n",
    "| 16. August 42 | In Dienst Stellung der Division |\n",
    "| 6. Juni 44 | Landung in der Normandie (D-Day) |\n",
    "| 17. September 44 | Operation Marketgarden |\n",
    "| 16. Dezember 44 | Beginn Einsatz in den Ardennen |\n",
    "| 24. Dezember 44 | Nuts! Brief |\n",
    "| 28. April 45 | Befreiung von Kaufering |\n",
    "| 30. November 45 | Ausser Dienst Stellung der Division |"
   ]
  },
  {
   "cell_type": "markdown",
   "id": "a920dc2a-5049-454f-8ea2-f71dc41636cb",
   "metadata": {},
   "source": [
    "Als erstes sind die erforderlichen Libraries zu importieren:"
   ]
  },
  {
   "cell_type": "code",
   "execution_count": 1,
   "id": "1d966f9a-85bc-4b01-bf8b-5a510494b374",
   "metadata": {},
   "outputs": [],
   "source": [
    "import pandas as pd\n",
    "import matplotlib.pyplot as plt\n",
    "import matplotlib.dates as mdates"
   ]
  },
  {
   "cell_type": "markdown",
   "id": "213fb76e-d96e-4c8d-bb7b-5ce1fb63aa45",
   "metadata": {},
   "source": [
    "## Aufbereiten der Daten"
   ]
  },
  {
   "cell_type": "markdown",
   "id": "0b0149fd-9294-42c3-9d9c-f589d34356b2",
   "metadata": {},
   "source": [
    "Es gibt verschiedene Möglichkeiten, die Daten in Python verfügbar zu machen. Bisher besprochen wurden Listen, Tupel und Dictionaries.\n",
    "\n",
    "Das Ziel ist es allerdings, bereits vorhandene Daten ohne Abschreiben zu übernehmen. Deshalb steht [hier](data.csv) eine Datei mit den Daten der obigen Tabelle zur Verfügung."
   ]
  },
  {
   "cell_type": "code",
   "execution_count": 18,
   "id": "2831df70",
   "metadata": {},
   "outputs": [],
   "source": [
    "# Hier beginnen wir die Daten aufzubereiten"
   ]
  },
  {
   "cell_type": "markdown",
   "id": "c5d9ab20-363c-44bb-bc69-4003adf2cc8b",
   "metadata": {},
   "source": [
    "## Erstellen der Grafik"
   ]
  },
  {
   "cell_type": "markdown",
   "id": "65af0995",
   "metadata": {},
   "source": [
    "Es gibt mehrere Python-Bibliotheken mit denen Daten in Python\n",
    "visualisiert werden können. Eine der am weitesten verbreiteten ist\n",
    "[matplotlib](https://matplotlib.org/)."
   ]
  },
  {
   "cell_type": "markdown",
   "id": "92360372",
   "metadata": {},
   "source": [
    "Als erstes wird mit `plt.figure()` die 'Grundleinwand' für die Grafik erstellt."
   ]
  },
  {
   "cell_type": "code",
   "execution_count": null,
   "id": "7b4c051a",
   "metadata": {},
   "outputs": [],
   "source": [
    "plt.figure()"
   ]
  }
 ],
 "metadata": {
  "kernelspec": {
   "display_name": "Python 3 (ipykernel)",
   "language": "python",
   "name": "python3"
  },
  "language_info": {
   "codemirror_mode": {
    "name": "ipython",
    "version": 3
   },
   "file_extension": ".py",
   "mimetype": "text/x-python",
   "name": "python",
   "nbconvert_exporter": "python",
   "pygments_lexer": "ipython3",
   "version": "3.12.6"
  },
  "widgets": {
   "application/vnd.jupyter.widget-state+json": {
    "state": {},
    "version_major": 2,
    "version_minor": 0
   }
  }
 },
 "nbformat": 4,
 "nbformat_minor": 5
}
