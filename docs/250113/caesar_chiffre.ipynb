{
 "cells": [
  {
   "cell_type": "markdown",
   "metadata": {},
   "source": [
    "# Caesar Chiffre"
   ]
  },
  {
   "cell_type": "code",
   "execution_count": 1,
   "metadata": {},
   "outputs": [],
   "source": [
    "import string\n",
    "import datetime"
   ]
  },
  {
   "cell_type": "code",
   "execution_count": 3,
   "metadata": {},
   "outputs": [],
   "source": [
    "abc = [char for char in string.ascii_lowercase]"
   ]
  },
  {
   "cell_type": "code",
   "execution_count": 4,
   "metadata": {},
   "outputs": [],
   "source": [
    "shift = 12"
   ]
  },
  {
   "cell_type": "code",
   "execution_count": 10,
   "metadata": {},
   "outputs": [],
   "source": [
    "abc_vorn = abc[0:shift]\n",
    "abc_hinten = abc[shift:len(abc)]\n",
    "abc_geheim = abc_hinten + abc_vorn\n",
    "\n",
    "chiffrier_tabelle = {}\n",
    "\n",
    "for i in range(len(abc)):\n",
    "    chiffrier_tabelle[abc[i]] = abc_geheim[i] \n",
    "    \n",
    "test_text = 'hello world'"
   ]
  },
  {
   "cell_type": "code",
   "execution_count": 13,
   "metadata": {},
   "outputs": [
    {
     "data": {
      "text/plain": [
       "'tqxxaiadxp'"
      ]
     },
     "execution_count": 13,
     "metadata": {},
     "output_type": "execute_result"
    }
   ],
   "source": [
    "geheim_text = ''\n",
    "\n",
    "for bst in test_text:\n",
    "    for key, value in chiffrier_tabelle.items():\n",
    "        if key == bst:\n",
    "            geheim_text += value\n",
    "            \n",
    "geheim_text"
   ]
  },
  {
   "cell_type": "code",
   "execution_count": 14,
   "metadata": {},
   "outputs": [],
   "source": [
    "dechiffrier_tabelle = {}"
   ]
  },
  {
   "cell_type": "code",
   "execution_count": 16,
   "metadata": {},
   "outputs": [
    {
     "data": {
      "text/plain": [
       "{'m': 'a',\n",
       " 'n': 'b',\n",
       " 'o': 'c',\n",
       " 'p': 'd',\n",
       " 'q': 'e',\n",
       " 'r': 'f',\n",
       " 's': 'g',\n",
       " 't': 'h',\n",
       " 'u': 'i',\n",
       " 'v': 'j',\n",
       " 'w': 'k',\n",
       " 'x': 'l',\n",
       " 'y': 'm',\n",
       " 'z': 'n',\n",
       " 'a': 'o',\n",
       " 'b': 'p',\n",
       " 'c': 'q',\n",
       " 'd': 'r',\n",
       " 'e': 's',\n",
       " 'f': 't',\n",
       " 'g': 'u',\n",
       " 'h': 'v',\n",
       " 'i': 'w',\n",
       " 'j': 'x',\n",
       " 'k': 'y',\n",
       " 'l': 'z'}"
      ]
     },
     "execution_count": 16,
     "metadata": {},
     "output_type": "execute_result"
    }
   ],
   "source": [
    "for key, value in chiffrier_tabelle.items():\n",
    "    dechiffrier_tabelle[value] = key\n",
    "    \n",
    "dechiffrier_tabelle"
   ]
  },
  {
   "cell_type": "code",
   "execution_count": 18,
   "metadata": {},
   "outputs": [
    {
     "data": {
      "text/plain": [
       "'helloworld'"
      ]
     },
     "execution_count": 18,
     "metadata": {},
     "output_type": "execute_result"
    }
   ],
   "source": [
    "entschluesselter_text = ''\n",
    "\n",
    "for bst in geheim_text:\n",
    "    for key, value in dechiffrier_tabelle.items():\n",
    "        if bst == key:\n",
    "            entschluesselter_text += value\n",
    "            \n",
    "entschluesselter_text"
   ]
  },
  {
   "cell_type": "code",
   "execution_count": null,
   "metadata": {},
   "outputs": [],
   "source": [
    "def caesar(text: str, shift: int, encrypt: bool = True):\n",
    "    shift = shift % 26\n",
    "    abc = [bst for bst in string.ascii_lowercase]\n",
    "    abc1 = abc[0:shift]\n",
    "    abc2 = abc[shift:len(abc)]\n",
    "    abc_geheim = abc2 + abc1\n",
    "    \n",
    "    chiffrier_tabelle = {}\n",
    "    dechiffrier_tabelle = {}\n",
    "    \n",
    "    for i in range(len(abc)):\n",
    "        chiffrier_tabelle[abc[i]] = abc_geheim[i]\n",
    "        \n",
    "    for key, value in chiffrier_tabelle.items():\n",
    "        dechiffrier_tabelle[value] = key\n",
    "        \n",
    "    resultat = ''\n",
    "        \n",
    "    if encrypt == True:\n",
    "        for bst in text:\n",
    "            for key, value \n",
    "            \n",
    "        \n",
    "        "
   ]
  },
  {
   "cell_type": "code",
   "execution_count": 2,
   "metadata": {},
   "outputs": [],
   "source": [
    "def shift(key: int) -> dict:\n",
    "    '''Die Funktion erstellt ein um den Wert key (bzw. key mod) \n",
    "    verschobenes Dictionary für lateinische Kleinbuchstaben.'''\n",
    "    key = key % 26\n",
    "    \n",
    "    alphabet = [char for char in string.ascii_lowercase]\n",
    "    shifted_alphabet = alphabet[key:len(alphabet)] + alphabet[0:key]\n",
    "    \n",
    "    table = {}\n",
    "    \n",
    "    for i in range(len(alphabet)):\n",
    "        table[alphabet[i]] = shifted_alphabet[i]\n",
    "        \n",
    "    return table"
   ]
  },
  {
   "cell_type": "code",
   "execution_count": 3,
   "metadata": {},
   "outputs": [],
   "source": [
    "def crypto(text: string, key: int, encrypt:bool=True) -> str:\n",
    "    table = shift(key)\n",
    "    result = ''\n",
    "    for char in text:\n",
    "        for key, value in table.items():\n",
    "            if encrypt:\n",
    "                if char == key:\n",
    "                    result += value\n",
    "            else:\n",
    "                if char == value:\n",
    "                    result += key\n",
    "    return result"
   ]
  },
  {
   "cell_type": "code",
   "execution_count": null,
   "metadata": {},
   "outputs": [],
   "source": []
  }
 ],
 "metadata": {
  "kernelspec": {
   "display_name": "venv",
   "language": "python",
   "name": "python3"
  },
  "language_info": {
   "codemirror_mode": {
    "name": "ipython",
    "version": 3
   },
   "file_extension": ".py",
   "mimetype": "text/x-python",
   "name": "python",
   "nbconvert_exporter": "python",
   "pygments_lexer": "ipython3",
   "version": "3.13.1"
  }
 },
 "nbformat": 4,
 "nbformat_minor": 2
}
