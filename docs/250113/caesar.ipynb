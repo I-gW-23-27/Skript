{
 "cells": [
  {
   "cell_type": "markdown",
   "metadata": {},
   "source": [
    "# Caesar Chiffre"
   ]
  },
  {
   "cell_type": "code",
   "execution_count": 1,
   "metadata": {},
   "outputs": [],
   "source": [
    "import string"
   ]
  },
  {
   "cell_type": "code",
   "execution_count": 23,
   "metadata": {},
   "outputs": [],
   "source": [
    "def caesar(text: str, shift: int, encrypt: bool):\n",
    "    text = text.lower()\n",
    "    text = text.replace(' ','')\n",
    "    result = ''\n",
    "    encrypting_table = {}\n",
    "    decrypting_table = {}\n",
    "    \n",
    "    alphabet = [c for c in string.ascii_lowercase]\n",
    "    \n",
    "    shiftet_alphabet = alphabet[shift:len(alphabet)] + alphabet[0:shift]\n",
    "                \n",
    "    for i in range(len(alphabet)):\n",
    "        encrypting_table[alphabet[i]] = shiftet_alphabet[i]\n",
    "        \n",
    "    for key, value in encrypting_table.items():\n",
    "        decrypting_table[value] = key            \n",
    "\n",
    "    if encrypt:\n",
    "        for c in text:\n",
    "            for key, value in encrypting_table.items():\n",
    "                if c == key:\n",
    "                    result += value\n",
    "    else:\n",
    "        for c in text:\n",
    "            for key, value in decrypting_table.items():\n",
    "                if c == key:\n",
    "                    result += value\n",
    "    \n",
    "    return result\n",
    "            "
   ]
  },
  {
   "cell_type": "code",
   "execution_count": 24,
   "metadata": {},
   "outputs": [],
   "source": [
    "testtext = 'Im Namen Gottes des Allmächtigen Das Schweizervolk und die Kantone in der Verantwortung gegenüber der Schöpfung im Bestreben, den Bund zu erneuern, um Freiheit und Demokratie, Unabhängigkeit und Frieden in Solidarität und Offenheit gegenüber der Welt zu stärken im Willen, in gegenseitiger Rücksichtnahme und Achtung ihre Vielfalt in der Einheit zu leben im Bewusstsein der gemeinsamen Errungenschaften und der Verantwortung gegenüber den künftigen Generationen gewiss, dass frei nur ist, wer seine Freiheit gebraucht, und dass die Stärke des Volkes sich misst am Wohl der Schwachen geben sich folgende Verfassung'"
   ]
  },
  {
   "cell_type": "code",
   "execution_count": 25,
   "metadata": {},
   "outputs": [
    {
     "data": {
      "text/plain": [
       "'nrsfrjsltyyjxijxfqqrhmynljsifxxhmbjnejwatqpzsiinjpfsytsjnsijwajwfsybtwyzslljljsgjwijwxhmukzslnrgjxywjgjsijsgzsiezjwsjzjwszrkwjnmjnyzsiijrtpwfynjzsfgmslnlpjnyzsikwnjijsnsxtqnifwnyyzsitkkjsmjnyljljsgjwijwbjqyezxywpjsnrbnqqjsnsljljsxjnynljwwhpxnhmysfmrjzsifhmyzslnmwjanjqkfqynsijwjnsmjnyezqjgjsnrgjbzxxyxjnsijwljrjnsxfrjsjwwzsljsxhmfkyjszsiijwajwfsybtwyzslljljsgjwijspskynljsljsjwfyntsjsljbnxxifxxkwjnszwnxybjwxjnsjkwjnmjnyljgwfzhmyzsiifxxinjxywpjijxatqpjxxnhmrnxxyfrbtmqijwxhmbfhmjsljgjsxnhmktqljsijajwkfxxzsl'"
      ]
     },
     "execution_count": 25,
     "metadata": {},
     "output_type": "execute_result"
    }
   ],
   "source": [
    "geheimtext = caesar(testtext, 5, True)\n",
    "geheimtext"
   ]
  },
  {
   "cell_type": "code",
   "execution_count": 26,
   "metadata": {},
   "outputs": [
    {
     "data": {
      "text/plain": [
       "'imnamengottesdesallmchtigendasschweizervolkunddiekantoneinderverantwortunggegenberderschpfungimbestrebendenbundzuerneuernumfreiheitunddemokratieunabhngigkeitundfriedeninsolidarittundoffenheitgegenberderweltzustrkenimwilleningegenseitigerrcksichtnahmeundachtungihrevielfaltindereinheitzulebenimbewusstseindergemeinsamenerrungenschaftenundderverantwortunggegenberdenknftigengenerationengewissdassfreinuristwerseinefreiheitgebrauchtunddassdiestrkedesvolkessichmisstamwohlderschwachengebensichfolgendeverfassung'"
      ]
     },
     "execution_count": 26,
     "metadata": {},
     "output_type": "execute_result"
    }
   ],
   "source": [
    "klartext = caesar(geheimtext, 5, False)\n",
    "klartext"
   ]
  }
 ],
 "metadata": {
  "kernelspec": {
   "display_name": "venv",
   "language": "python",
   "name": "python3"
  },
  "language_info": {
   "codemirror_mode": {
    "name": "ipython",
    "version": 3
   },
   "file_extension": ".py",
   "mimetype": "text/x-python",
   "name": "python",
   "nbconvert_exporter": "python",
   "pygments_lexer": "ipython3",
   "version": "3.13.1"
  }
 },
 "nbformat": 4,
 "nbformat_minor": 2
}
