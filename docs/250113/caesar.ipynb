{
 "cells": [
  {
   "cell_type": "markdown",
   "metadata": {},
   "source": [
    "# Caesar Chiffre"
   ]
  },
  {
   "cell_type": "code",
   "execution_count": 1,
   "metadata": {},
   "outputs": [],
   "source": [
    "import string"
   ]
  },
  {
   "cell_type": "code",
   "execution_count": 23,
   "metadata": {},
   "outputs": [],
   "source": [
    "def caesar(text: str, shift: int, encrypt: bool):\n",
    "    text = text.lower()\n",
    "    text = text.replace(' ','')\n",
    "    result = ''\n",
    "    encrypting_table = {}\n",
    "    decrypting_table = {}\n",
    "    \n",
    "    alphabet = [c for c in string.ascii_lowercase]\n",
    "    \n",
    "    shiftet_alphabet = alphabet[shift:len(alphabet)] + alphabet[0:shift]\n",
    "                \n",
    "    for i in range(len(alphabet)):\n",
    "        encrypting_table[alphabet[i]] = shiftet_alphabet[i]\n",
    "        \n",
    "    for key, value in encrypting_table.items():\n",
    "        decrypting_table[value] = key            \n",
    "\n",
    "    if encrypt:\n",
    "        for c in text:\n",
    "            for key, value in encrypting_table.items():\n",
    "                if c == key:\n",
    "                    result += value\n",
    "    else:\n",
    "        for c in text:\n",
    "            for key, value in decrypting_table.items():\n",
    "                if c == key:\n",
    "                    result += value\n",
    "    \n",
    "    return result\n",
    "            "
   ]
  },
  {
   "cell_type": "code",
   "execution_count": 24,
   "metadata": {},
   "outputs": [],
   "source": [
    "testtext = 'Im Namen Gottes des Allmächtigen Das Schweizervolk und die Kantone in der Verantwortung gegenüber der Schöpfung im Bestreben, den Bund zu erneuern, um Freiheit und Demokratie, Unabhängigkeit und Frieden in Solidarität und Offenheit gegenüber der Welt zu stärken im Willen, in gegenseitiger Rücksichtnahme und Achtung ihre Vielfalt in der Einheit zu leben im Bewusstsein der gemeinsamen Errungenschaften und der Verantwortung gegenüber den künftigen Generationen gewiss, dass frei nur ist, wer seine Freiheit gebraucht, und dass die Stärke des Volkes sich misst am Wohl der Schwachen geben sich folgende Verfassung'"
   ]
  },
  {
   "cell_type": "code",
   "execution_count": 25,
   "metadata": {},
   "outputs": [
    {
     "data": {
      "text/plain": [
       "'nrsfrjsltyyjxijxfqqrhmynljsifxxhmbjnejwatqpzsiinjpfsytsjnsijwajwfsybtwyzslljljsgjwijwxhmukzslnrgjxywjgjsijsgzsiezjwsjzjwszrkwjnmjnyzsiijrtpwfynjzsfgmslnlpjnyzsikwnjijsnsxtqnifwnyyzsitkkjsmjnyljljsgjwijwbjqyezxywpjsnrbnqqjsnsljljsxjnynljwwhpxnhmysfmrjzsifhmyzslnmwjanjqkfqynsijwjnsmjnyezqjgjsnrgjbzxxyxjnsijwljrjnsxfrjsjwwzsljsxhmfkyjszsiijwajwfsybtwyzslljljsgjwijspskynljsljsjwfyntsjsljbnxxifxxkwjnszwnxybjwxjnsjkwjnmjnyljgwfzhmyzsiifxxinjxywpjijxatqpjxxnhmrnxxyfrbtmqijwxhmbfhmjsljgjsxnhmktqljsijajwkfxxzsl'"
      ]
     },
     "execution_count": 25,
     "metadata": {},
     "output_type": "execute_result"
    }
   ],
   "source": [
    "geheimtext = caesar(testtext, 5, True)\n",
    "geheimtext"
   ]
  },
  {
   "cell_type": "code",
   "execution_count": 26,
   "metadata": {},
   "outputs": [
    {
     "data": {
      "text/plain": [
       "'imnamengottesdesallmchtigendasschweizervolkunddiekantoneinderverantwortunggegenberderschpfungimbestrebendenbundzuerneuernumfreiheitunddemokratieunabhngigkeitundfriedeninsolidarittundoffenheitgegenberderweltzustrkenimwilleningegenseitigerrcksichtnahmeundachtungihrevielfaltindereinheitzulebenimbewusstseindergemeinsamenerrungenschaftenundderverantwortunggegenberdenknftigengenerationengewissdassfreinuristwerseinefreiheitgebrauchtunddassdiestrkedesvolkessichmisstamwohlderschwachengebensichfolgendeverfassung'"
      ]
     },
     "execution_count": 26,
     "metadata": {},
     "output_type": "execute_result"
    }
   ],
   "source": [
    "klartext = caesar(geheimtext, 5, False)\n",
    "klartext"
   ]
  },
  {
   "cell_type": "code",
   "execution_count": 6,
   "metadata": {},
   "outputs": [
    {
     "data": {
      "text/plain": [
       "['a',\n",
       " 'b',\n",
       " 'c',\n",
       " 'd',\n",
       " 'e',\n",
       " 'f',\n",
       " 'g',\n",
       " 'h',\n",
       " 'i',\n",
       " 'j',\n",
       " 'k',\n",
       " 'l',\n",
       " 'm',\n",
       " 'n',\n",
       " 'o',\n",
       " 'p',\n",
       " 'q',\n",
       " 'r',\n",
       " 's',\n",
       " 't',\n",
       " 'u',\n",
       " 'v',\n",
       " 'w',\n",
       " 'x',\n",
       " 'y',\n",
       " 'z']"
      ]
     },
     "execution_count": 6,
     "metadata": {},
     "output_type": "execute_result"
    }
   ],
   "source": [
    "alphabet = [c for c in string.ascii_lowercase]"
   ]
  },
  {
   "cell_type": "code",
   "execution_count": 8,
   "metadata": {},
   "outputs": [
    {
     "data": {
      "text/plain": [
       "['b',\n",
       " 'c',\n",
       " 'd',\n",
       " 'e',\n",
       " 'f',\n",
       " 'g',\n",
       " 'h',\n",
       " 'i',\n",
       " 'j',\n",
       " 'k',\n",
       " 'l',\n",
       " 'm',\n",
       " 'n',\n",
       " 'o',\n",
       " 'p',\n",
       " 'q',\n",
       " 'r',\n",
       " 's',\n",
       " 't',\n",
       " 'u',\n",
       " 'v',\n",
       " 'w',\n",
       " 'x',\n",
       " 'y',\n",
       " 'z',\n",
       " 'a']"
      ]
     },
     "execution_count": 8,
     "metadata": {},
     "output_type": "execute_result"
    }
   ],
   "source": [
    "shift = 1\n",
    "\n",
    "chiffre = alphabet[shift:len(alphabet)] + alphabet[0:shift]\n",
    "chiffre"
   ]
  },
  {
   "cell_type": "code",
   "execution_count": 10,
   "metadata": {},
   "outputs": [
    {
     "data": {
      "text/plain": [
       "{'a': 'b',\n",
       " 'b': 'c',\n",
       " 'c': 'd',\n",
       " 'd': 'e',\n",
       " 'e': 'f',\n",
       " 'f': 'g',\n",
       " 'g': 'h',\n",
       " 'h': 'i',\n",
       " 'i': 'j',\n",
       " 'j': 'k',\n",
       " 'k': 'l',\n",
       " 'l': 'm',\n",
       " 'm': 'n',\n",
       " 'n': 'o',\n",
       " 'o': 'p',\n",
       " 'p': 'q',\n",
       " 'q': 'r',\n",
       " 'r': 's',\n",
       " 's': 't',\n",
       " 't': 'u',\n",
       " 'u': 'v',\n",
       " 'v': 'w',\n",
       " 'w': 'x',\n",
       " 'x': 'y',\n",
       " 'y': 'z',\n",
       " 'z': 'a'}"
      ]
     },
     "execution_count": 10,
     "metadata": {},
     "output_type": "execute_result"
    }
   ],
   "source": [
    "encode = {}\n",
    "for i in range(len(alphabet)):\n",
    "    encode[alphabet[i]]= chiffre[i]\n",
    "    \n",
    "encode"
   ]
  },
  {
   "cell_type": "code",
   "execution_count": 22,
   "metadata": {},
   "outputs": [
    {
     "data": {
      "text/plain": [
       "{'b': 'a',\n",
       " 'c': 'b',\n",
       " 'd': 'c',\n",
       " 'e': 'd',\n",
       " 'f': 'e',\n",
       " 'g': 'f',\n",
       " 'h': 'g',\n",
       " 'i': 'h',\n",
       " 'j': 'i',\n",
       " 'k': 'j',\n",
       " 'l': 'k',\n",
       " 'm': 'l',\n",
       " 'n': 'm',\n",
       " 'o': 'n',\n",
       " 'p': 'o',\n",
       " 'q': 'p',\n",
       " 'r': 'q',\n",
       " 's': 'r',\n",
       " 't': 's',\n",
       " 'u': 't',\n",
       " 'v': 'u',\n",
       " 'w': 'v',\n",
       " 'x': 'w',\n",
       " 'y': 'x',\n",
       " 'z': 'y',\n",
       " 'a': 'z'}"
      ]
     },
     "execution_count": 22,
     "metadata": {},
     "output_type": "execute_result"
    }
   ],
   "source": [
    "decode = {}\n",
    "for key, value in encode.items():\n",
    "    decode[value]=key\n",
    "    \n",
    "decode"
   ]
  },
  {
   "cell_type": "code",
   "execution_count": 16,
   "metadata": {},
   "outputs": [],
   "source": [
    "s = 'Hallo Welt'"
   ]
  },
  {
   "cell_type": "code",
   "execution_count": 17,
   "metadata": {},
   "outputs": [],
   "source": [
    "def encoder(s, key):\n",
    "    s = s.lower()\n",
    "    s = s.replace(' ','')\n",
    "    result = ''\n",
    "    for c in s:\n",
    "        for k, v in key.items():\n",
    "            if c == k:\n",
    "                result += v\n",
    "    return result"
   ]
  },
  {
   "cell_type": "code",
   "execution_count": 18,
   "metadata": {},
   "outputs": [
    {
     "data": {
      "text/plain": [
       "'ibmmpxfmu'"
      ]
     },
     "execution_count": 18,
     "metadata": {},
     "output_type": "execute_result"
    }
   ],
   "source": [
    "resultat = encoder(s, encode)\n",
    "resultat"
   ]
  },
  {
   "cell_type": "code",
   "execution_count": 19,
   "metadata": {},
   "outputs": [],
   "source": [
    "test = 'Im Namen Gottes des Allmächtigen'"
   ]
  },
  {
   "cell_type": "code",
   "execution_count": 21,
   "metadata": {},
   "outputs": [
    {
     "data": {
      "text/plain": [
       "'jnobnfohpuufteftbmmndiujhfo'"
      ]
     },
     "execution_count": 21,
     "metadata": {},
     "output_type": "execute_result"
    }
   ],
   "source": [
    "praeambel = encoder(test, encode)\n",
    "praeambel"
   ]
  },
  {
   "cell_type": "code",
   "execution_count": null,
   "metadata": {},
   "outputs": [],
   "source": []
  }
 ],
 "metadata": {
  "kernelspec": {
   "display_name": "venv",
   "language": "python",
   "name": "python3"
  },
  "language_info": {
   "codemirror_mode": {
    "name": "ipython",
    "version": 3
   },
   "file_extension": ".py",
   "mimetype": "text/x-python",
   "name": "python",
   "nbconvert_exporter": "python",
   "pygments_lexer": "ipython3",
   "version": "3.13.1"
  }
 },
 "nbformat": 4,
 "nbformat_minor": 2
}
