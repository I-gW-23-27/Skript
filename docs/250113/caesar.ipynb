{
 "cells": [
  {
   "cell_type": "markdown",
   "metadata": {},
   "source": [
    "# Caesar Chiffre"
   ]
  },
  {
   "cell_type": "code",
   "execution_count": 29,
   "metadata": {},
   "outputs": [],
   "source": [
    "import string"
   ]
  },
  {
   "cell_type": "code",
   "execution_count": 30,
   "metadata": {},
   "outputs": [],
   "source": [
    "def caesar(text: str, shift: int, encrypt: bool):\n",
    "    text = text.lower()\n",
    "    text = text.replace(' ','')\n",
    "    text = [char\n",
    "            for char in text\n",
    "            if char not in string.punctuation]\n",
    "    text = ''.join(text)\n",
    "    shift = shift % 26\n",
    "    result = ''\n",
    "    encrypting_table = {}\n",
    "    decrypting_table = {}\n",
    "    \n",
    "    alphabet = [c for c in string.ascii_lowercase]\n",
    "    \n",
    "    shiftet_alphabet = alphabet[shift:len(alphabet)] + alphabet[0:shift]\n",
    "                \n",
    "    for i in range(len(alphabet)):\n",
    "        encrypting_table[alphabet[i]] = shiftet_alphabet[i]\n",
    "        \n",
    "    for key, value in encrypting_table.items():\n",
    "        decrypting_table[value] = key            \n",
    "\n",
    "    if encrypt:\n",
    "        for c in text:\n",
    "            for key, value in encrypting_table.items():\n",
    "                if c == key:\n",
    "                    result += value\n",
    "    else:\n",
    "        for c in text:\n",
    "            for key, value in decrypting_table.items():\n",
    "                if c == key:\n",
    "                    result += value\n",
    "    \n",
    "    return result\n",
    "            "
   ]
  },
  {
   "cell_type": "code",
   "execution_count": 32,
   "metadata": {},
   "outputs": [
    {
     "name": "stdout",
     "output_type": "stream",
     "text": [
      "Im Namen Gottes des Allmächtigen!\n",
      "\n",
      "Das Schweizervolk und die Kantone,\n",
      "\n",
      "in der Verantwortung gegenüber der Schöpfung,\n",
      "\n",
      "im Bestreben, den Bund zu erneuern, um Freiheit und Demokratie, Unabhängigkeit und Frieden in Solidarität und Offenheit gegenüber der Welt zu stärken,\n",
      "\n",
      "im Willen, in gegenseitiger Rücksichtnahme und Achtung ihre Vielfalt in der Einheit zu leben,\n",
      "\n",
      "im Bewusstsein der gemeinsamen Errungenschaften und der Verantwortung gegenüber den künftigen Generationen,\n",
      "\n",
      "gewiss, dass frei nur ist, wer seine Freiheit gebraucht, und dass die Stärke des Volkes sich misst am Wohl der Schwachen,\n",
      "\n",
      "geben sich folgende Verfassung\n"
     ]
    }
   ],
   "source": [
    "txt = open('input.txt', 'r', encoding='utf-8')\n",
    "print(txt.read())"
   ]
  },
  {
   "cell_type": "code",
   "execution_count": 33,
   "metadata": {},
   "outputs": [],
   "source": [
    "umlaute = ['ä', 'Ä', 'ö', 'Ö', 'ü', 'Ü']"
   ]
  },
  {
   "cell_type": "code",
   "execution_count": 6,
   "metadata": {},
   "outputs": [
    {
     "name": "stdout",
     "output_type": "stream",
     "text": [
      "\n",
      "\n"
     ]
    }
   ],
   "source": [
    "test = txt.read()\n",
    "test = test.lower()\n",
    "print(test)\n",
    "test = test.replace(' ', '')\n",
    "test = test.replace('\\n','')\n",
    "test = [char\n",
    "        for char in test\n",
    "        if char not in string.punctuation]\n",
    "test = ''.join(test)\n",
    "print(test)"
   ]
  },
  {
   "cell_type": "code",
   "execution_count": 34,
   "metadata": {},
   "outputs": [],
   "source": [
    "def caesar_chiffre(input_file, output_file, shift, encoding=True):\n",
    "    with open(input_file, 'r', encoding='utf-8') as file:\n",
    "        lines = [line.rstrip() for line in file]\n",
    "        \n",
    "    text = ''\n",
    "    \n",
    "    for line in lines:\n",
    "        text += line\n",
    "    \n",
    "    text = text.lower()\n",
    "    text = text.replace(' ','')\n",
    "    text = text.replace('\\n','')\n",
    "    text = text.replace('ä','ae')\n",
    "    text = text.replace('ö', 'oe')\n",
    "    text = text.replace('ü', 'ue')\n",
    "    text = [char\n",
    "            for char in text\n",
    "            if char not in string.punctuation]\n",
    "    text = ''.join(text)\n",
    "    \n",
    "    text = caesar(text, shift, encoding)\n",
    "    \n",
    "    resultat = ''\n",
    "    for i in range(len(text)):\n",
    "        if i % 72 == 0:\n",
    "            resultat += '\\n'\n",
    "            resultat += text[i]\n",
    "            \n",
    "        else:\n",
    "            resultat += text[i]\n",
    "    \n",
    "    with open(output_file, 'w') as destination:\n",
    "        destination.write(resultat)\n",
    "        \n",
    "    print('done')\n",
    "        "
   ]
  },
  {
   "cell_type": "code",
   "execution_count": 35,
   "metadata": {},
   "outputs": [
    {
     "name": "stdout",
     "output_type": "stream",
     "text": [
      "done\n"
     ]
    }
   ],
   "source": [
    "input_file = 'input.txt'\n",
    "output_file = 'output.txt'\n",
    "caesar_chiffre(input_file, output_file, 5, True)"
   ]
  },
  {
   "cell_type": "code",
   "execution_count": 16,
   "metadata": {},
   "outputs": [
    {
     "name": "stdout",
     "output_type": "stream",
     "text": [
      "imnamengottesdesallmã¤chtigendasschweizervolkunddiekantoneinderverantwortunggegenã¼berderschã¶pfungimbestrebendenbundzuerneuernumfreiheitunddemokratieunabhã¤ngigkeitundfriedeninsolidaritã¤tundoffenheitgegenã¼berderweltzustã¤rkenimwilleningegenseitigerrã¼cksichtnahmeundachtungihrevielfaltindereinheitzulebenimbewusstseindergemeinsamenerrungenschaftenundderverantwortunggegenã¼berdenkã¼nftigengenerationengewissdassfreinuristwerseinefreiheitgebrauchtunddassdiestã¤rkedesvolkessichmisstamwohlderschwachengebensichfolgendeverfassung\n"
     ]
    }
   ],
   "source": [
    "with open('input.txt', 'r') as file:\n",
    "    lines = [line.rstrip() for line in file]\n",
    "    \n",
    "test = ''\n",
    "\n",
    "for line in lines:\n",
    "    test += line\n",
    "    \n",
    "test = test.lower()\n",
    "test = test.replace(' ','')\n",
    "test = test.replace('\\n','')\n",
    "test = test.replace('ä','ae')\n",
    "test = [char\n",
    "        for char in test\n",
    "        if char not in string.punctuation]\n",
    "test = ''.join(test)\n",
    "    \n",
    "print(test)"
   ]
  },
  {
   "cell_type": "code",
   "execution_count": 14,
   "metadata": {},
   "outputs": [
    {
     "name": "stdout",
     "output_type": "stream",
     "text": [
      "\n",
      "imnamengottesdesallmã¤chtigendasschweizervolkunddiekantoneinderverantwor\n",
      "tunggegenã¼berderschã¶pfungimbestrebendenbundzuerneuernumfreiheitunddemo\n",
      "kratieunabhã¤ngigkeitundfriedeninsolidaritã¤tundoffenheitgegenã¼berderwe\n",
      "ltzustã¤rkenimwilleningegenseitigerrã¼cksichtnahmeundachtungihrevielfalt\n",
      "indereinheitzulebenimbewusstseindergemeinsamenerrungenschaftenunddervera\n",
      "ntwortunggegenã¼berdenkã¼nftigengenerationengewissdassfreinuristwerseine\n",
      "freiheitgebrauchtunddassdiestã¤rkedesvolkessichmisstamwohlderschwachenge\n",
      "bensichfolgendeverfassung\n"
     ]
    }
   ],
   "source": [
    "resultat = ''\n",
    "for i in range(len(test)):\n",
    "    if i % 72 == 0:\n",
    "        resultat += '\\n'\n",
    "        resultat += test[i]\n",
    "        \n",
    "    else:\n",
    "        resultat += test[i]\n",
    "        \n",
    "print(resultat)"
   ]
  },
  {
   "cell_type": "code",
   "execution_count": null,
   "metadata": {},
   "outputs": [],
   "source": []
  }
 ],
 "metadata": {
  "kernelspec": {
   "display_name": "venv",
   "language": "python",
   "name": "python3"
  },
  "language_info": {
   "codemirror_mode": {
    "name": "ipython",
    "version": 3
   },
   "file_extension": ".py",
   "mimetype": "text/x-python",
   "name": "python",
   "nbconvert_exporter": "python",
   "pygments_lexer": "ipython3",
   "version": "3.13.1"
  }
 },
 "nbformat": 4,
 "nbformat_minor": 2
}
