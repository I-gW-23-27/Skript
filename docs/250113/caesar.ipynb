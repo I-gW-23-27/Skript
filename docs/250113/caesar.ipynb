{
 "cells": [
  {
   "cell_type": "markdown",
   "metadata": {},
   "source": [
    "# Caesar Chiffre"
   ]
  },
  {
   "cell_type": "code",
   "execution_count": 1,
   "metadata": {},
   "outputs": [],
   "source": [
    "import string"
   ]
  },
  {
   "cell_type": "code",
   "execution_count": 5,
   "metadata": {},
   "outputs": [],
   "source": [
    "def caesar(text: str, shift: int, encrypt: bool):\n",
    "    text = text.lower()\n",
    "    text = text.replace(' ','')\n",
    "    text = [char\n",
    "            for char in text\n",
    "            if char not in string.punctuation]\n",
    "    text = ''.join(text)\n",
    "    shift = shift % 26\n",
    "    result = ''\n",
    "    encrypting_table = {}\n",
    "    decrypting_table = {}\n",
    "    \n",
    "    alphabet = [c for c in string.ascii_lowercase]\n",
    "    \n",
    "    shiftet_alphabet = alphabet[shift:len(alphabet)] + alphabet[0:shift]\n",
    "                \n",
    "    for i in range(len(alphabet)):\n",
    "        encrypting_table[alphabet[i]] = shiftet_alphabet[i]\n",
    "        \n",
    "    for key, value in encrypting_table.items():\n",
    "        decrypting_table[value] = key   \n",
    "        \n",
    "    if encrypt:\n",
    "        table = encrypting_table\n",
    "    else:\n",
    "        table = decrypting_table   \n",
    "        \n",
    "    for c in text:\n",
    "        for key, value in table.items():\n",
    "            if c == key:\n",
    "                result += value      \n",
    "\n",
    "    return result\n",
    "            "
   ]
  },
  {
   "cell_type": "code",
   "execution_count": 6,
   "metadata": {},
   "outputs": [],
   "source": [
    "def caesar_chiffre(input_file, output_file, shift, encoding=True):\n",
    "    with open(input_file, 'r', encoding='utf-8') as file:\n",
    "        lines = [line.rstrip() for line in file]\n",
    "        \n",
    "    text = ''\n",
    "    \n",
    "    for line in lines:\n",
    "        text += line\n",
    "    \n",
    "    text = text.lower()\n",
    "    text = text.replace(' ','')\n",
    "    text = text.replace('\\n','')\n",
    "    text = text.replace('ä','ae')\n",
    "    text = text.replace('ö', 'oe')\n",
    "    text = text.replace('ü', 'ue')\n",
    "    text = [char\n",
    "            for char in text\n",
    "            if char not in string.punctuation]\n",
    "    text = ''.join(text)\n",
    "    \n",
    "    text = caesar(text, shift, encoding)\n",
    "    \n",
    "    resultat = ''\n",
    "    for i in range(len(text)):\n",
    "        if i % 72 == 0:\n",
    "            resultat += '\\n'\n",
    "            resultat += text[i]\n",
    "            \n",
    "        else:\n",
    "            resultat += text[i]\n",
    "    \n",
    "    with open(output_file, 'w') as destination:\n",
    "        destination.write(resultat)\n",
    "        \n",
    "    print('done')\n",
    "        "
   ]
  },
  {
   "cell_type": "code",
   "execution_count": 7,
   "metadata": {},
   "outputs": [
    {
     "name": "stdout",
     "output_type": "stream",
     "text": [
      "done\n"
     ]
    }
   ],
   "source": [
    "input_file = 'input.txt'\n",
    "output_file = 'output.txt'\n",
    "caesar_chiffre(input_file, output_file, 5, True)"
   ]
  }
 ],
 "metadata": {
  "kernelspec": {
   "display_name": "venv",
   "language": "python",
   "name": "python3"
  },
  "language_info": {
   "codemirror_mode": {
    "name": "ipython",
    "version": 3
   },
   "file_extension": ".py",
   "mimetype": "text/x-python",
   "name": "python",
   "nbconvert_exporter": "python",
   "pygments_lexer": "ipython3",
   "version": "3.13.0"
  }
 },
 "nbformat": 4,
 "nbformat_minor": 2
}
