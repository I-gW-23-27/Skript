{
 "cells": [
  {
   "cell_type": "markdown",
   "metadata": {},
   "source": [
    "# Caesar Chiffre Vorbereitung"
   ]
  },
  {
   "cell_type": "markdown",
   "metadata": {},
   "source": [
    "## Funktion zu Verschlüsselung eines Strings"
   ]
  },
  {
   "cell_type": "code",
   "execution_count": 12,
   "metadata": {},
   "outputs": [],
   "source": [
    "import string\n",
    "import datetime"
   ]
  },
  {
   "cell_type": "code",
   "execution_count": 4,
   "metadata": {},
   "outputs": [],
   "source": [
    "def shift(key: int) -> dict:\n",
    "    '''Die Funktion erstellt ein um den Wert key (bzw. key mod) \n",
    "    verschobenes Dictionary für lateinische Kleinbuchstaben.'''\n",
    "    key = key % 26\n",
    "    \n",
    "    alphabet = [char for char in string.ascii_lowercase]\n",
    "    shifted_alphabet = alphabet[key:len(alphabet)] + alphabet[0:key]\n",
    "    \n",
    "    table = {}\n",
    "    \n",
    "    for i in range(len(alphabet)):\n",
    "        table[alphabet[i]] = shifted_alphabet[i]\n",
    "        \n",
    "    return table"
   ]
  },
  {
   "cell_type": "code",
   "execution_count": 3,
   "metadata": {},
   "outputs": [],
   "source": [
    "def crypto(text: string, key: int, encrypt:bool=True) -> str:\n",
    "    table = shift(key)\n",
    "    result = ''\n",
    "    for char in text:\n",
    "        for key, value in table.items():\n",
    "            if encrypt:\n",
    "                if char == key:\n",
    "                    result += value\n",
    "            else:\n",
    "                if char == value:\n",
    "                    result += key\n",
    "    return result"
   ]
  },
  {
   "cell_type": "code",
   "execution_count": 8,
   "metadata": {},
   "outputs": [],
   "source": [
    "def text_cleaning(text:str) -> str:\n",
    "    text = text.lower()\n",
    "    text = text.replace(' ', '')\n",
    "    text = text.replace('\\n','')\n",
    "    text = text.replace('ä','ae')\n",
    "    text = text.replace('ö', 'oe')\n",
    "    text = text.replace('ü', 'ue')\n",
    "    text = [char \n",
    "            for char in text\n",
    "            if char not in string.punctuation]\n",
    "    text = ''.join(text)\n",
    "    return text"
   ]
  },
  {
   "cell_type": "code",
   "execution_count": 10,
   "metadata": {},
   "outputs": [],
   "source": [
    "def text_reader(path: str) -> str:\n",
    "    with open(path, 'r', encoding='utf-8') as file:\n",
    "        lines = [line.rstrip() for line in file]\n",
    "        \n",
    "    text = ''\n",
    "    for line in lines:\n",
    "        text += line\n",
    "        \n",
    "    return text"
   ]
  },
  {
   "cell_type": "code",
   "execution_count": 23,
   "metadata": {},
   "outputs": [],
   "source": [
    "def text_writer(text: str, path:str = ''):\n",
    "    ouptput_text = ''\n",
    "    for i in range(len(text)):\n",
    "        if i % 72 == 0:\n",
    "            ouptput_text += '\\n'\n",
    "            ouptput_text += text[i]\n",
    "        else:\n",
    "            ouptput_text += text[i]\n",
    "            \n",
    "    now = datetime.datetime.now()\n",
    "    date_string = now.strftime(\"%Y%m%d_%H-%M-%S\") + f'.{now.microsecond // 1000:03d}'\n",
    "    name = f'{date_string}_output.txt'\n",
    "    \n",
    "    with open(name, 'w', encoding='utf-8') as file:\n",
    "        file.write(ouptput_text)"
   ]
  },
  {
   "cell_type": "code",
   "execution_count": 21,
   "metadata": {},
   "outputs": [],
   "source": [
    "def caesar(input_file: str, shift: int, encryption: bool=True) -> None:\n",
    "    text = text_reader(input_file)\n",
    "    text = text_cleaning(text)\n",
    "    text = crypto(text, shift, encryption)\n",
    "    text_writer(text)"
   ]
  },
  {
   "cell_type": "code",
   "execution_count": 22,
   "metadata": {},
   "outputs": [],
   "source": [
    "caesar('input.txt', 5)"
   ]
  },
  {
   "cell_type": "code",
   "execution_count": 24,
   "metadata": {},
   "outputs": [],
   "source": [
    "for i in range(26):\n",
    "    caesar('20250118_17-28-39_output.txt', i, False)"
   ]
  },
  {
   "cell_type": "code",
   "execution_count": null,
   "metadata": {},
   "outputs": [],
   "source": []
  }
 ],
 "metadata": {
  "kernelspec": {
   "display_name": "venv",
   "language": "python",
   "name": "python3"
  },
  "language_info": {
   "codemirror_mode": {
    "name": "ipython",
    "version": 3
   },
   "file_extension": ".py",
   "mimetype": "text/x-python",
   "name": "python",
   "nbconvert_exporter": "python",
   "pygments_lexer": "ipython3",
   "version": "3.13.1"
  }
 },
 "nbformat": 4,
 "nbformat_minor": 2
}
