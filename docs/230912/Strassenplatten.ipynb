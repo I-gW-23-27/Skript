{
  "cells": [
    {
      "cell_type": "markdown",
      "metadata": {
        "id": "view-in-github",
        "colab_type": "text"
      },
      "source": [
        "<a href=\"https://colab.research.google.com/github/I-gW-23-27/Skript/blob/main/docs/230912/Strassenplatten.ipynb\" target=\"_parent\"><img src=\"https://colab.research.google.com/assets/colab-badge.svg\" alt=\"Open In Colab\"/></a>"
      ]
    },
    {
      "cell_type": "markdown",
      "metadata": {
        "id": "mX6qeUZ6PI9p"
      },
      "source": [
        "# LEGO Strassenplatten\n",
        "\n",
        "Die folgenden Aufgaben basieren auf der Übung\n",
        "[\"Strassenplatten\"](https://pytamaro.si.usi.ch/activities/luce/street-plates/de/v1)\n",
        "von PyTamaro.\n",
        "\n",
        "Es geht darum, die bekannten LEGO Strassenplatten zu zeichnen.\n",
        "\n",
        "![LEGO Strassenplatten](https://github.com/I-gW-23-27/Skript/blob/main/docs/images/6-lego-strassenplatten.jpeg?raw=1)\n",
        "\n",
        "Für die folgenden Übungen gehen wir von vier Typen von Strassenplatten\n",
        "aus:\n",
        "Geraden, Kurven, Abzweigungen und Kreuzungen.\n",
        "\n",
        "Es geht dabei darum, Funktionen zu entwickeln, um die vier Arten von\n",
        "Strassenplatten effizient zu zeichnen.\n",
        "\n",
        "Eine Funktion ist ein Programmteil, der Befehle so bündelt, dass sie\n",
        "innerhalb eines Programmes wiederholt verwendet werden können.\n",
        "Funktionen berechnen Resultate aus Parameteren, die ihnen als Input\n",
        "übergeben werden.\n",
        "\n",
        "Das folgende Beispiel zeigt eine Funktion, welche in Anwendung des\n",
        "Satzes von Pythagoras aus zwei gegebenen Katheten die Hypothenuse\n",
        "berechnet.\n",
        "\n",
        "```Python\n",
        "def pythagoras(a, b):\n",
        "    c = (a ** 2 + b ** 2) ** (1/2)\n",
        "    return c\n",
        "```\n",
        "\n",
        "Was für mathematische Formeln möglich ist, ist auch für Grafiken möglich.\n",
        "\n",
        "Die erforderlichen Angaben bezüglich der Dimensionierung der Platten können der\n",
        "folgenden Abbildung entnommen werden. Die Einheit für die Vermessung\n",
        "sind die LEGO-typischen Noppen.\n",
        "\n",
        "![Dimensionen Strassenplatten](https://github.com/I-gW-23-27/Skript/blob/main/docs/images/dimensionen_strassenplatten.png?raw=1)\n",
        "\n",
        "In der folgenden Zelle werden die erforderlichen Funktionen aus PyTamaro\n",
        "importiert und die spezifischen Farben sowie eine sinnvolle Noppengrösse\n",
        "definiert."
      ]
    },
    {
      "cell_type": "markdown",
      "source": [
        "## Installation von PyTamaro in Google Colab\n",
        "\n",
        "Damit PyTamaro in Google Colab verwendet werden kann, muss zuerst die folgende Zelle ausgeführt werden."
      ],
      "metadata": {
        "id": "4py1CIXJPLsl"
      }
    },
    {
      "cell_type": "code",
      "source": [
        "! pip install pytamaro"
      ],
      "metadata": {
        "id": "4HBGJtpgPPOo"
      },
      "execution_count": null,
      "outputs": []
    },
    {
      "cell_type": "code",
      "execution_count": null,
      "metadata": {
        "id": "tLHP8uCwPI9s"
      },
      "outputs": [],
      "source": [
        "from pytamaro.de import(\n",
        "    Grafik, Farbe,\n",
        "    weiss, gelb, rot, rgb_farbe, transparent,\n",
        "    kreis_sektor, rechteck, ellipse, leere_grafik,\n",
        "    ueberlagere, ueber, neben, fixiere, kombiniere, drehe,\n",
        "    unten_links, unten_mitte,\n",
        "    zeige_grafik,\n",
        ")\n",
        "\n",
        "RASEN_FARBE = rgb_farbe(0, 203, 109)\n",
        "STRASSEN_FARBE = rgb_farbe(140, 140, 140)\n",
        "RANDSTREIFEN_FARBE = gelb\n",
        "MITTELSTREIFEN_FARBE = weiss\n",
        "\n",
        "NOPPENGROESSE = 5"
      ]
    },
    {
      "cell_type": "markdown",
      "metadata": {
        "id": "PoAgFq00PI9t"
      },
      "source": [
        "## Gerade\n",
        "\n",
        "Die Gerade kann aus mehreren Rechtecken zusammengesetzt werden.\n",
        "\n",
        "Sobald Sie eine Platte mit einer geraden Strasse (wie abgebildet)\n",
        "gezeichnet haben, können Sie diese auch um 90° drehen, um so ein\n",
        "vertikales Strassensegment zu erhalten.\n",
        "\n",
        "![Gerade Strasse](https://github.com/I-gW-23-27/Skript/blob/main/docs/images/gerade_strasse.png?raw=1)"
      ]
    },
    {
      "cell_type": "code",
      "execution_count": null,
      "metadata": {
        "id": "NgEdnVTMPI9u"
      },
      "outputs": [],
      "source": [
        "def gerade(noppengroesse: float) -> Grafik:\n",
        "    plattengroesse = noppengroesse * 32 # Platte ist 32*32 Noppen gross\n",
        "    streifenbreite = noppengroesse * 0.5\n",
        "\n",
        "    pass\n",
        "    # ersetzten Sie pass mit Ihrem Code\n",
        "\n",
        "\n",
        "zeige_grafik(gerade(NOPPENGROESSE))"
      ]
    },
    {
      "cell_type": "markdown",
      "metadata": {
        "id": "p1SgOR9hPI9v"
      },
      "source": [
        "## Kurve\n",
        "\n",
        "Um die Kurve zu zeichnen, überlagern Sie Kreissektoren mit verschiedenen\n",
        "Farben und Radien und fixieren diese in einer Ecke. Anstatt\n",
        "[`ueberlagere()`](https://pytamaro.readthedocs.io/en/stable/German/operations.html#pytamaro.de.operations.ueberlagere)\n",
        "verwenden Sie dazu\n",
        "[`fixiere()`](https://pytamaro.readthedocs.io/en/stable/German/operations.html#pytamaro.de.operations.fixiere)\n",
        "und\n",
        "[`kombiniere()`](https://pytamaro.readthedocs.io/en/stable/German/operations.html#pytamaro.de.operations.kombiniere).\n",
        "\n",
        "![Kurve](https://github.com/I-gW-23-27/Skript/blob/main/docs/images/kurve.png?raw=1)"
      ]
    },
    {
      "cell_type": "code",
      "execution_count": null,
      "metadata": {
        "id": "7S9rnrOkPI9y"
      },
      "outputs": [],
      "source": [
        "def kurve(noppengroesse: float) -> Grafik:\n",
        "    pass\n",
        "    # ersetzten Sie pass mit Ihrem Code\n",
        "\n",
        "\n",
        "zeige_grafik(kurve(NOPPENGROESSE))"
      ]
    },
    {
      "cell_type": "markdown",
      "metadata": {
        "id": "MqtqoqCHPI9y"
      },
      "source": [
        "## Kreuzung\n",
        "\n",
        "Es gibt verschiedene Möglichkeiten, die Kreuzung aus einfacheren Teilen\n",
        "zu \"komponieren\". Wenn Sie die Grafik geschickt zerlegen, können Sie\n",
        "Teile davon für die Abzweigung wiederverwenden.\n",
        "\n",
        "![Kreuzung](https://github.com/I-gW-23-27/Skript/blob/main/docs/images/kreuzung.png?raw=1)"
      ]
    },
    {
      "cell_type": "markdown",
      "source": [
        "## Wiederholungen in Python\n",
        "\n",
        "Quadratzahlen von 20 bis 40 als Beispiel."
      ],
      "metadata": {
        "id": "eYtbRF79kR2t"
      }
    },
    {
      "cell_type": "code",
      "source": [
        "for x in range(20,41):\n",
        "  print(x ** 2)"
      ],
      "metadata": {
        "id": "w694n4BGkX7P",
        "outputId": "2efccb70-d31b-434e-f81a-57a466d3799c",
        "colab": {
          "base_uri": "https://localhost:8080/"
        }
      },
      "execution_count": 2,
      "outputs": [
        {
          "output_type": "stream",
          "name": "stdout",
          "text": [
            "400\n",
            "441\n",
            "484\n",
            "529\n",
            "576\n",
            "625\n",
            "676\n",
            "729\n",
            "784\n",
            "841\n",
            "900\n",
            "961\n",
            "1024\n",
            "1089\n",
            "1156\n",
            "1225\n",
            "1296\n",
            "1369\n",
            "1444\n",
            "1521\n",
            "1600\n"
          ]
        }
      ]
    },
    {
      "cell_type": "code",
      "execution_count": null,
      "metadata": {
        "id": "-n3sQTWlPI9z"
      },
      "outputs": [],
      "source": [
        "def kreuzung(noppengroesse: float) -> Grafik:\n",
        "\n",
        "    pass\n",
        "    # ersetzten Sie pass mit Ihrem Code\n",
        "\n",
        "\n",
        "zeige_grafik(kreuzung(NOPPENGROESSE))"
      ]
    },
    {
      "cell_type": "markdown",
      "metadata": {
        "id": "w0qEmAGZPI9z"
      },
      "source": [
        "## Abzweigung\n",
        "\n",
        "Die Abzweigung hat Gemeinsamkeiten mit der Geraden und mit der Kreuzung.\n",
        "\n",
        "![Abzweigung](https://github.com/I-gW-23-27/Skript/blob/main/docs/images/abzweigung.png?raw=1)"
      ]
    },
    {
      "cell_type": "code",
      "execution_count": null,
      "metadata": {
        "id": "87381i5fPI9z"
      },
      "outputs": [],
      "source": [
        "def abzweigung(noppengroesse: float) -> Grafik:\n",
        "    pass\n",
        "    # ersetzten Sie pass mit Ihrem Code\n",
        "\n",
        "\n",
        "zeige_grafik(abzweigung(NOPPENGROESSE))"
      ]
    },
    {
      "cell_type": "markdown",
      "source": [
        "[Hier geht es zurück zur Übersicht](https://i-gw-23-27.github.io/Skript/)"
      ],
      "metadata": {
        "id": "O068e91cPRzR"
      }
    }
  ],
  "metadata": {
    "kernelspec": {
      "display_name": "Python 3 (ipykernel)",
      "language": "python",
      "name": "python3"
    },
    "language_info": {
      "codemirror_mode": {
        "name": "ipython",
        "version": 3
      },
      "file_extension": ".py",
      "mimetype": "text/x-python",
      "name": "python",
      "nbconvert_exporter": "python",
      "pygments_lexer": "ipython3",
      "version": "3.11.5"
    },
    "colab": {
      "provenance": [],
      "include_colab_link": true
    }
  },
  "nbformat": 4,
  "nbformat_minor": 0
}