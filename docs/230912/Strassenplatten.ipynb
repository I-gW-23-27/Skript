{
 "cells": [
  {
   "cell_type": "markdown",
   "metadata": {},
   "source": [
    "# LEGO Strassenplatten\n",
    "\n",
    "Die folgenden Aufgaben basieren auf der Übung \n",
    "[\"Strassenplatten\"](https://pytamaro.si.usi.ch/activities/luce/street-plates/de/v1)\n",
    "von PyTamaro.\n",
    "\n",
    "Es geht darum, die bekannten LEGO Strassenplatten zu zeichnen.\n",
    "\n",
    "![LEGO Strassenplatten](../images/6-lego-strassenplatten.jpeg)\n",
    "\n",
    "Für die folgenden Übungen gehen wir von vier Typen von Strassenplatten\n",
    "aus:\n",
    "Geraden, Kurven, Abzweigungen und Kreuzungen.\n",
    "\n",
    "Es geht dabei darum, Funktionen zu entwickeln, um die vier Arten von\n",
    "Strassenplatten effizient zu zeichnen. \n",
    "\n",
    "Eine Funktion ist ein Programmteil, der Befehle so bündelt, dass sie\n",
    "innerhalb eines Programmes wiederholt verwendet werden können.\n",
    "Funktionen berechnen Resultate aus Parameteren, die ihnen als Input\n",
    "übergeben werden.\n",
    "\n",
    "Das folgende Beispiel zeigt eine Funktion, welche in Anwendung des\n",
    "Satzes von Pythagoras aus zwei gegebenen Katheten die Hypothenuse\n",
    "berechnet.\n",
    "\n",
    "```Python\n",
    "def pythagoras(a, b):\n",
    "    c = (a ** 2 + b ** 2) ** (1/2)\n",
    "    return c\n",
    "```\n",
    "\n",
    "Was für mathematische Formeln möglich ist, ist auch für Grafiken möglich.\n",
    "\n",
    "Die erforderlichen Angaben bezüglich der Dimensionierung der Platten können der\n",
    "folgenden Abbildung entnommen werden. Die Einheit für die Vermessung\n",
    "sind die LEGO-typischen Noppen.\n",
    "\n",
    "![Dimensionen Strassenplatten](../images/dimensionen_strassenplatten.png)\n",
    "\n",
    "In der folgenden Zelle werden die erforderlichen Funktionen aus PyTamaro\n",
    "importiert und die spezifischen Farben sowie eine sinnvolle Noppengrösse\n",
    "definiert."
   ]
  },
  {
   "cell_type": "code",
   "execution_count": null,
   "metadata": {},
   "outputs": [],
   "source": [
    "from pytamaro.de import(\n",
    "    Grafik, Farbe,\n",
    "    weiss, gelb, rot, rgb_farbe, transparent,\n",
    "    kreis_sektor, rechteck, ellipse, leere_grafik,\n",
    "    ueberlagere, ueber, neben, fixiere, kombiniere, drehe,\n",
    "    unten_links, unten_mitte,\n",
    "    zeige_grafik,\n",
    ")\n",
    "\n",
    "RASEN_FARBE = rgb_farbe(0, 203, 109)\n",
    "STRASSEN_FARBE = rgb_farbe(140, 140, 140)\n",
    "RANDSTREIFEN_FARBE = gelb\n",
    "MITTELSTREIFEN_FARBE = weiss\n",
    "\n",
    "NOPPENGROESSE = 5"
   ]
  },
  {
   "cell_type": "markdown",
   "metadata": {},
   "source": [
    "## Gerade\n",
    "\n",
    "Die Gerade kann aus mehreren Rechtecken zusammengesetzt werden.\n",
    "\n",
    "Sobald Sie eine Platte mit einer geraden Strasse (wie abgebildet)\n",
    "gezeichnet haben, können Sie diese auch um 90° drehen, um so ein\n",
    "vertikales Strassensegment zu erhalten.\n",
    "\n",
    "![Gerade Strasse](../images/gerade_strasse.png)"
   ]
  },
  {
   "cell_type": "code",
   "execution_count": null,
   "metadata": {},
   "outputs": [],
   "source": [
    "def gerade(noppengroesse: float) -> Grafik:\n",
    "    plattengroesse = noppengroesse * 32 # Platte ist 32*32 Noppen gross\n",
    "    streifenbreite = noppengroesse * 0.5\n",
    "    \n",
    "    pass\n",
    "    # ersetzten Sie pass mit Ihrem Code\n",
    "    \n",
    "\n",
    "zeige_grafik(gerade(NOPPENGROESSE))"
   ]
  },
  {
   "cell_type": "markdown",
   "metadata": {},
   "source": [
    "## Kurve\n",
    "\n",
    "Um die Kurve zu zeichnen, überlagern Sie Kreissektoren mit verschiedenen\n",
    "Farben und Radien und fixieren diese in einer Ecke. Anstatt \n",
    "[`ueberlagere()`](https://pytamaro.readthedocs.io/en/stable/German/operations.html#pytamaro.de.operations.ueberlagere)\n",
    "verwenden Sie dazu\n",
    "[`fixiere()`](https://pytamaro.readthedocs.io/en/stable/German/operations.html#pytamaro.de.operations.fixiere)\n",
    "und\n",
    "[`kombiniere()`](https://pytamaro.readthedocs.io/en/stable/German/operations.html#pytamaro.de.operations.kombiniere).\n",
    "\n",
    "![Kurve](../images/kurve.png)"
   ]
  },
  {
   "cell_type": "code",
   "execution_count": null,
   "metadata": {},
   "outputs": [],
   "source": [
    "def kurve(noppengroesse: float) -> Grafik:\n",
    "    pass\n",
    "    # ersetzten Sie pass mit Ihrem Code\n",
    "    \n",
    "\n",
    "zeige_grafik(kurve(NOPPENGROESSE))"
   ]
  },
  {
   "cell_type": "markdown",
   "metadata": {},
   "source": [
    "## Kreuzung\n",
    "\n",
    "Es gibt verschiedene Möglichkeiten, die Kreuzung aus einfacheren Teilen\n",
    "zu \"komponieren\". Wenn Sie die Grafik geschickt zerlegen, können Sie\n",
    "Teile davon für die Abzweigung wiederverwenden.\n",
    "\n",
    "![Kreuzung](../images/kreuzung.png)"
   ]
  },
  {
   "cell_type": "code",
   "execution_count": null,
   "metadata": {},
   "outputs": [],
   "source": [
    "def kreuzung(noppengroesse: float) -> Grafik:\n",
    "    \n",
    "    pass\n",
    "    # ersetzten Sie pass mit Ihrem Code\n",
    "    \n",
    "\n",
    "zeige_grafik(kreuzung(NOPPENGROESSE))"
   ]
  },
  {
   "cell_type": "markdown",
   "metadata": {},
   "source": [
    "## Abzweigung\n",
    "\n",
    "Die Abzweigung hat Gemeinsamkeiten mit der Geraden und mit der Kreuzung.\n",
    "\n",
    "![Abzweigung](../images/abzweigung.png)"
   ]
  },
  {
   "cell_type": "code",
   "execution_count": null,
   "metadata": {},
   "outputs": [],
   "source": [
    "def abzweigung(noppengroesse: float) -> Grafik:\n",
    "    pass\n",
    "    # ersetzten Sie pass mit Ihrem Code\n",
    "    \n",
    "\n",
    "zeige_grafik(abzweigung(NOPPENGROESSE))"
   ]
  }
 ],
 "metadata": {
  "kernelspec": {
   "display_name": "Python 3 (ipykernel)",
   "language": "python",
   "name": "python3"
  },
  "language_info": {
   "codemirror_mode": {
    "name": "ipython",
    "version": 3
   },
   "file_extension": ".py",
   "mimetype": "text/x-python",
   "name": "python",
   "nbconvert_exporter": "python",
   "pygments_lexer": "ipython3",
   "version": "3.11.5"
  }
 },
 "nbformat": 4,
 "nbformat_minor": 2
}
