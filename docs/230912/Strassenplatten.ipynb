{
  "cells": [
    {
      "cell_type": "markdown",
      "metadata": {
        "id": "view-in-github",
        "colab_type": "text"
      },
      "source": [
        "<a href=\"https://colab.research.google.com/github/I-gW-23-27/Skript/blob/main/docs/230912/Strassenplatten.ipynb\" target=\"_parent\"><img src=\"https://colab.research.google.com/assets/colab-badge.svg\" alt=\"Open In Colab\"/></a>"
      ]
    },
    {
      "cell_type": "markdown",
      "metadata": {
        "id": "mX6qeUZ6PI9p"
      },
      "source": [
        "# LEGO Strassenplatten\n",
        "\n",
        "Die folgenden Aufgaben basieren auf der Übung\n",
        "[\"Strassenplatten\"](https://pytamaro.si.usi.ch/activities/luce/street-plates/de/v1)\n",
        "von PyTamaro.\n",
        "\n",
        "Es geht darum, die bekannten LEGO Strassenplatten zu zeichnen.\n",
        "\n",
        "![LEGO Strassenplatten](https://github.com/I-gW-23-27/Skript/blob/main/docs/images/6-lego-strassenplatten.jpeg?raw=1)\n",
        "\n",
        "Für die folgenden Übungen gehen wir von vier Typen von Strassenplatten\n",
        "aus:\n",
        "Geraden, Kurven, Abzweigungen und Kreuzungen.\n",
        "\n",
        "Es geht dabei darum, Funktionen zu entwickeln, um die vier Arten von\n",
        "Strassenplatten effizient zu zeichnen.\n",
        "\n",
        "Eine Funktion ist ein Programmteil, der Befehle so bündelt, dass sie\n",
        "innerhalb eines Programmes wiederholt verwendet werden können.\n",
        "Funktionen berechnen Resultate aus Parameteren, die ihnen als Input\n",
        "übergeben werden.\n",
        "\n",
        "Das folgende Beispiel zeigt eine Funktion, welche in Anwendung des\n",
        "Satzes von Pythagoras aus zwei gegebenen Katheten die Hypothenuse\n",
        "berechnet.\n",
        "\n",
        "```Python\n",
        "def pythagoras(a, b):\n",
        "    c = (a ** 2 + b ** 2) ** (1/2)\n",
        "    return c\n",
        "```\n",
        "\n",
        "Was für mathematische Formeln möglich ist, ist auch für Grafiken möglich.\n",
        "\n",
        "Die erforderlichen Angaben bezüglich der Dimensionierung der Platten können der\n",
        "folgenden Abbildung entnommen werden. Die Einheit für die Vermessung\n",
        "sind die LEGO-typischen Noppen.\n",
        "\n",
        "![Dimensionen Strassenplatten](https://github.com/I-gW-23-27/Skript/blob/main/docs/images/dimensionen_strassenplatten.png?raw=1)\n",
        "\n",
        "In der folgenden Zelle werden die erforderlichen Funktionen aus PyTamaro\n",
        "importiert und die spezifischen Farben sowie eine sinnvolle Noppengrösse\n",
        "definiert."
      ]
    },
    {
      "cell_type": "markdown",
      "source": [
        "## Installation von PyTamaro in Google Colab\n",
        "\n",
        "Damit PyTamaro in Google Colab verwendet werden kann, muss zuerst die folgende Zelle ausgeführt werden."
      ],
      "metadata": {
        "id": "4py1CIXJPLsl"
      }
    },
    {
      "cell_type": "code",
      "source": [
        "! pip install pytamaro"
      ],
      "metadata": {
        "id": "4HBGJtpgPPOo",
        "outputId": "4ab24019-ded9-44e7-f5ee-8e2198283d2b",
        "colab": {
          "base_uri": "https://localhost:8080/"
        }
      },
      "execution_count": 1,
      "outputs": [
        {
          "output_type": "stream",
          "name": "stdout",
          "text": [
            "Collecting pytamaro\n",
            "  Downloading pytamaro-0.5.2-py3-none-any.whl (33 kB)\n",
            "Requirement already satisfied: Pillow<10.0.0,>=9.0.0 in /usr/local/lib/python3.10/dist-packages (from pytamaro) (9.4.0)\n",
            "Collecting skia-python<88.0,>=87.4 (from pytamaro)\n",
            "  Downloading skia_python-87.5-cp310-cp310-manylinux_2_17_x86_64.manylinux2014_x86_64.whl (10.8 MB)\n",
            "\u001b[2K     \u001b[90m━━━━━━━━━━━━━━━━━━━━━━━━━━━━━━━━━━━━━━━━\u001b[0m \u001b[32m10.8/10.8 MB\u001b[0m \u001b[31m20.0 MB/s\u001b[0m eta \u001b[36m0:00:00\u001b[0m\n",
            "\u001b[?25hRequirement already satisfied: numpy in /usr/local/lib/python3.10/dist-packages (from skia-python<88.0,>=87.4->pytamaro) (1.23.5)\n",
            "Collecting pybind11>=2.6 (from skia-python<88.0,>=87.4->pytamaro)\n",
            "  Downloading pybind11-2.11.1-py3-none-any.whl (227 kB)\n",
            "\u001b[2K     \u001b[90m━━━━━━━━━━━━━━━━━━━━━━━━━━━━━━━━━━━━━━\u001b[0m \u001b[32m227.7/227.7 kB\u001b[0m \u001b[31m11.8 MB/s\u001b[0m eta \u001b[36m0:00:00\u001b[0m\n",
            "\u001b[?25hInstalling collected packages: pybind11, skia-python, pytamaro\n",
            "Successfully installed pybind11-2.11.1 pytamaro-0.5.2 skia-python-87.5\n"
          ]
        }
      ]
    },
    {
      "cell_type": "code",
      "execution_count": 2,
      "metadata": {
        "id": "tLHP8uCwPI9s"
      },
      "outputs": [],
      "source": [
        "from pytamaro.de import(\n",
        "    Grafik, Farbe,\n",
        "    weiss, gelb, rot, rgb_farbe, transparent,\n",
        "    kreis_sektor, rechteck, ellipse, leere_grafik,\n",
        "    ueberlagere, ueber, neben, fixiere, kombiniere, drehe,\n",
        "    unten_links, unten_mitte,\n",
        "    zeige_grafik,\n",
        ")\n",
        "\n",
        "RASEN_FARBE = rgb_farbe(0, 203, 109)\n",
        "STRASSEN_FARBE = rgb_farbe(140, 140, 140)\n",
        "RANDSTREIFEN_FARBE = gelb\n",
        "MITTELSTREIFEN_FARBE = weiss\n",
        "\n",
        "NOPPENGROESSE = 5"
      ]
    },
    {
      "cell_type": "markdown",
      "metadata": {
        "id": "PoAgFq00PI9t"
      },
      "source": [
        "## Gerade\n",
        "\n",
        "Die Gerade kann aus mehreren Rechtecken zusammengesetzt werden.\n",
        "\n",
        "Sobald Sie eine Platte mit einer geraden Strasse (wie abgebildet)\n",
        "gezeichnet haben, können Sie diese auch um 90° drehen, um so ein\n",
        "vertikales Strassensegment zu erhalten.\n",
        "\n",
        "![Gerade Strasse](https://github.com/I-gW-23-27/Skript/blob/main/docs/images/gerade_strasse.png?raw=1)"
      ]
    },
    {
      "cell_type": "code",
      "execution_count": 3,
      "metadata": {
        "id": "NgEdnVTMPI9u",
        "outputId": "9c2ed76c-c2ba-4090-daff-3f72c0480576",
        "colab": {
          "base_uri": "https://localhost:8080/",
          "height": 177
        }
      },
      "outputs": [
        {
          "output_type": "display_data",
          "data": {
            "text/plain": [
              "<PIL.PngImagePlugin.PngImageFile image mode=RGBA size=160x160>"
            ],
            "image/png": "[encoded data removed]"
          },
          "metadata": {}
        }
      ],
      "source": [
        "def gerade(noppengroesse: float) -> Grafik:\n",
        "    plattengroesse = noppengroesse * 32 # Platte ist 32*32 Noppen gross\n",
        "    streifenbreite = noppengroesse * 0.5\n",
        "\n",
        "    def streifen(dicke : float, farbe : Farbe) -> Grafik:\n",
        "        return rechteck(plattengroesse, dicke, farbe)\n",
        "\n",
        "    rasen          = streifen(noppengroesse * 6, RASEN_FARBE)\n",
        "    fahrbahn       = streifen(noppengroesse * 18, STRASSEN_FARBE)\n",
        "    teerstreifen   = streifen(streifenbreite, STRASSEN_FARBE)\n",
        "    randstreifen   = streifen(streifenbreite, RANDSTREIFEN_FARBE)\n",
        "    mittelstreifen = streifen(streifenbreite, weiss)\n",
        "\n",
        "    fahrban_mit = ueberlagere(mittelstreifen, fahrbahn)\n",
        "\n",
        "    platte = ueber(teerstreifen, rasen)\n",
        "    platte = ueber(randstreifen, platte)\n",
        "    platte = ueber(fahrban_mit,  platte)\n",
        "    platte = ueber(randstreifen, platte)\n",
        "    platte = ueber(teerstreifen, platte)\n",
        "    platte = ueber(rasen,        platte)\n",
        "\n",
        "    return platte\n",
        "\n",
        "zeige_grafik(gerade(NOPPENGROESSE))"
      ]
    },
    {
      "cell_type": "markdown",
      "metadata": {
        "id": "p1SgOR9hPI9v"
      },
      "source": [
        "## Kurve\n",
        "\n",
        "Um die Kurve zu zeichnen, überlagern Sie Kreissektoren mit verschiedenen\n",
        "Farben und Radien und fixieren diese in einer Ecke. Anstatt\n",
        "[`ueberlagere()`](https://pytamaro.readthedocs.io/en/stable/German/operations.html#pytamaro.de.operations.ueberlagere)\n",
        "verwenden Sie dazu\n",
        "[`fixiere()`](https://pytamaro.readthedocs.io/en/stable/German/operations.html#pytamaro.de.operations.fixiere)\n",
        "und\n",
        "[`kombiniere()`](https://pytamaro.readthedocs.io/en/stable/German/operations.html#pytamaro.de.operations.kombiniere).\n",
        "\n",
        "![Kurve](https://github.com/I-gW-23-27/Skript/blob/main/docs/images/kurve.png?raw=1)"
      ]
    },
    {
      "cell_type": "code",
      "execution_count": 4,
      "metadata": {
        "id": "7S9rnrOkPI9y",
        "outputId": "dd50a8be-6144-4f72-8acc-c7583ef8f481",
        "colab": {
          "base_uri": "https://localhost:8080/",
          "height": 177
        }
      },
      "outputs": [
        {
          "output_type": "display_data",
          "data": {
            "text/plain": [
              "<PIL.PngImagePlugin.PngImageFile image mode=RGBA size=160x160>"
            ],
            "image/png": "[encoded data removed]"
          },
          "metadata": {}
        }
      ],
      "source": [
        "def kurve(noppengroesse: float) -> Grafik:\n",
        "    plattengroesse = noppengroesse * 32\n",
        "    hintergrund = fixiere(unten_links, rechteck(plattengroesse, plattengroesse, RASEN_FARBE))\n",
        "\n",
        "    rasen_innen         = fixiere(unten_links, kreis_sektor(noppengroesse * 6,     90, RASEN_FARBE))\n",
        "    teerstreifen_innen  = fixiere(unten_links, kreis_sektor(noppengroesse * 6.5,   90, STRASSEN_FARBE))\n",
        "    randstreifen_innen  = fixiere(unten_links, kreis_sektor(noppengroesse * 7,     90, RANDSTREIFEN_FARBE))\n",
        "    fahrban_innen       = fixiere(unten_links, kreis_sektor(noppengroesse * 15.25, 90, STRASSEN_FARBE))\n",
        "    mittellinie         = fixiere(unten_links, kreis_sektor(noppengroesse * 16.25, 90, weiss))\n",
        "    fahrbahn_aussen     = fixiere(unten_links, kreis_sektor(noppengroesse * 25,    90, STRASSEN_FARBE))\n",
        "    randstreifen_aussen = fixiere(unten_links, kreis_sektor(noppengroesse * 25.5,  90, RANDSTREIFEN_FARBE))\n",
        "    teerstreifen_aussen = fixiere(unten_links, kreis_sektor(noppengroesse * 26,    90, STRASSEN_FARBE))\n",
        "\n",
        "    platte = kombiniere(rasen_innen, teerstreifen_innen)\n",
        "    platte = kombiniere(platte, randstreifen_innen)\n",
        "    platte = kombiniere(platte, fahrban_innen)\n",
        "    platte = kombiniere(platte, mittellinie)\n",
        "    platte = kombiniere(platte, fahrbahn_aussen)\n",
        "    platte = kombiniere(platte, randstreifen_aussen)\n",
        "    platte = kombiniere(platte, teerstreifen_aussen)\n",
        "    platte = kombiniere(platte, hintergrund)\n",
        "\n",
        "    return platte\n",
        "\n",
        "zeige_grafik(kurve(NOPPENGROESSE))"
      ]
    },
    {
      "cell_type": "markdown",
      "metadata": {
        "id": "MqtqoqCHPI9y"
      },
      "source": [
        "## Kreuzung\n",
        "\n",
        "Es gibt verschiedene Möglichkeiten, die Kreuzung aus einfacheren Teilen\n",
        "zu \"komponieren\". Wenn Sie die Grafik geschickt zerlegen, können Sie\n",
        "Teile davon für die Abzweigung wiederverwenden.\n",
        "\n",
        "![Kreuzung](https://github.com/I-gW-23-27/Skript/blob/main/docs/images/kreuzung.png?raw=1)"
      ]
    },
    {
      "cell_type": "markdown",
      "source": [
        "## Wiederholungen in Python\n",
        "\n",
        "Quadratzahlen von 20 bis 40 als Beispiel."
      ],
      "metadata": {
        "id": "eYtbRF79kR2t"
      }
    },
    {
      "cell_type": "code",
      "source": [
        "for x in range(20,41):\n",
        "  print(x ** 2)"
      ],
      "metadata": {
        "id": "w694n4BGkX7P",
        "outputId": "2efccb70-d31b-434e-f81a-57a466d3799c",
        "colab": {
          "base_uri": "https://localhost:8080/"
        }
      },
      "execution_count": null,
      "outputs": [
        {
          "output_type": "stream",
          "name": "stdout",
          "text": [
            "400\n",
            "441\n",
            "484\n",
            "529\n",
            "576\n",
            "625\n",
            "676\n",
            "729\n",
            "784\n",
            "841\n",
            "900\n",
            "961\n",
            "1024\n",
            "1089\n",
            "1156\n",
            "1225\n",
            "1296\n",
            "1369\n",
            "1444\n",
            "1521\n",
            "1600\n"
          ]
        }
      ]
    },
    {
      "cell_type": "code",
      "source": [
        "def fussgaengerstreifen(noppengroesse : float) -> Grafik:\n",
        "    streifen = rechteck(noppengroesse, noppengroesse * 5, weiss)\n",
        "    zwischenraum = rechteck(noppengroesse , noppengroesse * 5, transparent)\n",
        "    abschluss =  rechteck(noppengroesse * 0.25, noppengroesse * 5, transparent)\n",
        "    kombi = abschluss\n",
        "\n",
        "    for i in range(17):\n",
        "        if i % 2 == 0:\n",
        "            kombi = neben(kombi, streifen)\n",
        "        else:\n",
        "            kombi = neben(kombi, zwischenraum)\n",
        "\n",
        "    kombi = neben(kombi, abschluss)\n",
        "\n",
        "    return kombi"
      ],
      "metadata": {
        "id": "lAvBrQtye2aJ"
      },
      "execution_count": 5,
      "outputs": []
    },
    {
      "cell_type": "code",
      "source": [
        "def einmuendung(noppengroesse : float) -> Grafik:\n",
        "    rasen = fixiere(unten_links, rechteck(noppengroesse * 6, noppengroesse * 6, RASEN_FARBE))\n",
        "    teerstreifen = fixiere(unten_links, rechteck(noppengroesse * 6.5, noppengroesse * 6.5, STRASSEN_FARBE))\n",
        "    randstreifen = fixiere(unten_links, rechteck(noppengroesse * 7, noppengroesse * 7, RANDSTREIFEN_FARBE))\n",
        "    ecke = kombiniere(rasen, teerstreifen)\n",
        "    ecke = kombiniere(ecke, randstreifen)\n",
        "\n",
        "    strassenabschnitt = rechteck(noppengroesse * 18, noppengroesse * 7, STRASSEN_FARBE)\n",
        "    streifen = fussgaengerstreifen(noppengroesse)\n",
        "    strassenabschnitt = ueberlagere(streifen, strassenabschnitt)\n",
        "    kombi = neben(ecke, strassenabschnitt)\n",
        "    kombi = neben(kombi, drehe(90, ecke))\n",
        "    return kombi\n",
        "\n",
        "zeige_grafik(einmuendung(NOPPENGROESSE))"
      ],
      "metadata": {
        "id": "ZkHDQuIle8WL",
        "outputId": "f4a5f06b-56f2-498b-9925-cd1f8e8dc88e",
        "colab": {
          "base_uri": "https://localhost:8080/",
          "height": 52
        }
      },
      "execution_count": 6,
      "outputs": [
        {
          "output_type": "display_data",
          "data": {
            "text/plain": [
              "<PIL.PngImagePlugin.PngImageFile image mode=RGBA size=160x35>"
            ],
            "image/png": "[encoded data removed]"
          },
          "metadata": {}
        }
      ]
    },
    {
      "cell_type": "code",
      "execution_count": 7,
      "metadata": {
        "id": "-n3sQTWlPI9z",
        "outputId": "7620b7fa-2b19-4730-970c-791f41d7b53a",
        "colab": {
          "base_uri": "https://localhost:8080/",
          "height": 177
        }
      },
      "outputs": [
        {
          "output_type": "display_data",
          "data": {
            "text/plain": [
              "<PIL.PngImagePlugin.PngImageFile image mode=RGBA size=160x160>"
            ],
            "image/png": "[encoded data removed]"
          },
          "metadata": {}
        }
      ],
      "source": [
        "def kreuzung(noppengroesse: float) -> Grafik:\n",
        "    mitte = rechteck(noppengroesse * 18, noppengroesse * 18, STRASSEN_FARBE)\n",
        "    rand_unten = einmuendung(noppengroesse)\n",
        "    rand_links = drehe(270, rand_unten)\n",
        "\n",
        "    rand_unten_fix = fixiere(unten_links, rand_unten)\n",
        "    rand_links_fix = fixiere(unten_links, rand_links)\n",
        "    eins = kombiniere(rand_links_fix, rand_unten_fix)\n",
        "    zwei = drehe(180, eins)\n",
        "    zwei_fix = fixiere(unten_links, zwei)\n",
        "\n",
        "    rahmen = kombiniere(eins, zwei_fix)\n",
        "\n",
        "    platte = ueberlagere(mitte, rahmen)\n",
        "    return platte\n",
        "\n",
        "zeige_grafik(kreuzung(NOPPENGROESSE))"
      ]
    },
    {
      "cell_type": "markdown",
      "metadata": {
        "id": "w0qEmAGZPI9z"
      },
      "source": [
        "## Abzweigung\n",
        "\n",
        "Die Abzweigung hat Gemeinsamkeiten mit der Geraden und mit der Kreuzung.\n",
        "\n",
        "![Abzweigung](https://github.com/I-gW-23-27/Skript/blob/main/docs/images/abzweigung.png?raw=1)"
      ]
    },
    {
      "cell_type": "code",
      "execution_count": 8,
      "metadata": {
        "id": "87381i5fPI9z",
        "outputId": "011473a0-2eab-4a84-f6cd-f852be542238",
        "colab": {
          "base_uri": "https://localhost:8080/",
          "height": 177
        }
      },
      "outputs": [
        {
          "output_type": "display_data",
          "data": {
            "text/plain": [
              "<PIL.PngImagePlugin.PngImageFile image mode=RGBA size=160x160>"
            ],
            "image/png": "[encoded data removed]"
          },
          "metadata": {}
        }
      ],
      "source": [
        "def abzweigung(noppengroesse: float) -> Grafik:\n",
        "    gerade_strasse = fixiere(unten_links, gerade(noppengroesse))\n",
        "    einmuendungselement = fixiere(unten_links, einmuendung(noppengroesse))\n",
        "\n",
        "    platte = kombiniere(einmuendungselement, gerade_strasse)\n",
        "    return platte\n",
        "\n",
        "\n",
        "zeige_grafik(abzweigung(NOPPENGROESSE))"
      ]
    },
    {
      "cell_type": "markdown",
      "source": [
        "[Hier geht es zurück zur Übersicht](https://i-gw-23-27.github.io/Skript/)"
      ],
      "metadata": {
        "id": "O068e91cPRzR"
      }
    }
  ],
  "metadata": {
    "kernelspec": {
      "display_name": "Python 3 (ipykernel)",
      "language": "python",
      "name": "python3"
    },
    "language_info": {
      "codemirror_mode": {
        "name": "ipython",
        "version": 3
      },
      "file_extension": ".py",
      "mimetype": "text/x-python",
      "name": "python",
      "nbconvert_exporter": "python",
      "pygments_lexer": "ipython3",
      "version": "3.11.5"
    },
    "colab": {
      "provenance": [],
      "include_colab_link": true
    }
  },
  "nbformat": 4,
  "nbformat_minor": 0
}